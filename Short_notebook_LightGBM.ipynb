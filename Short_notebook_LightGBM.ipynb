{
 "cells": [
  {
   "cell_type": "markdown",
   "metadata": {},
   "source": [
    "Team Krøllebølle\n",
    "\n",
    "Jakob Cetti Hansen (103353), Clara Hollenbeck (103326), Niklas Falke (105243)"
   ]
  },
  {
   "cell_type": "markdown",
   "metadata": {},
   "source": [
    "# LightGBM model"
   ]
  },
  {
   "cell_type": "markdown",
   "metadata": {},
   "source": [
    "## Setup"
   ]
  },
  {
   "cell_type": "markdown",
   "metadata": {},
   "source": [
    "Requires Python 3.11 and Poetry 1.6. Run setup commands to begin:\n",
    "```\n",
    "!poetry install\n",
    "!poetry run jupyter lab\n",
    "```\n",
    "\n",
    "Dependencies from pyproject.toml\n",
    "```\n",
    "python = \"^3.11\"\n",
    "jupyter = \"^1.0.0\"\n",
    "darts = \"^0.26.0\"\n",
    "lightgbm = \"^4.1.0\"\n",
    "```"
   ]
  },
  {
   "cell_type": "code",
   "execution_count": 1,
   "metadata": {},
   "outputs": [],
   "source": [
    "import os\n",
    "import numpy as np\n",
    "import pandas as pd\n",
    "\n",
    "pd.options.display.max_columns = None"
   ]
  },
  {
   "cell_type": "markdown",
   "metadata": {},
   "source": [
    "Load data"
   ]
  },
  {
   "cell_type": "code",
   "execution_count": 2,
   "metadata": {
    "id": "aEV_AiL5WmUG"
   },
   "outputs": [],
   "source": [
    "def get_raw_data():\n",
    "    return {\n",
    "        \"A\": {\n",
    "            \"test_est\": pd.read_parquet(os.path.join(\"data\", \"A\", \"X_test_estimated.parquet\")),\n",
    "            \"train_est\": pd.read_parquet(os.path.join(\"data\", \"A\", \"X_train_estimated.parquet\")),\n",
    "            \"train_obs\": pd.read_parquet(os.path.join(\"data\", \"A\", \"X_train_observed.parquet\")),\n",
    "            \"train_tar\": pd.read_parquet(os.path.join(\"data\", \"A\", \"train_targets.parquet\")),\n",
    "        },\n",
    "        \"B\": {\n",
    "            \"test_est\": pd.read_parquet(os.path.join(\"data\", \"B\", \"X_test_estimated.parquet\")),\n",
    "            \"train_est\": pd.read_parquet(os.path.join(\"data\", \"B\", \"X_train_estimated.parquet\")),\n",
    "            \"train_obs\": pd.read_parquet(os.path.join(\"data\", \"B\", \"X_train_observed.parquet\")),\n",
    "            \"train_tar\": pd.read_parquet(os.path.join(\"data\", \"B\", \"train_targets.parquet\")),\n",
    "        },\n",
    "        \"C\": {\n",
    "            \"test_est\": pd.read_parquet(os.path.join(\"data\", \"C\", \"X_test_estimated.parquet\")),\n",
    "            \"train_est\": pd.read_parquet(os.path.join(\"data\", \"C\", \"X_train_estimated.parquet\")),\n",
    "            \"train_obs\": pd.read_parquet(os.path.join(\"data\", \"C\", \"X_train_observed.parquet\")),\n",
    "            \"train_tar\": pd.read_parquet(os.path.join(\"data\", \"C\", \"train_targets.parquet\")),\n",
    "        },\n",
    "    }\n",
    "data = get_raw_data()"
   ]
  },
  {
   "cell_type": "markdown",
   "metadata": {
    "id": "UZBn2U7-cbjK"
   },
   "source": [
    "## Transform data"
   ]
  },
  {
   "cell_type": "markdown",
   "metadata": {
    "id": "UZBn2U7-cbjK"
   },
   "source": [
    "Transform the raw data to be on the X y form"
   ]
  },
  {
   "cell_type": "code",
   "execution_count": 3,
   "metadata": {
    "id": "_J2JkEttN25R"
   },
   "outputs": [],
   "source": [
    "def transform_data(data):\n",
    "    # Create empty list of location train data and location test data\n",
    "    Xs = {\"og\" : {loc : {} for loc in data}}\n",
    "    ys = {\"og\" : {loc : {} for loc in data}}\n",
    "    \n",
    "    for loc in data:\n",
    "        # Copy data\n",
    "        data_obs = data[loc][\"train_obs\"].copy()\n",
    "        data_est = data[loc][\"train_est\"].copy()\n",
    "        data_test = data[loc][\"test_est\"].copy()\n",
    "        data_tar = data[loc][\"train_tar\"].copy()\n",
    "        \n",
    "        # Add a column with the difference between date_forecast and date_calc in seconds and \n",
    "        data_obs[\"forecast_seconds\"] = np.zeros(data_obs.shape[0], dtype=np.float32)\n",
    "        data_est[\"forecast_seconds\"] = (data_est[\"date_forecast\"] - data_est[\"date_calc\"]).apply(lambda x: x.total_seconds()).astype('float32')\n",
    "        data_test[\"forecast_seconds\"] = (data_test[\"date_forecast\"] - data_test[\"date_calc\"]).apply(lambda x: x.total_seconds()).astype('float32')\n",
    "        \n",
    "        # Remove unneeded columns\n",
    "        del data_est[\"date_calc\"]\n",
    "        del data_test[\"date_calc\"]\n",
    "        del data_obs[\"snow_density:kgm3\"]\n",
    "        del data_est[\"snow_density:kgm3\"]\n",
    "        del data_test[\"snow_density:kgm3\"]\n",
    "\n",
    "        # Find start and end date for obvsersed and estimated data\n",
    "        obs_end = data_obs[\"date_forecast\"].max()\n",
    "        est_start = data_est[\"date_forecast\"].min()\n",
    "        treshold_date = obs_end + (est_start - obs_end) / 2\n",
    "        \n",
    "        # Outer join target data with estimated and observed data\n",
    "        Xy_obs = pd.merge(\n",
    "            data_tar[data_tar[\"time\"] <= treshold_date],\n",
    "            data_obs.rename(columns={\"date_forecast\": \"time\"}),\n",
    "            on=\"time\",\n",
    "            how=\"outer\"\n",
    "        ).set_index(\"time\").sort_index()\n",
    "        Xy_est = pd.merge(\n",
    "            data_tar[data_tar[\"time\"] > treshold_date],\n",
    "            data_est.rename(columns={\"date_forecast\": \"time\"}),\n",
    "            on=\"time\",\n",
    "            how=\"outer\"\n",
    "        ).set_index(\"time\").sort_index()\n",
    "\n",
    "        # Assign Xs\n",
    "        Xs[\"og\"][loc][\"obs\"] = Xy_obs.drop(\"pv_measurement\", axis=1)\n",
    "        Xs[\"og\"][loc][\"est\"] = Xy_est.drop(\"pv_measurement\", axis=1)\n",
    "        Xs[\"og\"][loc][\"test\"] = data_test.rename(columns={\"date_forecast\": \"time\"}).set_index(\"time\").sort_index()\n",
    "\n",
    "        # Assign ys\n",
    "        ys[\"og\"][loc][\"obs\"] = Xy_obs[\"pv_measurement\"]\n",
    "        ys[\"og\"][loc][\"est\"] = Xy_est[\"pv_measurement\"]\n",
    "        \n",
    "    return Xs, ys\n",
    "\n",
    "Xs, ys = transform_data(data)\n",
    "\n",
    "extract_dates = Xs[\"og\"][\"A\"][\"test\"].index.copy()"
   ]
  },
  {
   "cell_type": "markdown",
   "metadata": {
    "id": "UZBn2U7-cbjK"
   },
   "source": [
    "## Gap detection"
   ]
  },
  {
   "cell_type": "code",
   "execution_count": 4,
   "metadata": {},
   "outputs": [],
   "source": [
    "def gap_detection_in_dates(dates, min_gap_time):\n",
    "    diff = dates.to_series().diff()\n",
    "    return list(zip(diff[diff.shift(-1) > min_gap_time].index, diff[diff > min_gap_time].index))\n",
    "\n",
    "def get_non_nan_dates(X):\n",
    "    return X.index[:1].union(X.dropna(how='all').index.union(X.index[-1:]))\n",
    "\n",
    "def date_gaps_detection(X, min_gap_time):\n",
    "    return gap_detection_in_dates(get_non_nan_dates(X), min_gap_time)\n",
    "\n",
    "def value_gaps_detection(x, min_gap_time, exclude_vals={}, time_padding=pd.Timedelta(seconds=1)):    \n",
    "    start_date = x.index[0] - time_padding\n",
    "    start_val = x.iloc[0]\n",
    "\n",
    "    gaps_date = []\n",
    "    index = x.dropna().index\n",
    "    \n",
    "    for date in index:\n",
    "        val = x[date]\n",
    "        \n",
    "        if(val != start_val or val in exclude_vals):\n",
    "            if(date - start_date > min_gap_time):\n",
    "                gaps_date.append((start_date, date))\n",
    "    \n",
    "            start_date = date\n",
    "            start_val = val\n",
    "\n",
    "    i = min(x.index.get_loc(index[-1]) + 1, len(x) - 1)\n",
    "    if(x.index[i] - start_date > min_gap_time):\n",
    "        gaps_date.append((start_date, x.index[i]))\n",
    "\n",
    "    if(x.index[-1] - x.index[i-1] > min_gap_time):\n",
    "        gaps_date.append((x.index[i-1], x.index[-1] + time_padding))\n",
    "\n",
    "    return gaps_date"
   ]
  },
  {
   "cell_type": "markdown",
   "metadata": {},
   "source": [
    "## Timeseries data preprocessing"
   ]
  },
  {
   "cell_type": "markdown",
   "metadata": {},
   "source": [
    "Set constant gaps to NaN"
   ]
  },
  {
   "cell_type": "code",
   "execution_count": 5,
   "metadata": {},
   "outputs": [],
   "source": [
    "def fill_constant_gaps_with_nan(x, min_gap_time):\n",
    "    gaps = value_gaps_detection(x, min_gap_time)\n",
    "    for (start_date, end_date) in gaps:        \n",
    "        gap_index = x.index[(start_date < x.index) & (x.index < end_date)]\n",
    "        x[gap_index] = np.nan\n",
    "\n",
    "min_gap_time = pd.Timedelta(days=1)\n",
    "\n",
    "for loc in ys[\"og\"]:\n",
    "    for type in ys[\"og\"][loc]:\n",
    "        fill_constant_gaps_with_nan(ys[\"og\"][loc][type], min_gap_time)"
   ]
  },
  {
   "cell_type": "markdown",
   "metadata": {},
   "source": [
    "Reindex to 15 min and 1 hour regular timeseries and combine all the a full timeseries"
   ]
  },
  {
   "cell_type": "code",
   "execution_count": 6,
   "metadata": {},
   "outputs": [],
   "source": [
    "def regular_index(X, freq, start_padding=pd.Timedelta(0), end_padding=pd.Timedelta(0)):    \n",
    "    return X.reindex(pd.date_range(start = X.index[0]-start_padding, end = X.index[-1]+end_padding, freq=freq))\n",
    "\n",
    "gaps = date_gaps_detection(ys[\"og\"][\"C\"][\"obs\"], min_gap_time)\n",
    "Xs[\"og\"][\"C\"][\"obs\"] = Xs[\"og\"][\"C\"][\"obs\"][Xs[\"og\"][\"C\"][\"obs\"].index >= gaps[0][1]]\n",
    "ys[\"og\"][\"C\"][\"obs\"] = ys[\"og\"][\"C\"][\"obs\"][ys[\"og\"][\"C\"][\"obs\"].index >= gaps[0][1]]\n",
    "\n",
    "Xs[\"1hour\"] = {loc: {} for loc in Xs[\"og\"]}\n",
    "ys[\"1hour\"] = {loc: {} for loc in ys[\"og\"]}\n",
    "\n",
    "end_padding = pd.DateOffset(days=30)\n",
    "\n",
    "for loc in Xs[\"og\"]:\n",
    "    for type in Xs[\"og\"][loc]:\n",
    "        Xs[\"1hour\"][loc][type] = regular_index(Xs[\"og\"][loc][type], \"H\")\n",
    "    Xs[\"1hour\"][loc][\"full\"] = regular_index(pd.concat(Xs[\"og\"][loc].values()), \"H\", end_padding=end_padding)\n",
    "\n",
    "for loc in ys[\"og\"]:\n",
    "    for type in ys[\"og\"][loc]:\n",
    "        ys[\"1hour\"][loc][type] = regular_index(ys[\"og\"][loc][type], \"H\")\n",
    "    ys[\"1hour\"][loc][\"full\"] = regular_index(pd.concat(ys[\"og\"][loc].values()), \"H\")"
   ]
  },
  {
   "cell_type": "markdown",
   "metadata": {},
   "source": [
    "Fill gaps with mean of neighbouring data "
   ]
  },
  {
   "cell_type": "code",
   "execution_count": 7,
   "metadata": {},
   "outputs": [],
   "source": [
    "def neighbour_gaps_filling(X, gaps, max_days, intersection_only=True, yearly=False):\n",
    "    X_copy = X.copy()\n",
    "\n",
    "    gaps_index = pd.DatetimeIndex([])\n",
    "    for start_date, end_date in gaps:\n",
    "        gaps_index = gaps_index.union(X.index[(start_date < X.index) & (X.index < end_date)])\n",
    "    no_gaps_index = X.index.difference(gaps_index)\n",
    "    \n",
    "    for start_date, end_date in gaps:\n",
    "        if yearly:\n",
    "            min_days = 1  \n",
    "        else:\n",
    "            min_days = (end_date - start_date).days // 2 + 1\n",
    "\n",
    "        target_index = X.index[(start_date < X.index) & (X.index < end_date)]\n",
    "        accumelated_index = pd.DatetimeIndex([])\n",
    "\n",
    "        for days in range(min_days, max_days+1):\n",
    "            if yearly:\n",
    "                date_offset = pd.DateOffset(years=days)\n",
    "            else :\n",
    "                date_offset = pd.DateOffset(days=days)\n",
    "            \n",
    "            past_target_index = no_gaps_index.intersection(target_index - date_offset) + date_offset\n",
    "            future_target_index = no_gaps_index.intersection(target_index + date_offset) - date_offset\n",
    "            \n",
    "            intersection_target_index = past_target_index.intersection(future_target_index).difference(accumelated_index)\n",
    "            \n",
    "            if len(intersection_target_index) != 0:\n",
    "                X_copy[X.index.isin(intersection_target_index)] = np.nanmean([\n",
    "                    X[X.index.isin(intersection_target_index - date_offset)].values,\n",
    "                    X[X.index.isin(intersection_target_index + date_offset)].values\n",
    "                ], axis=0)\n",
    "                accumelated_index = accumelated_index.union(intersection_target_index)\n",
    "\n",
    "            if not intersection_only:\n",
    "                diff_past_target_index = past_target_index.difference(intersection_target_index)\n",
    "                diff_future_target_index = future_target_index.difference(intersection_target_index)\n",
    "                \n",
    "                if len(diff_past_target_index) != 0:\n",
    "                    X_copy[X.index.isin(diff_past_target_index)] = X[X.index.isin(diff_past_target_index - date_offset)].values\n",
    "                    accumelated_index = accumelated_index.union(diff_past_target_index)\n",
    "                    \n",
    "                if len(diff_future_target_index) != 0:\n",
    "                    X_copy[X.index.isin(diff_future_target_index)] = X[X.index.isin(diff_future_target_index + date_offset)].values\n",
    "                    accumelated_index = accumelated_index.union(diff_future_target_index)\n",
    "\n",
    "            if len(target_index.difference(accumelated_index)) == 0:\n",
    "                break\n",
    "    \n",
    "    return X_copy\n",
    "\n",
    "def while_fill_gaps(min_gap_time, max_days, X1, X2=None, intersection_only=True, yearly=False):\n",
    "    last_gaps = []\n",
    "    while True:\n",
    "        gaps = date_gaps_detection(X1, min_gap_time)\n",
    "        \n",
    "        if gaps == last_gaps:\n",
    "            break\n",
    "        last_gaps = gaps\n",
    "        \n",
    "        if X2 is not None:\n",
    "            X2 = neighbour_gaps_filling(X2, gaps, max_days, intersection_only, yearly)\n",
    "\n",
    "        X1 = neighbour_gaps_filling(X1, gaps, max_days, intersection_only, yearly)\n",
    "\n",
    "    if X2 is None:\n",
    "        return X1\n",
    "    else:\n",
    "        return X1, X2"
   ]
  },
  {
   "cell_type": "code",
   "execution_count": 8,
   "metadata": {},
   "outputs": [
    {
     "name": "stderr",
     "output_type": "stream",
     "text": [
      "/tmp/ipykernel_10852/791354386.py:30: RuntimeWarning: Mean of empty slice\n",
      "  X_copy[X.index.isin(intersection_target_index)] = np.nanmean([\n",
      "/tmp/ipykernel_10852/791354386.py:30: RuntimeWarning: Mean of empty slice\n",
      "  X_copy[X.index.isin(intersection_target_index)] = np.nanmean([\n",
      "/tmp/ipykernel_10852/791354386.py:30: RuntimeWarning: Mean of empty slice\n",
      "  X_copy[X.index.isin(intersection_target_index)] = np.nanmean([\n",
      "/tmp/ipykernel_10852/791354386.py:30: RuntimeWarning: Mean of empty slice\n",
      "  X_copy[X.index.isin(intersection_target_index)] = np.nanmean([\n",
      "/tmp/ipykernel_10852/791354386.py:30: RuntimeWarning: Mean of empty slice\n",
      "  X_copy[X.index.isin(intersection_target_index)] = np.nanmean([\n",
      "/tmp/ipykernel_10852/791354386.py:30: RuntimeWarning: Mean of empty slice\n",
      "  X_copy[X.index.isin(intersection_target_index)] = np.nanmean([\n",
      "/tmp/ipykernel_10852/791354386.py:30: RuntimeWarning: Mean of empty slice\n",
      "  X_copy[X.index.isin(intersection_target_index)] = np.nanmean([\n",
      "/tmp/ipykernel_10852/791354386.py:30: RuntimeWarning: Mean of empty slice\n",
      "  X_copy[X.index.isin(intersection_target_index)] = np.nanmean([\n",
      "/tmp/ipykernel_10852/791354386.py:30: RuntimeWarning: Mean of empty slice\n",
      "  X_copy[X.index.isin(intersection_target_index)] = np.nanmean([\n",
      "/tmp/ipykernel_10852/791354386.py:30: RuntimeWarning: Mean of empty slice\n",
      "  X_copy[X.index.isin(intersection_target_index)] = np.nanmean([\n",
      "/tmp/ipykernel_10852/791354386.py:30: RuntimeWarning: Mean of empty slice\n",
      "  X_copy[X.index.isin(intersection_target_index)] = np.nanmean([\n",
      "/tmp/ipykernel_10852/791354386.py:30: RuntimeWarning: Mean of empty slice\n",
      "  X_copy[X.index.isin(intersection_target_index)] = np.nanmean([\n",
      "/tmp/ipykernel_10852/791354386.py:30: RuntimeWarning: Mean of empty slice\n",
      "  X_copy[X.index.isin(intersection_target_index)] = np.nanmean([\n",
      "/tmp/ipykernel_10852/791354386.py:30: RuntimeWarning: Mean of empty slice\n",
      "  X_copy[X.index.isin(intersection_target_index)] = np.nanmean([\n",
      "/tmp/ipykernel_10852/791354386.py:30: RuntimeWarning: Mean of empty slice\n",
      "  X_copy[X.index.isin(intersection_target_index)] = np.nanmean([\n",
      "/tmp/ipykernel_10852/791354386.py:30: RuntimeWarning: Mean of empty slice\n",
      "  X_copy[X.index.isin(intersection_target_index)] = np.nanmean([\n"
     ]
    }
   ],
   "source": [
    "max_days = 3\n",
    "\n",
    "for loc in Xs[\"1hour\"]:\n",
    "    for type in ys[\"1hour\"][loc]:\n",
    "        ys[\"1hour\"][loc][type], Xs[\"1hour\"][loc][type] = while_fill_gaps(min_gap_time, max_days, ys[\"1hour\"][loc][type], Xs[\"1hour\"][loc][type])\n",
    "    \n",
    "    for type in Xs[\"1hour\"][loc]:\n",
    "        Xs[\"1hour\"][loc][type] = while_fill_gaps(min_gap_time, max_days, Xs[\"1hour\"][loc][type])"
   ]
  },
  {
   "cell_type": "code",
   "execution_count": 9,
   "metadata": {},
   "outputs": [
    {
     "name": "stderr",
     "output_type": "stream",
     "text": [
      "/tmp/ipykernel_10852/791354386.py:30: RuntimeWarning: Mean of empty slice\n",
      "  X_copy[X.index.isin(intersection_target_index)] = np.nanmean([\n",
      "/tmp/ipykernel_10852/791354386.py:30: RuntimeWarning: Mean of empty slice\n",
      "  X_copy[X.index.isin(intersection_target_index)] = np.nanmean([\n"
     ]
    }
   ],
   "source": [
    "max_years = 3\n",
    "\n",
    "for loc in Xs[\"1hour\"]:\n",
    "    for type in ys[\"1hour\"][loc]:\n",
    "        fill_constant_gaps_with_nan(ys[\"1hour\"][loc][type], min_gap_time)\n",
    "        ys[\"1hour\"][loc][type], Xs[\"1hour\"][loc][type] = while_fill_gaps(\n",
    "            min_gap_time, \n",
    "            max_years,\n",
    "            ys[\"1hour\"][loc][type], \n",
    "            Xs[\"1hour\"][loc][type],\n",
    "            intersection_only = False,\n",
    "            yearly = True,\n",
    "        )\n",
    "\n",
    "    for type in Xs[\"1hour\"][loc]:\n",
    "        Xs[\"1hour\"][loc][type] = while_fill_gaps(\n",
    "            min_gap_time, \n",
    "            max_years,\n",
    "            Xs[\"1hour\"][loc][type], \n",
    "            intersection_only = False,\n",
    "            yearly = True,\n",
    "        )"
   ]
  },
  {
   "cell_type": "markdown",
   "metadata": {},
   "source": [
    "Time interpolate missing values"
   ]
  },
  {
   "cell_type": "code",
   "execution_count": 10,
   "metadata": {},
   "outputs": [],
   "source": [
    "def time_interpolate(X):\n",
    "    return X.interpolate(method='time', limit_direction=\"both\")\n",
    "\n",
    "for loc in Xs[\"1hour\"]:\n",
    "    for type in Xs[\"1hour\"][loc]:\n",
    "        Xs[\"1hour\"][loc][type] = time_interpolate(Xs[\"1hour\"][loc][type])\n",
    "\n",
    "for loc in ys[\"1hour\"]:\n",
    "    for type in ys[\"1hour\"][loc]:\n",
    "        ys[\"1hour\"][loc][type] = time_interpolate(ys[\"1hour\"][loc][type])"
   ]
  },
  {
   "cell_type": "markdown",
   "metadata": {},
   "source": [
    "## Darts setup"
   ]
  },
  {
   "cell_type": "markdown",
   "metadata": {},
   "source": [
    "Convert to darts timeseries"
   ]
  },
  {
   "cell_type": "code",
   "execution_count": 11,
   "metadata": {},
   "outputs": [],
   "source": [
    "from darts import TimeSeries\n",
    "\n",
    "loc_dummies = {\n",
    "    \"A\": pd.DataFrame({'location_A': [1], 'location_B': [0], 'location_C': [0]}),\n",
    "    \"B\": pd.DataFrame({'location_A': [0], 'location_B': [1], 'location_C': [0]}),\n",
    "    \"C\": pd.DataFrame({'location_A': [0], 'location_B': [0], 'location_C': [1]}),\n",
    "}\n",
    "\n",
    "covs = {}\n",
    "covs[\"1hour\"] = {loc: {type: TimeSeries.from_dataframe(Xs[\"1hour\"][loc][type], static_covariates=loc_dummies[loc]) for type in Xs[\"1hour\"][loc] } for loc in Xs[\"1hour\"]}\n",
    "\n",
    "tars = {}\n",
    "tars[\"1hour\"] = {loc: {type: TimeSeries.from_series(ys[\"1hour\"][loc][type], static_covariates=loc_dummies[loc]) for type in ys[\"1hour\"][loc] } for loc in ys[\"1hour\"]}\n",
    "\n",
    "locs = [\"A\", \"B\", \"C\"]\n",
    "n_1hour = len(pd.date_range(start=ys[\"1hour\"][\"A\"][\"est\"].index[-1], end=extract_dates[-1], freq='H'))"
   ]
  },
  {
   "cell_type": "markdown",
   "metadata": {},
   "source": [
    "Darts filter"
   ]
  },
  {
   "cell_type": "code",
   "execution_count": 12,
   "metadata": {},
   "outputs": [],
   "source": [
    "from darts.models import GaussianProcessFilter\n",
    "from sklearn.gaussian_process.kernels import ExpSineSquared\n",
    "\n",
    "do_gaussian_filter = False\n",
    "if do_gaussian_filter:\n",
    "    gaussian_filter = GaussianProcessFilter(kernel=ExpSineSquared())\n",
    "    \n",
    "    tars[\"1hour gaussian\"] = {loc: gaussian_filter.filter(TimeSeries.from_series(regular_index(ys[\"og\"][loc][\"full\"], \"H\"))) for loc in ys[\"og\"]}\n",
    "    \n",
    "    if display_plots:\n",
    "        for loc in tars[\"1hour gaussian\"]:\n",
    "            tars[\"1hour gaussian\"][loc][\"full\"].plot()\n",
    "            plt.show()"
   ]
  },
  {
   "cell_type": "markdown",
   "metadata": {},
   "source": [
    "Save predictions to csv file"
   ]
  },
  {
   "cell_type": "code",
   "execution_count": 13,
   "metadata": {},
   "outputs": [],
   "source": [
    "def extract_and_save(ys, file_name, path=None, extract_dates=extract_dates):\n",
    "    y = pd.concat([ys[loc].pd_series()[extract_dates[extract_dates.minute == 0]] for loc in ys])    \n",
    "    y[y < 0] = 0\n",
    "    y.name = \"prediction\"\n",
    "    y = y.reset_index(drop=True).reset_index().rename(columns={'index': 'id'})\n",
    "    if path is None:\n",
    "        y.to_csv(file_name, index=False)\n",
    "    else:\n",
    "        y.to_csv(os.path.join(path, file_name), index=False)\n",
    "    \n",
    "    return y"
   ]
  },
  {
   "cell_type": "markdown",
   "metadata": {},
   "source": [
    "## LightGBM"
   ]
  },
  {
   "cell_type": "markdown",
   "metadata": {},
   "source": [
    "Train and make predicitons"
   ]
  },
  {
   "cell_type": "code",
   "execution_count": 14,
   "metadata": {},
   "outputs": [
    {
     "name": "stdout",
     "output_type": "stream",
     "text": [
      "[LightGBM] [Info] Auto-choosing col-wise multi-threading, the overhead of testing was 0.801623 seconds.\n",
      "You can set `force_col_wise=true` to remove the overhead.\n",
      "[LightGBM] [Info] Total Bins 358008\n",
      "[LightGBM] [Info] Number of data points in the train set: 34154, number of used features: 2136\n",
      "[LightGBM] [Info] Start training from score 627.562496\n",
      "[LightGBM] [Info] Auto-choosing col-wise multi-threading, the overhead of testing was 1.383673 seconds.\n",
      "You can set `force_col_wise=true` to remove the overhead.\n",
      "[LightGBM] [Info] Total Bins 377064\n",
      "[LightGBM] [Info] Number of data points in the train set: 37825, number of used features: 2136\n",
      "[LightGBM] [Info] Start training from score 110.338613\n",
      "[LightGBM] [Info] Auto-choosing col-wise multi-threading, the overhead of testing was 0.819714 seconds.\n",
      "You can set `force_col_wise=true` to remove the overhead.\n",
      "[LightGBM] [Info] Total Bins 382555\n",
      "[LightGBM] [Info] Number of data points in the train set: 31912, number of used features: 2184\n",
      "[LightGBM] [Info] Start training from score 87.869236\n"
     ]
    },
    {
     "data": {
      "text/plain": [
       "<Axes: >"
      ]
     },
     "execution_count": 14,
     "metadata": {},
     "output_type": "execute_result"
    },
    {
     "data": {
      "image/png": "[encoded data removed]",
      "text/plain": [
       "<Figure size 640x480 with 1 Axes>"
      ]
     },
     "metadata": {},
     "output_type": "display_data"
    }
   ],
   "source": [
    "from darts.models import LightGBMModel\n",
    "\n",
    "tars_per = \"1hour\"\n",
    "covs_per = \"1hour\"\n",
    "type = \"full\"\n",
    "\n",
    "ys_light = {}\n",
    "\n",
    "do_light = True\n",
    "if do_light:\n",
    "    for loc in locs:\n",
    "        light = LightGBMModel(lags=5*24, lags_future_covariates=(24,24))\n",
    "        light.fit(tars[tars_per][loc][type], future_covariates=covs[covs_per][loc][type])\n",
    "        ys_light[loc] = light.predict(n_1hour, tars[tars_per][loc][type], future_covariates=covs[covs_per][loc][type])\n",
    "\n",
    "y = extract_and_save(ys_light, \"light_gbm_1hour.csv\")\n",
    "y[\"prediction\"].plot(lw=0.5)"
   ]
  }
 ],
 "metadata": {
  "colab": {
   "provenance": []
  },
  "kernelspec": {
   "display_name": "Python 3 (ipykernel)",
   "language": "python",
   "name": "python3"
  },
  "language_info": {
   "codemirror_mode": {
    "name": "ipython",
    "version": 3
   },
   "file_extension": ".py",
   "mimetype": "text/x-python",
   "name": "python",
   "nbconvert_exporter": "python",
   "pygments_lexer": "ipython3",
   "version": "3.11.5"
  }
 },
 "nbformat": 4,
 "nbformat_minor": 4
}
