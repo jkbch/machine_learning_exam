{
 "cells": [
  {
   "cell_type": "markdown",
   "metadata": {},
   "source": [
    "## Setup"
   ]
  },
  {
   "cell_type": "markdown",
   "metadata": {},
   "source": [
    "Requires Python 3.10 and Poetry 1.6. Run setup commands to begin:\n",
    "```\n",
    "!poetry install\n",
    "!poetry run jupyter lab\n",
    "```"
   ]
  },
  {
   "cell_type": "code",
   "execution_count": 1,
   "metadata": {},
   "outputs": [],
   "source": [
    "import os\n",
    "import copy\n",
    "import math\n",
    "import itertools\n",
    "import numpy as np\n",
    "import pandas as pd\n",
    "import matplotlib.pyplot as plt\n",
    "\n",
    "pd.options.display.max_columns = None\n",
    "display_plots = False"
   ]
  },
  {
   "cell_type": "markdown",
   "metadata": {},
   "source": [
    "Load data"
   ]
  },
  {
   "cell_type": "code",
   "execution_count": 2,
   "metadata": {
    "id": "aEV_AiL5WmUG"
   },
   "outputs": [],
   "source": [
    "def get_raw_data():\n",
    "    return {\n",
    "        \"A\": {\n",
    "            \"test_est\": pd.read_parquet(os.path.join(\"data\", \"A\", \"X_test_estimated.parquet\")),\n",
    "            \"train_est\": pd.read_parquet(os.path.join(\"data\", \"A\", \"X_train_estimated.parquet\")),\n",
    "            \"train_obs\": pd.read_parquet(os.path.join(\"data\", \"A\", \"X_train_observed.parquet\")),\n",
    "            \"train_tar\": pd.read_parquet(os.path.join(\"data\", \"A\", \"train_targets.parquet\")),\n",
    "        },\n",
    "        \"B\": {\n",
    "            \"test_est\": pd.read_parquet(os.path.join(\"data\", \"B\", \"X_test_estimated.parquet\")),\n",
    "            \"train_est\": pd.read_parquet(os.path.join(\"data\", \"B\", \"X_train_estimated.parquet\")),\n",
    "            \"train_obs\": pd.read_parquet(os.path.join(\"data\", \"B\", \"X_train_observed.parquet\")),\n",
    "            \"train_tar\": pd.read_parquet(os.path.join(\"data\", \"B\", \"train_targets.parquet\")),\n",
    "        },\n",
    "        \"C\": {\n",
    "            \"test_est\": pd.read_parquet(os.path.join(\"data\", \"C\", \"X_test_estimated.parquet\")),\n",
    "            \"train_est\": pd.read_parquet(os.path.join(\"data\", \"C\", \"X_train_estimated.parquet\")),\n",
    "            \"train_obs\": pd.read_parquet(os.path.join(\"data\", \"C\", \"X_train_observed.parquet\")),\n",
    "            \"train_tar\": pd.read_parquet(os.path.join(\"data\", \"C\", \"train_targets.parquet\")),\n",
    "        },\n",
    "    }\n",
    "data = get_raw_data()"
   ]
  },
  {
   "cell_type": "markdown",
   "metadata": {},
   "source": [
    "View raw data"
   ]
  },
  {
   "cell_type": "code",
   "execution_count": 3,
   "metadata": {
    "scrolled": true
   },
   "outputs": [
    {
     "data": {
      "text/plain": [
       "'A'"
      ]
     },
     "metadata": {},
     "output_type": "display_data"
    },
    {
     "data": {
      "text/plain": [
       "'test_est'"
      ]
     },
     "metadata": {},
     "output_type": "display_data"
    },
    {
     "data": {
      "text/html": [
       "<div>\n",
       "<style scoped>\n",
       "    .dataframe tbody tr th:only-of-type {\n",
       "        vertical-align: middle;\n",
       "    }\n",
       "\n",
       "    .dataframe tbody tr th {\n",
       "        vertical-align: top;\n",
       "    }\n",
       "\n",
       "    .dataframe thead th {\n",
       "        text-align: right;\n",
       "    }\n",
       "</style>\n",
       "<table border=\"1\" class=\"dataframe\">\n",
       "  <thead>\n",
       "    <tr style=\"text-align: right;\">\n",
       "      <th></th>\n",
       "      <th>date_calc</th>\n",
       "      <th>date_forecast</th>\n",
       "      <th>absolute_humidity_2m:gm3</th>\n",
       "      <th>air_density_2m:kgm3</th>\n",
       "      <th>ceiling_height_agl:m</th>\n",
       "      <th>clear_sky_energy_1h:J</th>\n",
       "      <th>clear_sky_rad:W</th>\n",
       "      <th>cloud_base_agl:m</th>\n",
       "      <th>dew_or_rime:idx</th>\n",
       "      <th>dew_point_2m:K</th>\n",
       "      <th>diffuse_rad:W</th>\n",
       "      <th>diffuse_rad_1h:J</th>\n",
       "      <th>direct_rad:W</th>\n",
       "      <th>direct_rad_1h:J</th>\n",
       "      <th>effective_cloud_cover:p</th>\n",
       "      <th>elevation:m</th>\n",
       "      <th>fresh_snow_12h:cm</th>\n",
       "      <th>fresh_snow_1h:cm</th>\n",
       "      <th>fresh_snow_24h:cm</th>\n",
       "      <th>fresh_snow_3h:cm</th>\n",
       "      <th>fresh_snow_6h:cm</th>\n",
       "      <th>is_day:idx</th>\n",
       "      <th>is_in_shadow:idx</th>\n",
       "      <th>msl_pressure:hPa</th>\n",
       "      <th>precip_5min:mm</th>\n",
       "      <th>precip_type_5min:idx</th>\n",
       "      <th>pressure_100m:hPa</th>\n",
       "      <th>pressure_50m:hPa</th>\n",
       "      <th>prob_rime:p</th>\n",
       "      <th>rain_water:kgm2</th>\n",
       "      <th>relative_humidity_1000hPa:p</th>\n",
       "      <th>sfc_pressure:hPa</th>\n",
       "      <th>snow_density:kgm3</th>\n",
       "      <th>snow_depth:cm</th>\n",
       "      <th>snow_drift:idx</th>\n",
       "      <th>snow_melt_10min:mm</th>\n",
       "      <th>snow_water:kgm2</th>\n",
       "      <th>sun_azimuth:d</th>\n",
       "      <th>sun_elevation:d</th>\n",
       "      <th>super_cooled_liquid_water:kgm2</th>\n",
       "      <th>t_1000hPa:K</th>\n",
       "      <th>total_cloud_cover:p</th>\n",
       "      <th>visibility:m</th>\n",
       "      <th>wind_speed_10m:ms</th>\n",
       "      <th>wind_speed_u_10m:ms</th>\n",
       "      <th>wind_speed_v_10m:ms</th>\n",
       "      <th>wind_speed_w_1000hPa:ms</th>\n",
       "    </tr>\n",
       "  </thead>\n",
       "  <tbody>\n",
       "    <tr>\n",
       "      <th>0</th>\n",
       "      <td>2023-04-30 07:00:04</td>\n",
       "      <td>2023-05-01 00:00:00</td>\n",
       "      <td>4.4</td>\n",
       "      <td>1.286</td>\n",
       "      <td>912.700012</td>\n",
       "      <td>0.0</td>\n",
       "      <td>0.0</td>\n",
       "      <td>1041.199951</td>\n",
       "      <td>0.0</td>\n",
       "      <td>271.700012</td>\n",
       "      <td>0.0</td>\n",
       "      <td>0.0</td>\n",
       "      <td>0.0</td>\n",
       "      <td>0.0</td>\n",
       "      <td>80.699997</td>\n",
       "      <td>6.0</td>\n",
       "      <td>0.0</td>\n",
       "      <td>0.0</td>\n",
       "      <td>0.0</td>\n",
       "      <td>0.0</td>\n",
       "      <td>0.0</td>\n",
       "      <td>0.0</td>\n",
       "      <td>1.0</td>\n",
       "      <td>1013.900024</td>\n",
       "      <td>0.0</td>\n",
       "      <td>0.0</td>\n",
       "      <td>1000.700012</td>\n",
       "      <td>1007.000000</td>\n",
       "      <td>0.0</td>\n",
       "      <td>0.0</td>\n",
       "      <td>80.300003</td>\n",
       "      <td>1013.299988</td>\n",
       "      <td>NaN</td>\n",
       "      <td>0.0</td>\n",
       "      <td>0.0</td>\n",
       "      <td>0.0</td>\n",
       "      <td>0.0</td>\n",
       "      <td>10.520000</td>\n",
       "      <td>-11.185</td>\n",
       "      <td>0.0</td>\n",
       "      <td>273.799988</td>\n",
       "      <td>80.699997</td>\n",
       "      <td>30210.699219</td>\n",
       "      <td>4.0</td>\n",
       "      <td>2.2</td>\n",
       "      <td>3.4</td>\n",
       "      <td>-0.0</td>\n",
       "    </tr>\n",
       "    <tr>\n",
       "      <th>1</th>\n",
       "      <td>2023-04-30 07:00:04</td>\n",
       "      <td>2023-05-01 00:15:00</td>\n",
       "      <td>4.3</td>\n",
       "      <td>1.287</td>\n",
       "      <td>912.700012</td>\n",
       "      <td>0.0</td>\n",
       "      <td>0.0</td>\n",
       "      <td>1054.800049</td>\n",
       "      <td>0.0</td>\n",
       "      <td>271.700012</td>\n",
       "      <td>0.0</td>\n",
       "      <td>0.0</td>\n",
       "      <td>0.0</td>\n",
       "      <td>0.0</td>\n",
       "      <td>77.000000</td>\n",
       "      <td>6.0</td>\n",
       "      <td>0.0</td>\n",
       "      <td>0.0</td>\n",
       "      <td>0.0</td>\n",
       "      <td>0.0</td>\n",
       "      <td>0.0</td>\n",
       "      <td>0.0</td>\n",
       "      <td>1.0</td>\n",
       "      <td>1013.700012</td>\n",
       "      <td>0.0</td>\n",
       "      <td>0.0</td>\n",
       "      <td>1000.599976</td>\n",
       "      <td>1006.900024</td>\n",
       "      <td>0.0</td>\n",
       "      <td>0.0</td>\n",
       "      <td>80.300003</td>\n",
       "      <td>1013.200012</td>\n",
       "      <td>NaN</td>\n",
       "      <td>0.0</td>\n",
       "      <td>0.0</td>\n",
       "      <td>0.0</td>\n",
       "      <td>0.0</td>\n",
       "      <td>14.203000</td>\n",
       "      <td>-10.825</td>\n",
       "      <td>0.0</td>\n",
       "      <td>273.799988</td>\n",
       "      <td>77.000000</td>\n",
       "      <td>30003.599609</td>\n",
       "      <td>4.0</td>\n",
       "      <td>2.1</td>\n",
       "      <td>3.4</td>\n",
       "      <td>-0.0</td>\n",
       "    </tr>\n",
       "    <tr>\n",
       "      <th>2</th>\n",
       "      <td>2023-04-30 07:00:04</td>\n",
       "      <td>2023-05-01 00:30:00</td>\n",
       "      <td>4.3</td>\n",
       "      <td>1.287</td>\n",
       "      <td>912.700012</td>\n",
       "      <td>0.0</td>\n",
       "      <td>0.0</td>\n",
       "      <td>1068.300049</td>\n",
       "      <td>0.0</td>\n",
       "      <td>271.600006</td>\n",
       "      <td>0.0</td>\n",
       "      <td>0.0</td>\n",
       "      <td>0.0</td>\n",
       "      <td>0.0</td>\n",
       "      <td>73.099998</td>\n",
       "      <td>6.0</td>\n",
       "      <td>0.0</td>\n",
       "      <td>0.0</td>\n",
       "      <td>0.0</td>\n",
       "      <td>0.0</td>\n",
       "      <td>0.0</td>\n",
       "      <td>0.0</td>\n",
       "      <td>1.0</td>\n",
       "      <td>1013.599976</td>\n",
       "      <td>0.0</td>\n",
       "      <td>0.0</td>\n",
       "      <td>1000.500000</td>\n",
       "      <td>1006.700012</td>\n",
       "      <td>0.0</td>\n",
       "      <td>0.0</td>\n",
       "      <td>80.300003</td>\n",
       "      <td>1013.000000</td>\n",
       "      <td>NaN</td>\n",
       "      <td>0.0</td>\n",
       "      <td>0.0</td>\n",
       "      <td>0.0</td>\n",
       "      <td>0.0</td>\n",
       "      <td>17.868999</td>\n",
       "      <td>-10.360</td>\n",
       "      <td>0.0</td>\n",
       "      <td>273.799988</td>\n",
       "      <td>73.099998</td>\n",
       "      <td>29797.099609</td>\n",
       "      <td>3.9</td>\n",
       "      <td>2.1</td>\n",
       "      <td>3.3</td>\n",
       "      <td>-0.0</td>\n",
       "    </tr>\n",
       "    <tr>\n",
       "      <th>3</th>\n",
       "      <td>2023-04-30 07:00:04</td>\n",
       "      <td>2023-05-01 00:45:00</td>\n",
       "      <td>4.3</td>\n",
       "      <td>1.287</td>\n",
       "      <td>912.700012</td>\n",
       "      <td>0.0</td>\n",
       "      <td>0.0</td>\n",
       "      <td>1081.900024</td>\n",
       "      <td>0.0</td>\n",
       "      <td>271.600006</td>\n",
       "      <td>0.0</td>\n",
       "      <td>0.0</td>\n",
       "      <td>0.0</td>\n",
       "      <td>0.0</td>\n",
       "      <td>69.000000</td>\n",
       "      <td>6.0</td>\n",
       "      <td>0.0</td>\n",
       "      <td>0.0</td>\n",
       "      <td>0.0</td>\n",
       "      <td>0.0</td>\n",
       "      <td>0.0</td>\n",
       "      <td>0.0</td>\n",
       "      <td>1.0</td>\n",
       "      <td>1013.500000</td>\n",
       "      <td>0.0</td>\n",
       "      <td>0.0</td>\n",
       "      <td>1000.400024</td>\n",
       "      <td>1006.599976</td>\n",
       "      <td>0.0</td>\n",
       "      <td>0.0</td>\n",
       "      <td>80.199997</td>\n",
       "      <td>1012.900024</td>\n",
       "      <td>NaN</td>\n",
       "      <td>0.0</td>\n",
       "      <td>0.0</td>\n",
       "      <td>0.0</td>\n",
       "      <td>0.0</td>\n",
       "      <td>21.514000</td>\n",
       "      <td>-9.794</td>\n",
       "      <td>0.0</td>\n",
       "      <td>273.799988</td>\n",
       "      <td>69.000000</td>\n",
       "      <td>29618.599609</td>\n",
       "      <td>3.9</td>\n",
       "      <td>2.0</td>\n",
       "      <td>3.3</td>\n",
       "      <td>-0.0</td>\n",
       "    </tr>\n",
       "    <tr>\n",
       "      <th>4</th>\n",
       "      <td>2023-04-30 07:00:04</td>\n",
       "      <td>2023-05-01 01:00:00</td>\n",
       "      <td>4.3</td>\n",
       "      <td>1.287</td>\n",
       "      <td>NaN</td>\n",
       "      <td>0.0</td>\n",
       "      <td>0.0</td>\n",
       "      <td>1095.400024</td>\n",
       "      <td>0.0</td>\n",
       "      <td>271.600006</td>\n",
       "      <td>0.0</td>\n",
       "      <td>0.0</td>\n",
       "      <td>0.0</td>\n",
       "      <td>0.0</td>\n",
       "      <td>64.500000</td>\n",
       "      <td>6.0</td>\n",
       "      <td>0.0</td>\n",
       "      <td>0.0</td>\n",
       "      <td>0.0</td>\n",
       "      <td>0.0</td>\n",
       "      <td>0.0</td>\n",
       "      <td>0.0</td>\n",
       "      <td>1.0</td>\n",
       "      <td>1013.299988</td>\n",
       "      <td>0.0</td>\n",
       "      <td>0.0</td>\n",
       "      <td>1000.200012</td>\n",
       "      <td>1006.500000</td>\n",
       "      <td>0.0</td>\n",
       "      <td>0.0</td>\n",
       "      <td>80.199997</td>\n",
       "      <td>1012.799988</td>\n",
       "      <td>NaN</td>\n",
       "      <td>0.0</td>\n",
       "      <td>0.0</td>\n",
       "      <td>0.0</td>\n",
       "      <td>0.0</td>\n",
       "      <td>25.135000</td>\n",
       "      <td>-9.128</td>\n",
       "      <td>0.0</td>\n",
       "      <td>273.799988</td>\n",
       "      <td>64.500000</td>\n",
       "      <td>29507.500000</td>\n",
       "      <td>3.9</td>\n",
       "      <td>2.0</td>\n",
       "      <td>3.3</td>\n",
       "      <td>-0.0</td>\n",
       "    </tr>\n",
       "    <tr>\n",
       "      <th>...</th>\n",
       "      <td>...</td>\n",
       "      <td>...</td>\n",
       "      <td>...</td>\n",
       "      <td>...</td>\n",
       "      <td>...</td>\n",
       "      <td>...</td>\n",
       "      <td>...</td>\n",
       "      <td>...</td>\n",
       "      <td>...</td>\n",
       "      <td>...</td>\n",
       "      <td>...</td>\n",
       "      <td>...</td>\n",
       "      <td>...</td>\n",
       "      <td>...</td>\n",
       "      <td>...</td>\n",
       "      <td>...</td>\n",
       "      <td>...</td>\n",
       "      <td>...</td>\n",
       "      <td>...</td>\n",
       "      <td>...</td>\n",
       "      <td>...</td>\n",
       "      <td>...</td>\n",
       "      <td>...</td>\n",
       "      <td>...</td>\n",
       "      <td>...</td>\n",
       "      <td>...</td>\n",
       "      <td>...</td>\n",
       "      <td>...</td>\n",
       "      <td>...</td>\n",
       "      <td>...</td>\n",
       "      <td>...</td>\n",
       "      <td>...</td>\n",
       "      <td>...</td>\n",
       "      <td>...</td>\n",
       "      <td>...</td>\n",
       "      <td>...</td>\n",
       "      <td>...</td>\n",
       "      <td>...</td>\n",
       "      <td>...</td>\n",
       "      <td>...</td>\n",
       "      <td>...</td>\n",
       "      <td>...</td>\n",
       "      <td>...</td>\n",
       "      <td>...</td>\n",
       "      <td>...</td>\n",
       "      <td>...</td>\n",
       "      <td>...</td>\n",
       "    </tr>\n",
       "    <tr>\n",
       "      <th>2875</th>\n",
       "      <td>2023-07-02 07:00:31</td>\n",
       "      <td>2023-07-03 22:45:00</td>\n",
       "      <td>9.1</td>\n",
       "      <td>1.207</td>\n",
       "      <td>2090.600098</td>\n",
       "      <td>0.0</td>\n",
       "      <td>0.0</td>\n",
       "      <td>1629.400024</td>\n",
       "      <td>0.0</td>\n",
       "      <td>282.700012</td>\n",
       "      <td>0.0</td>\n",
       "      <td>0.0</td>\n",
       "      <td>0.0</td>\n",
       "      <td>0.0</td>\n",
       "      <td>99.300003</td>\n",
       "      <td>6.0</td>\n",
       "      <td>0.0</td>\n",
       "      <td>0.0</td>\n",
       "      <td>0.0</td>\n",
       "      <td>0.0</td>\n",
       "      <td>0.0</td>\n",
       "      <td>0.0</td>\n",
       "      <td>1.0</td>\n",
       "      <td>993.299988</td>\n",
       "      <td>0.0</td>\n",
       "      <td>0.0</td>\n",
       "      <td>980.799988</td>\n",
       "      <td>986.700012</td>\n",
       "      <td>0.0</td>\n",
       "      <td>0.0</td>\n",
       "      <td>82.199997</td>\n",
       "      <td>992.599976</td>\n",
       "      <td>NaN</td>\n",
       "      <td>0.0</td>\n",
       "      <td>0.0</td>\n",
       "      <td>-0.0</td>\n",
       "      <td>0.0</td>\n",
       "      <td>351.855988</td>\n",
       "      <td>-3.282</td>\n",
       "      <td>0.1</td>\n",
       "      <td>285.399994</td>\n",
       "      <td>99.400002</td>\n",
       "      <td>39931.601562</td>\n",
       "      <td>2.1</td>\n",
       "      <td>1.7</td>\n",
       "      <td>-1.3</td>\n",
       "      <td>0.0</td>\n",
       "    </tr>\n",
       "    <tr>\n",
       "      <th>2876</th>\n",
       "      <td>2023-07-02 07:00:31</td>\n",
       "      <td>2023-07-03 23:00:00</td>\n",
       "      <td>9.1</td>\n",
       "      <td>1.207</td>\n",
       "      <td>2015.800049</td>\n",
       "      <td>0.0</td>\n",
       "      <td>0.0</td>\n",
       "      <td>1537.300049</td>\n",
       "      <td>0.0</td>\n",
       "      <td>282.700012</td>\n",
       "      <td>0.0</td>\n",
       "      <td>0.0</td>\n",
       "      <td>0.0</td>\n",
       "      <td>0.0</td>\n",
       "      <td>100.000000</td>\n",
       "      <td>6.0</td>\n",
       "      <td>0.0</td>\n",
       "      <td>0.0</td>\n",
       "      <td>0.0</td>\n",
       "      <td>0.0</td>\n",
       "      <td>0.0</td>\n",
       "      <td>0.0</td>\n",
       "      <td>1.0</td>\n",
       "      <td>993.400024</td>\n",
       "      <td>0.0</td>\n",
       "      <td>0.0</td>\n",
       "      <td>980.900024</td>\n",
       "      <td>986.799988</td>\n",
       "      <td>0.0</td>\n",
       "      <td>0.0</td>\n",
       "      <td>82.500000</td>\n",
       "      <td>992.700012</td>\n",
       "      <td>NaN</td>\n",
       "      <td>0.0</td>\n",
       "      <td>0.0</td>\n",
       "      <td>-0.0</td>\n",
       "      <td>0.0</td>\n",
       "      <td>355.317993</td>\n",
       "      <td>-3.469</td>\n",
       "      <td>0.1</td>\n",
       "      <td>285.299988</td>\n",
       "      <td>100.000000</td>\n",
       "      <td>39574.300781</td>\n",
       "      <td>2.0</td>\n",
       "      <td>1.6</td>\n",
       "      <td>-1.3</td>\n",
       "      <td>0.0</td>\n",
       "    </tr>\n",
       "    <tr>\n",
       "      <th>2877</th>\n",
       "      <td>2023-07-02 07:00:31</td>\n",
       "      <td>2023-07-03 23:15:00</td>\n",
       "      <td>9.1</td>\n",
       "      <td>1.208</td>\n",
       "      <td>2015.699951</td>\n",
       "      <td>0.0</td>\n",
       "      <td>0.0</td>\n",
       "      <td>1471.400024</td>\n",
       "      <td>0.0</td>\n",
       "      <td>282.700012</td>\n",
       "      <td>0.0</td>\n",
       "      <td>0.0</td>\n",
       "      <td>0.0</td>\n",
       "      <td>0.0</td>\n",
       "      <td>100.000000</td>\n",
       "      <td>6.0</td>\n",
       "      <td>0.0</td>\n",
       "      <td>0.0</td>\n",
       "      <td>0.0</td>\n",
       "      <td>0.0</td>\n",
       "      <td>0.0</td>\n",
       "      <td>0.0</td>\n",
       "      <td>1.0</td>\n",
       "      <td>993.500000</td>\n",
       "      <td>0.0</td>\n",
       "      <td>0.0</td>\n",
       "      <td>981.000000</td>\n",
       "      <td>986.900024</td>\n",
       "      <td>0.0</td>\n",
       "      <td>0.0</td>\n",
       "      <td>82.800003</td>\n",
       "      <td>992.799988</td>\n",
       "      <td>NaN</td>\n",
       "      <td>0.0</td>\n",
       "      <td>0.0</td>\n",
       "      <td>-0.0</td>\n",
       "      <td>0.0</td>\n",
       "      <td>358.785004</td>\n",
       "      <td>-3.556</td>\n",
       "      <td>0.1</td>\n",
       "      <td>285.299988</td>\n",
       "      <td>100.000000</td>\n",
       "      <td>39627.199219</td>\n",
       "      <td>2.0</td>\n",
       "      <td>1.6</td>\n",
       "      <td>-1.2</td>\n",
       "      <td>0.0</td>\n",
       "    </tr>\n",
       "    <tr>\n",
       "      <th>2878</th>\n",
       "      <td>2023-07-02 07:00:31</td>\n",
       "      <td>2023-07-03 23:30:00</td>\n",
       "      <td>9.0</td>\n",
       "      <td>1.208</td>\n",
       "      <td>2015.599976</td>\n",
       "      <td>0.0</td>\n",
       "      <td>0.0</td>\n",
       "      <td>1405.500000</td>\n",
       "      <td>0.0</td>\n",
       "      <td>282.700012</td>\n",
       "      <td>0.0</td>\n",
       "      <td>0.0</td>\n",
       "      <td>0.0</td>\n",
       "      <td>0.0</td>\n",
       "      <td>100.000000</td>\n",
       "      <td>6.0</td>\n",
       "      <td>0.0</td>\n",
       "      <td>0.0</td>\n",
       "      <td>0.0</td>\n",
       "      <td>0.0</td>\n",
       "      <td>0.0</td>\n",
       "      <td>0.0</td>\n",
       "      <td>1.0</td>\n",
       "      <td>993.599976</td>\n",
       "      <td>0.0</td>\n",
       "      <td>0.0</td>\n",
       "      <td>981.000000</td>\n",
       "      <td>986.900024</td>\n",
       "      <td>0.0</td>\n",
       "      <td>0.0</td>\n",
       "      <td>83.199997</td>\n",
       "      <td>992.900024</td>\n",
       "      <td>NaN</td>\n",
       "      <td>0.0</td>\n",
       "      <td>0.0</td>\n",
       "      <td>-0.0</td>\n",
       "      <td>0.0</td>\n",
       "      <td>2.253000</td>\n",
       "      <td>-3.541</td>\n",
       "      <td>0.1</td>\n",
       "      <td>285.200012</td>\n",
       "      <td>100.000000</td>\n",
       "      <td>39691.800781</td>\n",
       "      <td>2.0</td>\n",
       "      <td>1.6</td>\n",
       "      <td>-1.1</td>\n",
       "      <td>0.0</td>\n",
       "    </tr>\n",
       "    <tr>\n",
       "      <th>2879</th>\n",
       "      <td>2023-07-02 07:00:31</td>\n",
       "      <td>2023-07-03 23:45:00</td>\n",
       "      <td>9.0</td>\n",
       "      <td>1.208</td>\n",
       "      <td>2015.599976</td>\n",
       "      <td>0.0</td>\n",
       "      <td>0.0</td>\n",
       "      <td>1339.599976</td>\n",
       "      <td>0.0</td>\n",
       "      <td>282.600006</td>\n",
       "      <td>0.0</td>\n",
       "      <td>0.0</td>\n",
       "      <td>0.0</td>\n",
       "      <td>0.0</td>\n",
       "      <td>100.000000</td>\n",
       "      <td>6.0</td>\n",
       "      <td>0.0</td>\n",
       "      <td>0.0</td>\n",
       "      <td>0.0</td>\n",
       "      <td>0.0</td>\n",
       "      <td>0.0</td>\n",
       "      <td>0.0</td>\n",
       "      <td>1.0</td>\n",
       "      <td>993.700012</td>\n",
       "      <td>0.0</td>\n",
       "      <td>0.0</td>\n",
       "      <td>981.099976</td>\n",
       "      <td>987.000000</td>\n",
       "      <td>0.0</td>\n",
       "      <td>0.0</td>\n",
       "      <td>83.500000</td>\n",
       "      <td>992.900024</td>\n",
       "      <td>NaN</td>\n",
       "      <td>0.0</td>\n",
       "      <td>0.0</td>\n",
       "      <td>-0.0</td>\n",
       "      <td>0.0</td>\n",
       "      <td>5.718000</td>\n",
       "      <td>-3.424</td>\n",
       "      <td>0.2</td>\n",
       "      <td>285.200012</td>\n",
       "      <td>100.000000</td>\n",
       "      <td>39768.800781</td>\n",
       "      <td>1.9</td>\n",
       "      <td>1.6</td>\n",
       "      <td>-1.1</td>\n",
       "      <td>0.0</td>\n",
       "    </tr>\n",
       "  </tbody>\n",
       "</table>\n",
       "<p>2880 rows × 47 columns</p>\n",
       "</div>"
      ],
      "text/plain": [
       "               date_calc       date_forecast  absolute_humidity_2m:gm3  \\\n",
       "0    2023-04-30 07:00:04 2023-05-01 00:00:00                       4.4   \n",
       "1    2023-04-30 07:00:04 2023-05-01 00:15:00                       4.3   \n",
       "2    2023-04-30 07:00:04 2023-05-01 00:30:00                       4.3   \n",
       "3    2023-04-30 07:00:04 2023-05-01 00:45:00                       4.3   \n",
       "4    2023-04-30 07:00:04 2023-05-01 01:00:00                       4.3   \n",
       "...                  ...                 ...                       ...   \n",
       "2875 2023-07-02 07:00:31 2023-07-03 22:45:00                       9.1   \n",
       "2876 2023-07-02 07:00:31 2023-07-03 23:00:00                       9.1   \n",
       "2877 2023-07-02 07:00:31 2023-07-03 23:15:00                       9.1   \n",
       "2878 2023-07-02 07:00:31 2023-07-03 23:30:00                       9.0   \n",
       "2879 2023-07-02 07:00:31 2023-07-03 23:45:00                       9.0   \n",
       "\n",
       "      air_density_2m:kgm3  ceiling_height_agl:m  clear_sky_energy_1h:J  \\\n",
       "0                   1.286            912.700012                    0.0   \n",
       "1                   1.287            912.700012                    0.0   \n",
       "2                   1.287            912.700012                    0.0   \n",
       "3                   1.287            912.700012                    0.0   \n",
       "4                   1.287                   NaN                    0.0   \n",
       "...                   ...                   ...                    ...   \n",
       "2875                1.207           2090.600098                    0.0   \n",
       "2876                1.207           2015.800049                    0.0   \n",
       "2877                1.208           2015.699951                    0.0   \n",
       "2878                1.208           2015.599976                    0.0   \n",
       "2879                1.208           2015.599976                    0.0   \n",
       "\n",
       "      clear_sky_rad:W  cloud_base_agl:m  dew_or_rime:idx  dew_point_2m:K  \\\n",
       "0                 0.0       1041.199951              0.0      271.700012   \n",
       "1                 0.0       1054.800049              0.0      271.700012   \n",
       "2                 0.0       1068.300049              0.0      271.600006   \n",
       "3                 0.0       1081.900024              0.0      271.600006   \n",
       "4                 0.0       1095.400024              0.0      271.600006   \n",
       "...               ...               ...              ...             ...   \n",
       "2875              0.0       1629.400024              0.0      282.700012   \n",
       "2876              0.0       1537.300049              0.0      282.700012   \n",
       "2877              0.0       1471.400024              0.0      282.700012   \n",
       "2878              0.0       1405.500000              0.0      282.700012   \n",
       "2879              0.0       1339.599976              0.0      282.600006   \n",
       "\n",
       "      diffuse_rad:W  diffuse_rad_1h:J  direct_rad:W  direct_rad_1h:J  \\\n",
       "0               0.0               0.0           0.0              0.0   \n",
       "1               0.0               0.0           0.0              0.0   \n",
       "2               0.0               0.0           0.0              0.0   \n",
       "3               0.0               0.0           0.0              0.0   \n",
       "4               0.0               0.0           0.0              0.0   \n",
       "...             ...               ...           ...              ...   \n",
       "2875            0.0               0.0           0.0              0.0   \n",
       "2876            0.0               0.0           0.0              0.0   \n",
       "2877            0.0               0.0           0.0              0.0   \n",
       "2878            0.0               0.0           0.0              0.0   \n",
       "2879            0.0               0.0           0.0              0.0   \n",
       "\n",
       "      effective_cloud_cover:p  elevation:m  fresh_snow_12h:cm  \\\n",
       "0                   80.699997          6.0                0.0   \n",
       "1                   77.000000          6.0                0.0   \n",
       "2                   73.099998          6.0                0.0   \n",
       "3                   69.000000          6.0                0.0   \n",
       "4                   64.500000          6.0                0.0   \n",
       "...                       ...          ...                ...   \n",
       "2875                99.300003          6.0                0.0   \n",
       "2876               100.000000          6.0                0.0   \n",
       "2877               100.000000          6.0                0.0   \n",
       "2878               100.000000          6.0                0.0   \n",
       "2879               100.000000          6.0                0.0   \n",
       "\n",
       "      fresh_snow_1h:cm  fresh_snow_24h:cm  fresh_snow_3h:cm  fresh_snow_6h:cm  \\\n",
       "0                  0.0                0.0               0.0               0.0   \n",
       "1                  0.0                0.0               0.0               0.0   \n",
       "2                  0.0                0.0               0.0               0.0   \n",
       "3                  0.0                0.0               0.0               0.0   \n",
       "4                  0.0                0.0               0.0               0.0   \n",
       "...                ...                ...               ...               ...   \n",
       "2875               0.0                0.0               0.0               0.0   \n",
       "2876               0.0                0.0               0.0               0.0   \n",
       "2877               0.0                0.0               0.0               0.0   \n",
       "2878               0.0                0.0               0.0               0.0   \n",
       "2879               0.0                0.0               0.0               0.0   \n",
       "\n",
       "      is_day:idx  is_in_shadow:idx  msl_pressure:hPa  precip_5min:mm  \\\n",
       "0            0.0               1.0       1013.900024             0.0   \n",
       "1            0.0               1.0       1013.700012             0.0   \n",
       "2            0.0               1.0       1013.599976             0.0   \n",
       "3            0.0               1.0       1013.500000             0.0   \n",
       "4            0.0               1.0       1013.299988             0.0   \n",
       "...          ...               ...               ...             ...   \n",
       "2875         0.0               1.0        993.299988             0.0   \n",
       "2876         0.0               1.0        993.400024             0.0   \n",
       "2877         0.0               1.0        993.500000             0.0   \n",
       "2878         0.0               1.0        993.599976             0.0   \n",
       "2879         0.0               1.0        993.700012             0.0   \n",
       "\n",
       "      precip_type_5min:idx  pressure_100m:hPa  pressure_50m:hPa  prob_rime:p  \\\n",
       "0                      0.0        1000.700012       1007.000000          0.0   \n",
       "1                      0.0        1000.599976       1006.900024          0.0   \n",
       "2                      0.0        1000.500000       1006.700012          0.0   \n",
       "3                      0.0        1000.400024       1006.599976          0.0   \n",
       "4                      0.0        1000.200012       1006.500000          0.0   \n",
       "...                    ...                ...               ...          ...   \n",
       "2875                   0.0         980.799988        986.700012          0.0   \n",
       "2876                   0.0         980.900024        986.799988          0.0   \n",
       "2877                   0.0         981.000000        986.900024          0.0   \n",
       "2878                   0.0         981.000000        986.900024          0.0   \n",
       "2879                   0.0         981.099976        987.000000          0.0   \n",
       "\n",
       "      rain_water:kgm2  relative_humidity_1000hPa:p  sfc_pressure:hPa  \\\n",
       "0                 0.0                    80.300003       1013.299988   \n",
       "1                 0.0                    80.300003       1013.200012   \n",
       "2                 0.0                    80.300003       1013.000000   \n",
       "3                 0.0                    80.199997       1012.900024   \n",
       "4                 0.0                    80.199997       1012.799988   \n",
       "...               ...                          ...               ...   \n",
       "2875              0.0                    82.199997        992.599976   \n",
       "2876              0.0                    82.500000        992.700012   \n",
       "2877              0.0                    82.800003        992.799988   \n",
       "2878              0.0                    83.199997        992.900024   \n",
       "2879              0.0                    83.500000        992.900024   \n",
       "\n",
       "      snow_density:kgm3  snow_depth:cm  snow_drift:idx  snow_melt_10min:mm  \\\n",
       "0                   NaN            0.0             0.0                 0.0   \n",
       "1                   NaN            0.0             0.0                 0.0   \n",
       "2                   NaN            0.0             0.0                 0.0   \n",
       "3                   NaN            0.0             0.0                 0.0   \n",
       "4                   NaN            0.0             0.0                 0.0   \n",
       "...                 ...            ...             ...                 ...   \n",
       "2875                NaN            0.0             0.0                -0.0   \n",
       "2876                NaN            0.0             0.0                -0.0   \n",
       "2877                NaN            0.0             0.0                -0.0   \n",
       "2878                NaN            0.0             0.0                -0.0   \n",
       "2879                NaN            0.0             0.0                -0.0   \n",
       "\n",
       "      snow_water:kgm2  sun_azimuth:d  sun_elevation:d  \\\n",
       "0                 0.0      10.520000          -11.185   \n",
       "1                 0.0      14.203000          -10.825   \n",
       "2                 0.0      17.868999          -10.360   \n",
       "3                 0.0      21.514000           -9.794   \n",
       "4                 0.0      25.135000           -9.128   \n",
       "...               ...            ...              ...   \n",
       "2875              0.0     351.855988           -3.282   \n",
       "2876              0.0     355.317993           -3.469   \n",
       "2877              0.0     358.785004           -3.556   \n",
       "2878              0.0       2.253000           -3.541   \n",
       "2879              0.0       5.718000           -3.424   \n",
       "\n",
       "      super_cooled_liquid_water:kgm2  t_1000hPa:K  total_cloud_cover:p  \\\n",
       "0                                0.0   273.799988            80.699997   \n",
       "1                                0.0   273.799988            77.000000   \n",
       "2                                0.0   273.799988            73.099998   \n",
       "3                                0.0   273.799988            69.000000   \n",
       "4                                0.0   273.799988            64.500000   \n",
       "...                              ...          ...                  ...   \n",
       "2875                             0.1   285.399994            99.400002   \n",
       "2876                             0.1   285.299988           100.000000   \n",
       "2877                             0.1   285.299988           100.000000   \n",
       "2878                             0.1   285.200012           100.000000   \n",
       "2879                             0.2   285.200012           100.000000   \n",
       "\n",
       "      visibility:m  wind_speed_10m:ms  wind_speed_u_10m:ms  \\\n",
       "0     30210.699219                4.0                  2.2   \n",
       "1     30003.599609                4.0                  2.1   \n",
       "2     29797.099609                3.9                  2.1   \n",
       "3     29618.599609                3.9                  2.0   \n",
       "4     29507.500000                3.9                  2.0   \n",
       "...            ...                ...                  ...   \n",
       "2875  39931.601562                2.1                  1.7   \n",
       "2876  39574.300781                2.0                  1.6   \n",
       "2877  39627.199219                2.0                  1.6   \n",
       "2878  39691.800781                2.0                  1.6   \n",
       "2879  39768.800781                1.9                  1.6   \n",
       "\n",
       "      wind_speed_v_10m:ms  wind_speed_w_1000hPa:ms  \n",
       "0                     3.4                     -0.0  \n",
       "1                     3.4                     -0.0  \n",
       "2                     3.3                     -0.0  \n",
       "3                     3.3                     -0.0  \n",
       "4                     3.3                     -0.0  \n",
       "...                   ...                      ...  \n",
       "2875                 -1.3                      0.0  \n",
       "2876                 -1.3                      0.0  \n",
       "2877                 -1.2                      0.0  \n",
       "2878                 -1.1                      0.0  \n",
       "2879                 -1.1                      0.0  \n",
       "\n",
       "[2880 rows x 47 columns]"
      ]
     },
     "metadata": {},
     "output_type": "display_data"
    },
    {
     "data": {
      "text/plain": [
       "'A'"
      ]
     },
     "metadata": {},
     "output_type": "display_data"
    },
    {
     "data": {
      "text/plain": [
       "'train_est'"
      ]
     },
     "metadata": {},
     "output_type": "display_data"
    },
    {
     "data": {
      "text/html": [
       "<div>\n",
       "<style scoped>\n",
       "    .dataframe tbody tr th:only-of-type {\n",
       "        vertical-align: middle;\n",
       "    }\n",
       "\n",
       "    .dataframe tbody tr th {\n",
       "        vertical-align: top;\n",
       "    }\n",
       "\n",
       "    .dataframe thead th {\n",
       "        text-align: right;\n",
       "    }\n",
       "</style>\n",
       "<table border=\"1\" class=\"dataframe\">\n",
       "  <thead>\n",
       "    <tr style=\"text-align: right;\">\n",
       "      <th></th>\n",
       "      <th>date_calc</th>\n",
       "      <th>date_forecast</th>\n",
       "      <th>absolute_humidity_2m:gm3</th>\n",
       "      <th>air_density_2m:kgm3</th>\n",
       "      <th>ceiling_height_agl:m</th>\n",
       "      <th>clear_sky_energy_1h:J</th>\n",
       "      <th>clear_sky_rad:W</th>\n",
       "      <th>cloud_base_agl:m</th>\n",
       "      <th>dew_or_rime:idx</th>\n",
       "      <th>dew_point_2m:K</th>\n",
       "      <th>diffuse_rad:W</th>\n",
       "      <th>diffuse_rad_1h:J</th>\n",
       "      <th>direct_rad:W</th>\n",
       "      <th>direct_rad_1h:J</th>\n",
       "      <th>effective_cloud_cover:p</th>\n",
       "      <th>elevation:m</th>\n",
       "      <th>fresh_snow_12h:cm</th>\n",
       "      <th>fresh_snow_1h:cm</th>\n",
       "      <th>fresh_snow_24h:cm</th>\n",
       "      <th>fresh_snow_3h:cm</th>\n",
       "      <th>fresh_snow_6h:cm</th>\n",
       "      <th>is_day:idx</th>\n",
       "      <th>is_in_shadow:idx</th>\n",
       "      <th>msl_pressure:hPa</th>\n",
       "      <th>precip_5min:mm</th>\n",
       "      <th>precip_type_5min:idx</th>\n",
       "      <th>pressure_100m:hPa</th>\n",
       "      <th>pressure_50m:hPa</th>\n",
       "      <th>prob_rime:p</th>\n",
       "      <th>rain_water:kgm2</th>\n",
       "      <th>relative_humidity_1000hPa:p</th>\n",
       "      <th>sfc_pressure:hPa</th>\n",
       "      <th>snow_density:kgm3</th>\n",
       "      <th>snow_depth:cm</th>\n",
       "      <th>snow_drift:idx</th>\n",
       "      <th>snow_melt_10min:mm</th>\n",
       "      <th>snow_water:kgm2</th>\n",
       "      <th>sun_azimuth:d</th>\n",
       "      <th>sun_elevation:d</th>\n",
       "      <th>super_cooled_liquid_water:kgm2</th>\n",
       "      <th>t_1000hPa:K</th>\n",
       "      <th>total_cloud_cover:p</th>\n",
       "      <th>visibility:m</th>\n",
       "      <th>wind_speed_10m:ms</th>\n",
       "      <th>wind_speed_u_10m:ms</th>\n",
       "      <th>wind_speed_v_10m:ms</th>\n",
       "      <th>wind_speed_w_1000hPa:ms</th>\n",
       "    </tr>\n",
       "  </thead>\n",
       "  <tbody>\n",
       "    <tr>\n",
       "      <th>0</th>\n",
       "      <td>2022-10-27 07:00:18</td>\n",
       "      <td>2022-10-28 22:00:00</td>\n",
       "      <td>8.4</td>\n",
       "      <td>1.233</td>\n",
       "      <td>1425.099976</td>\n",
       "      <td>0.0</td>\n",
       "      <td>0.0</td>\n",
       "      <td>1211.699951</td>\n",
       "      <td>1.0</td>\n",
       "      <td>281.399994</td>\n",
       "      <td>0.0</td>\n",
       "      <td>0.0</td>\n",
       "      <td>0.0</td>\n",
       "      <td>0.0</td>\n",
       "      <td>100.000000</td>\n",
       "      <td>6.0</td>\n",
       "      <td>0.0</td>\n",
       "      <td>0.0</td>\n",
       "      <td>0.0</td>\n",
       "      <td>0.0</td>\n",
       "      <td>0.0</td>\n",
       "      <td>0.0</td>\n",
       "      <td>1.0</td>\n",
       "      <td>1001.099976</td>\n",
       "      <td>0.0</td>\n",
       "      <td>0.0</td>\n",
       "      <td>988.500000</td>\n",
       "      <td>994.500000</td>\n",
       "      <td>0.0</td>\n",
       "      <td>0.0</td>\n",
       "      <td>92.699997</td>\n",
       "      <td>1000.599976</td>\n",
       "      <td>NaN</td>\n",
       "      <td>0.0</td>\n",
       "      <td>0.0</td>\n",
       "      <td>-0.0</td>\n",
       "      <td>0.4</td>\n",
       "      <td>340.799011</td>\n",
       "      <td>-38.466999</td>\n",
       "      <td>0.0</td>\n",
       "      <td>284.700012</td>\n",
       "      <td>100.000000</td>\n",
       "      <td>29429.699219</td>\n",
       "      <td>0.8</td>\n",
       "      <td>-0.4</td>\n",
       "      <td>0.7</td>\n",
       "      <td>-0.0</td>\n",
       "    </tr>\n",
       "    <tr>\n",
       "      <th>1</th>\n",
       "      <td>2022-10-27 07:00:18</td>\n",
       "      <td>2022-10-28 22:15:00</td>\n",
       "      <td>8.4</td>\n",
       "      <td>1.233</td>\n",
       "      <td>2085.899902</td>\n",
       "      <td>0.0</td>\n",
       "      <td>0.0</td>\n",
       "      <td>1560.500000</td>\n",
       "      <td>1.0</td>\n",
       "      <td>281.299988</td>\n",
       "      <td>0.0</td>\n",
       "      <td>0.0</td>\n",
       "      <td>0.0</td>\n",
       "      <td>0.0</td>\n",
       "      <td>100.000000</td>\n",
       "      <td>6.0</td>\n",
       "      <td>0.0</td>\n",
       "      <td>0.0</td>\n",
       "      <td>0.0</td>\n",
       "      <td>0.0</td>\n",
       "      <td>0.0</td>\n",
       "      <td>0.0</td>\n",
       "      <td>1.0</td>\n",
       "      <td>1000.799988</td>\n",
       "      <td>0.0</td>\n",
       "      <td>0.0</td>\n",
       "      <td>988.200012</td>\n",
       "      <td>994.200012</td>\n",
       "      <td>0.0</td>\n",
       "      <td>0.1</td>\n",
       "      <td>92.699997</td>\n",
       "      <td>1000.299988</td>\n",
       "      <td>NaN</td>\n",
       "      <td>0.0</td>\n",
       "      <td>0.0</td>\n",
       "      <td>-0.0</td>\n",
       "      <td>0.4</td>\n",
       "      <td>345.451996</td>\n",
       "      <td>-38.955002</td>\n",
       "      <td>0.0</td>\n",
       "      <td>284.700012</td>\n",
       "      <td>100.000000</td>\n",
       "      <td>23604.099609</td>\n",
       "      <td>0.7</td>\n",
       "      <td>-0.4</td>\n",
       "      <td>0.7</td>\n",
       "      <td>-0.0</td>\n",
       "    </tr>\n",
       "    <tr>\n",
       "      <th>2</th>\n",
       "      <td>2022-10-27 07:00:18</td>\n",
       "      <td>2022-10-28 22:30:00</td>\n",
       "      <td>8.3</td>\n",
       "      <td>1.233</td>\n",
       "      <td>2746.600098</td>\n",
       "      <td>0.0</td>\n",
       "      <td>0.0</td>\n",
       "      <td>1909.400024</td>\n",
       "      <td>1.0</td>\n",
       "      <td>281.200012</td>\n",
       "      <td>0.0</td>\n",
       "      <td>0.0</td>\n",
       "      <td>0.0</td>\n",
       "      <td>0.0</td>\n",
       "      <td>100.000000</td>\n",
       "      <td>6.0</td>\n",
       "      <td>0.0</td>\n",
       "      <td>0.0</td>\n",
       "      <td>0.0</td>\n",
       "      <td>0.0</td>\n",
       "      <td>0.0</td>\n",
       "      <td>0.0</td>\n",
       "      <td>1.0</td>\n",
       "      <td>1000.400024</td>\n",
       "      <td>0.0</td>\n",
       "      <td>0.0</td>\n",
       "      <td>987.900024</td>\n",
       "      <td>993.900024</td>\n",
       "      <td>0.0</td>\n",
       "      <td>0.1</td>\n",
       "      <td>92.699997</td>\n",
       "      <td>1000.000000</td>\n",
       "      <td>NaN</td>\n",
       "      <td>0.0</td>\n",
       "      <td>0.0</td>\n",
       "      <td>-0.0</td>\n",
       "      <td>0.5</td>\n",
       "      <td>350.153015</td>\n",
       "      <td>-39.310001</td>\n",
       "      <td>0.0</td>\n",
       "      <td>284.700012</td>\n",
       "      <td>100.000000</td>\n",
       "      <td>17799.800781</td>\n",
       "      <td>0.7</td>\n",
       "      <td>-0.3</td>\n",
       "      <td>0.6</td>\n",
       "      <td>-0.0</td>\n",
       "    </tr>\n",
       "    <tr>\n",
       "      <th>3</th>\n",
       "      <td>2022-10-27 07:00:18</td>\n",
       "      <td>2022-10-28 22:45:00</td>\n",
       "      <td>8.3</td>\n",
       "      <td>1.233</td>\n",
       "      <td>3407.399902</td>\n",
       "      <td>0.0</td>\n",
       "      <td>0.0</td>\n",
       "      <td>2258.199951</td>\n",
       "      <td>1.0</td>\n",
       "      <td>281.200012</td>\n",
       "      <td>0.0</td>\n",
       "      <td>0.0</td>\n",
       "      <td>0.0</td>\n",
       "      <td>0.0</td>\n",
       "      <td>100.000000</td>\n",
       "      <td>6.0</td>\n",
       "      <td>0.0</td>\n",
       "      <td>0.0</td>\n",
       "      <td>0.0</td>\n",
       "      <td>0.0</td>\n",
       "      <td>0.0</td>\n",
       "      <td>0.0</td>\n",
       "      <td>1.0</td>\n",
       "      <td>1000.099976</td>\n",
       "      <td>0.0</td>\n",
       "      <td>0.0</td>\n",
       "      <td>987.599976</td>\n",
       "      <td>993.599976</td>\n",
       "      <td>0.0</td>\n",
       "      <td>0.1</td>\n",
       "      <td>92.599998</td>\n",
       "      <td>999.700012</td>\n",
       "      <td>NaN</td>\n",
       "      <td>0.0</td>\n",
       "      <td>0.0</td>\n",
       "      <td>-0.0</td>\n",
       "      <td>0.6</td>\n",
       "      <td>354.886993</td>\n",
       "      <td>-39.528999</td>\n",
       "      <td>0.0</td>\n",
       "      <td>284.600006</td>\n",
       "      <td>100.000000</td>\n",
       "      <td>12016.500000</td>\n",
       "      <td>0.6</td>\n",
       "      <td>-0.2</td>\n",
       "      <td>0.6</td>\n",
       "      <td>-0.0</td>\n",
       "    </tr>\n",
       "    <tr>\n",
       "      <th>4</th>\n",
       "      <td>2022-10-27 07:00:18</td>\n",
       "      <td>2022-10-28 23:00:00</td>\n",
       "      <td>8.2</td>\n",
       "      <td>1.233</td>\n",
       "      <td>4068.199951</td>\n",
       "      <td>0.0</td>\n",
       "      <td>0.0</td>\n",
       "      <td>2607.000000</td>\n",
       "      <td>1.0</td>\n",
       "      <td>281.100006</td>\n",
       "      <td>0.0</td>\n",
       "      <td>0.0</td>\n",
       "      <td>0.0</td>\n",
       "      <td>0.0</td>\n",
       "      <td>100.000000</td>\n",
       "      <td>6.0</td>\n",
       "      <td>0.0</td>\n",
       "      <td>0.0</td>\n",
       "      <td>0.0</td>\n",
       "      <td>0.0</td>\n",
       "      <td>0.0</td>\n",
       "      <td>0.0</td>\n",
       "      <td>1.0</td>\n",
       "      <td>999.799988</td>\n",
       "      <td>0.0</td>\n",
       "      <td>0.0</td>\n",
       "      <td>987.299988</td>\n",
       "      <td>993.299988</td>\n",
       "      <td>0.0</td>\n",
       "      <td>0.1</td>\n",
       "      <td>92.599998</td>\n",
       "      <td>999.299988</td>\n",
       "      <td>NaN</td>\n",
       "      <td>0.0</td>\n",
       "      <td>0.0</td>\n",
       "      <td>-0.0</td>\n",
       "      <td>0.6</td>\n",
       "      <td>359.638000</td>\n",
       "      <td>-39.609001</td>\n",
       "      <td>0.0</td>\n",
       "      <td>284.600006</td>\n",
       "      <td>100.000000</td>\n",
       "      <td>6254.399902</td>\n",
       "      <td>0.6</td>\n",
       "      <td>-0.1</td>\n",
       "      <td>0.6</td>\n",
       "      <td>-0.0</td>\n",
       "    </tr>\n",
       "    <tr>\n",
       "      <th>...</th>\n",
       "      <td>...</td>\n",
       "      <td>...</td>\n",
       "      <td>...</td>\n",
       "      <td>...</td>\n",
       "      <td>...</td>\n",
       "      <td>...</td>\n",
       "      <td>...</td>\n",
       "      <td>...</td>\n",
       "      <td>...</td>\n",
       "      <td>...</td>\n",
       "      <td>...</td>\n",
       "      <td>...</td>\n",
       "      <td>...</td>\n",
       "      <td>...</td>\n",
       "      <td>...</td>\n",
       "      <td>...</td>\n",
       "      <td>...</td>\n",
       "      <td>...</td>\n",
       "      <td>...</td>\n",
       "      <td>...</td>\n",
       "      <td>...</td>\n",
       "      <td>...</td>\n",
       "      <td>...</td>\n",
       "      <td>...</td>\n",
       "      <td>...</td>\n",
       "      <td>...</td>\n",
       "      <td>...</td>\n",
       "      <td>...</td>\n",
       "      <td>...</td>\n",
       "      <td>...</td>\n",
       "      <td>...</td>\n",
       "      <td>...</td>\n",
       "      <td>...</td>\n",
       "      <td>...</td>\n",
       "      <td>...</td>\n",
       "      <td>...</td>\n",
       "      <td>...</td>\n",
       "      <td>...</td>\n",
       "      <td>...</td>\n",
       "      <td>...</td>\n",
       "      <td>...</td>\n",
       "      <td>...</td>\n",
       "      <td>...</td>\n",
       "      <td>...</td>\n",
       "      <td>...</td>\n",
       "      <td>...</td>\n",
       "      <td>...</td>\n",
       "    </tr>\n",
       "    <tr>\n",
       "      <th>17571</th>\n",
       "      <td>2023-04-29 07:00:05</td>\n",
       "      <td>2023-04-30 22:45:00</td>\n",
       "      <td>4.5</td>\n",
       "      <td>1.281</td>\n",
       "      <td>1173.900024</td>\n",
       "      <td>0.0</td>\n",
       "      <td>0.0</td>\n",
       "      <td>536.500000</td>\n",
       "      <td>0.0</td>\n",
       "      <td>272.299988</td>\n",
       "      <td>0.0</td>\n",
       "      <td>0.0</td>\n",
       "      <td>0.0</td>\n",
       "      <td>0.0</td>\n",
       "      <td>99.599998</td>\n",
       "      <td>6.0</td>\n",
       "      <td>0.0</td>\n",
       "      <td>0.0</td>\n",
       "      <td>0.0</td>\n",
       "      <td>0.0</td>\n",
       "      <td>0.0</td>\n",
       "      <td>0.0</td>\n",
       "      <td>1.0</td>\n",
       "      <td>1014.299988</td>\n",
       "      <td>0.0</td>\n",
       "      <td>0.0</td>\n",
       "      <td>1001.099976</td>\n",
       "      <td>1007.400024</td>\n",
       "      <td>0.0</td>\n",
       "      <td>0.0</td>\n",
       "      <td>79.599998</td>\n",
       "      <td>1013.700012</td>\n",
       "      <td>NaN</td>\n",
       "      <td>0.0</td>\n",
       "      <td>0.0</td>\n",
       "      <td>-0.0</td>\n",
       "      <td>0.1</td>\n",
       "      <td>352.920013</td>\n",
       "      <td>-11.731000</td>\n",
       "      <td>0.1</td>\n",
       "      <td>274.200012</td>\n",
       "      <td>99.900002</td>\n",
       "      <td>11629.299805</td>\n",
       "      <td>3.9</td>\n",
       "      <td>2.9</td>\n",
       "      <td>2.5</td>\n",
       "      <td>-0.0</td>\n",
       "    </tr>\n",
       "    <tr>\n",
       "      <th>17572</th>\n",
       "      <td>2023-04-29 07:00:05</td>\n",
       "      <td>2023-04-30 23:00:00</td>\n",
       "      <td>4.5</td>\n",
       "      <td>1.281</td>\n",
       "      <td>1054.199951</td>\n",
       "      <td>0.0</td>\n",
       "      <td>0.0</td>\n",
       "      <td>542.400024</td>\n",
       "      <td>0.0</td>\n",
       "      <td>272.200012</td>\n",
       "      <td>0.0</td>\n",
       "      <td>0.0</td>\n",
       "      <td>0.0</td>\n",
       "      <td>0.0</td>\n",
       "      <td>100.000000</td>\n",
       "      <td>6.0</td>\n",
       "      <td>0.0</td>\n",
       "      <td>0.0</td>\n",
       "      <td>0.0</td>\n",
       "      <td>0.0</td>\n",
       "      <td>0.0</td>\n",
       "      <td>0.0</td>\n",
       "      <td>1.0</td>\n",
       "      <td>1014.299988</td>\n",
       "      <td>0.0</td>\n",
       "      <td>0.0</td>\n",
       "      <td>1001.099976</td>\n",
       "      <td>1007.299988</td>\n",
       "      <td>0.0</td>\n",
       "      <td>0.0</td>\n",
       "      <td>80.000000</td>\n",
       "      <td>1013.599976</td>\n",
       "      <td>NaN</td>\n",
       "      <td>0.0</td>\n",
       "      <td>0.0</td>\n",
       "      <td>-0.0</td>\n",
       "      <td>0.1</td>\n",
       "      <td>356.634003</td>\n",
       "      <td>-11.884000</td>\n",
       "      <td>0.1</td>\n",
       "      <td>274.200012</td>\n",
       "      <td>100.000000</td>\n",
       "      <td>9923.200195</td>\n",
       "      <td>3.7</td>\n",
       "      <td>2.8</td>\n",
       "      <td>2.4</td>\n",
       "      <td>-0.0</td>\n",
       "    </tr>\n",
       "    <tr>\n",
       "      <th>17573</th>\n",
       "      <td>2023-04-29 07:00:05</td>\n",
       "      <td>2023-04-30 23:15:00</td>\n",
       "      <td>4.5</td>\n",
       "      <td>1.281</td>\n",
       "      <td>1435.800049</td>\n",
       "      <td>0.0</td>\n",
       "      <td>0.0</td>\n",
       "      <td>531.799988</td>\n",
       "      <td>0.0</td>\n",
       "      <td>272.299988</td>\n",
       "      <td>0.0</td>\n",
       "      <td>0.0</td>\n",
       "      <td>0.0</td>\n",
       "      <td>0.0</td>\n",
       "      <td>99.400002</td>\n",
       "      <td>6.0</td>\n",
       "      <td>0.0</td>\n",
       "      <td>0.0</td>\n",
       "      <td>0.0</td>\n",
       "      <td>0.0</td>\n",
       "      <td>0.0</td>\n",
       "      <td>0.0</td>\n",
       "      <td>1.0</td>\n",
       "      <td>1014.099976</td>\n",
       "      <td>0.0</td>\n",
       "      <td>0.0</td>\n",
       "      <td>1000.900024</td>\n",
       "      <td>1007.200012</td>\n",
       "      <td>0.0</td>\n",
       "      <td>0.0</td>\n",
       "      <td>79.900002</td>\n",
       "      <td>1013.500000</td>\n",
       "      <td>NaN</td>\n",
       "      <td>0.0</td>\n",
       "      <td>0.0</td>\n",
       "      <td>-0.0</td>\n",
       "      <td>0.1</td>\n",
       "      <td>0.352000</td>\n",
       "      <td>-11.928000</td>\n",
       "      <td>0.1</td>\n",
       "      <td>274.200012</td>\n",
       "      <td>99.900002</td>\n",
       "      <td>11230.799805</td>\n",
       "      <td>3.7</td>\n",
       "      <td>2.7</td>\n",
       "      <td>2.5</td>\n",
       "      <td>-0.0</td>\n",
       "    </tr>\n",
       "    <tr>\n",
       "      <th>17574</th>\n",
       "      <td>2023-04-29 07:00:05</td>\n",
       "      <td>2023-04-30 23:30:00</td>\n",
       "      <td>4.5</td>\n",
       "      <td>1.281</td>\n",
       "      <td>1817.400024</td>\n",
       "      <td>0.0</td>\n",
       "      <td>0.0</td>\n",
       "      <td>521.200012</td>\n",
       "      <td>0.0</td>\n",
       "      <td>272.299988</td>\n",
       "      <td>0.0</td>\n",
       "      <td>0.0</td>\n",
       "      <td>0.0</td>\n",
       "      <td>0.0</td>\n",
       "      <td>98.099998</td>\n",
       "      <td>6.0</td>\n",
       "      <td>0.0</td>\n",
       "      <td>0.0</td>\n",
       "      <td>0.0</td>\n",
       "      <td>0.0</td>\n",
       "      <td>0.0</td>\n",
       "      <td>0.0</td>\n",
       "      <td>1.0</td>\n",
       "      <td>1014.000000</td>\n",
       "      <td>0.0</td>\n",
       "      <td>0.0</td>\n",
       "      <td>1000.799988</td>\n",
       "      <td>1007.000000</td>\n",
       "      <td>0.0</td>\n",
       "      <td>0.0</td>\n",
       "      <td>79.800003</td>\n",
       "      <td>1013.299988</td>\n",
       "      <td>NaN</td>\n",
       "      <td>0.0</td>\n",
       "      <td>0.0</td>\n",
       "      <td>-0.0</td>\n",
       "      <td>0.0</td>\n",
       "      <td>4.070000</td>\n",
       "      <td>-11.864000</td>\n",
       "      <td>0.1</td>\n",
       "      <td>274.200012</td>\n",
       "      <td>99.599998</td>\n",
       "      <td>12526.099609</td>\n",
       "      <td>3.8</td>\n",
       "      <td>2.7</td>\n",
       "      <td>2.6</td>\n",
       "      <td>-0.0</td>\n",
       "    </tr>\n",
       "    <tr>\n",
       "      <th>17575</th>\n",
       "      <td>2023-04-29 07:00:05</td>\n",
       "      <td>2023-04-30 23:45:00</td>\n",
       "      <td>4.5</td>\n",
       "      <td>1.281</td>\n",
       "      <td>2198.899902</td>\n",
       "      <td>0.0</td>\n",
       "      <td>0.0</td>\n",
       "      <td>510.700012</td>\n",
       "      <td>0.0</td>\n",
       "      <td>272.299988</td>\n",
       "      <td>0.0</td>\n",
       "      <td>0.0</td>\n",
       "      <td>0.0</td>\n",
       "      <td>0.0</td>\n",
       "      <td>96.199997</td>\n",
       "      <td>6.0</td>\n",
       "      <td>0.0</td>\n",
       "      <td>0.0</td>\n",
       "      <td>0.0</td>\n",
       "      <td>0.0</td>\n",
       "      <td>0.0</td>\n",
       "      <td>0.0</td>\n",
       "      <td>1.0</td>\n",
       "      <td>1013.799988</td>\n",
       "      <td>0.0</td>\n",
       "      <td>0.0</td>\n",
       "      <td>1000.700012</td>\n",
       "      <td>1006.900024</td>\n",
       "      <td>0.0</td>\n",
       "      <td>0.0</td>\n",
       "      <td>79.699997</td>\n",
       "      <td>1013.200012</td>\n",
       "      <td>NaN</td>\n",
       "      <td>0.0</td>\n",
       "      <td>0.0</td>\n",
       "      <td>-0.0</td>\n",
       "      <td>0.0</td>\n",
       "      <td>7.782000</td>\n",
       "      <td>-11.690000</td>\n",
       "      <td>0.0</td>\n",
       "      <td>274.299988</td>\n",
       "      <td>99.300003</td>\n",
       "      <td>13809.099609</td>\n",
       "      <td>3.8</td>\n",
       "      <td>2.7</td>\n",
       "      <td>2.7</td>\n",
       "      <td>-0.0</td>\n",
       "    </tr>\n",
       "  </tbody>\n",
       "</table>\n",
       "<p>17576 rows × 47 columns</p>\n",
       "</div>"
      ],
      "text/plain": [
       "                date_calc       date_forecast  absolute_humidity_2m:gm3  \\\n",
       "0     2022-10-27 07:00:18 2022-10-28 22:00:00                       8.4   \n",
       "1     2022-10-27 07:00:18 2022-10-28 22:15:00                       8.4   \n",
       "2     2022-10-27 07:00:18 2022-10-28 22:30:00                       8.3   \n",
       "3     2022-10-27 07:00:18 2022-10-28 22:45:00                       8.3   \n",
       "4     2022-10-27 07:00:18 2022-10-28 23:00:00                       8.2   \n",
       "...                   ...                 ...                       ...   \n",
       "17571 2023-04-29 07:00:05 2023-04-30 22:45:00                       4.5   \n",
       "17572 2023-04-29 07:00:05 2023-04-30 23:00:00                       4.5   \n",
       "17573 2023-04-29 07:00:05 2023-04-30 23:15:00                       4.5   \n",
       "17574 2023-04-29 07:00:05 2023-04-30 23:30:00                       4.5   \n",
       "17575 2023-04-29 07:00:05 2023-04-30 23:45:00                       4.5   \n",
       "\n",
       "       air_density_2m:kgm3  ceiling_height_agl:m  clear_sky_energy_1h:J  \\\n",
       "0                    1.233           1425.099976                    0.0   \n",
       "1                    1.233           2085.899902                    0.0   \n",
       "2                    1.233           2746.600098                    0.0   \n",
       "3                    1.233           3407.399902                    0.0   \n",
       "4                    1.233           4068.199951                    0.0   \n",
       "...                    ...                   ...                    ...   \n",
       "17571                1.281           1173.900024                    0.0   \n",
       "17572                1.281           1054.199951                    0.0   \n",
       "17573                1.281           1435.800049                    0.0   \n",
       "17574                1.281           1817.400024                    0.0   \n",
       "17575                1.281           2198.899902                    0.0   \n",
       "\n",
       "       clear_sky_rad:W  cloud_base_agl:m  dew_or_rime:idx  dew_point_2m:K  \\\n",
       "0                  0.0       1211.699951              1.0      281.399994   \n",
       "1                  0.0       1560.500000              1.0      281.299988   \n",
       "2                  0.0       1909.400024              1.0      281.200012   \n",
       "3                  0.0       2258.199951              1.0      281.200012   \n",
       "4                  0.0       2607.000000              1.0      281.100006   \n",
       "...                ...               ...              ...             ...   \n",
       "17571              0.0        536.500000              0.0      272.299988   \n",
       "17572              0.0        542.400024              0.0      272.200012   \n",
       "17573              0.0        531.799988              0.0      272.299988   \n",
       "17574              0.0        521.200012              0.0      272.299988   \n",
       "17575              0.0        510.700012              0.0      272.299988   \n",
       "\n",
       "       diffuse_rad:W  diffuse_rad_1h:J  direct_rad:W  direct_rad_1h:J  \\\n",
       "0                0.0               0.0           0.0              0.0   \n",
       "1                0.0               0.0           0.0              0.0   \n",
       "2                0.0               0.0           0.0              0.0   \n",
       "3                0.0               0.0           0.0              0.0   \n",
       "4                0.0               0.0           0.0              0.0   \n",
       "...              ...               ...           ...              ...   \n",
       "17571            0.0               0.0           0.0              0.0   \n",
       "17572            0.0               0.0           0.0              0.0   \n",
       "17573            0.0               0.0           0.0              0.0   \n",
       "17574            0.0               0.0           0.0              0.0   \n",
       "17575            0.0               0.0           0.0              0.0   \n",
       "\n",
       "       effective_cloud_cover:p  elevation:m  fresh_snow_12h:cm  \\\n",
       "0                   100.000000          6.0                0.0   \n",
       "1                   100.000000          6.0                0.0   \n",
       "2                   100.000000          6.0                0.0   \n",
       "3                   100.000000          6.0                0.0   \n",
       "4                   100.000000          6.0                0.0   \n",
       "...                        ...          ...                ...   \n",
       "17571                99.599998          6.0                0.0   \n",
       "17572               100.000000          6.0                0.0   \n",
       "17573                99.400002          6.0                0.0   \n",
       "17574                98.099998          6.0                0.0   \n",
       "17575                96.199997          6.0                0.0   \n",
       "\n",
       "       fresh_snow_1h:cm  fresh_snow_24h:cm  fresh_snow_3h:cm  \\\n",
       "0                   0.0                0.0               0.0   \n",
       "1                   0.0                0.0               0.0   \n",
       "2                   0.0                0.0               0.0   \n",
       "3                   0.0                0.0               0.0   \n",
       "4                   0.0                0.0               0.0   \n",
       "...                 ...                ...               ...   \n",
       "17571               0.0                0.0               0.0   \n",
       "17572               0.0                0.0               0.0   \n",
       "17573               0.0                0.0               0.0   \n",
       "17574               0.0                0.0               0.0   \n",
       "17575               0.0                0.0               0.0   \n",
       "\n",
       "       fresh_snow_6h:cm  is_day:idx  is_in_shadow:idx  msl_pressure:hPa  \\\n",
       "0                   0.0         0.0               1.0       1001.099976   \n",
       "1                   0.0         0.0               1.0       1000.799988   \n",
       "2                   0.0         0.0               1.0       1000.400024   \n",
       "3                   0.0         0.0               1.0       1000.099976   \n",
       "4                   0.0         0.0               1.0        999.799988   \n",
       "...                 ...         ...               ...               ...   \n",
       "17571               0.0         0.0               1.0       1014.299988   \n",
       "17572               0.0         0.0               1.0       1014.299988   \n",
       "17573               0.0         0.0               1.0       1014.099976   \n",
       "17574               0.0         0.0               1.0       1014.000000   \n",
       "17575               0.0         0.0               1.0       1013.799988   \n",
       "\n",
       "       precip_5min:mm  precip_type_5min:idx  pressure_100m:hPa  \\\n",
       "0                 0.0                   0.0         988.500000   \n",
       "1                 0.0                   0.0         988.200012   \n",
       "2                 0.0                   0.0         987.900024   \n",
       "3                 0.0                   0.0         987.599976   \n",
       "4                 0.0                   0.0         987.299988   \n",
       "...               ...                   ...                ...   \n",
       "17571             0.0                   0.0        1001.099976   \n",
       "17572             0.0                   0.0        1001.099976   \n",
       "17573             0.0                   0.0        1000.900024   \n",
       "17574             0.0                   0.0        1000.799988   \n",
       "17575             0.0                   0.0        1000.700012   \n",
       "\n",
       "       pressure_50m:hPa  prob_rime:p  rain_water:kgm2  \\\n",
       "0            994.500000          0.0              0.0   \n",
       "1            994.200012          0.0              0.1   \n",
       "2            993.900024          0.0              0.1   \n",
       "3            993.599976          0.0              0.1   \n",
       "4            993.299988          0.0              0.1   \n",
       "...                 ...          ...              ...   \n",
       "17571       1007.400024          0.0              0.0   \n",
       "17572       1007.299988          0.0              0.0   \n",
       "17573       1007.200012          0.0              0.0   \n",
       "17574       1007.000000          0.0              0.0   \n",
       "17575       1006.900024          0.0              0.0   \n",
       "\n",
       "       relative_humidity_1000hPa:p  sfc_pressure:hPa  snow_density:kgm3  \\\n",
       "0                        92.699997       1000.599976                NaN   \n",
       "1                        92.699997       1000.299988                NaN   \n",
       "2                        92.699997       1000.000000                NaN   \n",
       "3                        92.599998        999.700012                NaN   \n",
       "4                        92.599998        999.299988                NaN   \n",
       "...                            ...               ...                ...   \n",
       "17571                    79.599998       1013.700012                NaN   \n",
       "17572                    80.000000       1013.599976                NaN   \n",
       "17573                    79.900002       1013.500000                NaN   \n",
       "17574                    79.800003       1013.299988                NaN   \n",
       "17575                    79.699997       1013.200012                NaN   \n",
       "\n",
       "       snow_depth:cm  snow_drift:idx  snow_melt_10min:mm  snow_water:kgm2  \\\n",
       "0                0.0             0.0                -0.0              0.4   \n",
       "1                0.0             0.0                -0.0              0.4   \n",
       "2                0.0             0.0                -0.0              0.5   \n",
       "3                0.0             0.0                -0.0              0.6   \n",
       "4                0.0             0.0                -0.0              0.6   \n",
       "...              ...             ...                 ...              ...   \n",
       "17571            0.0             0.0                -0.0              0.1   \n",
       "17572            0.0             0.0                -0.0              0.1   \n",
       "17573            0.0             0.0                -0.0              0.1   \n",
       "17574            0.0             0.0                -0.0              0.0   \n",
       "17575            0.0             0.0                -0.0              0.0   \n",
       "\n",
       "       sun_azimuth:d  sun_elevation:d  super_cooled_liquid_water:kgm2  \\\n",
       "0         340.799011       -38.466999                             0.0   \n",
       "1         345.451996       -38.955002                             0.0   \n",
       "2         350.153015       -39.310001                             0.0   \n",
       "3         354.886993       -39.528999                             0.0   \n",
       "4         359.638000       -39.609001                             0.0   \n",
       "...              ...              ...                             ...   \n",
       "17571     352.920013       -11.731000                             0.1   \n",
       "17572     356.634003       -11.884000                             0.1   \n",
       "17573       0.352000       -11.928000                             0.1   \n",
       "17574       4.070000       -11.864000                             0.1   \n",
       "17575       7.782000       -11.690000                             0.0   \n",
       "\n",
       "       t_1000hPa:K  total_cloud_cover:p  visibility:m  wind_speed_10m:ms  \\\n",
       "0       284.700012           100.000000  29429.699219                0.8   \n",
       "1       284.700012           100.000000  23604.099609                0.7   \n",
       "2       284.700012           100.000000  17799.800781                0.7   \n",
       "3       284.600006           100.000000  12016.500000                0.6   \n",
       "4       284.600006           100.000000   6254.399902                0.6   \n",
       "...            ...                  ...           ...                ...   \n",
       "17571   274.200012            99.900002  11629.299805                3.9   \n",
       "17572   274.200012           100.000000   9923.200195                3.7   \n",
       "17573   274.200012            99.900002  11230.799805                3.7   \n",
       "17574   274.200012            99.599998  12526.099609                3.8   \n",
       "17575   274.299988            99.300003  13809.099609                3.8   \n",
       "\n",
       "       wind_speed_u_10m:ms  wind_speed_v_10m:ms  wind_speed_w_1000hPa:ms  \n",
       "0                     -0.4                  0.7                     -0.0  \n",
       "1                     -0.4                  0.7                     -0.0  \n",
       "2                     -0.3                  0.6                     -0.0  \n",
       "3                     -0.2                  0.6                     -0.0  \n",
       "4                     -0.1                  0.6                     -0.0  \n",
       "...                    ...                  ...                      ...  \n",
       "17571                  2.9                  2.5                     -0.0  \n",
       "17572                  2.8                  2.4                     -0.0  \n",
       "17573                  2.7                  2.5                     -0.0  \n",
       "17574                  2.7                  2.6                     -0.0  \n",
       "17575                  2.7                  2.7                     -0.0  \n",
       "\n",
       "[17576 rows x 47 columns]"
      ]
     },
     "metadata": {},
     "output_type": "display_data"
    },
    {
     "data": {
      "text/plain": [
       "'A'"
      ]
     },
     "metadata": {},
     "output_type": "display_data"
    },
    {
     "data": {
      "text/plain": [
       "'train_obs'"
      ]
     },
     "metadata": {},
     "output_type": "display_data"
    },
    {
     "data": {
      "text/html": [
       "<div>\n",
       "<style scoped>\n",
       "    .dataframe tbody tr th:only-of-type {\n",
       "        vertical-align: middle;\n",
       "    }\n",
       "\n",
       "    .dataframe tbody tr th {\n",
       "        vertical-align: top;\n",
       "    }\n",
       "\n",
       "    .dataframe thead th {\n",
       "        text-align: right;\n",
       "    }\n",
       "</style>\n",
       "<table border=\"1\" class=\"dataframe\">\n",
       "  <thead>\n",
       "    <tr style=\"text-align: right;\">\n",
       "      <th></th>\n",
       "      <th>date_forecast</th>\n",
       "      <th>absolute_humidity_2m:gm3</th>\n",
       "      <th>air_density_2m:kgm3</th>\n",
       "      <th>ceiling_height_agl:m</th>\n",
       "      <th>clear_sky_energy_1h:J</th>\n",
       "      <th>clear_sky_rad:W</th>\n",
       "      <th>cloud_base_agl:m</th>\n",
       "      <th>dew_or_rime:idx</th>\n",
       "      <th>dew_point_2m:K</th>\n",
       "      <th>diffuse_rad:W</th>\n",
       "      <th>diffuse_rad_1h:J</th>\n",
       "      <th>direct_rad:W</th>\n",
       "      <th>direct_rad_1h:J</th>\n",
       "      <th>effective_cloud_cover:p</th>\n",
       "      <th>elevation:m</th>\n",
       "      <th>fresh_snow_12h:cm</th>\n",
       "      <th>fresh_snow_1h:cm</th>\n",
       "      <th>fresh_snow_24h:cm</th>\n",
       "      <th>fresh_snow_3h:cm</th>\n",
       "      <th>fresh_snow_6h:cm</th>\n",
       "      <th>is_day:idx</th>\n",
       "      <th>is_in_shadow:idx</th>\n",
       "      <th>msl_pressure:hPa</th>\n",
       "      <th>precip_5min:mm</th>\n",
       "      <th>precip_type_5min:idx</th>\n",
       "      <th>pressure_100m:hPa</th>\n",
       "      <th>pressure_50m:hPa</th>\n",
       "      <th>prob_rime:p</th>\n",
       "      <th>rain_water:kgm2</th>\n",
       "      <th>relative_humidity_1000hPa:p</th>\n",
       "      <th>sfc_pressure:hPa</th>\n",
       "      <th>snow_density:kgm3</th>\n",
       "      <th>snow_depth:cm</th>\n",
       "      <th>snow_drift:idx</th>\n",
       "      <th>snow_melt_10min:mm</th>\n",
       "      <th>snow_water:kgm2</th>\n",
       "      <th>sun_azimuth:d</th>\n",
       "      <th>sun_elevation:d</th>\n",
       "      <th>super_cooled_liquid_water:kgm2</th>\n",
       "      <th>t_1000hPa:K</th>\n",
       "      <th>total_cloud_cover:p</th>\n",
       "      <th>visibility:m</th>\n",
       "      <th>wind_speed_10m:ms</th>\n",
       "      <th>wind_speed_u_10m:ms</th>\n",
       "      <th>wind_speed_v_10m:ms</th>\n",
       "      <th>wind_speed_w_1000hPa:ms</th>\n",
       "    </tr>\n",
       "  </thead>\n",
       "  <tbody>\n",
       "    <tr>\n",
       "      <th>0</th>\n",
       "      <td>2019-06-02 22:00:00</td>\n",
       "      <td>7.7</td>\n",
       "      <td>1.230</td>\n",
       "      <td>1744.900024</td>\n",
       "      <td>0.0</td>\n",
       "      <td>0.0</td>\n",
       "      <td>1744.900024</td>\n",
       "      <td>0.0</td>\n",
       "      <td>280.299988</td>\n",
       "      <td>0.0</td>\n",
       "      <td>0.0</td>\n",
       "      <td>0.0</td>\n",
       "      <td>0.0</td>\n",
       "      <td>98.699997</td>\n",
       "      <td>6.0</td>\n",
       "      <td>0.0</td>\n",
       "      <td>0.0</td>\n",
       "      <td>0.0</td>\n",
       "      <td>0.0</td>\n",
       "      <td>0.0</td>\n",
       "      <td>0.0</td>\n",
       "      <td>1.0</td>\n",
       "      <td>1006.799988</td>\n",
       "      <td>0.0</td>\n",
       "      <td>0.0</td>\n",
       "      <td>994.200012</td>\n",
       "      <td>1000.299988</td>\n",
       "      <td>0.0</td>\n",
       "      <td>0.0</td>\n",
       "      <td>73.099998</td>\n",
       "      <td>1006.299988</td>\n",
       "      <td>NaN</td>\n",
       "      <td>0.0</td>\n",
       "      <td>0.0</td>\n",
       "      <td>-0.0</td>\n",
       "      <td>0.1</td>\n",
       "      <td>342.834015</td>\n",
       "      <td>-3.202000</td>\n",
       "      <td>0.0</td>\n",
       "      <td>285.899994</td>\n",
       "      <td>100.0</td>\n",
       "      <td>39640.101562</td>\n",
       "      <td>3.7</td>\n",
       "      <td>-3.6</td>\n",
       "      <td>-0.8</td>\n",
       "      <td>-0.0</td>\n",
       "    </tr>\n",
       "    <tr>\n",
       "      <th>1</th>\n",
       "      <td>2019-06-02 22:15:00</td>\n",
       "      <td>7.7</td>\n",
       "      <td>1.229</td>\n",
       "      <td>1734.000000</td>\n",
       "      <td>0.0</td>\n",
       "      <td>0.0</td>\n",
       "      <td>1734.000000</td>\n",
       "      <td>0.0</td>\n",
       "      <td>280.299988</td>\n",
       "      <td>0.0</td>\n",
       "      <td>0.0</td>\n",
       "      <td>0.0</td>\n",
       "      <td>0.0</td>\n",
       "      <td>99.000000</td>\n",
       "      <td>6.0</td>\n",
       "      <td>0.0</td>\n",
       "      <td>0.0</td>\n",
       "      <td>0.0</td>\n",
       "      <td>0.0</td>\n",
       "      <td>0.0</td>\n",
       "      <td>0.0</td>\n",
       "      <td>1.0</td>\n",
       "      <td>1006.500000</td>\n",
       "      <td>0.0</td>\n",
       "      <td>0.0</td>\n",
       "      <td>993.900024</td>\n",
       "      <td>999.900024</td>\n",
       "      <td>0.0</td>\n",
       "      <td>0.0</td>\n",
       "      <td>72.199997</td>\n",
       "      <td>1006.000000</td>\n",
       "      <td>NaN</td>\n",
       "      <td>0.0</td>\n",
       "      <td>0.0</td>\n",
       "      <td>-0.0</td>\n",
       "      <td>0.2</td>\n",
       "      <td>346.294006</td>\n",
       "      <td>-3.650000</td>\n",
       "      <td>0.0</td>\n",
       "      <td>286.100006</td>\n",
       "      <td>100.0</td>\n",
       "      <td>40123.898438</td>\n",
       "      <td>3.6</td>\n",
       "      <td>-3.6</td>\n",
       "      <td>-0.6</td>\n",
       "      <td>-0.0</td>\n",
       "    </tr>\n",
       "    <tr>\n",
       "      <th>2</th>\n",
       "      <td>2019-06-02 22:30:00</td>\n",
       "      <td>7.7</td>\n",
       "      <td>1.228</td>\n",
       "      <td>1723.500000</td>\n",
       "      <td>0.0</td>\n",
       "      <td>0.0</td>\n",
       "      <td>1723.500000</td>\n",
       "      <td>0.0</td>\n",
       "      <td>280.299988</td>\n",
       "      <td>0.0</td>\n",
       "      <td>0.0</td>\n",
       "      <td>0.0</td>\n",
       "      <td>0.0</td>\n",
       "      <td>99.199997</td>\n",
       "      <td>6.0</td>\n",
       "      <td>0.0</td>\n",
       "      <td>0.0</td>\n",
       "      <td>0.0</td>\n",
       "      <td>0.0</td>\n",
       "      <td>0.0</td>\n",
       "      <td>0.0</td>\n",
       "      <td>1.0</td>\n",
       "      <td>1006.099976</td>\n",
       "      <td>0.0</td>\n",
       "      <td>0.0</td>\n",
       "      <td>993.599976</td>\n",
       "      <td>999.599976</td>\n",
       "      <td>0.0</td>\n",
       "      <td>0.0</td>\n",
       "      <td>71.199997</td>\n",
       "      <td>1005.599976</td>\n",
       "      <td>NaN</td>\n",
       "      <td>0.0</td>\n",
       "      <td>0.0</td>\n",
       "      <td>-0.0</td>\n",
       "      <td>0.2</td>\n",
       "      <td>349.768005</td>\n",
       "      <td>-3.998000</td>\n",
       "      <td>0.0</td>\n",
       "      <td>286.299988</td>\n",
       "      <td>100.0</td>\n",
       "      <td>40628.300781</td>\n",
       "      <td>3.6</td>\n",
       "      <td>-3.6</td>\n",
       "      <td>-0.4</td>\n",
       "      <td>-0.0</td>\n",
       "    </tr>\n",
       "    <tr>\n",
       "      <th>3</th>\n",
       "      <td>2019-06-02 22:45:00</td>\n",
       "      <td>7.7</td>\n",
       "      <td>1.226</td>\n",
       "      <td>1713.400024</td>\n",
       "      <td>0.0</td>\n",
       "      <td>0.0</td>\n",
       "      <td>1713.400024</td>\n",
       "      <td>0.0</td>\n",
       "      <td>280.299988</td>\n",
       "      <td>0.0</td>\n",
       "      <td>0.0</td>\n",
       "      <td>0.0</td>\n",
       "      <td>0.0</td>\n",
       "      <td>99.400002</td>\n",
       "      <td>6.0</td>\n",
       "      <td>0.0</td>\n",
       "      <td>0.0</td>\n",
       "      <td>0.0</td>\n",
       "      <td>0.0</td>\n",
       "      <td>0.0</td>\n",
       "      <td>0.0</td>\n",
       "      <td>1.0</td>\n",
       "      <td>1005.799988</td>\n",
       "      <td>0.0</td>\n",
       "      <td>0.0</td>\n",
       "      <td>993.299988</td>\n",
       "      <td>999.299988</td>\n",
       "      <td>0.0</td>\n",
       "      <td>0.0</td>\n",
       "      <td>70.199997</td>\n",
       "      <td>1005.299988</td>\n",
       "      <td>NaN</td>\n",
       "      <td>0.0</td>\n",
       "      <td>0.0</td>\n",
       "      <td>-0.0</td>\n",
       "      <td>0.2</td>\n",
       "      <td>353.251007</td>\n",
       "      <td>-4.247000</td>\n",
       "      <td>0.0</td>\n",
       "      <td>286.600006</td>\n",
       "      <td>100.0</td>\n",
       "      <td>41153.601562</td>\n",
       "      <td>3.5</td>\n",
       "      <td>-3.5</td>\n",
       "      <td>-0.2</td>\n",
       "      <td>-0.0</td>\n",
       "    </tr>\n",
       "    <tr>\n",
       "      <th>4</th>\n",
       "      <td>2019-06-02 23:00:00</td>\n",
       "      <td>7.7</td>\n",
       "      <td>1.225</td>\n",
       "      <td>1703.599976</td>\n",
       "      <td>0.0</td>\n",
       "      <td>0.0</td>\n",
       "      <td>1703.599976</td>\n",
       "      <td>0.0</td>\n",
       "      <td>280.299988</td>\n",
       "      <td>0.0</td>\n",
       "      <td>0.0</td>\n",
       "      <td>0.0</td>\n",
       "      <td>0.0</td>\n",
       "      <td>99.599998</td>\n",
       "      <td>6.0</td>\n",
       "      <td>0.0</td>\n",
       "      <td>0.0</td>\n",
       "      <td>0.0</td>\n",
       "      <td>0.0</td>\n",
       "      <td>0.0</td>\n",
       "      <td>0.0</td>\n",
       "      <td>1.0</td>\n",
       "      <td>1005.500000</td>\n",
       "      <td>0.0</td>\n",
       "      <td>0.0</td>\n",
       "      <td>993.000000</td>\n",
       "      <td>999.000000</td>\n",
       "      <td>0.0</td>\n",
       "      <td>0.0</td>\n",
       "      <td>69.199997</td>\n",
       "      <td>1005.000000</td>\n",
       "      <td>NaN</td>\n",
       "      <td>0.0</td>\n",
       "      <td>0.0</td>\n",
       "      <td>-0.0</td>\n",
       "      <td>0.2</td>\n",
       "      <td>356.742004</td>\n",
       "      <td>-4.393000</td>\n",
       "      <td>0.0</td>\n",
       "      <td>286.799988</td>\n",
       "      <td>100.0</td>\n",
       "      <td>41699.898438</td>\n",
       "      <td>3.5</td>\n",
       "      <td>-3.5</td>\n",
       "      <td>0.0</td>\n",
       "      <td>-0.0</td>\n",
       "    </tr>\n",
       "    <tr>\n",
       "      <th>...</th>\n",
       "      <td>...</td>\n",
       "      <td>...</td>\n",
       "      <td>...</td>\n",
       "      <td>...</td>\n",
       "      <td>...</td>\n",
       "      <td>...</td>\n",
       "      <td>...</td>\n",
       "      <td>...</td>\n",
       "      <td>...</td>\n",
       "      <td>...</td>\n",
       "      <td>...</td>\n",
       "      <td>...</td>\n",
       "      <td>...</td>\n",
       "      <td>...</td>\n",
       "      <td>...</td>\n",
       "      <td>...</td>\n",
       "      <td>...</td>\n",
       "      <td>...</td>\n",
       "      <td>...</td>\n",
       "      <td>...</td>\n",
       "      <td>...</td>\n",
       "      <td>...</td>\n",
       "      <td>...</td>\n",
       "      <td>...</td>\n",
       "      <td>...</td>\n",
       "      <td>...</td>\n",
       "      <td>...</td>\n",
       "      <td>...</td>\n",
       "      <td>...</td>\n",
       "      <td>...</td>\n",
       "      <td>...</td>\n",
       "      <td>...</td>\n",
       "      <td>...</td>\n",
       "      <td>...</td>\n",
       "      <td>...</td>\n",
       "      <td>...</td>\n",
       "      <td>...</td>\n",
       "      <td>...</td>\n",
       "      <td>...</td>\n",
       "      <td>...</td>\n",
       "      <td>...</td>\n",
       "      <td>...</td>\n",
       "      <td>...</td>\n",
       "      <td>...</td>\n",
       "      <td>...</td>\n",
       "      <td>...</td>\n",
       "    </tr>\n",
       "    <tr>\n",
       "      <th>118664</th>\n",
       "      <td>2022-10-21 00:00:00</td>\n",
       "      <td>5.0</td>\n",
       "      <td>1.292</td>\n",
       "      <td>NaN</td>\n",
       "      <td>0.0</td>\n",
       "      <td>0.0</td>\n",
       "      <td>NaN</td>\n",
       "      <td>0.0</td>\n",
       "      <td>273.700012</td>\n",
       "      <td>0.0</td>\n",
       "      <td>0.0</td>\n",
       "      <td>0.0</td>\n",
       "      <td>0.0</td>\n",
       "      <td>2.800000</td>\n",
       "      <td>6.0</td>\n",
       "      <td>0.0</td>\n",
       "      <td>0.0</td>\n",
       "      <td>0.0</td>\n",
       "      <td>0.0</td>\n",
       "      <td>0.0</td>\n",
       "      <td>0.0</td>\n",
       "      <td>1.0</td>\n",
       "      <td>1018.400024</td>\n",
       "      <td>0.0</td>\n",
       "      <td>0.0</td>\n",
       "      <td>1005.500000</td>\n",
       "      <td>1011.799988</td>\n",
       "      <td>0.0</td>\n",
       "      <td>0.0</td>\n",
       "      <td>82.699997</td>\n",
       "      <td>1018.099976</td>\n",
       "      <td>NaN</td>\n",
       "      <td>0.0</td>\n",
       "      <td>0.0</td>\n",
       "      <td>-0.0</td>\n",
       "      <td>0.0</td>\n",
       "      <td>16.612000</td>\n",
       "      <td>-36.306000</td>\n",
       "      <td>0.0</td>\n",
       "      <td>276.899994</td>\n",
       "      <td>2.8</td>\n",
       "      <td>25791.000000</td>\n",
       "      <td>1.3</td>\n",
       "      <td>-0.4</td>\n",
       "      <td>1.2</td>\n",
       "      <td>-0.0</td>\n",
       "    </tr>\n",
       "    <tr>\n",
       "      <th>118665</th>\n",
       "      <td>2022-10-21 00:15:00</td>\n",
       "      <td>5.0</td>\n",
       "      <td>1.292</td>\n",
       "      <td>NaN</td>\n",
       "      <td>0.0</td>\n",
       "      <td>0.0</td>\n",
       "      <td>NaN</td>\n",
       "      <td>0.0</td>\n",
       "      <td>273.700012</td>\n",
       "      <td>0.0</td>\n",
       "      <td>0.0</td>\n",
       "      <td>0.0</td>\n",
       "      <td>0.0</td>\n",
       "      <td>2.300000</td>\n",
       "      <td>6.0</td>\n",
       "      <td>0.0</td>\n",
       "      <td>0.0</td>\n",
       "      <td>0.0</td>\n",
       "      <td>0.0</td>\n",
       "      <td>0.0</td>\n",
       "      <td>0.0</td>\n",
       "      <td>1.0</td>\n",
       "      <td>1018.299988</td>\n",
       "      <td>0.0</td>\n",
       "      <td>0.0</td>\n",
       "      <td>1005.400024</td>\n",
       "      <td>1011.700012</td>\n",
       "      <td>0.0</td>\n",
       "      <td>0.0</td>\n",
       "      <td>83.099998</td>\n",
       "      <td>1018.000000</td>\n",
       "      <td>NaN</td>\n",
       "      <td>0.0</td>\n",
       "      <td>0.0</td>\n",
       "      <td>-0.0</td>\n",
       "      <td>0.0</td>\n",
       "      <td>21.132999</td>\n",
       "      <td>-35.762001</td>\n",
       "      <td>0.0</td>\n",
       "      <td>276.799988</td>\n",
       "      <td>2.3</td>\n",
       "      <td>28560.599609</td>\n",
       "      <td>1.4</td>\n",
       "      <td>-0.6</td>\n",
       "      <td>1.2</td>\n",
       "      <td>-0.0</td>\n",
       "    </tr>\n",
       "    <tr>\n",
       "      <th>118666</th>\n",
       "      <td>2022-10-21 00:30:00</td>\n",
       "      <td>5.0</td>\n",
       "      <td>1.292</td>\n",
       "      <td>NaN</td>\n",
       "      <td>0.0</td>\n",
       "      <td>0.0</td>\n",
       "      <td>NaN</td>\n",
       "      <td>0.0</td>\n",
       "      <td>273.700012</td>\n",
       "      <td>0.0</td>\n",
       "      <td>0.0</td>\n",
       "      <td>0.0</td>\n",
       "      <td>0.0</td>\n",
       "      <td>1.700000</td>\n",
       "      <td>6.0</td>\n",
       "      <td>0.0</td>\n",
       "      <td>0.0</td>\n",
       "      <td>0.0</td>\n",
       "      <td>0.0</td>\n",
       "      <td>0.0</td>\n",
       "      <td>0.0</td>\n",
       "      <td>1.0</td>\n",
       "      <td>1018.200012</td>\n",
       "      <td>0.0</td>\n",
       "      <td>0.0</td>\n",
       "      <td>1005.299988</td>\n",
       "      <td>1011.599976</td>\n",
       "      <td>0.0</td>\n",
       "      <td>0.0</td>\n",
       "      <td>83.400002</td>\n",
       "      <td>1017.900024</td>\n",
       "      <td>NaN</td>\n",
       "      <td>0.0</td>\n",
       "      <td>0.0</td>\n",
       "      <td>-0.0</td>\n",
       "      <td>0.0</td>\n",
       "      <td>25.594000</td>\n",
       "      <td>-35.095001</td>\n",
       "      <td>0.0</td>\n",
       "      <td>276.600006</td>\n",
       "      <td>1.7</td>\n",
       "      <td>31317.800781</td>\n",
       "      <td>1.4</td>\n",
       "      <td>-0.8</td>\n",
       "      <td>1.2</td>\n",
       "      <td>-0.0</td>\n",
       "    </tr>\n",
       "    <tr>\n",
       "      <th>118667</th>\n",
       "      <td>2022-10-21 00:45:00</td>\n",
       "      <td>5.0</td>\n",
       "      <td>1.292</td>\n",
       "      <td>NaN</td>\n",
       "      <td>0.0</td>\n",
       "      <td>0.0</td>\n",
       "      <td>NaN</td>\n",
       "      <td>0.0</td>\n",
       "      <td>273.600006</td>\n",
       "      <td>0.0</td>\n",
       "      <td>0.0</td>\n",
       "      <td>0.0</td>\n",
       "      <td>0.0</td>\n",
       "      <td>1.100000</td>\n",
       "      <td>6.0</td>\n",
       "      <td>0.0</td>\n",
       "      <td>0.0</td>\n",
       "      <td>0.0</td>\n",
       "      <td>0.0</td>\n",
       "      <td>0.0</td>\n",
       "      <td>0.0</td>\n",
       "      <td>1.0</td>\n",
       "      <td>1018.000000</td>\n",
       "      <td>0.0</td>\n",
       "      <td>0.0</td>\n",
       "      <td>1005.099976</td>\n",
       "      <td>1011.400024</td>\n",
       "      <td>0.0</td>\n",
       "      <td>0.0</td>\n",
       "      <td>83.800003</td>\n",
       "      <td>1017.700012</td>\n",
       "      <td>NaN</td>\n",
       "      <td>0.0</td>\n",
       "      <td>0.0</td>\n",
       "      <td>-0.0</td>\n",
       "      <td>0.0</td>\n",
       "      <td>29.988001</td>\n",
       "      <td>-34.311001</td>\n",
       "      <td>0.0</td>\n",
       "      <td>276.500000</td>\n",
       "      <td>1.1</td>\n",
       "      <td>34062.601562</td>\n",
       "      <td>1.5</td>\n",
       "      <td>-1.0</td>\n",
       "      <td>1.1</td>\n",
       "      <td>-0.0</td>\n",
       "    </tr>\n",
       "    <tr>\n",
       "      <th>118668</th>\n",
       "      <td>2022-10-21 01:00:00</td>\n",
       "      <td>5.0</td>\n",
       "      <td>1.292</td>\n",
       "      <td>NaN</td>\n",
       "      <td>0.0</td>\n",
       "      <td>0.0</td>\n",
       "      <td>NaN</td>\n",
       "      <td>0.0</td>\n",
       "      <td>273.600006</td>\n",
       "      <td>0.0</td>\n",
       "      <td>0.0</td>\n",
       "      <td>0.0</td>\n",
       "      <td>0.0</td>\n",
       "      <td>0.500000</td>\n",
       "      <td>6.0</td>\n",
       "      <td>0.0</td>\n",
       "      <td>0.0</td>\n",
       "      <td>0.0</td>\n",
       "      <td>0.0</td>\n",
       "      <td>0.0</td>\n",
       "      <td>0.0</td>\n",
       "      <td>1.0</td>\n",
       "      <td>1017.900024</td>\n",
       "      <td>0.0</td>\n",
       "      <td>0.0</td>\n",
       "      <td>1005.000000</td>\n",
       "      <td>1011.299988</td>\n",
       "      <td>0.0</td>\n",
       "      <td>0.0</td>\n",
       "      <td>84.099998</td>\n",
       "      <td>1017.599976</td>\n",
       "      <td>NaN</td>\n",
       "      <td>0.0</td>\n",
       "      <td>0.0</td>\n",
       "      <td>-0.0</td>\n",
       "      <td>0.0</td>\n",
       "      <td>34.306999</td>\n",
       "      <td>-33.417000</td>\n",
       "      <td>0.0</td>\n",
       "      <td>276.399994</td>\n",
       "      <td>0.5</td>\n",
       "      <td>36795.000000</td>\n",
       "      <td>1.5</td>\n",
       "      <td>-1.1</td>\n",
       "      <td>1.0</td>\n",
       "      <td>-0.0</td>\n",
       "    </tr>\n",
       "  </tbody>\n",
       "</table>\n",
       "<p>118669 rows × 46 columns</p>\n",
       "</div>"
      ],
      "text/plain": [
       "             date_forecast  absolute_humidity_2m:gm3  air_density_2m:kgm3  \\\n",
       "0      2019-06-02 22:00:00                       7.7                1.230   \n",
       "1      2019-06-02 22:15:00                       7.7                1.229   \n",
       "2      2019-06-02 22:30:00                       7.7                1.228   \n",
       "3      2019-06-02 22:45:00                       7.7                1.226   \n",
       "4      2019-06-02 23:00:00                       7.7                1.225   \n",
       "...                    ...                       ...                  ...   \n",
       "118664 2022-10-21 00:00:00                       5.0                1.292   \n",
       "118665 2022-10-21 00:15:00                       5.0                1.292   \n",
       "118666 2022-10-21 00:30:00                       5.0                1.292   \n",
       "118667 2022-10-21 00:45:00                       5.0                1.292   \n",
       "118668 2022-10-21 01:00:00                       5.0                1.292   \n",
       "\n",
       "        ceiling_height_agl:m  clear_sky_energy_1h:J  clear_sky_rad:W  \\\n",
       "0                1744.900024                    0.0              0.0   \n",
       "1                1734.000000                    0.0              0.0   \n",
       "2                1723.500000                    0.0              0.0   \n",
       "3                1713.400024                    0.0              0.0   \n",
       "4                1703.599976                    0.0              0.0   \n",
       "...                      ...                    ...              ...   \n",
       "118664                   NaN                    0.0              0.0   \n",
       "118665                   NaN                    0.0              0.0   \n",
       "118666                   NaN                    0.0              0.0   \n",
       "118667                   NaN                    0.0              0.0   \n",
       "118668                   NaN                    0.0              0.0   \n",
       "\n",
       "        cloud_base_agl:m  dew_or_rime:idx  dew_point_2m:K  diffuse_rad:W  \\\n",
       "0            1744.900024              0.0      280.299988            0.0   \n",
       "1            1734.000000              0.0      280.299988            0.0   \n",
       "2            1723.500000              0.0      280.299988            0.0   \n",
       "3            1713.400024              0.0      280.299988            0.0   \n",
       "4            1703.599976              0.0      280.299988            0.0   \n",
       "...                  ...              ...             ...            ...   \n",
       "118664               NaN              0.0      273.700012            0.0   \n",
       "118665               NaN              0.0      273.700012            0.0   \n",
       "118666               NaN              0.0      273.700012            0.0   \n",
       "118667               NaN              0.0      273.600006            0.0   \n",
       "118668               NaN              0.0      273.600006            0.0   \n",
       "\n",
       "        diffuse_rad_1h:J  direct_rad:W  direct_rad_1h:J  \\\n",
       "0                    0.0           0.0              0.0   \n",
       "1                    0.0           0.0              0.0   \n",
       "2                    0.0           0.0              0.0   \n",
       "3                    0.0           0.0              0.0   \n",
       "4                    0.0           0.0              0.0   \n",
       "...                  ...           ...              ...   \n",
       "118664               0.0           0.0              0.0   \n",
       "118665               0.0           0.0              0.0   \n",
       "118666               0.0           0.0              0.0   \n",
       "118667               0.0           0.0              0.0   \n",
       "118668               0.0           0.0              0.0   \n",
       "\n",
       "        effective_cloud_cover:p  elevation:m  fresh_snow_12h:cm  \\\n",
       "0                     98.699997          6.0                0.0   \n",
       "1                     99.000000          6.0                0.0   \n",
       "2                     99.199997          6.0                0.0   \n",
       "3                     99.400002          6.0                0.0   \n",
       "4                     99.599998          6.0                0.0   \n",
       "...                         ...          ...                ...   \n",
       "118664                 2.800000          6.0                0.0   \n",
       "118665                 2.300000          6.0                0.0   \n",
       "118666                 1.700000          6.0                0.0   \n",
       "118667                 1.100000          6.0                0.0   \n",
       "118668                 0.500000          6.0                0.0   \n",
       "\n",
       "        fresh_snow_1h:cm  fresh_snow_24h:cm  fresh_snow_3h:cm  \\\n",
       "0                    0.0                0.0               0.0   \n",
       "1                    0.0                0.0               0.0   \n",
       "2                    0.0                0.0               0.0   \n",
       "3                    0.0                0.0               0.0   \n",
       "4                    0.0                0.0               0.0   \n",
       "...                  ...                ...               ...   \n",
       "118664               0.0                0.0               0.0   \n",
       "118665               0.0                0.0               0.0   \n",
       "118666               0.0                0.0               0.0   \n",
       "118667               0.0                0.0               0.0   \n",
       "118668               0.0                0.0               0.0   \n",
       "\n",
       "        fresh_snow_6h:cm  is_day:idx  is_in_shadow:idx  msl_pressure:hPa  \\\n",
       "0                    0.0         0.0               1.0       1006.799988   \n",
       "1                    0.0         0.0               1.0       1006.500000   \n",
       "2                    0.0         0.0               1.0       1006.099976   \n",
       "3                    0.0         0.0               1.0       1005.799988   \n",
       "4                    0.0         0.0               1.0       1005.500000   \n",
       "...                  ...         ...               ...               ...   \n",
       "118664               0.0         0.0               1.0       1018.400024   \n",
       "118665               0.0         0.0               1.0       1018.299988   \n",
       "118666               0.0         0.0               1.0       1018.200012   \n",
       "118667               0.0         0.0               1.0       1018.000000   \n",
       "118668               0.0         0.0               1.0       1017.900024   \n",
       "\n",
       "        precip_5min:mm  precip_type_5min:idx  pressure_100m:hPa  \\\n",
       "0                  0.0                   0.0         994.200012   \n",
       "1                  0.0                   0.0         993.900024   \n",
       "2                  0.0                   0.0         993.599976   \n",
       "3                  0.0                   0.0         993.299988   \n",
       "4                  0.0                   0.0         993.000000   \n",
       "...                ...                   ...                ...   \n",
       "118664             0.0                   0.0        1005.500000   \n",
       "118665             0.0                   0.0        1005.400024   \n",
       "118666             0.0                   0.0        1005.299988   \n",
       "118667             0.0                   0.0        1005.099976   \n",
       "118668             0.0                   0.0        1005.000000   \n",
       "\n",
       "        pressure_50m:hPa  prob_rime:p  rain_water:kgm2  \\\n",
       "0            1000.299988          0.0              0.0   \n",
       "1             999.900024          0.0              0.0   \n",
       "2             999.599976          0.0              0.0   \n",
       "3             999.299988          0.0              0.0   \n",
       "4             999.000000          0.0              0.0   \n",
       "...                  ...          ...              ...   \n",
       "118664       1011.799988          0.0              0.0   \n",
       "118665       1011.700012          0.0              0.0   \n",
       "118666       1011.599976          0.0              0.0   \n",
       "118667       1011.400024          0.0              0.0   \n",
       "118668       1011.299988          0.0              0.0   \n",
       "\n",
       "        relative_humidity_1000hPa:p  sfc_pressure:hPa  snow_density:kgm3  \\\n",
       "0                         73.099998       1006.299988                NaN   \n",
       "1                         72.199997       1006.000000                NaN   \n",
       "2                         71.199997       1005.599976                NaN   \n",
       "3                         70.199997       1005.299988                NaN   \n",
       "4                         69.199997       1005.000000                NaN   \n",
       "...                             ...               ...                ...   \n",
       "118664                    82.699997       1018.099976                NaN   \n",
       "118665                    83.099998       1018.000000                NaN   \n",
       "118666                    83.400002       1017.900024                NaN   \n",
       "118667                    83.800003       1017.700012                NaN   \n",
       "118668                    84.099998       1017.599976                NaN   \n",
       "\n",
       "        snow_depth:cm  snow_drift:idx  snow_melt_10min:mm  snow_water:kgm2  \\\n",
       "0                 0.0             0.0                -0.0              0.1   \n",
       "1                 0.0             0.0                -0.0              0.2   \n",
       "2                 0.0             0.0                -0.0              0.2   \n",
       "3                 0.0             0.0                -0.0              0.2   \n",
       "4                 0.0             0.0                -0.0              0.2   \n",
       "...               ...             ...                 ...              ...   \n",
       "118664            0.0             0.0                -0.0              0.0   \n",
       "118665            0.0             0.0                -0.0              0.0   \n",
       "118666            0.0             0.0                -0.0              0.0   \n",
       "118667            0.0             0.0                -0.0              0.0   \n",
       "118668            0.0             0.0                -0.0              0.0   \n",
       "\n",
       "        sun_azimuth:d  sun_elevation:d  super_cooled_liquid_water:kgm2  \\\n",
       "0          342.834015        -3.202000                             0.0   \n",
       "1          346.294006        -3.650000                             0.0   \n",
       "2          349.768005        -3.998000                             0.0   \n",
       "3          353.251007        -4.247000                             0.0   \n",
       "4          356.742004        -4.393000                             0.0   \n",
       "...               ...              ...                             ...   \n",
       "118664      16.612000       -36.306000                             0.0   \n",
       "118665      21.132999       -35.762001                             0.0   \n",
       "118666      25.594000       -35.095001                             0.0   \n",
       "118667      29.988001       -34.311001                             0.0   \n",
       "118668      34.306999       -33.417000                             0.0   \n",
       "\n",
       "        t_1000hPa:K  total_cloud_cover:p  visibility:m  wind_speed_10m:ms  \\\n",
       "0        285.899994                100.0  39640.101562                3.7   \n",
       "1        286.100006                100.0  40123.898438                3.6   \n",
       "2        286.299988                100.0  40628.300781                3.6   \n",
       "3        286.600006                100.0  41153.601562                3.5   \n",
       "4        286.799988                100.0  41699.898438                3.5   \n",
       "...             ...                  ...           ...                ...   \n",
       "118664   276.899994                  2.8  25791.000000                1.3   \n",
       "118665   276.799988                  2.3  28560.599609                1.4   \n",
       "118666   276.600006                  1.7  31317.800781                1.4   \n",
       "118667   276.500000                  1.1  34062.601562                1.5   \n",
       "118668   276.399994                  0.5  36795.000000                1.5   \n",
       "\n",
       "        wind_speed_u_10m:ms  wind_speed_v_10m:ms  wind_speed_w_1000hPa:ms  \n",
       "0                      -3.6                 -0.8                     -0.0  \n",
       "1                      -3.6                 -0.6                     -0.0  \n",
       "2                      -3.6                 -0.4                     -0.0  \n",
       "3                      -3.5                 -0.2                     -0.0  \n",
       "4                      -3.5                  0.0                     -0.0  \n",
       "...                     ...                  ...                      ...  \n",
       "118664                 -0.4                  1.2                     -0.0  \n",
       "118665                 -0.6                  1.2                     -0.0  \n",
       "118666                 -0.8                  1.2                     -0.0  \n",
       "118667                 -1.0                  1.1                     -0.0  \n",
       "118668                 -1.1                  1.0                     -0.0  \n",
       "\n",
       "[118669 rows x 46 columns]"
      ]
     },
     "metadata": {},
     "output_type": "display_data"
    },
    {
     "data": {
      "text/plain": [
       "'A'"
      ]
     },
     "metadata": {},
     "output_type": "display_data"
    },
    {
     "data": {
      "text/plain": [
       "'train_tar'"
      ]
     },
     "metadata": {},
     "output_type": "display_data"
    },
    {
     "data": {
      "text/html": [
       "<div>\n",
       "<style scoped>\n",
       "    .dataframe tbody tr th:only-of-type {\n",
       "        vertical-align: middle;\n",
       "    }\n",
       "\n",
       "    .dataframe tbody tr th {\n",
       "        vertical-align: top;\n",
       "    }\n",
       "\n",
       "    .dataframe thead th {\n",
       "        text-align: right;\n",
       "    }\n",
       "</style>\n",
       "<table border=\"1\" class=\"dataframe\">\n",
       "  <thead>\n",
       "    <tr style=\"text-align: right;\">\n",
       "      <th></th>\n",
       "      <th>time</th>\n",
       "      <th>pv_measurement</th>\n",
       "    </tr>\n",
       "  </thead>\n",
       "  <tbody>\n",
       "    <tr>\n",
       "      <th>0</th>\n",
       "      <td>2019-06-02 22:00:00</td>\n",
       "      <td>0.00</td>\n",
       "    </tr>\n",
       "    <tr>\n",
       "      <th>1</th>\n",
       "      <td>2019-06-02 23:00:00</td>\n",
       "      <td>0.00</td>\n",
       "    </tr>\n",
       "    <tr>\n",
       "      <th>2</th>\n",
       "      <td>2019-06-03 00:00:00</td>\n",
       "      <td>0.00</td>\n",
       "    </tr>\n",
       "    <tr>\n",
       "      <th>3</th>\n",
       "      <td>2019-06-03 01:00:00</td>\n",
       "      <td>0.00</td>\n",
       "    </tr>\n",
       "    <tr>\n",
       "      <th>4</th>\n",
       "      <td>2019-06-03 02:00:00</td>\n",
       "      <td>19.36</td>\n",
       "    </tr>\n",
       "    <tr>\n",
       "      <th>...</th>\n",
       "      <td>...</td>\n",
       "      <td>...</td>\n",
       "    </tr>\n",
       "    <tr>\n",
       "      <th>34080</th>\n",
       "      <td>2023-04-30 19:00:00</td>\n",
       "      <td>9.02</td>\n",
       "    </tr>\n",
       "    <tr>\n",
       "      <th>34081</th>\n",
       "      <td>2023-04-30 20:00:00</td>\n",
       "      <td>0.00</td>\n",
       "    </tr>\n",
       "    <tr>\n",
       "      <th>34082</th>\n",
       "      <td>2023-04-30 21:00:00</td>\n",
       "      <td>0.00</td>\n",
       "    </tr>\n",
       "    <tr>\n",
       "      <th>34083</th>\n",
       "      <td>2023-04-30 22:00:00</td>\n",
       "      <td>0.00</td>\n",
       "    </tr>\n",
       "    <tr>\n",
       "      <th>34084</th>\n",
       "      <td>2023-04-30 23:00:00</td>\n",
       "      <td>0.00</td>\n",
       "    </tr>\n",
       "  </tbody>\n",
       "</table>\n",
       "<p>34085 rows × 2 columns</p>\n",
       "</div>"
      ],
      "text/plain": [
       "                     time  pv_measurement\n",
       "0     2019-06-02 22:00:00            0.00\n",
       "1     2019-06-02 23:00:00            0.00\n",
       "2     2019-06-03 00:00:00            0.00\n",
       "3     2019-06-03 01:00:00            0.00\n",
       "4     2019-06-03 02:00:00           19.36\n",
       "...                   ...             ...\n",
       "34080 2023-04-30 19:00:00            9.02\n",
       "34081 2023-04-30 20:00:00            0.00\n",
       "34082 2023-04-30 21:00:00            0.00\n",
       "34083 2023-04-30 22:00:00            0.00\n",
       "34084 2023-04-30 23:00:00            0.00\n",
       "\n",
       "[34085 rows x 2 columns]"
      ]
     },
     "metadata": {},
     "output_type": "display_data"
    },
    {
     "data": {
      "text/plain": [
       "'B'"
      ]
     },
     "metadata": {},
     "output_type": "display_data"
    },
    {
     "data": {
      "text/plain": [
       "'test_est'"
      ]
     },
     "metadata": {},
     "output_type": "display_data"
    },
    {
     "data": {
      "text/html": [
       "<div>\n",
       "<style scoped>\n",
       "    .dataframe tbody tr th:only-of-type {\n",
       "        vertical-align: middle;\n",
       "    }\n",
       "\n",
       "    .dataframe tbody tr th {\n",
       "        vertical-align: top;\n",
       "    }\n",
       "\n",
       "    .dataframe thead th {\n",
       "        text-align: right;\n",
       "    }\n",
       "</style>\n",
       "<table border=\"1\" class=\"dataframe\">\n",
       "  <thead>\n",
       "    <tr style=\"text-align: right;\">\n",
       "      <th></th>\n",
       "      <th>date_calc</th>\n",
       "      <th>date_forecast</th>\n",
       "      <th>absolute_humidity_2m:gm3</th>\n",
       "      <th>air_density_2m:kgm3</th>\n",
       "      <th>ceiling_height_agl:m</th>\n",
       "      <th>clear_sky_energy_1h:J</th>\n",
       "      <th>clear_sky_rad:W</th>\n",
       "      <th>cloud_base_agl:m</th>\n",
       "      <th>dew_or_rime:idx</th>\n",
       "      <th>dew_point_2m:K</th>\n",
       "      <th>diffuse_rad:W</th>\n",
       "      <th>diffuse_rad_1h:J</th>\n",
       "      <th>direct_rad:W</th>\n",
       "      <th>direct_rad_1h:J</th>\n",
       "      <th>effective_cloud_cover:p</th>\n",
       "      <th>elevation:m</th>\n",
       "      <th>fresh_snow_12h:cm</th>\n",
       "      <th>fresh_snow_1h:cm</th>\n",
       "      <th>fresh_snow_24h:cm</th>\n",
       "      <th>fresh_snow_3h:cm</th>\n",
       "      <th>fresh_snow_6h:cm</th>\n",
       "      <th>is_day:idx</th>\n",
       "      <th>is_in_shadow:idx</th>\n",
       "      <th>msl_pressure:hPa</th>\n",
       "      <th>precip_5min:mm</th>\n",
       "      <th>precip_type_5min:idx</th>\n",
       "      <th>pressure_100m:hPa</th>\n",
       "      <th>pressure_50m:hPa</th>\n",
       "      <th>prob_rime:p</th>\n",
       "      <th>rain_water:kgm2</th>\n",
       "      <th>relative_humidity_1000hPa:p</th>\n",
       "      <th>sfc_pressure:hPa</th>\n",
       "      <th>snow_density:kgm3</th>\n",
       "      <th>snow_depth:cm</th>\n",
       "      <th>snow_drift:idx</th>\n",
       "      <th>snow_melt_10min:mm</th>\n",
       "      <th>snow_water:kgm2</th>\n",
       "      <th>sun_azimuth:d</th>\n",
       "      <th>sun_elevation:d</th>\n",
       "      <th>super_cooled_liquid_water:kgm2</th>\n",
       "      <th>t_1000hPa:K</th>\n",
       "      <th>total_cloud_cover:p</th>\n",
       "      <th>visibility:m</th>\n",
       "      <th>wind_speed_10m:ms</th>\n",
       "      <th>wind_speed_u_10m:ms</th>\n",
       "      <th>wind_speed_v_10m:ms</th>\n",
       "      <th>wind_speed_w_1000hPa:ms</th>\n",
       "    </tr>\n",
       "  </thead>\n",
       "  <tbody>\n",
       "    <tr>\n",
       "      <th>0</th>\n",
       "      <td>2023-04-30 07:00:04</td>\n",
       "      <td>2023-05-01 00:00:00</td>\n",
       "      <td>4.3</td>\n",
       "      <td>1.283</td>\n",
       "      <td>912.299988</td>\n",
       "      <td>0.0</td>\n",
       "      <td>0.0</td>\n",
       "      <td>1039.900024</td>\n",
       "      <td>0.0</td>\n",
       "      <td>271.700012</td>\n",
       "      <td>0.0</td>\n",
       "      <td>0.0</td>\n",
       "      <td>0.0</td>\n",
       "      <td>0.0</td>\n",
       "      <td>80.699997</td>\n",
       "      <td>7.0</td>\n",
       "      <td>0.0</td>\n",
       "      <td>0.0</td>\n",
       "      <td>0.0</td>\n",
       "      <td>0.0</td>\n",
       "      <td>0.0</td>\n",
       "      <td>0.0</td>\n",
       "      <td>1.0</td>\n",
       "      <td>1014.000000</td>\n",
       "      <td>0.0</td>\n",
       "      <td>0.0</td>\n",
       "      <td>1000.599976</td>\n",
       "      <td>1006.900024</td>\n",
       "      <td>0.0</td>\n",
       "      <td>0.0</td>\n",
       "      <td>80.300003</td>\n",
       "      <td>1013.200012</td>\n",
       "      <td>NaN</td>\n",
       "      <td>0.0</td>\n",
       "      <td>0.0</td>\n",
       "      <td>-0.0</td>\n",
       "      <td>0.0</td>\n",
       "      <td>10.521000</td>\n",
       "      <td>-11.184</td>\n",
       "      <td>0.0</td>\n",
       "      <td>273.799988</td>\n",
       "      <td>80.699997</td>\n",
       "      <td>31329.500000</td>\n",
       "      <td>4.0</td>\n",
       "      <td>2.2</td>\n",
       "      <td>3.4</td>\n",
       "      <td>-0.0</td>\n",
       "    </tr>\n",
       "    <tr>\n",
       "      <th>1</th>\n",
       "      <td>2023-04-30 07:00:04</td>\n",
       "      <td>2023-05-01 00:15:00</td>\n",
       "      <td>4.3</td>\n",
       "      <td>1.283</td>\n",
       "      <td>912.299988</td>\n",
       "      <td>0.0</td>\n",
       "      <td>0.0</td>\n",
       "      <td>1053.099976</td>\n",
       "      <td>0.0</td>\n",
       "      <td>271.700012</td>\n",
       "      <td>0.0</td>\n",
       "      <td>0.0</td>\n",
       "      <td>0.0</td>\n",
       "      <td>0.0</td>\n",
       "      <td>77.099998</td>\n",
       "      <td>7.0</td>\n",
       "      <td>0.0</td>\n",
       "      <td>0.0</td>\n",
       "      <td>0.0</td>\n",
       "      <td>0.0</td>\n",
       "      <td>0.0</td>\n",
       "      <td>0.0</td>\n",
       "      <td>1.0</td>\n",
       "      <td>1013.799988</td>\n",
       "      <td>0.0</td>\n",
       "      <td>0.0</td>\n",
       "      <td>1000.500000</td>\n",
       "      <td>1006.700012</td>\n",
       "      <td>0.0</td>\n",
       "      <td>0.0</td>\n",
       "      <td>80.300003</td>\n",
       "      <td>1013.000000</td>\n",
       "      <td>NaN</td>\n",
       "      <td>0.0</td>\n",
       "      <td>0.0</td>\n",
       "      <td>-0.0</td>\n",
       "      <td>0.0</td>\n",
       "      <td>14.204000</td>\n",
       "      <td>-10.824</td>\n",
       "      <td>0.0</td>\n",
       "      <td>273.799988</td>\n",
       "      <td>77.099998</td>\n",
       "      <td>31181.599609</td>\n",
       "      <td>4.0</td>\n",
       "      <td>2.1</td>\n",
       "      <td>3.4</td>\n",
       "      <td>-0.0</td>\n",
       "    </tr>\n",
       "    <tr>\n",
       "      <th>2</th>\n",
       "      <td>2023-04-30 07:00:04</td>\n",
       "      <td>2023-05-01 00:30:00</td>\n",
       "      <td>4.3</td>\n",
       "      <td>1.283</td>\n",
       "      <td>912.299988</td>\n",
       "      <td>0.0</td>\n",
       "      <td>0.0</td>\n",
       "      <td>1066.400024</td>\n",
       "      <td>0.0</td>\n",
       "      <td>271.600006</td>\n",
       "      <td>0.0</td>\n",
       "      <td>0.0</td>\n",
       "      <td>0.0</td>\n",
       "      <td>0.0</td>\n",
       "      <td>73.199997</td>\n",
       "      <td>7.0</td>\n",
       "      <td>0.0</td>\n",
       "      <td>0.0</td>\n",
       "      <td>0.0</td>\n",
       "      <td>0.0</td>\n",
       "      <td>0.0</td>\n",
       "      <td>0.0</td>\n",
       "      <td>1.0</td>\n",
       "      <td>1013.700012</td>\n",
       "      <td>0.0</td>\n",
       "      <td>0.0</td>\n",
       "      <td>1000.400024</td>\n",
       "      <td>1006.599976</td>\n",
       "      <td>0.0</td>\n",
       "      <td>0.0</td>\n",
       "      <td>80.199997</td>\n",
       "      <td>1012.900024</td>\n",
       "      <td>NaN</td>\n",
       "      <td>0.0</td>\n",
       "      <td>0.0</td>\n",
       "      <td>-0.0</td>\n",
       "      <td>0.0</td>\n",
       "      <td>17.870001</td>\n",
       "      <td>-10.360</td>\n",
       "      <td>0.0</td>\n",
       "      <td>273.799988</td>\n",
       "      <td>73.199997</td>\n",
       "      <td>31033.599609</td>\n",
       "      <td>3.9</td>\n",
       "      <td>2.1</td>\n",
       "      <td>3.4</td>\n",
       "      <td>-0.0</td>\n",
       "    </tr>\n",
       "    <tr>\n",
       "      <th>3</th>\n",
       "      <td>2023-04-30 07:00:04</td>\n",
       "      <td>2023-05-01 00:45:00</td>\n",
       "      <td>4.3</td>\n",
       "      <td>1.283</td>\n",
       "      <td>912.299988</td>\n",
       "      <td>0.0</td>\n",
       "      <td>0.0</td>\n",
       "      <td>1079.599976</td>\n",
       "      <td>0.0</td>\n",
       "      <td>271.600006</td>\n",
       "      <td>0.0</td>\n",
       "      <td>0.0</td>\n",
       "      <td>0.0</td>\n",
       "      <td>0.0</td>\n",
       "      <td>69.000000</td>\n",
       "      <td>7.0</td>\n",
       "      <td>0.0</td>\n",
       "      <td>0.0</td>\n",
       "      <td>0.0</td>\n",
       "      <td>0.0</td>\n",
       "      <td>0.0</td>\n",
       "      <td>0.0</td>\n",
       "      <td>1.0</td>\n",
       "      <td>1013.599976</td>\n",
       "      <td>0.0</td>\n",
       "      <td>0.0</td>\n",
       "      <td>1000.200012</td>\n",
       "      <td>1006.500000</td>\n",
       "      <td>0.0</td>\n",
       "      <td>0.0</td>\n",
       "      <td>80.199997</td>\n",
       "      <td>1012.799988</td>\n",
       "      <td>NaN</td>\n",
       "      <td>0.0</td>\n",
       "      <td>0.0</td>\n",
       "      <td>-0.0</td>\n",
       "      <td>0.0</td>\n",
       "      <td>21.514000</td>\n",
       "      <td>-9.793</td>\n",
       "      <td>0.0</td>\n",
       "      <td>273.799988</td>\n",
       "      <td>69.000000</td>\n",
       "      <td>30885.699219</td>\n",
       "      <td>3.9</td>\n",
       "      <td>2.0</td>\n",
       "      <td>3.3</td>\n",
       "      <td>-0.0</td>\n",
       "    </tr>\n",
       "    <tr>\n",
       "      <th>4</th>\n",
       "      <td>2023-04-30 07:00:04</td>\n",
       "      <td>2023-05-01 01:00:00</td>\n",
       "      <td>4.3</td>\n",
       "      <td>1.283</td>\n",
       "      <td>NaN</td>\n",
       "      <td>0.0</td>\n",
       "      <td>0.0</td>\n",
       "      <td>1092.900024</td>\n",
       "      <td>0.0</td>\n",
       "      <td>271.600006</td>\n",
       "      <td>0.0</td>\n",
       "      <td>0.0</td>\n",
       "      <td>0.0</td>\n",
       "      <td>0.0</td>\n",
       "      <td>64.599998</td>\n",
       "      <td>7.0</td>\n",
       "      <td>0.0</td>\n",
       "      <td>0.0</td>\n",
       "      <td>0.0</td>\n",
       "      <td>0.0</td>\n",
       "      <td>0.0</td>\n",
       "      <td>0.0</td>\n",
       "      <td>1.0</td>\n",
       "      <td>1013.500000</td>\n",
       "      <td>0.0</td>\n",
       "      <td>0.0</td>\n",
       "      <td>1000.099976</td>\n",
       "      <td>1006.400024</td>\n",
       "      <td>0.0</td>\n",
       "      <td>0.0</td>\n",
       "      <td>80.199997</td>\n",
       "      <td>1012.700012</td>\n",
       "      <td>NaN</td>\n",
       "      <td>0.0</td>\n",
       "      <td>0.0</td>\n",
       "      <td>-0.0</td>\n",
       "      <td>0.0</td>\n",
       "      <td>25.135000</td>\n",
       "      <td>-9.127</td>\n",
       "      <td>0.0</td>\n",
       "      <td>273.799988</td>\n",
       "      <td>64.599998</td>\n",
       "      <td>30737.800781</td>\n",
       "      <td>3.9</td>\n",
       "      <td>2.0</td>\n",
       "      <td>3.3</td>\n",
       "      <td>-0.0</td>\n",
       "    </tr>\n",
       "    <tr>\n",
       "      <th>...</th>\n",
       "      <td>...</td>\n",
       "      <td>...</td>\n",
       "      <td>...</td>\n",
       "      <td>...</td>\n",
       "      <td>...</td>\n",
       "      <td>...</td>\n",
       "      <td>...</td>\n",
       "      <td>...</td>\n",
       "      <td>...</td>\n",
       "      <td>...</td>\n",
       "      <td>...</td>\n",
       "      <td>...</td>\n",
       "      <td>...</td>\n",
       "      <td>...</td>\n",
       "      <td>...</td>\n",
       "      <td>...</td>\n",
       "      <td>...</td>\n",
       "      <td>...</td>\n",
       "      <td>...</td>\n",
       "      <td>...</td>\n",
       "      <td>...</td>\n",
       "      <td>...</td>\n",
       "      <td>...</td>\n",
       "      <td>...</td>\n",
       "      <td>...</td>\n",
       "      <td>...</td>\n",
       "      <td>...</td>\n",
       "      <td>...</td>\n",
       "      <td>...</td>\n",
       "      <td>...</td>\n",
       "      <td>...</td>\n",
       "      <td>...</td>\n",
       "      <td>...</td>\n",
       "      <td>...</td>\n",
       "      <td>...</td>\n",
       "      <td>...</td>\n",
       "      <td>...</td>\n",
       "      <td>...</td>\n",
       "      <td>...</td>\n",
       "      <td>...</td>\n",
       "      <td>...</td>\n",
       "      <td>...</td>\n",
       "      <td>...</td>\n",
       "      <td>...</td>\n",
       "      <td>...</td>\n",
       "      <td>...</td>\n",
       "      <td>...</td>\n",
       "    </tr>\n",
       "    <tr>\n",
       "      <th>2875</th>\n",
       "      <td>2023-07-02 07:00:31</td>\n",
       "      <td>2023-07-03 22:45:00</td>\n",
       "      <td>9.0</td>\n",
       "      <td>1.206</td>\n",
       "      <td>2091.000000</td>\n",
       "      <td>0.0</td>\n",
       "      <td>0.0</td>\n",
       "      <td>1630.500000</td>\n",
       "      <td>0.0</td>\n",
       "      <td>282.700012</td>\n",
       "      <td>0.0</td>\n",
       "      <td>0.0</td>\n",
       "      <td>0.0</td>\n",
       "      <td>0.0</td>\n",
       "      <td>99.300003</td>\n",
       "      <td>7.0</td>\n",
       "      <td>0.0</td>\n",
       "      <td>0.0</td>\n",
       "      <td>0.0</td>\n",
       "      <td>0.0</td>\n",
       "      <td>0.0</td>\n",
       "      <td>0.0</td>\n",
       "      <td>1.0</td>\n",
       "      <td>993.400024</td>\n",
       "      <td>0.0</td>\n",
       "      <td>0.0</td>\n",
       "      <td>980.700012</td>\n",
       "      <td>986.599976</td>\n",
       "      <td>0.0</td>\n",
       "      <td>0.0</td>\n",
       "      <td>82.099998</td>\n",
       "      <td>992.500000</td>\n",
       "      <td>NaN</td>\n",
       "      <td>0.0</td>\n",
       "      <td>0.0</td>\n",
       "      <td>-0.0</td>\n",
       "      <td>0.0</td>\n",
       "      <td>351.856995</td>\n",
       "      <td>-3.281</td>\n",
       "      <td>0.1</td>\n",
       "      <td>285.399994</td>\n",
       "      <td>99.400002</td>\n",
       "      <td>40356.500000</td>\n",
       "      <td>2.1</td>\n",
       "      <td>1.7</td>\n",
       "      <td>-1.3</td>\n",
       "      <td>0.0</td>\n",
       "    </tr>\n",
       "    <tr>\n",
       "      <th>2876</th>\n",
       "      <td>2023-07-02 07:00:31</td>\n",
       "      <td>2023-07-03 23:00:00</td>\n",
       "      <td>9.1</td>\n",
       "      <td>1.207</td>\n",
       "      <td>2015.300049</td>\n",
       "      <td>0.0</td>\n",
       "      <td>0.0</td>\n",
       "      <td>1538.599976</td>\n",
       "      <td>0.0</td>\n",
       "      <td>282.700012</td>\n",
       "      <td>0.0</td>\n",
       "      <td>0.0</td>\n",
       "      <td>0.0</td>\n",
       "      <td>0.0</td>\n",
       "      <td>100.000000</td>\n",
       "      <td>7.0</td>\n",
       "      <td>0.0</td>\n",
       "      <td>0.0</td>\n",
       "      <td>0.0</td>\n",
       "      <td>0.0</td>\n",
       "      <td>0.0</td>\n",
       "      <td>0.0</td>\n",
       "      <td>1.0</td>\n",
       "      <td>993.400024</td>\n",
       "      <td>0.0</td>\n",
       "      <td>0.0</td>\n",
       "      <td>980.799988</td>\n",
       "      <td>986.700012</td>\n",
       "      <td>0.0</td>\n",
       "      <td>0.0</td>\n",
       "      <td>82.400002</td>\n",
       "      <td>992.599976</td>\n",
       "      <td>NaN</td>\n",
       "      <td>0.0</td>\n",
       "      <td>0.0</td>\n",
       "      <td>-0.0</td>\n",
       "      <td>0.0</td>\n",
       "      <td>355.319000</td>\n",
       "      <td>-3.469</td>\n",
       "      <td>0.1</td>\n",
       "      <td>285.299988</td>\n",
       "      <td>100.000000</td>\n",
       "      <td>40004.199219</td>\n",
       "      <td>2.1</td>\n",
       "      <td>1.6</td>\n",
       "      <td>-1.3</td>\n",
       "      <td>0.0</td>\n",
       "    </tr>\n",
       "    <tr>\n",
       "      <th>2877</th>\n",
       "      <td>2023-07-02 07:00:31</td>\n",
       "      <td>2023-07-03 23:15:00</td>\n",
       "      <td>9.0</td>\n",
       "      <td>1.207</td>\n",
       "      <td>2015.199951</td>\n",
       "      <td>0.0</td>\n",
       "      <td>0.0</td>\n",
       "      <td>1473.599976</td>\n",
       "      <td>0.0</td>\n",
       "      <td>282.700012</td>\n",
       "      <td>0.0</td>\n",
       "      <td>0.0</td>\n",
       "      <td>0.0</td>\n",
       "      <td>0.0</td>\n",
       "      <td>100.000000</td>\n",
       "      <td>7.0</td>\n",
       "      <td>0.0</td>\n",
       "      <td>0.0</td>\n",
       "      <td>0.0</td>\n",
       "      <td>0.0</td>\n",
       "      <td>0.0</td>\n",
       "      <td>0.0</td>\n",
       "      <td>1.0</td>\n",
       "      <td>993.500000</td>\n",
       "      <td>0.0</td>\n",
       "      <td>0.0</td>\n",
       "      <td>980.799988</td>\n",
       "      <td>986.700012</td>\n",
       "      <td>0.0</td>\n",
       "      <td>0.0</td>\n",
       "      <td>82.800003</td>\n",
       "      <td>992.700012</td>\n",
       "      <td>NaN</td>\n",
       "      <td>0.0</td>\n",
       "      <td>0.0</td>\n",
       "      <td>-0.0</td>\n",
       "      <td>0.0</td>\n",
       "      <td>358.786011</td>\n",
       "      <td>-3.556</td>\n",
       "      <td>0.1</td>\n",
       "      <td>285.299988</td>\n",
       "      <td>100.000000</td>\n",
       "      <td>40071.398438</td>\n",
       "      <td>2.0</td>\n",
       "      <td>1.6</td>\n",
       "      <td>-1.2</td>\n",
       "      <td>0.0</td>\n",
       "    </tr>\n",
       "    <tr>\n",
       "      <th>2878</th>\n",
       "      <td>2023-07-02 07:00:31</td>\n",
       "      <td>2023-07-03 23:30:00</td>\n",
       "      <td>9.0</td>\n",
       "      <td>1.207</td>\n",
       "      <td>2015.000000</td>\n",
       "      <td>0.0</td>\n",
       "      <td>0.0</td>\n",
       "      <td>1408.599976</td>\n",
       "      <td>0.0</td>\n",
       "      <td>282.700012</td>\n",
       "      <td>0.0</td>\n",
       "      <td>0.0</td>\n",
       "      <td>0.0</td>\n",
       "      <td>0.0</td>\n",
       "      <td>100.000000</td>\n",
       "      <td>7.0</td>\n",
       "      <td>0.0</td>\n",
       "      <td>0.0</td>\n",
       "      <td>0.0</td>\n",
       "      <td>0.0</td>\n",
       "      <td>0.0</td>\n",
       "      <td>0.0</td>\n",
       "      <td>1.0</td>\n",
       "      <td>993.599976</td>\n",
       "      <td>0.0</td>\n",
       "      <td>0.0</td>\n",
       "      <td>980.900024</td>\n",
       "      <td>986.799988</td>\n",
       "      <td>0.0</td>\n",
       "      <td>0.0</td>\n",
       "      <td>83.099998</td>\n",
       "      <td>992.700012</td>\n",
       "      <td>NaN</td>\n",
       "      <td>0.0</td>\n",
       "      <td>0.0</td>\n",
       "      <td>-0.0</td>\n",
       "      <td>0.0</td>\n",
       "      <td>2.253000</td>\n",
       "      <td>-3.540</td>\n",
       "      <td>0.1</td>\n",
       "      <td>285.200012</td>\n",
       "      <td>100.000000</td>\n",
       "      <td>40138.101562</td>\n",
       "      <td>2.0</td>\n",
       "      <td>1.6</td>\n",
       "      <td>-1.1</td>\n",
       "      <td>0.0</td>\n",
       "    </tr>\n",
       "    <tr>\n",
       "      <th>2879</th>\n",
       "      <td>2023-07-02 07:00:31</td>\n",
       "      <td>2023-07-03 23:45:00</td>\n",
       "      <td>9.0</td>\n",
       "      <td>1.207</td>\n",
       "      <td>2014.900024</td>\n",
       "      <td>0.0</td>\n",
       "      <td>0.0</td>\n",
       "      <td>1343.599976</td>\n",
       "      <td>0.0</td>\n",
       "      <td>282.600006</td>\n",
       "      <td>0.0</td>\n",
       "      <td>0.0</td>\n",
       "      <td>0.0</td>\n",
       "      <td>0.0</td>\n",
       "      <td>100.000000</td>\n",
       "      <td>7.0</td>\n",
       "      <td>0.0</td>\n",
       "      <td>0.0</td>\n",
       "      <td>0.0</td>\n",
       "      <td>0.0</td>\n",
       "      <td>0.0</td>\n",
       "      <td>0.0</td>\n",
       "      <td>1.0</td>\n",
       "      <td>993.700012</td>\n",
       "      <td>0.0</td>\n",
       "      <td>0.0</td>\n",
       "      <td>981.000000</td>\n",
       "      <td>986.900024</td>\n",
       "      <td>0.0</td>\n",
       "      <td>0.0</td>\n",
       "      <td>83.500000</td>\n",
       "      <td>992.799988</td>\n",
       "      <td>NaN</td>\n",
       "      <td>0.0</td>\n",
       "      <td>0.0</td>\n",
       "      <td>-0.0</td>\n",
       "      <td>0.0</td>\n",
       "      <td>5.719000</td>\n",
       "      <td>-3.423</td>\n",
       "      <td>0.2</td>\n",
       "      <td>285.200012</td>\n",
       "      <td>100.000000</td>\n",
       "      <td>40204.500000</td>\n",
       "      <td>1.9</td>\n",
       "      <td>1.6</td>\n",
       "      <td>-1.1</td>\n",
       "      <td>0.0</td>\n",
       "    </tr>\n",
       "  </tbody>\n",
       "</table>\n",
       "<p>2880 rows × 47 columns</p>\n",
       "</div>"
      ],
      "text/plain": [
       "               date_calc       date_forecast  absolute_humidity_2m:gm3  \\\n",
       "0    2023-04-30 07:00:04 2023-05-01 00:00:00                       4.3   \n",
       "1    2023-04-30 07:00:04 2023-05-01 00:15:00                       4.3   \n",
       "2    2023-04-30 07:00:04 2023-05-01 00:30:00                       4.3   \n",
       "3    2023-04-30 07:00:04 2023-05-01 00:45:00                       4.3   \n",
       "4    2023-04-30 07:00:04 2023-05-01 01:00:00                       4.3   \n",
       "...                  ...                 ...                       ...   \n",
       "2875 2023-07-02 07:00:31 2023-07-03 22:45:00                       9.0   \n",
       "2876 2023-07-02 07:00:31 2023-07-03 23:00:00                       9.1   \n",
       "2877 2023-07-02 07:00:31 2023-07-03 23:15:00                       9.0   \n",
       "2878 2023-07-02 07:00:31 2023-07-03 23:30:00                       9.0   \n",
       "2879 2023-07-02 07:00:31 2023-07-03 23:45:00                       9.0   \n",
       "\n",
       "      air_density_2m:kgm3  ceiling_height_agl:m  clear_sky_energy_1h:J  \\\n",
       "0                   1.283            912.299988                    0.0   \n",
       "1                   1.283            912.299988                    0.0   \n",
       "2                   1.283            912.299988                    0.0   \n",
       "3                   1.283            912.299988                    0.0   \n",
       "4                   1.283                   NaN                    0.0   \n",
       "...                   ...                   ...                    ...   \n",
       "2875                1.206           2091.000000                    0.0   \n",
       "2876                1.207           2015.300049                    0.0   \n",
       "2877                1.207           2015.199951                    0.0   \n",
       "2878                1.207           2015.000000                    0.0   \n",
       "2879                1.207           2014.900024                    0.0   \n",
       "\n",
       "      clear_sky_rad:W  cloud_base_agl:m  dew_or_rime:idx  dew_point_2m:K  \\\n",
       "0                 0.0       1039.900024              0.0      271.700012   \n",
       "1                 0.0       1053.099976              0.0      271.700012   \n",
       "2                 0.0       1066.400024              0.0      271.600006   \n",
       "3                 0.0       1079.599976              0.0      271.600006   \n",
       "4                 0.0       1092.900024              0.0      271.600006   \n",
       "...               ...               ...              ...             ...   \n",
       "2875              0.0       1630.500000              0.0      282.700012   \n",
       "2876              0.0       1538.599976              0.0      282.700012   \n",
       "2877              0.0       1473.599976              0.0      282.700012   \n",
       "2878              0.0       1408.599976              0.0      282.700012   \n",
       "2879              0.0       1343.599976              0.0      282.600006   \n",
       "\n",
       "      diffuse_rad:W  diffuse_rad_1h:J  direct_rad:W  direct_rad_1h:J  \\\n",
       "0               0.0               0.0           0.0              0.0   \n",
       "1               0.0               0.0           0.0              0.0   \n",
       "2               0.0               0.0           0.0              0.0   \n",
       "3               0.0               0.0           0.0              0.0   \n",
       "4               0.0               0.0           0.0              0.0   \n",
       "...             ...               ...           ...              ...   \n",
       "2875            0.0               0.0           0.0              0.0   \n",
       "2876            0.0               0.0           0.0              0.0   \n",
       "2877            0.0               0.0           0.0              0.0   \n",
       "2878            0.0               0.0           0.0              0.0   \n",
       "2879            0.0               0.0           0.0              0.0   \n",
       "\n",
       "      effective_cloud_cover:p  elevation:m  fresh_snow_12h:cm  \\\n",
       "0                   80.699997          7.0                0.0   \n",
       "1                   77.099998          7.0                0.0   \n",
       "2                   73.199997          7.0                0.0   \n",
       "3                   69.000000          7.0                0.0   \n",
       "4                   64.599998          7.0                0.0   \n",
       "...                       ...          ...                ...   \n",
       "2875                99.300003          7.0                0.0   \n",
       "2876               100.000000          7.0                0.0   \n",
       "2877               100.000000          7.0                0.0   \n",
       "2878               100.000000          7.0                0.0   \n",
       "2879               100.000000          7.0                0.0   \n",
       "\n",
       "      fresh_snow_1h:cm  fresh_snow_24h:cm  fresh_snow_3h:cm  fresh_snow_6h:cm  \\\n",
       "0                  0.0                0.0               0.0               0.0   \n",
       "1                  0.0                0.0               0.0               0.0   \n",
       "2                  0.0                0.0               0.0               0.0   \n",
       "3                  0.0                0.0               0.0               0.0   \n",
       "4                  0.0                0.0               0.0               0.0   \n",
       "...                ...                ...               ...               ...   \n",
       "2875               0.0                0.0               0.0               0.0   \n",
       "2876               0.0                0.0               0.0               0.0   \n",
       "2877               0.0                0.0               0.0               0.0   \n",
       "2878               0.0                0.0               0.0               0.0   \n",
       "2879               0.0                0.0               0.0               0.0   \n",
       "\n",
       "      is_day:idx  is_in_shadow:idx  msl_pressure:hPa  precip_5min:mm  \\\n",
       "0            0.0               1.0       1014.000000             0.0   \n",
       "1            0.0               1.0       1013.799988             0.0   \n",
       "2            0.0               1.0       1013.700012             0.0   \n",
       "3            0.0               1.0       1013.599976             0.0   \n",
       "4            0.0               1.0       1013.500000             0.0   \n",
       "...          ...               ...               ...             ...   \n",
       "2875         0.0               1.0        993.400024             0.0   \n",
       "2876         0.0               1.0        993.400024             0.0   \n",
       "2877         0.0               1.0        993.500000             0.0   \n",
       "2878         0.0               1.0        993.599976             0.0   \n",
       "2879         0.0               1.0        993.700012             0.0   \n",
       "\n",
       "      precip_type_5min:idx  pressure_100m:hPa  pressure_50m:hPa  prob_rime:p  \\\n",
       "0                      0.0        1000.599976       1006.900024          0.0   \n",
       "1                      0.0        1000.500000       1006.700012          0.0   \n",
       "2                      0.0        1000.400024       1006.599976          0.0   \n",
       "3                      0.0        1000.200012       1006.500000          0.0   \n",
       "4                      0.0        1000.099976       1006.400024          0.0   \n",
       "...                    ...                ...               ...          ...   \n",
       "2875                   0.0         980.700012        986.599976          0.0   \n",
       "2876                   0.0         980.799988        986.700012          0.0   \n",
       "2877                   0.0         980.799988        986.700012          0.0   \n",
       "2878                   0.0         980.900024        986.799988          0.0   \n",
       "2879                   0.0         981.000000        986.900024          0.0   \n",
       "\n",
       "      rain_water:kgm2  relative_humidity_1000hPa:p  sfc_pressure:hPa  \\\n",
       "0                 0.0                    80.300003       1013.200012   \n",
       "1                 0.0                    80.300003       1013.000000   \n",
       "2                 0.0                    80.199997       1012.900024   \n",
       "3                 0.0                    80.199997       1012.799988   \n",
       "4                 0.0                    80.199997       1012.700012   \n",
       "...               ...                          ...               ...   \n",
       "2875              0.0                    82.099998        992.500000   \n",
       "2876              0.0                    82.400002        992.599976   \n",
       "2877              0.0                    82.800003        992.700012   \n",
       "2878              0.0                    83.099998        992.700012   \n",
       "2879              0.0                    83.500000        992.799988   \n",
       "\n",
       "      snow_density:kgm3  snow_depth:cm  snow_drift:idx  snow_melt_10min:mm  \\\n",
       "0                   NaN            0.0             0.0                -0.0   \n",
       "1                   NaN            0.0             0.0                -0.0   \n",
       "2                   NaN            0.0             0.0                -0.0   \n",
       "3                   NaN            0.0             0.0                -0.0   \n",
       "4                   NaN            0.0             0.0                -0.0   \n",
       "...                 ...            ...             ...                 ...   \n",
       "2875                NaN            0.0             0.0                -0.0   \n",
       "2876                NaN            0.0             0.0                -0.0   \n",
       "2877                NaN            0.0             0.0                -0.0   \n",
       "2878                NaN            0.0             0.0                -0.0   \n",
       "2879                NaN            0.0             0.0                -0.0   \n",
       "\n",
       "      snow_water:kgm2  sun_azimuth:d  sun_elevation:d  \\\n",
       "0                 0.0      10.521000          -11.184   \n",
       "1                 0.0      14.204000          -10.824   \n",
       "2                 0.0      17.870001          -10.360   \n",
       "3                 0.0      21.514000           -9.793   \n",
       "4                 0.0      25.135000           -9.127   \n",
       "...               ...            ...              ...   \n",
       "2875              0.0     351.856995           -3.281   \n",
       "2876              0.0     355.319000           -3.469   \n",
       "2877              0.0     358.786011           -3.556   \n",
       "2878              0.0       2.253000           -3.540   \n",
       "2879              0.0       5.719000           -3.423   \n",
       "\n",
       "      super_cooled_liquid_water:kgm2  t_1000hPa:K  total_cloud_cover:p  \\\n",
       "0                                0.0   273.799988            80.699997   \n",
       "1                                0.0   273.799988            77.099998   \n",
       "2                                0.0   273.799988            73.199997   \n",
       "3                                0.0   273.799988            69.000000   \n",
       "4                                0.0   273.799988            64.599998   \n",
       "...                              ...          ...                  ...   \n",
       "2875                             0.1   285.399994            99.400002   \n",
       "2876                             0.1   285.299988           100.000000   \n",
       "2877                             0.1   285.299988           100.000000   \n",
       "2878                             0.1   285.200012           100.000000   \n",
       "2879                             0.2   285.200012           100.000000   \n",
       "\n",
       "      visibility:m  wind_speed_10m:ms  wind_speed_u_10m:ms  \\\n",
       "0     31329.500000                4.0                  2.2   \n",
       "1     31181.599609                4.0                  2.1   \n",
       "2     31033.599609                3.9                  2.1   \n",
       "3     30885.699219                3.9                  2.0   \n",
       "4     30737.800781                3.9                  2.0   \n",
       "...            ...                ...                  ...   \n",
       "2875  40356.500000                2.1                  1.7   \n",
       "2876  40004.199219                2.1                  1.6   \n",
       "2877  40071.398438                2.0                  1.6   \n",
       "2878  40138.101562                2.0                  1.6   \n",
       "2879  40204.500000                1.9                  1.6   \n",
       "\n",
       "      wind_speed_v_10m:ms  wind_speed_w_1000hPa:ms  \n",
       "0                     3.4                     -0.0  \n",
       "1                     3.4                     -0.0  \n",
       "2                     3.4                     -0.0  \n",
       "3                     3.3                     -0.0  \n",
       "4                     3.3                     -0.0  \n",
       "...                   ...                      ...  \n",
       "2875                 -1.3                      0.0  \n",
       "2876                 -1.3                      0.0  \n",
       "2877                 -1.2                      0.0  \n",
       "2878                 -1.1                      0.0  \n",
       "2879                 -1.1                      0.0  \n",
       "\n",
       "[2880 rows x 47 columns]"
      ]
     },
     "metadata": {},
     "output_type": "display_data"
    },
    {
     "data": {
      "text/plain": [
       "'B'"
      ]
     },
     "metadata": {},
     "output_type": "display_data"
    },
    {
     "data": {
      "text/plain": [
       "'train_est'"
      ]
     },
     "metadata": {},
     "output_type": "display_data"
    },
    {
     "data": {
      "text/html": [
       "<div>\n",
       "<style scoped>\n",
       "    .dataframe tbody tr th:only-of-type {\n",
       "        vertical-align: middle;\n",
       "    }\n",
       "\n",
       "    .dataframe tbody tr th {\n",
       "        vertical-align: top;\n",
       "    }\n",
       "\n",
       "    .dataframe thead th {\n",
       "        text-align: right;\n",
       "    }\n",
       "</style>\n",
       "<table border=\"1\" class=\"dataframe\">\n",
       "  <thead>\n",
       "    <tr style=\"text-align: right;\">\n",
       "      <th></th>\n",
       "      <th>date_calc</th>\n",
       "      <th>date_forecast</th>\n",
       "      <th>absolute_humidity_2m:gm3</th>\n",
       "      <th>air_density_2m:kgm3</th>\n",
       "      <th>ceiling_height_agl:m</th>\n",
       "      <th>clear_sky_energy_1h:J</th>\n",
       "      <th>clear_sky_rad:W</th>\n",
       "      <th>cloud_base_agl:m</th>\n",
       "      <th>dew_or_rime:idx</th>\n",
       "      <th>dew_point_2m:K</th>\n",
       "      <th>diffuse_rad:W</th>\n",
       "      <th>diffuse_rad_1h:J</th>\n",
       "      <th>direct_rad:W</th>\n",
       "      <th>direct_rad_1h:J</th>\n",
       "      <th>effective_cloud_cover:p</th>\n",
       "      <th>elevation:m</th>\n",
       "      <th>fresh_snow_12h:cm</th>\n",
       "      <th>fresh_snow_1h:cm</th>\n",
       "      <th>fresh_snow_24h:cm</th>\n",
       "      <th>fresh_snow_3h:cm</th>\n",
       "      <th>fresh_snow_6h:cm</th>\n",
       "      <th>is_day:idx</th>\n",
       "      <th>is_in_shadow:idx</th>\n",
       "      <th>msl_pressure:hPa</th>\n",
       "      <th>precip_5min:mm</th>\n",
       "      <th>precip_type_5min:idx</th>\n",
       "      <th>pressure_100m:hPa</th>\n",
       "      <th>pressure_50m:hPa</th>\n",
       "      <th>prob_rime:p</th>\n",
       "      <th>rain_water:kgm2</th>\n",
       "      <th>relative_humidity_1000hPa:p</th>\n",
       "      <th>sfc_pressure:hPa</th>\n",
       "      <th>snow_density:kgm3</th>\n",
       "      <th>snow_depth:cm</th>\n",
       "      <th>snow_drift:idx</th>\n",
       "      <th>snow_melt_10min:mm</th>\n",
       "      <th>snow_water:kgm2</th>\n",
       "      <th>sun_azimuth:d</th>\n",
       "      <th>sun_elevation:d</th>\n",
       "      <th>super_cooled_liquid_water:kgm2</th>\n",
       "      <th>t_1000hPa:K</th>\n",
       "      <th>total_cloud_cover:p</th>\n",
       "      <th>visibility:m</th>\n",
       "      <th>wind_speed_10m:ms</th>\n",
       "      <th>wind_speed_u_10m:ms</th>\n",
       "      <th>wind_speed_v_10m:ms</th>\n",
       "      <th>wind_speed_w_1000hPa:ms</th>\n",
       "    </tr>\n",
       "  </thead>\n",
       "  <tbody>\n",
       "    <tr>\n",
       "      <th>0</th>\n",
       "      <td>2022-10-27 07:00:18</td>\n",
       "      <td>2022-10-28 22:00:00</td>\n",
       "      <td>8.4</td>\n",
       "      <td>1.233</td>\n",
       "      <td>1425.099976</td>\n",
       "      <td>0.0</td>\n",
       "      <td>0.0</td>\n",
       "      <td>1211.900024</td>\n",
       "      <td>1.0</td>\n",
       "      <td>281.399994</td>\n",
       "      <td>0.0</td>\n",
       "      <td>0.0</td>\n",
       "      <td>0.0</td>\n",
       "      <td>0.0</td>\n",
       "      <td>100.000000</td>\n",
       "      <td>7.0</td>\n",
       "      <td>0.0</td>\n",
       "      <td>0.0</td>\n",
       "      <td>0.0</td>\n",
       "      <td>0.0</td>\n",
       "      <td>0.0</td>\n",
       "      <td>0.0</td>\n",
       "      <td>1.0</td>\n",
       "      <td>1001.099976</td>\n",
       "      <td>0.0</td>\n",
       "      <td>0.0</td>\n",
       "      <td>988.400024</td>\n",
       "      <td>994.400024</td>\n",
       "      <td>0.0</td>\n",
       "      <td>0.0</td>\n",
       "      <td>92.699997</td>\n",
       "      <td>1000.500000</td>\n",
       "      <td>NaN</td>\n",
       "      <td>0.0</td>\n",
       "      <td>0.0</td>\n",
       "      <td>-0.0</td>\n",
       "      <td>0.4</td>\n",
       "      <td>340.799988</td>\n",
       "      <td>-38.466000</td>\n",
       "      <td>0.0</td>\n",
       "      <td>284.700012</td>\n",
       "      <td>100.000000</td>\n",
       "      <td>29393.500000</td>\n",
       "      <td>0.8</td>\n",
       "      <td>-0.4</td>\n",
       "      <td>0.7</td>\n",
       "      <td>-0.0</td>\n",
       "    </tr>\n",
       "    <tr>\n",
       "      <th>1</th>\n",
       "      <td>2022-10-27 07:00:18</td>\n",
       "      <td>2022-10-28 22:15:00</td>\n",
       "      <td>8.4</td>\n",
       "      <td>1.233</td>\n",
       "      <td>2086.000000</td>\n",
       "      <td>0.0</td>\n",
       "      <td>0.0</td>\n",
       "      <td>1562.500000</td>\n",
       "      <td>1.0</td>\n",
       "      <td>281.399994</td>\n",
       "      <td>0.0</td>\n",
       "      <td>0.0</td>\n",
       "      <td>0.0</td>\n",
       "      <td>0.0</td>\n",
       "      <td>100.000000</td>\n",
       "      <td>7.0</td>\n",
       "      <td>0.0</td>\n",
       "      <td>0.0</td>\n",
       "      <td>0.0</td>\n",
       "      <td>0.0</td>\n",
       "      <td>0.0</td>\n",
       "      <td>0.0</td>\n",
       "      <td>1.0</td>\n",
       "      <td>1000.799988</td>\n",
       "      <td>0.0</td>\n",
       "      <td>0.0</td>\n",
       "      <td>988.099976</td>\n",
       "      <td>994.099976</td>\n",
       "      <td>0.0</td>\n",
       "      <td>0.1</td>\n",
       "      <td>92.699997</td>\n",
       "      <td>1000.099976</td>\n",
       "      <td>NaN</td>\n",
       "      <td>0.0</td>\n",
       "      <td>0.0</td>\n",
       "      <td>-0.0</td>\n",
       "      <td>0.4</td>\n",
       "      <td>345.453003</td>\n",
       "      <td>-38.955002</td>\n",
       "      <td>0.0</td>\n",
       "      <td>284.700012</td>\n",
       "      <td>100.000000</td>\n",
       "      <td>23576.500000</td>\n",
       "      <td>0.7</td>\n",
       "      <td>-0.4</td>\n",
       "      <td>0.6</td>\n",
       "      <td>-0.0</td>\n",
       "    </tr>\n",
       "    <tr>\n",
       "      <th>2</th>\n",
       "      <td>2022-10-27 07:00:18</td>\n",
       "      <td>2022-10-28 22:30:00</td>\n",
       "      <td>8.4</td>\n",
       "      <td>1.232</td>\n",
       "      <td>2746.899902</td>\n",
       "      <td>0.0</td>\n",
       "      <td>0.0</td>\n",
       "      <td>1913.099976</td>\n",
       "      <td>1.0</td>\n",
       "      <td>281.500000</td>\n",
       "      <td>0.0</td>\n",
       "      <td>0.0</td>\n",
       "      <td>0.0</td>\n",
       "      <td>0.0</td>\n",
       "      <td>100.000000</td>\n",
       "      <td>7.0</td>\n",
       "      <td>0.0</td>\n",
       "      <td>0.0</td>\n",
       "      <td>0.0</td>\n",
       "      <td>0.0</td>\n",
       "      <td>0.0</td>\n",
       "      <td>0.0</td>\n",
       "      <td>1.0</td>\n",
       "      <td>1000.500000</td>\n",
       "      <td>0.0</td>\n",
       "      <td>0.0</td>\n",
       "      <td>987.799988</td>\n",
       "      <td>993.799988</td>\n",
       "      <td>0.0</td>\n",
       "      <td>0.1</td>\n",
       "      <td>92.599998</td>\n",
       "      <td>999.799988</td>\n",
       "      <td>NaN</td>\n",
       "      <td>0.0</td>\n",
       "      <td>0.0</td>\n",
       "      <td>-0.0</td>\n",
       "      <td>0.5</td>\n",
       "      <td>350.153992</td>\n",
       "      <td>-39.310001</td>\n",
       "      <td>0.0</td>\n",
       "      <td>284.700012</td>\n",
       "      <td>100.000000</td>\n",
       "      <td>17780.300781</td>\n",
       "      <td>0.7</td>\n",
       "      <td>-0.3</td>\n",
       "      <td>0.6</td>\n",
       "      <td>-0.0</td>\n",
       "    </tr>\n",
       "    <tr>\n",
       "      <th>3</th>\n",
       "      <td>2022-10-27 07:00:18</td>\n",
       "      <td>2022-10-28 22:45:00</td>\n",
       "      <td>8.4</td>\n",
       "      <td>1.232</td>\n",
       "      <td>3407.800049</td>\n",
       "      <td>0.0</td>\n",
       "      <td>0.0</td>\n",
       "      <td>2263.699951</td>\n",
       "      <td>1.0</td>\n",
       "      <td>281.500000</td>\n",
       "      <td>0.0</td>\n",
       "      <td>0.0</td>\n",
       "      <td>0.0</td>\n",
       "      <td>0.0</td>\n",
       "      <td>100.000000</td>\n",
       "      <td>7.0</td>\n",
       "      <td>0.0</td>\n",
       "      <td>0.0</td>\n",
       "      <td>0.0</td>\n",
       "      <td>0.0</td>\n",
       "      <td>0.0</td>\n",
       "      <td>0.0</td>\n",
       "      <td>1.0</td>\n",
       "      <td>1000.200012</td>\n",
       "      <td>0.0</td>\n",
       "      <td>0.0</td>\n",
       "      <td>987.500000</td>\n",
       "      <td>993.500000</td>\n",
       "      <td>0.0</td>\n",
       "      <td>0.1</td>\n",
       "      <td>92.599998</td>\n",
       "      <td>999.500000</td>\n",
       "      <td>NaN</td>\n",
       "      <td>0.0</td>\n",
       "      <td>0.0</td>\n",
       "      <td>-0.0</td>\n",
       "      <td>0.6</td>\n",
       "      <td>354.888000</td>\n",
       "      <td>-39.528999</td>\n",
       "      <td>0.0</td>\n",
       "      <td>284.600006</td>\n",
       "      <td>100.000000</td>\n",
       "      <td>12005.099609</td>\n",
       "      <td>0.6</td>\n",
       "      <td>-0.2</td>\n",
       "      <td>0.6</td>\n",
       "      <td>-0.0</td>\n",
       "    </tr>\n",
       "    <tr>\n",
       "      <th>4</th>\n",
       "      <td>2022-10-27 07:00:18</td>\n",
       "      <td>2022-10-28 23:00:00</td>\n",
       "      <td>8.5</td>\n",
       "      <td>1.231</td>\n",
       "      <td>4068.699951</td>\n",
       "      <td>0.0</td>\n",
       "      <td>0.0</td>\n",
       "      <td>2614.300049</td>\n",
       "      <td>1.0</td>\n",
       "      <td>281.500000</td>\n",
       "      <td>0.0</td>\n",
       "      <td>0.0</td>\n",
       "      <td>0.0</td>\n",
       "      <td>0.0</td>\n",
       "      <td>100.000000</td>\n",
       "      <td>7.0</td>\n",
       "      <td>0.0</td>\n",
       "      <td>0.0</td>\n",
       "      <td>0.0</td>\n",
       "      <td>0.0</td>\n",
       "      <td>0.0</td>\n",
       "      <td>0.0</td>\n",
       "      <td>1.0</td>\n",
       "      <td>999.900024</td>\n",
       "      <td>0.0</td>\n",
       "      <td>0.0</td>\n",
       "      <td>987.200012</td>\n",
       "      <td>993.200012</td>\n",
       "      <td>0.0</td>\n",
       "      <td>0.1</td>\n",
       "      <td>92.599998</td>\n",
       "      <td>999.200012</td>\n",
       "      <td>NaN</td>\n",
       "      <td>0.0</td>\n",
       "      <td>0.0</td>\n",
       "      <td>-0.0</td>\n",
       "      <td>0.6</td>\n",
       "      <td>359.639008</td>\n",
       "      <td>-39.609001</td>\n",
       "      <td>0.0</td>\n",
       "      <td>284.600006</td>\n",
       "      <td>100.000000</td>\n",
       "      <td>6250.600098</td>\n",
       "      <td>0.6</td>\n",
       "      <td>-0.1</td>\n",
       "      <td>0.6</td>\n",
       "      <td>-0.0</td>\n",
       "    </tr>\n",
       "    <tr>\n",
       "      <th>...</th>\n",
       "      <td>...</td>\n",
       "      <td>...</td>\n",
       "      <td>...</td>\n",
       "      <td>...</td>\n",
       "      <td>...</td>\n",
       "      <td>...</td>\n",
       "      <td>...</td>\n",
       "      <td>...</td>\n",
       "      <td>...</td>\n",
       "      <td>...</td>\n",
       "      <td>...</td>\n",
       "      <td>...</td>\n",
       "      <td>...</td>\n",
       "      <td>...</td>\n",
       "      <td>...</td>\n",
       "      <td>...</td>\n",
       "      <td>...</td>\n",
       "      <td>...</td>\n",
       "      <td>...</td>\n",
       "      <td>...</td>\n",
       "      <td>...</td>\n",
       "      <td>...</td>\n",
       "      <td>...</td>\n",
       "      <td>...</td>\n",
       "      <td>...</td>\n",
       "      <td>...</td>\n",
       "      <td>...</td>\n",
       "      <td>...</td>\n",
       "      <td>...</td>\n",
       "      <td>...</td>\n",
       "      <td>...</td>\n",
       "      <td>...</td>\n",
       "      <td>...</td>\n",
       "      <td>...</td>\n",
       "      <td>...</td>\n",
       "      <td>...</td>\n",
       "      <td>...</td>\n",
       "      <td>...</td>\n",
       "      <td>...</td>\n",
       "      <td>...</td>\n",
       "      <td>...</td>\n",
       "      <td>...</td>\n",
       "      <td>...</td>\n",
       "      <td>...</td>\n",
       "      <td>...</td>\n",
       "      <td>...</td>\n",
       "      <td>...</td>\n",
       "    </tr>\n",
       "    <tr>\n",
       "      <th>17571</th>\n",
       "      <td>2023-04-29 07:00:05</td>\n",
       "      <td>2023-04-30 22:45:00</td>\n",
       "      <td>4.5</td>\n",
       "      <td>1.280</td>\n",
       "      <td>1175.400024</td>\n",
       "      <td>0.0</td>\n",
       "      <td>0.0</td>\n",
       "      <td>536.299988</td>\n",
       "      <td>0.0</td>\n",
       "      <td>272.200012</td>\n",
       "      <td>0.0</td>\n",
       "      <td>0.0</td>\n",
       "      <td>0.0</td>\n",
       "      <td>0.0</td>\n",
       "      <td>99.599998</td>\n",
       "      <td>7.0</td>\n",
       "      <td>0.0</td>\n",
       "      <td>0.0</td>\n",
       "      <td>0.0</td>\n",
       "      <td>0.0</td>\n",
       "      <td>0.0</td>\n",
       "      <td>0.0</td>\n",
       "      <td>1.0</td>\n",
       "      <td>1014.400024</td>\n",
       "      <td>0.0</td>\n",
       "      <td>0.0</td>\n",
       "      <td>1001.000000</td>\n",
       "      <td>1007.299988</td>\n",
       "      <td>0.0</td>\n",
       "      <td>0.0</td>\n",
       "      <td>79.599998</td>\n",
       "      <td>1013.599976</td>\n",
       "      <td>NaN</td>\n",
       "      <td>0.0</td>\n",
       "      <td>0.0</td>\n",
       "      <td>-0.0</td>\n",
       "      <td>0.1</td>\n",
       "      <td>352.920990</td>\n",
       "      <td>-11.731000</td>\n",
       "      <td>0.1</td>\n",
       "      <td>274.200012</td>\n",
       "      <td>99.900002</td>\n",
       "      <td>11721.799805</td>\n",
       "      <td>3.9</td>\n",
       "      <td>3.0</td>\n",
       "      <td>2.5</td>\n",
       "      <td>-0.0</td>\n",
       "    </tr>\n",
       "    <tr>\n",
       "      <th>17572</th>\n",
       "      <td>2023-04-29 07:00:05</td>\n",
       "      <td>2023-04-30 23:00:00</td>\n",
       "      <td>4.5</td>\n",
       "      <td>1.281</td>\n",
       "      <td>1055.800049</td>\n",
       "      <td>0.0</td>\n",
       "      <td>0.0</td>\n",
       "      <td>542.099976</td>\n",
       "      <td>0.0</td>\n",
       "      <td>272.200012</td>\n",
       "      <td>0.0</td>\n",
       "      <td>0.0</td>\n",
       "      <td>0.0</td>\n",
       "      <td>0.0</td>\n",
       "      <td>100.000000</td>\n",
       "      <td>7.0</td>\n",
       "      <td>0.0</td>\n",
       "      <td>0.0</td>\n",
       "      <td>0.0</td>\n",
       "      <td>0.0</td>\n",
       "      <td>0.0</td>\n",
       "      <td>0.0</td>\n",
       "      <td>1.0</td>\n",
       "      <td>1014.299988</td>\n",
       "      <td>0.0</td>\n",
       "      <td>0.0</td>\n",
       "      <td>1001.000000</td>\n",
       "      <td>1007.200012</td>\n",
       "      <td>0.0</td>\n",
       "      <td>0.0</td>\n",
       "      <td>80.000000</td>\n",
       "      <td>1013.500000</td>\n",
       "      <td>NaN</td>\n",
       "      <td>0.0</td>\n",
       "      <td>0.0</td>\n",
       "      <td>-0.0</td>\n",
       "      <td>0.1</td>\n",
       "      <td>356.635010</td>\n",
       "      <td>-11.884000</td>\n",
       "      <td>0.1</td>\n",
       "      <td>274.200012</td>\n",
       "      <td>100.000000</td>\n",
       "      <td>9955.500000</td>\n",
       "      <td>3.7</td>\n",
       "      <td>2.8</td>\n",
       "      <td>2.5</td>\n",
       "      <td>-0.0</td>\n",
       "    </tr>\n",
       "    <tr>\n",
       "      <th>17573</th>\n",
       "      <td>2023-04-29 07:00:05</td>\n",
       "      <td>2023-04-30 23:15:00</td>\n",
       "      <td>4.5</td>\n",
       "      <td>1.280</td>\n",
       "      <td>1437.300049</td>\n",
       "      <td>0.0</td>\n",
       "      <td>0.0</td>\n",
       "      <td>531.500000</td>\n",
       "      <td>0.0</td>\n",
       "      <td>272.200012</td>\n",
       "      <td>0.0</td>\n",
       "      <td>0.0</td>\n",
       "      <td>0.0</td>\n",
       "      <td>0.0</td>\n",
       "      <td>99.400002</td>\n",
       "      <td>7.0</td>\n",
       "      <td>0.0</td>\n",
       "      <td>0.0</td>\n",
       "      <td>0.0</td>\n",
       "      <td>0.0</td>\n",
       "      <td>0.0</td>\n",
       "      <td>0.0</td>\n",
       "      <td>1.0</td>\n",
       "      <td>1014.200012</td>\n",
       "      <td>0.0</td>\n",
       "      <td>0.0</td>\n",
       "      <td>1000.799988</td>\n",
       "      <td>1007.099976</td>\n",
       "      <td>0.0</td>\n",
       "      <td>0.0</td>\n",
       "      <td>79.900002</td>\n",
       "      <td>1013.299988</td>\n",
       "      <td>NaN</td>\n",
       "      <td>0.0</td>\n",
       "      <td>0.0</td>\n",
       "      <td>-0.0</td>\n",
       "      <td>0.1</td>\n",
       "      <td>0.353000</td>\n",
       "      <td>-11.928000</td>\n",
       "      <td>0.1</td>\n",
       "      <td>274.200012</td>\n",
       "      <td>99.900002</td>\n",
       "      <td>11324.400391</td>\n",
       "      <td>3.7</td>\n",
       "      <td>2.8</td>\n",
       "      <td>2.5</td>\n",
       "      <td>-0.0</td>\n",
       "    </tr>\n",
       "    <tr>\n",
       "      <th>17574</th>\n",
       "      <td>2023-04-29 07:00:05</td>\n",
       "      <td>2023-04-30 23:30:00</td>\n",
       "      <td>4.5</td>\n",
       "      <td>1.280</td>\n",
       "      <td>1818.699951</td>\n",
       "      <td>0.0</td>\n",
       "      <td>0.0</td>\n",
       "      <td>520.900024</td>\n",
       "      <td>0.0</td>\n",
       "      <td>272.299988</td>\n",
       "      <td>0.0</td>\n",
       "      <td>0.0</td>\n",
       "      <td>0.0</td>\n",
       "      <td>0.0</td>\n",
       "      <td>98.099998</td>\n",
       "      <td>7.0</td>\n",
       "      <td>0.0</td>\n",
       "      <td>0.0</td>\n",
       "      <td>0.0</td>\n",
       "      <td>0.0</td>\n",
       "      <td>0.0</td>\n",
       "      <td>0.0</td>\n",
       "      <td>1.0</td>\n",
       "      <td>1014.000000</td>\n",
       "      <td>0.0</td>\n",
       "      <td>0.0</td>\n",
       "      <td>1000.700012</td>\n",
       "      <td>1006.900024</td>\n",
       "      <td>0.0</td>\n",
       "      <td>0.0</td>\n",
       "      <td>79.800003</td>\n",
       "      <td>1013.200012</td>\n",
       "      <td>NaN</td>\n",
       "      <td>0.0</td>\n",
       "      <td>0.0</td>\n",
       "      <td>-0.0</td>\n",
       "      <td>0.0</td>\n",
       "      <td>4.070000</td>\n",
       "      <td>-11.863000</td>\n",
       "      <td>0.1</td>\n",
       "      <td>274.299988</td>\n",
       "      <td>99.599998</td>\n",
       "      <td>12693.599609</td>\n",
       "      <td>3.8</td>\n",
       "      <td>2.7</td>\n",
       "      <td>2.6</td>\n",
       "      <td>-0.0</td>\n",
       "    </tr>\n",
       "    <tr>\n",
       "      <th>17575</th>\n",
       "      <td>2023-04-29 07:00:05</td>\n",
       "      <td>2023-04-30 23:45:00</td>\n",
       "      <td>4.5</td>\n",
       "      <td>1.280</td>\n",
       "      <td>2200.100098</td>\n",
       "      <td>0.0</td>\n",
       "      <td>0.0</td>\n",
       "      <td>510.299988</td>\n",
       "      <td>0.0</td>\n",
       "      <td>272.299988</td>\n",
       "      <td>0.0</td>\n",
       "      <td>0.0</td>\n",
       "      <td>0.0</td>\n",
       "      <td>0.0</td>\n",
       "      <td>96.199997</td>\n",
       "      <td>7.0</td>\n",
       "      <td>0.0</td>\n",
       "      <td>0.0</td>\n",
       "      <td>0.0</td>\n",
       "      <td>0.0</td>\n",
       "      <td>0.0</td>\n",
       "      <td>0.0</td>\n",
       "      <td>1.0</td>\n",
       "      <td>1013.900024</td>\n",
       "      <td>0.0</td>\n",
       "      <td>0.0</td>\n",
       "      <td>1000.500000</td>\n",
       "      <td>1006.799988</td>\n",
       "      <td>0.0</td>\n",
       "      <td>0.0</td>\n",
       "      <td>79.699997</td>\n",
       "      <td>1013.099976</td>\n",
       "      <td>NaN</td>\n",
       "      <td>0.0</td>\n",
       "      <td>0.0</td>\n",
       "      <td>-0.0</td>\n",
       "      <td>0.0</td>\n",
       "      <td>7.782000</td>\n",
       "      <td>-11.690000</td>\n",
       "      <td>0.0</td>\n",
       "      <td>274.299988</td>\n",
       "      <td>99.300003</td>\n",
       "      <td>14062.900391</td>\n",
       "      <td>3.8</td>\n",
       "      <td>2.7</td>\n",
       "      <td>2.7</td>\n",
       "      <td>-0.0</td>\n",
       "    </tr>\n",
       "  </tbody>\n",
       "</table>\n",
       "<p>17576 rows × 47 columns</p>\n",
       "</div>"
      ],
      "text/plain": [
       "                date_calc       date_forecast  absolute_humidity_2m:gm3  \\\n",
       "0     2022-10-27 07:00:18 2022-10-28 22:00:00                       8.4   \n",
       "1     2022-10-27 07:00:18 2022-10-28 22:15:00                       8.4   \n",
       "2     2022-10-27 07:00:18 2022-10-28 22:30:00                       8.4   \n",
       "3     2022-10-27 07:00:18 2022-10-28 22:45:00                       8.4   \n",
       "4     2022-10-27 07:00:18 2022-10-28 23:00:00                       8.5   \n",
       "...                   ...                 ...                       ...   \n",
       "17571 2023-04-29 07:00:05 2023-04-30 22:45:00                       4.5   \n",
       "17572 2023-04-29 07:00:05 2023-04-30 23:00:00                       4.5   \n",
       "17573 2023-04-29 07:00:05 2023-04-30 23:15:00                       4.5   \n",
       "17574 2023-04-29 07:00:05 2023-04-30 23:30:00                       4.5   \n",
       "17575 2023-04-29 07:00:05 2023-04-30 23:45:00                       4.5   \n",
       "\n",
       "       air_density_2m:kgm3  ceiling_height_agl:m  clear_sky_energy_1h:J  \\\n",
       "0                    1.233           1425.099976                    0.0   \n",
       "1                    1.233           2086.000000                    0.0   \n",
       "2                    1.232           2746.899902                    0.0   \n",
       "3                    1.232           3407.800049                    0.0   \n",
       "4                    1.231           4068.699951                    0.0   \n",
       "...                    ...                   ...                    ...   \n",
       "17571                1.280           1175.400024                    0.0   \n",
       "17572                1.281           1055.800049                    0.0   \n",
       "17573                1.280           1437.300049                    0.0   \n",
       "17574                1.280           1818.699951                    0.0   \n",
       "17575                1.280           2200.100098                    0.0   \n",
       "\n",
       "       clear_sky_rad:W  cloud_base_agl:m  dew_or_rime:idx  dew_point_2m:K  \\\n",
       "0                  0.0       1211.900024              1.0      281.399994   \n",
       "1                  0.0       1562.500000              1.0      281.399994   \n",
       "2                  0.0       1913.099976              1.0      281.500000   \n",
       "3                  0.0       2263.699951              1.0      281.500000   \n",
       "4                  0.0       2614.300049              1.0      281.500000   \n",
       "...                ...               ...              ...             ...   \n",
       "17571              0.0        536.299988              0.0      272.200012   \n",
       "17572              0.0        542.099976              0.0      272.200012   \n",
       "17573              0.0        531.500000              0.0      272.200012   \n",
       "17574              0.0        520.900024              0.0      272.299988   \n",
       "17575              0.0        510.299988              0.0      272.299988   \n",
       "\n",
       "       diffuse_rad:W  diffuse_rad_1h:J  direct_rad:W  direct_rad_1h:J  \\\n",
       "0                0.0               0.0           0.0              0.0   \n",
       "1                0.0               0.0           0.0              0.0   \n",
       "2                0.0               0.0           0.0              0.0   \n",
       "3                0.0               0.0           0.0              0.0   \n",
       "4                0.0               0.0           0.0              0.0   \n",
       "...              ...               ...           ...              ...   \n",
       "17571            0.0               0.0           0.0              0.0   \n",
       "17572            0.0               0.0           0.0              0.0   \n",
       "17573            0.0               0.0           0.0              0.0   \n",
       "17574            0.0               0.0           0.0              0.0   \n",
       "17575            0.0               0.0           0.0              0.0   \n",
       "\n",
       "       effective_cloud_cover:p  elevation:m  fresh_snow_12h:cm  \\\n",
       "0                   100.000000          7.0                0.0   \n",
       "1                   100.000000          7.0                0.0   \n",
       "2                   100.000000          7.0                0.0   \n",
       "3                   100.000000          7.0                0.0   \n",
       "4                   100.000000          7.0                0.0   \n",
       "...                        ...          ...                ...   \n",
       "17571                99.599998          7.0                0.0   \n",
       "17572               100.000000          7.0                0.0   \n",
       "17573                99.400002          7.0                0.0   \n",
       "17574                98.099998          7.0                0.0   \n",
       "17575                96.199997          7.0                0.0   \n",
       "\n",
       "       fresh_snow_1h:cm  fresh_snow_24h:cm  fresh_snow_3h:cm  \\\n",
       "0                   0.0                0.0               0.0   \n",
       "1                   0.0                0.0               0.0   \n",
       "2                   0.0                0.0               0.0   \n",
       "3                   0.0                0.0               0.0   \n",
       "4                   0.0                0.0               0.0   \n",
       "...                 ...                ...               ...   \n",
       "17571               0.0                0.0               0.0   \n",
       "17572               0.0                0.0               0.0   \n",
       "17573               0.0                0.0               0.0   \n",
       "17574               0.0                0.0               0.0   \n",
       "17575               0.0                0.0               0.0   \n",
       "\n",
       "       fresh_snow_6h:cm  is_day:idx  is_in_shadow:idx  msl_pressure:hPa  \\\n",
       "0                   0.0         0.0               1.0       1001.099976   \n",
       "1                   0.0         0.0               1.0       1000.799988   \n",
       "2                   0.0         0.0               1.0       1000.500000   \n",
       "3                   0.0         0.0               1.0       1000.200012   \n",
       "4                   0.0         0.0               1.0        999.900024   \n",
       "...                 ...         ...               ...               ...   \n",
       "17571               0.0         0.0               1.0       1014.400024   \n",
       "17572               0.0         0.0               1.0       1014.299988   \n",
       "17573               0.0         0.0               1.0       1014.200012   \n",
       "17574               0.0         0.0               1.0       1014.000000   \n",
       "17575               0.0         0.0               1.0       1013.900024   \n",
       "\n",
       "       precip_5min:mm  precip_type_5min:idx  pressure_100m:hPa  \\\n",
       "0                 0.0                   0.0         988.400024   \n",
       "1                 0.0                   0.0         988.099976   \n",
       "2                 0.0                   0.0         987.799988   \n",
       "3                 0.0                   0.0         987.500000   \n",
       "4                 0.0                   0.0         987.200012   \n",
       "...               ...                   ...                ...   \n",
       "17571             0.0                   0.0        1001.000000   \n",
       "17572             0.0                   0.0        1001.000000   \n",
       "17573             0.0                   0.0        1000.799988   \n",
       "17574             0.0                   0.0        1000.700012   \n",
       "17575             0.0                   0.0        1000.500000   \n",
       "\n",
       "       pressure_50m:hPa  prob_rime:p  rain_water:kgm2  \\\n",
       "0            994.400024          0.0              0.0   \n",
       "1            994.099976          0.0              0.1   \n",
       "2            993.799988          0.0              0.1   \n",
       "3            993.500000          0.0              0.1   \n",
       "4            993.200012          0.0              0.1   \n",
       "...                 ...          ...              ...   \n",
       "17571       1007.299988          0.0              0.0   \n",
       "17572       1007.200012          0.0              0.0   \n",
       "17573       1007.099976          0.0              0.0   \n",
       "17574       1006.900024          0.0              0.0   \n",
       "17575       1006.799988          0.0              0.0   \n",
       "\n",
       "       relative_humidity_1000hPa:p  sfc_pressure:hPa  snow_density:kgm3  \\\n",
       "0                        92.699997       1000.500000                NaN   \n",
       "1                        92.699997       1000.099976                NaN   \n",
       "2                        92.599998        999.799988                NaN   \n",
       "3                        92.599998        999.500000                NaN   \n",
       "4                        92.599998        999.200012                NaN   \n",
       "...                            ...               ...                ...   \n",
       "17571                    79.599998       1013.599976                NaN   \n",
       "17572                    80.000000       1013.500000                NaN   \n",
       "17573                    79.900002       1013.299988                NaN   \n",
       "17574                    79.800003       1013.200012                NaN   \n",
       "17575                    79.699997       1013.099976                NaN   \n",
       "\n",
       "       snow_depth:cm  snow_drift:idx  snow_melt_10min:mm  snow_water:kgm2  \\\n",
       "0                0.0             0.0                -0.0              0.4   \n",
       "1                0.0             0.0                -0.0              0.4   \n",
       "2                0.0             0.0                -0.0              0.5   \n",
       "3                0.0             0.0                -0.0              0.6   \n",
       "4                0.0             0.0                -0.0              0.6   \n",
       "...              ...             ...                 ...              ...   \n",
       "17571            0.0             0.0                -0.0              0.1   \n",
       "17572            0.0             0.0                -0.0              0.1   \n",
       "17573            0.0             0.0                -0.0              0.1   \n",
       "17574            0.0             0.0                -0.0              0.0   \n",
       "17575            0.0             0.0                -0.0              0.0   \n",
       "\n",
       "       sun_azimuth:d  sun_elevation:d  super_cooled_liquid_water:kgm2  \\\n",
       "0         340.799988       -38.466000                             0.0   \n",
       "1         345.453003       -38.955002                             0.0   \n",
       "2         350.153992       -39.310001                             0.0   \n",
       "3         354.888000       -39.528999                             0.0   \n",
       "4         359.639008       -39.609001                             0.0   \n",
       "...              ...              ...                             ...   \n",
       "17571     352.920990       -11.731000                             0.1   \n",
       "17572     356.635010       -11.884000                             0.1   \n",
       "17573       0.353000       -11.928000                             0.1   \n",
       "17574       4.070000       -11.863000                             0.1   \n",
       "17575       7.782000       -11.690000                             0.0   \n",
       "\n",
       "       t_1000hPa:K  total_cloud_cover:p  visibility:m  wind_speed_10m:ms  \\\n",
       "0       284.700012           100.000000  29393.500000                0.8   \n",
       "1       284.700012           100.000000  23576.500000                0.7   \n",
       "2       284.700012           100.000000  17780.300781                0.7   \n",
       "3       284.600006           100.000000  12005.099609                0.6   \n",
       "4       284.600006           100.000000   6250.600098                0.6   \n",
       "...            ...                  ...           ...                ...   \n",
       "17571   274.200012            99.900002  11721.799805                3.9   \n",
       "17572   274.200012           100.000000   9955.500000                3.7   \n",
       "17573   274.200012            99.900002  11324.400391                3.7   \n",
       "17574   274.299988            99.599998  12693.599609                3.8   \n",
       "17575   274.299988            99.300003  14062.900391                3.8   \n",
       "\n",
       "       wind_speed_u_10m:ms  wind_speed_v_10m:ms  wind_speed_w_1000hPa:ms  \n",
       "0                     -0.4                  0.7                     -0.0  \n",
       "1                     -0.4                  0.6                     -0.0  \n",
       "2                     -0.3                  0.6                     -0.0  \n",
       "3                     -0.2                  0.6                     -0.0  \n",
       "4                     -0.1                  0.6                     -0.0  \n",
       "...                    ...                  ...                      ...  \n",
       "17571                  3.0                  2.5                     -0.0  \n",
       "17572                  2.8                  2.5                     -0.0  \n",
       "17573                  2.8                  2.5                     -0.0  \n",
       "17574                  2.7                  2.6                     -0.0  \n",
       "17575                  2.7                  2.7                     -0.0  \n",
       "\n",
       "[17576 rows x 47 columns]"
      ]
     },
     "metadata": {},
     "output_type": "display_data"
    },
    {
     "data": {
      "text/plain": [
       "'B'"
      ]
     },
     "metadata": {},
     "output_type": "display_data"
    },
    {
     "data": {
      "text/plain": [
       "'train_obs'"
      ]
     },
     "metadata": {},
     "output_type": "display_data"
    },
    {
     "data": {
      "text/html": [
       "<div>\n",
       "<style scoped>\n",
       "    .dataframe tbody tr th:only-of-type {\n",
       "        vertical-align: middle;\n",
       "    }\n",
       "\n",
       "    .dataframe tbody tr th {\n",
       "        vertical-align: top;\n",
       "    }\n",
       "\n",
       "    .dataframe thead th {\n",
       "        text-align: right;\n",
       "    }\n",
       "</style>\n",
       "<table border=\"1\" class=\"dataframe\">\n",
       "  <thead>\n",
       "    <tr style=\"text-align: right;\">\n",
       "      <th></th>\n",
       "      <th>date_forecast</th>\n",
       "      <th>absolute_humidity_2m:gm3</th>\n",
       "      <th>air_density_2m:kgm3</th>\n",
       "      <th>ceiling_height_agl:m</th>\n",
       "      <th>clear_sky_energy_1h:J</th>\n",
       "      <th>clear_sky_rad:W</th>\n",
       "      <th>cloud_base_agl:m</th>\n",
       "      <th>dew_or_rime:idx</th>\n",
       "      <th>dew_point_2m:K</th>\n",
       "      <th>diffuse_rad:W</th>\n",
       "      <th>diffuse_rad_1h:J</th>\n",
       "      <th>direct_rad:W</th>\n",
       "      <th>direct_rad_1h:J</th>\n",
       "      <th>effective_cloud_cover:p</th>\n",
       "      <th>elevation:m</th>\n",
       "      <th>fresh_snow_12h:cm</th>\n",
       "      <th>fresh_snow_1h:cm</th>\n",
       "      <th>fresh_snow_24h:cm</th>\n",
       "      <th>fresh_snow_3h:cm</th>\n",
       "      <th>fresh_snow_6h:cm</th>\n",
       "      <th>is_day:idx</th>\n",
       "      <th>is_in_shadow:idx</th>\n",
       "      <th>msl_pressure:hPa</th>\n",
       "      <th>precip_5min:mm</th>\n",
       "      <th>precip_type_5min:idx</th>\n",
       "      <th>pressure_100m:hPa</th>\n",
       "      <th>pressure_50m:hPa</th>\n",
       "      <th>prob_rime:p</th>\n",
       "      <th>rain_water:kgm2</th>\n",
       "      <th>relative_humidity_1000hPa:p</th>\n",
       "      <th>sfc_pressure:hPa</th>\n",
       "      <th>snow_density:kgm3</th>\n",
       "      <th>snow_depth:cm</th>\n",
       "      <th>snow_drift:idx</th>\n",
       "      <th>snow_melt_10min:mm</th>\n",
       "      <th>snow_water:kgm2</th>\n",
       "      <th>sun_azimuth:d</th>\n",
       "      <th>sun_elevation:d</th>\n",
       "      <th>super_cooled_liquid_water:kgm2</th>\n",
       "      <th>t_1000hPa:K</th>\n",
       "      <th>total_cloud_cover:p</th>\n",
       "      <th>visibility:m</th>\n",
       "      <th>wind_speed_10m:ms</th>\n",
       "      <th>wind_speed_u_10m:ms</th>\n",
       "      <th>wind_speed_v_10m:ms</th>\n",
       "      <th>wind_speed_w_1000hPa:ms</th>\n",
       "    </tr>\n",
       "  </thead>\n",
       "  <tbody>\n",
       "    <tr>\n",
       "      <th>0</th>\n",
       "      <td>2019-01-01 00:00:00</td>\n",
       "      <td>5.6</td>\n",
       "      <td>1.239</td>\n",
       "      <td>1226.400024</td>\n",
       "      <td>0.0</td>\n",
       "      <td>0.0</td>\n",
       "      <td>1226.400024</td>\n",
       "      <td>0.0</td>\n",
       "      <td>275.399994</td>\n",
       "      <td>0.0</td>\n",
       "      <td>0.0</td>\n",
       "      <td>0.0</td>\n",
       "      <td>0.0</td>\n",
       "      <td>69.599998</td>\n",
       "      <td>7.0</td>\n",
       "      <td>0.0</td>\n",
       "      <td>0.0</td>\n",
       "      <td>0.0</td>\n",
       "      <td>0.0</td>\n",
       "      <td>0.0</td>\n",
       "      <td>0.0</td>\n",
       "      <td>1.0</td>\n",
       "      <td>987.400024</td>\n",
       "      <td>0.00</td>\n",
       "      <td>0.0</td>\n",
       "      <td>974.500000</td>\n",
       "      <td>980.599976</td>\n",
       "      <td>0.0</td>\n",
       "      <td>0.0</td>\n",
       "      <td>89.199997</td>\n",
       "      <td>986.599976</td>\n",
       "      <td>NaN</td>\n",
       "      <td>0.0</td>\n",
       "      <td>0.0</td>\n",
       "      <td>-0.0</td>\n",
       "      <td>0.0</td>\n",
       "      <td>12.985000</td>\n",
       "      <td>-49.139999</td>\n",
       "      <td>0.0</td>\n",
       "      <td>278.399994</td>\n",
       "      <td>73.900002</td>\n",
       "      <td>19275.900391</td>\n",
       "      <td>2.5</td>\n",
       "      <td>1.1</td>\n",
       "      <td>2.2</td>\n",
       "      <td>-0.0</td>\n",
       "    </tr>\n",
       "    <tr>\n",
       "      <th>1</th>\n",
       "      <td>2019-01-01 00:15:00</td>\n",
       "      <td>5.6</td>\n",
       "      <td>1.239</td>\n",
       "      <td>1209.300049</td>\n",
       "      <td>0.0</td>\n",
       "      <td>0.0</td>\n",
       "      <td>1209.300049</td>\n",
       "      <td>0.0</td>\n",
       "      <td>275.200012</td>\n",
       "      <td>0.0</td>\n",
       "      <td>0.0</td>\n",
       "      <td>0.0</td>\n",
       "      <td>0.0</td>\n",
       "      <td>78.599998</td>\n",
       "      <td>7.0</td>\n",
       "      <td>0.0</td>\n",
       "      <td>0.0</td>\n",
       "      <td>0.0</td>\n",
       "      <td>0.0</td>\n",
       "      <td>0.0</td>\n",
       "      <td>0.0</td>\n",
       "      <td>1.0</td>\n",
       "      <td>987.099976</td>\n",
       "      <td>0.05</td>\n",
       "      <td>1.0</td>\n",
       "      <td>974.200012</td>\n",
       "      <td>980.299988</td>\n",
       "      <td>0.0</td>\n",
       "      <td>0.0</td>\n",
       "      <td>89.099998</td>\n",
       "      <td>986.400024</td>\n",
       "      <td>NaN</td>\n",
       "      <td>0.0</td>\n",
       "      <td>0.0</td>\n",
       "      <td>-0.0</td>\n",
       "      <td>0.0</td>\n",
       "      <td>18.205999</td>\n",
       "      <td>-48.688000</td>\n",
       "      <td>0.0</td>\n",
       "      <td>278.299988</td>\n",
       "      <td>83.800003</td>\n",
       "      <td>17638.000000</td>\n",
       "      <td>2.7</td>\n",
       "      <td>1.2</td>\n",
       "      <td>2.4</td>\n",
       "      <td>-0.0</td>\n",
       "    </tr>\n",
       "    <tr>\n",
       "      <th>2</th>\n",
       "      <td>2019-01-01 00:30:00</td>\n",
       "      <td>5.5</td>\n",
       "      <td>1.240</td>\n",
       "      <td>1192.099976</td>\n",
       "      <td>0.0</td>\n",
       "      <td>0.0</td>\n",
       "      <td>1192.099976</td>\n",
       "      <td>0.0</td>\n",
       "      <td>275.100006</td>\n",
       "      <td>0.0</td>\n",
       "      <td>0.0</td>\n",
       "      <td>0.0</td>\n",
       "      <td>0.0</td>\n",
       "      <td>86.300003</td>\n",
       "      <td>7.0</td>\n",
       "      <td>0.0</td>\n",
       "      <td>0.0</td>\n",
       "      <td>0.0</td>\n",
       "      <td>0.0</td>\n",
       "      <td>0.0</td>\n",
       "      <td>0.0</td>\n",
       "      <td>1.0</td>\n",
       "      <td>986.900024</td>\n",
       "      <td>0.05</td>\n",
       "      <td>1.0</td>\n",
       "      <td>974.000000</td>\n",
       "      <td>980.000000</td>\n",
       "      <td>0.0</td>\n",
       "      <td>0.0</td>\n",
       "      <td>89.099998</td>\n",
       "      <td>986.099976</td>\n",
       "      <td>NaN</td>\n",
       "      <td>0.0</td>\n",
       "      <td>0.0</td>\n",
       "      <td>-0.0</td>\n",
       "      <td>0.1</td>\n",
       "      <td>23.339001</td>\n",
       "      <td>-48.091000</td>\n",
       "      <td>0.0</td>\n",
       "      <td>278.200012</td>\n",
       "      <td>91.199997</td>\n",
       "      <td>16008.799805</td>\n",
       "      <td>2.9</td>\n",
       "      <td>1.2</td>\n",
       "      <td>2.7</td>\n",
       "      <td>-0.0</td>\n",
       "    </tr>\n",
       "    <tr>\n",
       "      <th>3</th>\n",
       "      <td>2019-01-01 00:45:00</td>\n",
       "      <td>5.4</td>\n",
       "      <td>1.241</td>\n",
       "      <td>1174.900024</td>\n",
       "      <td>0.0</td>\n",
       "      <td>0.0</td>\n",
       "      <td>1174.900024</td>\n",
       "      <td>0.0</td>\n",
       "      <td>274.899994</td>\n",
       "      <td>0.0</td>\n",
       "      <td>0.0</td>\n",
       "      <td>0.0</td>\n",
       "      <td>0.0</td>\n",
       "      <td>92.800003</td>\n",
       "      <td>7.0</td>\n",
       "      <td>0.0</td>\n",
       "      <td>0.0</td>\n",
       "      <td>0.0</td>\n",
       "      <td>0.0</td>\n",
       "      <td>0.0</td>\n",
       "      <td>0.0</td>\n",
       "      <td>1.0</td>\n",
       "      <td>986.599976</td>\n",
       "      <td>0.05</td>\n",
       "      <td>1.0</td>\n",
       "      <td>973.700012</td>\n",
       "      <td>979.799988</td>\n",
       "      <td>0.0</td>\n",
       "      <td>0.0</td>\n",
       "      <td>89.000000</td>\n",
       "      <td>985.799988</td>\n",
       "      <td>NaN</td>\n",
       "      <td>0.0</td>\n",
       "      <td>0.0</td>\n",
       "      <td>-0.0</td>\n",
       "      <td>0.1</td>\n",
       "      <td>28.367001</td>\n",
       "      <td>-47.358002</td>\n",
       "      <td>0.0</td>\n",
       "      <td>278.100006</td>\n",
       "      <td>96.400002</td>\n",
       "      <td>14388.500000</td>\n",
       "      <td>3.1</td>\n",
       "      <td>1.2</td>\n",
       "      <td>2.9</td>\n",
       "      <td>-0.0</td>\n",
       "    </tr>\n",
       "    <tr>\n",
       "      <th>4</th>\n",
       "      <td>2019-01-01 01:00:00</td>\n",
       "      <td>5.4</td>\n",
       "      <td>1.241</td>\n",
       "      <td>1157.599976</td>\n",
       "      <td>0.0</td>\n",
       "      <td>0.0</td>\n",
       "      <td>1157.599976</td>\n",
       "      <td>0.0</td>\n",
       "      <td>274.700012</td>\n",
       "      <td>0.0</td>\n",
       "      <td>0.0</td>\n",
       "      <td>0.0</td>\n",
       "      <td>0.0</td>\n",
       "      <td>98.099998</td>\n",
       "      <td>7.0</td>\n",
       "      <td>0.0</td>\n",
       "      <td>0.0</td>\n",
       "      <td>0.0</td>\n",
       "      <td>0.0</td>\n",
       "      <td>0.0</td>\n",
       "      <td>0.0</td>\n",
       "      <td>1.0</td>\n",
       "      <td>986.299988</td>\n",
       "      <td>0.05</td>\n",
       "      <td>1.0</td>\n",
       "      <td>973.400024</td>\n",
       "      <td>979.500000</td>\n",
       "      <td>0.0</td>\n",
       "      <td>0.0</td>\n",
       "      <td>88.900002</td>\n",
       "      <td>985.599976</td>\n",
       "      <td>NaN</td>\n",
       "      <td>0.0</td>\n",
       "      <td>0.0</td>\n",
       "      <td>-0.0</td>\n",
       "      <td>0.1</td>\n",
       "      <td>33.275002</td>\n",
       "      <td>-46.497002</td>\n",
       "      <td>0.0</td>\n",
       "      <td>278.000000</td>\n",
       "      <td>99.400002</td>\n",
       "      <td>12777.299805</td>\n",
       "      <td>3.4</td>\n",
       "      <td>1.3</td>\n",
       "      <td>3.1</td>\n",
       "      <td>-0.0</td>\n",
       "    </tr>\n",
       "    <tr>\n",
       "      <th>...</th>\n",
       "      <td>...</td>\n",
       "      <td>...</td>\n",
       "      <td>...</td>\n",
       "      <td>...</td>\n",
       "      <td>...</td>\n",
       "      <td>...</td>\n",
       "      <td>...</td>\n",
       "      <td>...</td>\n",
       "      <td>...</td>\n",
       "      <td>...</td>\n",
       "      <td>...</td>\n",
       "      <td>...</td>\n",
       "      <td>...</td>\n",
       "      <td>...</td>\n",
       "      <td>...</td>\n",
       "      <td>...</td>\n",
       "      <td>...</td>\n",
       "      <td>...</td>\n",
       "      <td>...</td>\n",
       "      <td>...</td>\n",
       "      <td>...</td>\n",
       "      <td>...</td>\n",
       "      <td>...</td>\n",
       "      <td>...</td>\n",
       "      <td>...</td>\n",
       "      <td>...</td>\n",
       "      <td>...</td>\n",
       "      <td>...</td>\n",
       "      <td>...</td>\n",
       "      <td>...</td>\n",
       "      <td>...</td>\n",
       "      <td>...</td>\n",
       "      <td>...</td>\n",
       "      <td>...</td>\n",
       "      <td>...</td>\n",
       "      <td>...</td>\n",
       "      <td>...</td>\n",
       "      <td>...</td>\n",
       "      <td>...</td>\n",
       "      <td>...</td>\n",
       "      <td>...</td>\n",
       "      <td>...</td>\n",
       "      <td>...</td>\n",
       "      <td>...</td>\n",
       "      <td>...</td>\n",
       "      <td>...</td>\n",
       "    </tr>\n",
       "    <tr>\n",
       "      <th>116924</th>\n",
       "      <td>2022-05-02 23:00:00</td>\n",
       "      <td>4.3</td>\n",
       "      <td>1.282</td>\n",
       "      <td>NaN</td>\n",
       "      <td>0.0</td>\n",
       "      <td>0.0</td>\n",
       "      <td>691.599976</td>\n",
       "      <td>0.0</td>\n",
       "      <td>271.500000</td>\n",
       "      <td>0.0</td>\n",
       "      <td>0.0</td>\n",
       "      <td>0.0</td>\n",
       "      <td>0.0</td>\n",
       "      <td>46.900002</td>\n",
       "      <td>7.0</td>\n",
       "      <td>0.0</td>\n",
       "      <td>0.0</td>\n",
       "      <td>0.0</td>\n",
       "      <td>0.0</td>\n",
       "      <td>0.0</td>\n",
       "      <td>0.0</td>\n",
       "      <td>1.0</td>\n",
       "      <td>1016.599976</td>\n",
       "      <td>0.04</td>\n",
       "      <td>2.0</td>\n",
       "      <td>1003.299988</td>\n",
       "      <td>1009.500000</td>\n",
       "      <td>0.0</td>\n",
       "      <td>0.0</td>\n",
       "      <td>74.199997</td>\n",
       "      <td>1015.799988</td>\n",
       "      <td>NaN</td>\n",
       "      <td>0.0</td>\n",
       "      <td>0.0</td>\n",
       "      <td>-0.0</td>\n",
       "      <td>0.0</td>\n",
       "      <td>356.487000</td>\n",
       "      <td>-11.198000</td>\n",
       "      <td>0.0</td>\n",
       "      <td>274.399994</td>\n",
       "      <td>46.900002</td>\n",
       "      <td>20778.300781</td>\n",
       "      <td>4.4</td>\n",
       "      <td>3.9</td>\n",
       "      <td>-2.0</td>\n",
       "      <td>0.0</td>\n",
       "    </tr>\n",
       "    <tr>\n",
       "      <th>116925</th>\n",
       "      <td>2022-05-02 23:15:00</td>\n",
       "      <td>4.3</td>\n",
       "      <td>1.282</td>\n",
       "      <td>NaN</td>\n",
       "      <td>0.0</td>\n",
       "      <td>0.0</td>\n",
       "      <td>689.000000</td>\n",
       "      <td>0.0</td>\n",
       "      <td>271.500000</td>\n",
       "      <td>0.0</td>\n",
       "      <td>0.0</td>\n",
       "      <td>0.0</td>\n",
       "      <td>0.0</td>\n",
       "      <td>48.200001</td>\n",
       "      <td>7.0</td>\n",
       "      <td>0.0</td>\n",
       "      <td>0.0</td>\n",
       "      <td>0.0</td>\n",
       "      <td>0.0</td>\n",
       "      <td>0.0</td>\n",
       "      <td>0.0</td>\n",
       "      <td>1.0</td>\n",
       "      <td>1016.700012</td>\n",
       "      <td>0.00</td>\n",
       "      <td>0.0</td>\n",
       "      <td>1003.400024</td>\n",
       "      <td>1009.599976</td>\n",
       "      <td>0.0</td>\n",
       "      <td>0.0</td>\n",
       "      <td>74.199997</td>\n",
       "      <td>1015.900024</td>\n",
       "      <td>NaN</td>\n",
       "      <td>0.0</td>\n",
       "      <td>0.0</td>\n",
       "      <td>-0.0</td>\n",
       "      <td>0.0</td>\n",
       "      <td>0.184000</td>\n",
       "      <td>-11.247000</td>\n",
       "      <td>0.0</td>\n",
       "      <td>274.399994</td>\n",
       "      <td>48.200001</td>\n",
       "      <td>20153.599609</td>\n",
       "      <td>4.5</td>\n",
       "      <td>4.0</td>\n",
       "      <td>-2.0</td>\n",
       "      <td>0.0</td>\n",
       "    </tr>\n",
       "    <tr>\n",
       "      <th>116926</th>\n",
       "      <td>2022-05-02 23:30:00</td>\n",
       "      <td>4.3</td>\n",
       "      <td>1.282</td>\n",
       "      <td>NaN</td>\n",
       "      <td>0.0</td>\n",
       "      <td>0.0</td>\n",
       "      <td>686.400024</td>\n",
       "      <td>0.0</td>\n",
       "      <td>271.500000</td>\n",
       "      <td>0.0</td>\n",
       "      <td>0.0</td>\n",
       "      <td>0.0</td>\n",
       "      <td>0.0</td>\n",
       "      <td>49.599998</td>\n",
       "      <td>7.0</td>\n",
       "      <td>0.0</td>\n",
       "      <td>0.0</td>\n",
       "      <td>0.0</td>\n",
       "      <td>0.0</td>\n",
       "      <td>0.0</td>\n",
       "      <td>0.0</td>\n",
       "      <td>1.0</td>\n",
       "      <td>1016.799988</td>\n",
       "      <td>0.00</td>\n",
       "      <td>0.0</td>\n",
       "      <td>1003.500000</td>\n",
       "      <td>1009.700012</td>\n",
       "      <td>0.0</td>\n",
       "      <td>0.0</td>\n",
       "      <td>74.099998</td>\n",
       "      <td>1016.000000</td>\n",
       "      <td>NaN</td>\n",
       "      <td>0.0</td>\n",
       "      <td>0.0</td>\n",
       "      <td>-0.0</td>\n",
       "      <td>0.0</td>\n",
       "      <td>3.881000</td>\n",
       "      <td>-11.187000</td>\n",
       "      <td>0.0</td>\n",
       "      <td>274.299988</td>\n",
       "      <td>49.599998</td>\n",
       "      <td>19528.699219</td>\n",
       "      <td>4.5</td>\n",
       "      <td>4.1</td>\n",
       "      <td>-2.0</td>\n",
       "      <td>0.0</td>\n",
       "    </tr>\n",
       "    <tr>\n",
       "      <th>116927</th>\n",
       "      <td>2022-05-02 23:45:00</td>\n",
       "      <td>4.2</td>\n",
       "      <td>1.283</td>\n",
       "      <td>NaN</td>\n",
       "      <td>0.0</td>\n",
       "      <td>0.0</td>\n",
       "      <td>683.799988</td>\n",
       "      <td>0.0</td>\n",
       "      <td>271.399994</td>\n",
       "      <td>0.0</td>\n",
       "      <td>0.0</td>\n",
       "      <td>0.0</td>\n",
       "      <td>0.0</td>\n",
       "      <td>51.000000</td>\n",
       "      <td>7.0</td>\n",
       "      <td>0.0</td>\n",
       "      <td>0.0</td>\n",
       "      <td>0.0</td>\n",
       "      <td>0.0</td>\n",
       "      <td>0.0</td>\n",
       "      <td>0.0</td>\n",
       "      <td>1.0</td>\n",
       "      <td>1016.900024</td>\n",
       "      <td>0.00</td>\n",
       "      <td>0.0</td>\n",
       "      <td>1003.599976</td>\n",
       "      <td>1009.799988</td>\n",
       "      <td>0.0</td>\n",
       "      <td>0.0</td>\n",
       "      <td>74.099998</td>\n",
       "      <td>1016.099976</td>\n",
       "      <td>NaN</td>\n",
       "      <td>0.0</td>\n",
       "      <td>0.0</td>\n",
       "      <td>-0.0</td>\n",
       "      <td>0.0</td>\n",
       "      <td>7.573000</td>\n",
       "      <td>-11.019000</td>\n",
       "      <td>0.0</td>\n",
       "      <td>274.200012</td>\n",
       "      <td>51.000000</td>\n",
       "      <td>18903.699219</td>\n",
       "      <td>4.6</td>\n",
       "      <td>4.1</td>\n",
       "      <td>-2.0</td>\n",
       "      <td>0.0</td>\n",
       "    </tr>\n",
       "    <tr>\n",
       "      <th>116928</th>\n",
       "      <td>2022-05-03 00:00:00</td>\n",
       "      <td>4.2</td>\n",
       "      <td>1.283</td>\n",
       "      <td>NaN</td>\n",
       "      <td>0.0</td>\n",
       "      <td>0.0</td>\n",
       "      <td>681.200012</td>\n",
       "      <td>0.0</td>\n",
       "      <td>271.399994</td>\n",
       "      <td>0.0</td>\n",
       "      <td>0.0</td>\n",
       "      <td>0.0</td>\n",
       "      <td>0.0</td>\n",
       "      <td>52.299999</td>\n",
       "      <td>7.0</td>\n",
       "      <td>0.0</td>\n",
       "      <td>0.0</td>\n",
       "      <td>0.0</td>\n",
       "      <td>0.0</td>\n",
       "      <td>0.0</td>\n",
       "      <td>0.0</td>\n",
       "      <td>1.0</td>\n",
       "      <td>1017.000000</td>\n",
       "      <td>0.00</td>\n",
       "      <td>0.0</td>\n",
       "      <td>1003.599976</td>\n",
       "      <td>1009.900024</td>\n",
       "      <td>0.0</td>\n",
       "      <td>0.0</td>\n",
       "      <td>74.099998</td>\n",
       "      <td>1016.200012</td>\n",
       "      <td>NaN</td>\n",
       "      <td>0.0</td>\n",
       "      <td>0.0</td>\n",
       "      <td>-0.0</td>\n",
       "      <td>0.0</td>\n",
       "      <td>10.293000</td>\n",
       "      <td>-10.528000</td>\n",
       "      <td>0.0</td>\n",
       "      <td>274.200012</td>\n",
       "      <td>52.299999</td>\n",
       "      <td>18278.500000</td>\n",
       "      <td>4.6</td>\n",
       "      <td>4.2</td>\n",
       "      <td>-2.0</td>\n",
       "      <td>0.0</td>\n",
       "    </tr>\n",
       "  </tbody>\n",
       "</table>\n",
       "<p>116929 rows × 46 columns</p>\n",
       "</div>"
      ],
      "text/plain": [
       "             date_forecast  absolute_humidity_2m:gm3  air_density_2m:kgm3  \\\n",
       "0      2019-01-01 00:00:00                       5.6                1.239   \n",
       "1      2019-01-01 00:15:00                       5.6                1.239   \n",
       "2      2019-01-01 00:30:00                       5.5                1.240   \n",
       "3      2019-01-01 00:45:00                       5.4                1.241   \n",
       "4      2019-01-01 01:00:00                       5.4                1.241   \n",
       "...                    ...                       ...                  ...   \n",
       "116924 2022-05-02 23:00:00                       4.3                1.282   \n",
       "116925 2022-05-02 23:15:00                       4.3                1.282   \n",
       "116926 2022-05-02 23:30:00                       4.3                1.282   \n",
       "116927 2022-05-02 23:45:00                       4.2                1.283   \n",
       "116928 2022-05-03 00:00:00                       4.2                1.283   \n",
       "\n",
       "        ceiling_height_agl:m  clear_sky_energy_1h:J  clear_sky_rad:W  \\\n",
       "0                1226.400024                    0.0              0.0   \n",
       "1                1209.300049                    0.0              0.0   \n",
       "2                1192.099976                    0.0              0.0   \n",
       "3                1174.900024                    0.0              0.0   \n",
       "4                1157.599976                    0.0              0.0   \n",
       "...                      ...                    ...              ...   \n",
       "116924                   NaN                    0.0              0.0   \n",
       "116925                   NaN                    0.0              0.0   \n",
       "116926                   NaN                    0.0              0.0   \n",
       "116927                   NaN                    0.0              0.0   \n",
       "116928                   NaN                    0.0              0.0   \n",
       "\n",
       "        cloud_base_agl:m  dew_or_rime:idx  dew_point_2m:K  diffuse_rad:W  \\\n",
       "0            1226.400024              0.0      275.399994            0.0   \n",
       "1            1209.300049              0.0      275.200012            0.0   \n",
       "2            1192.099976              0.0      275.100006            0.0   \n",
       "3            1174.900024              0.0      274.899994            0.0   \n",
       "4            1157.599976              0.0      274.700012            0.0   \n",
       "...                  ...              ...             ...            ...   \n",
       "116924        691.599976              0.0      271.500000            0.0   \n",
       "116925        689.000000              0.0      271.500000            0.0   \n",
       "116926        686.400024              0.0      271.500000            0.0   \n",
       "116927        683.799988              0.0      271.399994            0.0   \n",
       "116928        681.200012              0.0      271.399994            0.0   \n",
       "\n",
       "        diffuse_rad_1h:J  direct_rad:W  direct_rad_1h:J  \\\n",
       "0                    0.0           0.0              0.0   \n",
       "1                    0.0           0.0              0.0   \n",
       "2                    0.0           0.0              0.0   \n",
       "3                    0.0           0.0              0.0   \n",
       "4                    0.0           0.0              0.0   \n",
       "...                  ...           ...              ...   \n",
       "116924               0.0           0.0              0.0   \n",
       "116925               0.0           0.0              0.0   \n",
       "116926               0.0           0.0              0.0   \n",
       "116927               0.0           0.0              0.0   \n",
       "116928               0.0           0.0              0.0   \n",
       "\n",
       "        effective_cloud_cover:p  elevation:m  fresh_snow_12h:cm  \\\n",
       "0                     69.599998          7.0                0.0   \n",
       "1                     78.599998          7.0                0.0   \n",
       "2                     86.300003          7.0                0.0   \n",
       "3                     92.800003          7.0                0.0   \n",
       "4                     98.099998          7.0                0.0   \n",
       "...                         ...          ...                ...   \n",
       "116924                46.900002          7.0                0.0   \n",
       "116925                48.200001          7.0                0.0   \n",
       "116926                49.599998          7.0                0.0   \n",
       "116927                51.000000          7.0                0.0   \n",
       "116928                52.299999          7.0                0.0   \n",
       "\n",
       "        fresh_snow_1h:cm  fresh_snow_24h:cm  fresh_snow_3h:cm  \\\n",
       "0                    0.0                0.0               0.0   \n",
       "1                    0.0                0.0               0.0   \n",
       "2                    0.0                0.0               0.0   \n",
       "3                    0.0                0.0               0.0   \n",
       "4                    0.0                0.0               0.0   \n",
       "...                  ...                ...               ...   \n",
       "116924               0.0                0.0               0.0   \n",
       "116925               0.0                0.0               0.0   \n",
       "116926               0.0                0.0               0.0   \n",
       "116927               0.0                0.0               0.0   \n",
       "116928               0.0                0.0               0.0   \n",
       "\n",
       "        fresh_snow_6h:cm  is_day:idx  is_in_shadow:idx  msl_pressure:hPa  \\\n",
       "0                    0.0         0.0               1.0        987.400024   \n",
       "1                    0.0         0.0               1.0        987.099976   \n",
       "2                    0.0         0.0               1.0        986.900024   \n",
       "3                    0.0         0.0               1.0        986.599976   \n",
       "4                    0.0         0.0               1.0        986.299988   \n",
       "...                  ...         ...               ...               ...   \n",
       "116924               0.0         0.0               1.0       1016.599976   \n",
       "116925               0.0         0.0               1.0       1016.700012   \n",
       "116926               0.0         0.0               1.0       1016.799988   \n",
       "116927               0.0         0.0               1.0       1016.900024   \n",
       "116928               0.0         0.0               1.0       1017.000000   \n",
       "\n",
       "        precip_5min:mm  precip_type_5min:idx  pressure_100m:hPa  \\\n",
       "0                 0.00                   0.0         974.500000   \n",
       "1                 0.05                   1.0         974.200012   \n",
       "2                 0.05                   1.0         974.000000   \n",
       "3                 0.05                   1.0         973.700012   \n",
       "4                 0.05                   1.0         973.400024   \n",
       "...                ...                   ...                ...   \n",
       "116924            0.04                   2.0        1003.299988   \n",
       "116925            0.00                   0.0        1003.400024   \n",
       "116926            0.00                   0.0        1003.500000   \n",
       "116927            0.00                   0.0        1003.599976   \n",
       "116928            0.00                   0.0        1003.599976   \n",
       "\n",
       "        pressure_50m:hPa  prob_rime:p  rain_water:kgm2  \\\n",
       "0             980.599976          0.0              0.0   \n",
       "1             980.299988          0.0              0.0   \n",
       "2             980.000000          0.0              0.0   \n",
       "3             979.799988          0.0              0.0   \n",
       "4             979.500000          0.0              0.0   \n",
       "...                  ...          ...              ...   \n",
       "116924       1009.500000          0.0              0.0   \n",
       "116925       1009.599976          0.0              0.0   \n",
       "116926       1009.700012          0.0              0.0   \n",
       "116927       1009.799988          0.0              0.0   \n",
       "116928       1009.900024          0.0              0.0   \n",
       "\n",
       "        relative_humidity_1000hPa:p  sfc_pressure:hPa  snow_density:kgm3  \\\n",
       "0                         89.199997        986.599976                NaN   \n",
       "1                         89.099998        986.400024                NaN   \n",
       "2                         89.099998        986.099976                NaN   \n",
       "3                         89.000000        985.799988                NaN   \n",
       "4                         88.900002        985.599976                NaN   \n",
       "...                             ...               ...                ...   \n",
       "116924                    74.199997       1015.799988                NaN   \n",
       "116925                    74.199997       1015.900024                NaN   \n",
       "116926                    74.099998       1016.000000                NaN   \n",
       "116927                    74.099998       1016.099976                NaN   \n",
       "116928                    74.099998       1016.200012                NaN   \n",
       "\n",
       "        snow_depth:cm  snow_drift:idx  snow_melt_10min:mm  snow_water:kgm2  \\\n",
       "0                 0.0             0.0                -0.0              0.0   \n",
       "1                 0.0             0.0                -0.0              0.0   \n",
       "2                 0.0             0.0                -0.0              0.1   \n",
       "3                 0.0             0.0                -0.0              0.1   \n",
       "4                 0.0             0.0                -0.0              0.1   \n",
       "...               ...             ...                 ...              ...   \n",
       "116924            0.0             0.0                -0.0              0.0   \n",
       "116925            0.0             0.0                -0.0              0.0   \n",
       "116926            0.0             0.0                -0.0              0.0   \n",
       "116927            0.0             0.0                -0.0              0.0   \n",
       "116928            0.0             0.0                -0.0              0.0   \n",
       "\n",
       "        sun_azimuth:d  sun_elevation:d  super_cooled_liquid_water:kgm2  \\\n",
       "0           12.985000       -49.139999                             0.0   \n",
       "1           18.205999       -48.688000                             0.0   \n",
       "2           23.339001       -48.091000                             0.0   \n",
       "3           28.367001       -47.358002                             0.0   \n",
       "4           33.275002       -46.497002                             0.0   \n",
       "...               ...              ...                             ...   \n",
       "116924     356.487000       -11.198000                             0.0   \n",
       "116925       0.184000       -11.247000                             0.0   \n",
       "116926       3.881000       -11.187000                             0.0   \n",
       "116927       7.573000       -11.019000                             0.0   \n",
       "116928      10.293000       -10.528000                             0.0   \n",
       "\n",
       "        t_1000hPa:K  total_cloud_cover:p  visibility:m  wind_speed_10m:ms  \\\n",
       "0        278.399994            73.900002  19275.900391                2.5   \n",
       "1        278.299988            83.800003  17638.000000                2.7   \n",
       "2        278.200012            91.199997  16008.799805                2.9   \n",
       "3        278.100006            96.400002  14388.500000                3.1   \n",
       "4        278.000000            99.400002  12777.299805                3.4   \n",
       "...             ...                  ...           ...                ...   \n",
       "116924   274.399994            46.900002  20778.300781                4.4   \n",
       "116925   274.399994            48.200001  20153.599609                4.5   \n",
       "116926   274.299988            49.599998  19528.699219                4.5   \n",
       "116927   274.200012            51.000000  18903.699219                4.6   \n",
       "116928   274.200012            52.299999  18278.500000                4.6   \n",
       "\n",
       "        wind_speed_u_10m:ms  wind_speed_v_10m:ms  wind_speed_w_1000hPa:ms  \n",
       "0                       1.1                  2.2                     -0.0  \n",
       "1                       1.2                  2.4                     -0.0  \n",
       "2                       1.2                  2.7                     -0.0  \n",
       "3                       1.2                  2.9                     -0.0  \n",
       "4                       1.3                  3.1                     -0.0  \n",
       "...                     ...                  ...                      ...  \n",
       "116924                  3.9                 -2.0                      0.0  \n",
       "116925                  4.0                 -2.0                      0.0  \n",
       "116926                  4.1                 -2.0                      0.0  \n",
       "116927                  4.1                 -2.0                      0.0  \n",
       "116928                  4.2                 -2.0                      0.0  \n",
       "\n",
       "[116929 rows x 46 columns]"
      ]
     },
     "metadata": {},
     "output_type": "display_data"
    },
    {
     "data": {
      "text/plain": [
       "'B'"
      ]
     },
     "metadata": {},
     "output_type": "display_data"
    },
    {
     "data": {
      "text/plain": [
       "'train_tar'"
      ]
     },
     "metadata": {},
     "output_type": "display_data"
    },
    {
     "data": {
      "text/html": [
       "<div>\n",
       "<style scoped>\n",
       "    .dataframe tbody tr th:only-of-type {\n",
       "        vertical-align: middle;\n",
       "    }\n",
       "\n",
       "    .dataframe tbody tr th {\n",
       "        vertical-align: top;\n",
       "    }\n",
       "\n",
       "    .dataframe thead th {\n",
       "        text-align: right;\n",
       "    }\n",
       "</style>\n",
       "<table border=\"1\" class=\"dataframe\">\n",
       "  <thead>\n",
       "    <tr style=\"text-align: right;\">\n",
       "      <th></th>\n",
       "      <th>time</th>\n",
       "      <th>pv_measurement</th>\n",
       "    </tr>\n",
       "  </thead>\n",
       "  <tbody>\n",
       "    <tr>\n",
       "      <th>0</th>\n",
       "      <td>2018-12-31 23:00:00</td>\n",
       "      <td>0.000000</td>\n",
       "    </tr>\n",
       "    <tr>\n",
       "      <th>1</th>\n",
       "      <td>2019-01-01 00:00:00</td>\n",
       "      <td>0.000000</td>\n",
       "    </tr>\n",
       "    <tr>\n",
       "      <th>2</th>\n",
       "      <td>2019-01-01 01:00:00</td>\n",
       "      <td>0.000000</td>\n",
       "    </tr>\n",
       "    <tr>\n",
       "      <th>3</th>\n",
       "      <td>2019-01-01 02:00:00</td>\n",
       "      <td>0.000000</td>\n",
       "    </tr>\n",
       "    <tr>\n",
       "      <th>4</th>\n",
       "      <td>2019-01-01 03:00:00</td>\n",
       "      <td>0.000000</td>\n",
       "    </tr>\n",
       "    <tr>\n",
       "      <th>...</th>\n",
       "      <td>...</td>\n",
       "      <td>...</td>\n",
       "    </tr>\n",
       "    <tr>\n",
       "      <th>32843</th>\n",
       "      <td>2023-04-30 19:00:00</td>\n",
       "      <td>0.828587</td>\n",
       "    </tr>\n",
       "    <tr>\n",
       "      <th>32844</th>\n",
       "      <td>2023-04-30 20:00:00</td>\n",
       "      <td>-0.000000</td>\n",
       "    </tr>\n",
       "    <tr>\n",
       "      <th>32845</th>\n",
       "      <td>2023-04-30 21:00:00</td>\n",
       "      <td>-0.000000</td>\n",
       "    </tr>\n",
       "    <tr>\n",
       "      <th>32846</th>\n",
       "      <td>2023-04-30 22:00:00</td>\n",
       "      <td>-0.000000</td>\n",
       "    </tr>\n",
       "    <tr>\n",
       "      <th>32847</th>\n",
       "      <td>2023-04-30 23:00:00</td>\n",
       "      <td>-0.000000</td>\n",
       "    </tr>\n",
       "  </tbody>\n",
       "</table>\n",
       "<p>32848 rows × 2 columns</p>\n",
       "</div>"
      ],
      "text/plain": [
       "                     time  pv_measurement\n",
       "0     2018-12-31 23:00:00        0.000000\n",
       "1     2019-01-01 00:00:00        0.000000\n",
       "2     2019-01-01 01:00:00        0.000000\n",
       "3     2019-01-01 02:00:00        0.000000\n",
       "4     2019-01-01 03:00:00        0.000000\n",
       "...                   ...             ...\n",
       "32843 2023-04-30 19:00:00        0.828587\n",
       "32844 2023-04-30 20:00:00       -0.000000\n",
       "32845 2023-04-30 21:00:00       -0.000000\n",
       "32846 2023-04-30 22:00:00       -0.000000\n",
       "32847 2023-04-30 23:00:00       -0.000000\n",
       "\n",
       "[32848 rows x 2 columns]"
      ]
     },
     "metadata": {},
     "output_type": "display_data"
    },
    {
     "data": {
      "text/plain": [
       "'C'"
      ]
     },
     "metadata": {},
     "output_type": "display_data"
    },
    {
     "data": {
      "text/plain": [
       "'test_est'"
      ]
     },
     "metadata": {},
     "output_type": "display_data"
    },
    {
     "data": {
      "text/html": [
       "<div>\n",
       "<style scoped>\n",
       "    .dataframe tbody tr th:only-of-type {\n",
       "        vertical-align: middle;\n",
       "    }\n",
       "\n",
       "    .dataframe tbody tr th {\n",
       "        vertical-align: top;\n",
       "    }\n",
       "\n",
       "    .dataframe thead th {\n",
       "        text-align: right;\n",
       "    }\n",
       "</style>\n",
       "<table border=\"1\" class=\"dataframe\">\n",
       "  <thead>\n",
       "    <tr style=\"text-align: right;\">\n",
       "      <th></th>\n",
       "      <th>date_calc</th>\n",
       "      <th>date_forecast</th>\n",
       "      <th>absolute_humidity_2m:gm3</th>\n",
       "      <th>air_density_2m:kgm3</th>\n",
       "      <th>ceiling_height_agl:m</th>\n",
       "      <th>clear_sky_energy_1h:J</th>\n",
       "      <th>clear_sky_rad:W</th>\n",
       "      <th>cloud_base_agl:m</th>\n",
       "      <th>dew_or_rime:idx</th>\n",
       "      <th>dew_point_2m:K</th>\n",
       "      <th>diffuse_rad:W</th>\n",
       "      <th>diffuse_rad_1h:J</th>\n",
       "      <th>direct_rad:W</th>\n",
       "      <th>direct_rad_1h:J</th>\n",
       "      <th>effective_cloud_cover:p</th>\n",
       "      <th>elevation:m</th>\n",
       "      <th>fresh_snow_12h:cm</th>\n",
       "      <th>fresh_snow_1h:cm</th>\n",
       "      <th>fresh_snow_24h:cm</th>\n",
       "      <th>fresh_snow_3h:cm</th>\n",
       "      <th>fresh_snow_6h:cm</th>\n",
       "      <th>is_day:idx</th>\n",
       "      <th>is_in_shadow:idx</th>\n",
       "      <th>msl_pressure:hPa</th>\n",
       "      <th>precip_5min:mm</th>\n",
       "      <th>precip_type_5min:idx</th>\n",
       "      <th>pressure_100m:hPa</th>\n",
       "      <th>pressure_50m:hPa</th>\n",
       "      <th>prob_rime:p</th>\n",
       "      <th>rain_water:kgm2</th>\n",
       "      <th>relative_humidity_1000hPa:p</th>\n",
       "      <th>sfc_pressure:hPa</th>\n",
       "      <th>snow_density:kgm3</th>\n",
       "      <th>snow_depth:cm</th>\n",
       "      <th>snow_drift:idx</th>\n",
       "      <th>snow_melt_10min:mm</th>\n",
       "      <th>snow_water:kgm2</th>\n",
       "      <th>sun_azimuth:d</th>\n",
       "      <th>sun_elevation:d</th>\n",
       "      <th>super_cooled_liquid_water:kgm2</th>\n",
       "      <th>t_1000hPa:K</th>\n",
       "      <th>total_cloud_cover:p</th>\n",
       "      <th>visibility:m</th>\n",
       "      <th>wind_speed_10m:ms</th>\n",
       "      <th>wind_speed_u_10m:ms</th>\n",
       "      <th>wind_speed_v_10m:ms</th>\n",
       "      <th>wind_speed_w_1000hPa:ms</th>\n",
       "    </tr>\n",
       "  </thead>\n",
       "  <tbody>\n",
       "    <tr>\n",
       "      <th>0</th>\n",
       "      <td>2023-04-30 07:00:04</td>\n",
       "      <td>2023-05-01 00:00:00</td>\n",
       "      <td>4.2</td>\n",
       "      <td>1.286</td>\n",
       "      <td>NaN</td>\n",
       "      <td>0.0</td>\n",
       "      <td>0.0</td>\n",
       "      <td>1178.000000</td>\n",
       "      <td>0.0</td>\n",
       "      <td>271.100006</td>\n",
       "      <td>0.0</td>\n",
       "      <td>0.0</td>\n",
       "      <td>0.0</td>\n",
       "      <td>0.0</td>\n",
       "      <td>73.699997</td>\n",
       "      <td>24.0</td>\n",
       "      <td>0.0</td>\n",
       "      <td>0.0</td>\n",
       "      <td>0.0</td>\n",
       "      <td>0.0</td>\n",
       "      <td>0.0</td>\n",
       "      <td>0.0</td>\n",
       "      <td>1.0</td>\n",
       "      <td>1014.000000</td>\n",
       "      <td>0.0</td>\n",
       "      <td>0.0</td>\n",
       "      <td>998.200012</td>\n",
       "      <td>1004.500000</td>\n",
       "      <td>0.0</td>\n",
       "      <td>0.0</td>\n",
       "      <td>81.099998</td>\n",
       "      <td>1010.799988</td>\n",
       "      <td>NaN</td>\n",
       "      <td>0.0</td>\n",
       "      <td>0.0</td>\n",
       "      <td>0.0</td>\n",
       "      <td>0.0</td>\n",
       "      <td>10.519000</td>\n",
       "      <td>-11.223</td>\n",
       "      <td>0.0</td>\n",
       "      <td>273.700012</td>\n",
       "      <td>73.699997</td>\n",
       "      <td>31411.000000</td>\n",
       "      <td>3.5</td>\n",
       "      <td>1.5</td>\n",
       "      <td>3.1</td>\n",
       "      <td>-0.0</td>\n",
       "    </tr>\n",
       "    <tr>\n",
       "      <th>1</th>\n",
       "      <td>2023-04-30 07:00:04</td>\n",
       "      <td>2023-05-01 00:15:00</td>\n",
       "      <td>4.2</td>\n",
       "      <td>1.286</td>\n",
       "      <td>NaN</td>\n",
       "      <td>0.0</td>\n",
       "      <td>0.0</td>\n",
       "      <td>1217.000000</td>\n",
       "      <td>0.0</td>\n",
       "      <td>271.100006</td>\n",
       "      <td>0.0</td>\n",
       "      <td>0.0</td>\n",
       "      <td>0.0</td>\n",
       "      <td>0.0</td>\n",
       "      <td>70.800003</td>\n",
       "      <td>24.0</td>\n",
       "      <td>0.0</td>\n",
       "      <td>0.0</td>\n",
       "      <td>0.0</td>\n",
       "      <td>0.0</td>\n",
       "      <td>0.0</td>\n",
       "      <td>0.0</td>\n",
       "      <td>1.0</td>\n",
       "      <td>1013.799988</td>\n",
       "      <td>0.0</td>\n",
       "      <td>0.0</td>\n",
       "      <td>998.099976</td>\n",
       "      <td>1004.299988</td>\n",
       "      <td>0.0</td>\n",
       "      <td>0.0</td>\n",
       "      <td>81.000000</td>\n",
       "      <td>1010.599976</td>\n",
       "      <td>NaN</td>\n",
       "      <td>0.0</td>\n",
       "      <td>0.0</td>\n",
       "      <td>0.0</td>\n",
       "      <td>0.0</td>\n",
       "      <td>14.202000</td>\n",
       "      <td>-10.862</td>\n",
       "      <td>0.0</td>\n",
       "      <td>273.700012</td>\n",
       "      <td>70.800003</td>\n",
       "      <td>31295.800781</td>\n",
       "      <td>3.4</td>\n",
       "      <td>1.5</td>\n",
       "      <td>3.1</td>\n",
       "      <td>-0.0</td>\n",
       "    </tr>\n",
       "    <tr>\n",
       "      <th>2</th>\n",
       "      <td>2023-04-30 07:00:04</td>\n",
       "      <td>2023-05-01 00:30:00</td>\n",
       "      <td>4.1</td>\n",
       "      <td>1.286</td>\n",
       "      <td>NaN</td>\n",
       "      <td>0.0</td>\n",
       "      <td>0.0</td>\n",
       "      <td>1256.000000</td>\n",
       "      <td>0.0</td>\n",
       "      <td>271.000000</td>\n",
       "      <td>0.0</td>\n",
       "      <td>0.0</td>\n",
       "      <td>0.0</td>\n",
       "      <td>0.0</td>\n",
       "      <td>67.900002</td>\n",
       "      <td>24.0</td>\n",
       "      <td>0.0</td>\n",
       "      <td>0.0</td>\n",
       "      <td>0.0</td>\n",
       "      <td>0.0</td>\n",
       "      <td>0.0</td>\n",
       "      <td>0.0</td>\n",
       "      <td>1.0</td>\n",
       "      <td>1013.700012</td>\n",
       "      <td>0.0</td>\n",
       "      <td>0.0</td>\n",
       "      <td>998.000000</td>\n",
       "      <td>1004.200012</td>\n",
       "      <td>0.0</td>\n",
       "      <td>0.0</td>\n",
       "      <td>80.900002</td>\n",
       "      <td>1010.500000</td>\n",
       "      <td>NaN</td>\n",
       "      <td>0.0</td>\n",
       "      <td>0.0</td>\n",
       "      <td>0.0</td>\n",
       "      <td>0.0</td>\n",
       "      <td>17.868000</td>\n",
       "      <td>-10.397</td>\n",
       "      <td>0.0</td>\n",
       "      <td>273.700012</td>\n",
       "      <td>67.900002</td>\n",
       "      <td>31178.599609</td>\n",
       "      <td>3.4</td>\n",
       "      <td>1.4</td>\n",
       "      <td>3.1</td>\n",
       "      <td>-0.0</td>\n",
       "    </tr>\n",
       "    <tr>\n",
       "      <th>3</th>\n",
       "      <td>2023-04-30 07:00:04</td>\n",
       "      <td>2023-05-01 00:45:00</td>\n",
       "      <td>4.1</td>\n",
       "      <td>1.286</td>\n",
       "      <td>NaN</td>\n",
       "      <td>0.0</td>\n",
       "      <td>0.0</td>\n",
       "      <td>1295.000000</td>\n",
       "      <td>0.0</td>\n",
       "      <td>270.899994</td>\n",
       "      <td>0.0</td>\n",
       "      <td>0.0</td>\n",
       "      <td>0.0</td>\n",
       "      <td>0.0</td>\n",
       "      <td>64.800003</td>\n",
       "      <td>24.0</td>\n",
       "      <td>0.0</td>\n",
       "      <td>0.0</td>\n",
       "      <td>0.0</td>\n",
       "      <td>0.0</td>\n",
       "      <td>0.0</td>\n",
       "      <td>0.0</td>\n",
       "      <td>1.0</td>\n",
       "      <td>1013.599976</td>\n",
       "      <td>0.0</td>\n",
       "      <td>0.0</td>\n",
       "      <td>997.799988</td>\n",
       "      <td>1004.099976</td>\n",
       "      <td>0.0</td>\n",
       "      <td>0.0</td>\n",
       "      <td>80.800003</td>\n",
       "      <td>1010.400024</td>\n",
       "      <td>NaN</td>\n",
       "      <td>0.0</td>\n",
       "      <td>0.0</td>\n",
       "      <td>0.0</td>\n",
       "      <td>0.0</td>\n",
       "      <td>21.513000</td>\n",
       "      <td>-9.830</td>\n",
       "      <td>0.0</td>\n",
       "      <td>273.700012</td>\n",
       "      <td>64.800003</td>\n",
       "      <td>31082.500000</td>\n",
       "      <td>3.4</td>\n",
       "      <td>1.4</td>\n",
       "      <td>3.1</td>\n",
       "      <td>-0.0</td>\n",
       "    </tr>\n",
       "    <tr>\n",
       "      <th>4</th>\n",
       "      <td>2023-04-30 07:00:04</td>\n",
       "      <td>2023-05-01 01:00:00</td>\n",
       "      <td>4.1</td>\n",
       "      <td>1.286</td>\n",
       "      <td>NaN</td>\n",
       "      <td>0.0</td>\n",
       "      <td>0.0</td>\n",
       "      <td>1334.099976</td>\n",
       "      <td>0.0</td>\n",
       "      <td>270.899994</td>\n",
       "      <td>0.0</td>\n",
       "      <td>0.0</td>\n",
       "      <td>0.0</td>\n",
       "      <td>0.0</td>\n",
       "      <td>61.599998</td>\n",
       "      <td>24.0</td>\n",
       "      <td>0.0</td>\n",
       "      <td>0.0</td>\n",
       "      <td>0.0</td>\n",
       "      <td>0.0</td>\n",
       "      <td>0.0</td>\n",
       "      <td>0.0</td>\n",
       "      <td>1.0</td>\n",
       "      <td>1013.400024</td>\n",
       "      <td>0.0</td>\n",
       "      <td>0.0</td>\n",
       "      <td>997.700012</td>\n",
       "      <td>1004.000000</td>\n",
       "      <td>0.0</td>\n",
       "      <td>0.0</td>\n",
       "      <td>80.599998</td>\n",
       "      <td>1010.299988</td>\n",
       "      <td>NaN</td>\n",
       "      <td>0.0</td>\n",
       "      <td>0.0</td>\n",
       "      <td>0.0</td>\n",
       "      <td>0.0</td>\n",
       "      <td>25.134001</td>\n",
       "      <td>-9.163</td>\n",
       "      <td>0.0</td>\n",
       "      <td>273.700012</td>\n",
       "      <td>61.599998</td>\n",
       "      <td>31051.400391</td>\n",
       "      <td>3.4</td>\n",
       "      <td>1.4</td>\n",
       "      <td>3.1</td>\n",
       "      <td>-0.0</td>\n",
       "    </tr>\n",
       "    <tr>\n",
       "      <th>...</th>\n",
       "      <td>...</td>\n",
       "      <td>...</td>\n",
       "      <td>...</td>\n",
       "      <td>...</td>\n",
       "      <td>...</td>\n",
       "      <td>...</td>\n",
       "      <td>...</td>\n",
       "      <td>...</td>\n",
       "      <td>...</td>\n",
       "      <td>...</td>\n",
       "      <td>...</td>\n",
       "      <td>...</td>\n",
       "      <td>...</td>\n",
       "      <td>...</td>\n",
       "      <td>...</td>\n",
       "      <td>...</td>\n",
       "      <td>...</td>\n",
       "      <td>...</td>\n",
       "      <td>...</td>\n",
       "      <td>...</td>\n",
       "      <td>...</td>\n",
       "      <td>...</td>\n",
       "      <td>...</td>\n",
       "      <td>...</td>\n",
       "      <td>...</td>\n",
       "      <td>...</td>\n",
       "      <td>...</td>\n",
       "      <td>...</td>\n",
       "      <td>...</td>\n",
       "      <td>...</td>\n",
       "      <td>...</td>\n",
       "      <td>...</td>\n",
       "      <td>...</td>\n",
       "      <td>...</td>\n",
       "      <td>...</td>\n",
       "      <td>...</td>\n",
       "      <td>...</td>\n",
       "      <td>...</td>\n",
       "      <td>...</td>\n",
       "      <td>...</td>\n",
       "      <td>...</td>\n",
       "      <td>...</td>\n",
       "      <td>...</td>\n",
       "      <td>...</td>\n",
       "      <td>...</td>\n",
       "      <td>...</td>\n",
       "      <td>...</td>\n",
       "    </tr>\n",
       "    <tr>\n",
       "      <th>2875</th>\n",
       "      <td>2023-07-02 07:00:31</td>\n",
       "      <td>2023-07-03 22:45:00</td>\n",
       "      <td>9.0</td>\n",
       "      <td>1.207</td>\n",
       "      <td>2003.500000</td>\n",
       "      <td>0.0</td>\n",
       "      <td>0.0</td>\n",
       "      <td>1573.000000</td>\n",
       "      <td>0.0</td>\n",
       "      <td>282.600006</td>\n",
       "      <td>0.0</td>\n",
       "      <td>0.0</td>\n",
       "      <td>0.0</td>\n",
       "      <td>0.0</td>\n",
       "      <td>100.000000</td>\n",
       "      <td>24.0</td>\n",
       "      <td>0.0</td>\n",
       "      <td>0.0</td>\n",
       "      <td>0.0</td>\n",
       "      <td>0.0</td>\n",
       "      <td>0.0</td>\n",
       "      <td>0.0</td>\n",
       "      <td>1.0</td>\n",
       "      <td>993.400024</td>\n",
       "      <td>0.0</td>\n",
       "      <td>0.0</td>\n",
       "      <td>978.799988</td>\n",
       "      <td>984.700012</td>\n",
       "      <td>0.0</td>\n",
       "      <td>0.0</td>\n",
       "      <td>84.000000</td>\n",
       "      <td>990.599976</td>\n",
       "      <td>NaN</td>\n",
       "      <td>0.0</td>\n",
       "      <td>0.0</td>\n",
       "      <td>-0.0</td>\n",
       "      <td>0.0</td>\n",
       "      <td>351.852997</td>\n",
       "      <td>-3.320</td>\n",
       "      <td>0.1</td>\n",
       "      <td>285.299988</td>\n",
       "      <td>100.000000</td>\n",
       "      <td>39008.300781</td>\n",
       "      <td>1.8</td>\n",
       "      <td>1.6</td>\n",
       "      <td>-0.7</td>\n",
       "      <td>0.0</td>\n",
       "    </tr>\n",
       "    <tr>\n",
       "      <th>2876</th>\n",
       "      <td>2023-07-02 07:00:31</td>\n",
       "      <td>2023-07-03 23:00:00</td>\n",
       "      <td>9.0</td>\n",
       "      <td>1.207</td>\n",
       "      <td>2005.599976</td>\n",
       "      <td>0.0</td>\n",
       "      <td>0.0</td>\n",
       "      <td>1471.000000</td>\n",
       "      <td>0.0</td>\n",
       "      <td>282.500000</td>\n",
       "      <td>0.0</td>\n",
       "      <td>0.0</td>\n",
       "      <td>0.0</td>\n",
       "      <td>0.0</td>\n",
       "      <td>100.000000</td>\n",
       "      <td>24.0</td>\n",
       "      <td>0.0</td>\n",
       "      <td>0.0</td>\n",
       "      <td>0.0</td>\n",
       "      <td>0.0</td>\n",
       "      <td>0.0</td>\n",
       "      <td>0.0</td>\n",
       "      <td>1.0</td>\n",
       "      <td>993.500000</td>\n",
       "      <td>0.0</td>\n",
       "      <td>0.0</td>\n",
       "      <td>978.799988</td>\n",
       "      <td>984.700012</td>\n",
       "      <td>0.0</td>\n",
       "      <td>0.0</td>\n",
       "      <td>84.099998</td>\n",
       "      <td>990.700012</td>\n",
       "      <td>NaN</td>\n",
       "      <td>0.0</td>\n",
       "      <td>0.0</td>\n",
       "      <td>-0.0</td>\n",
       "      <td>0.0</td>\n",
       "      <td>355.315002</td>\n",
       "      <td>-3.508</td>\n",
       "      <td>0.1</td>\n",
       "      <td>285.200012</td>\n",
       "      <td>100.000000</td>\n",
       "      <td>39026.000000</td>\n",
       "      <td>1.7</td>\n",
       "      <td>1.6</td>\n",
       "      <td>-0.7</td>\n",
       "      <td>0.0</td>\n",
       "    </tr>\n",
       "    <tr>\n",
       "      <th>2877</th>\n",
       "      <td>2023-07-02 07:00:31</td>\n",
       "      <td>2023-07-03 23:15:00</td>\n",
       "      <td>9.0</td>\n",
       "      <td>1.207</td>\n",
       "      <td>2005.500000</td>\n",
       "      <td>0.0</td>\n",
       "      <td>0.0</td>\n",
       "      <td>1346.900024</td>\n",
       "      <td>0.0</td>\n",
       "      <td>282.500000</td>\n",
       "      <td>0.0</td>\n",
       "      <td>0.0</td>\n",
       "      <td>0.0</td>\n",
       "      <td>0.0</td>\n",
       "      <td>100.000000</td>\n",
       "      <td>24.0</td>\n",
       "      <td>0.0</td>\n",
       "      <td>0.0</td>\n",
       "      <td>0.0</td>\n",
       "      <td>0.0</td>\n",
       "      <td>0.0</td>\n",
       "      <td>0.0</td>\n",
       "      <td>1.0</td>\n",
       "      <td>993.500000</td>\n",
       "      <td>0.0</td>\n",
       "      <td>0.0</td>\n",
       "      <td>978.900024</td>\n",
       "      <td>984.799988</td>\n",
       "      <td>0.0</td>\n",
       "      <td>0.0</td>\n",
       "      <td>84.400002</td>\n",
       "      <td>990.700012</td>\n",
       "      <td>NaN</td>\n",
       "      <td>0.0</td>\n",
       "      <td>0.0</td>\n",
       "      <td>-0.0</td>\n",
       "      <td>0.0</td>\n",
       "      <td>358.782013</td>\n",
       "      <td>-3.594</td>\n",
       "      <td>0.1</td>\n",
       "      <td>285.100006</td>\n",
       "      <td>100.000000</td>\n",
       "      <td>39081.300781</td>\n",
       "      <td>1.7</td>\n",
       "      <td>1.6</td>\n",
       "      <td>-0.6</td>\n",
       "      <td>0.0</td>\n",
       "    </tr>\n",
       "    <tr>\n",
       "      <th>2878</th>\n",
       "      <td>2023-07-02 07:00:31</td>\n",
       "      <td>2023-07-03 23:30:00</td>\n",
       "      <td>8.9</td>\n",
       "      <td>1.207</td>\n",
       "      <td>2005.500000</td>\n",
       "      <td>0.0</td>\n",
       "      <td>0.0</td>\n",
       "      <td>1222.800049</td>\n",
       "      <td>0.0</td>\n",
       "      <td>282.500000</td>\n",
       "      <td>0.0</td>\n",
       "      <td>0.0</td>\n",
       "      <td>0.0</td>\n",
       "      <td>0.0</td>\n",
       "      <td>100.000000</td>\n",
       "      <td>24.0</td>\n",
       "      <td>0.0</td>\n",
       "      <td>0.0</td>\n",
       "      <td>0.0</td>\n",
       "      <td>0.0</td>\n",
       "      <td>0.0</td>\n",
       "      <td>0.0</td>\n",
       "      <td>1.0</td>\n",
       "      <td>993.599976</td>\n",
       "      <td>0.0</td>\n",
       "      <td>0.0</td>\n",
       "      <td>979.000000</td>\n",
       "      <td>984.900024</td>\n",
       "      <td>0.0</td>\n",
       "      <td>0.0</td>\n",
       "      <td>84.800003</td>\n",
       "      <td>990.799988</td>\n",
       "      <td>NaN</td>\n",
       "      <td>0.0</td>\n",
       "      <td>0.0</td>\n",
       "      <td>-0.0</td>\n",
       "      <td>0.0</td>\n",
       "      <td>2.250000</td>\n",
       "      <td>-3.579</td>\n",
       "      <td>0.2</td>\n",
       "      <td>285.100006</td>\n",
       "      <td>100.000000</td>\n",
       "      <td>39145.101562</td>\n",
       "      <td>1.7</td>\n",
       "      <td>1.6</td>\n",
       "      <td>-0.6</td>\n",
       "      <td>0.0</td>\n",
       "    </tr>\n",
       "    <tr>\n",
       "      <th>2879</th>\n",
       "      <td>2023-07-02 07:00:31</td>\n",
       "      <td>2023-07-03 23:45:00</td>\n",
       "      <td>8.9</td>\n",
       "      <td>1.207</td>\n",
       "      <td>2005.500000</td>\n",
       "      <td>0.0</td>\n",
       "      <td>0.0</td>\n",
       "      <td>1098.699951</td>\n",
       "      <td>0.0</td>\n",
       "      <td>282.399994</td>\n",
       "      <td>0.0</td>\n",
       "      <td>0.0</td>\n",
       "      <td>0.0</td>\n",
       "      <td>0.0</td>\n",
       "      <td>100.000000</td>\n",
       "      <td>24.0</td>\n",
       "      <td>0.0</td>\n",
       "      <td>0.0</td>\n",
       "      <td>0.0</td>\n",
       "      <td>0.0</td>\n",
       "      <td>0.0</td>\n",
       "      <td>0.0</td>\n",
       "      <td>1.0</td>\n",
       "      <td>993.700012</td>\n",
       "      <td>0.0</td>\n",
       "      <td>0.0</td>\n",
       "      <td>979.099976</td>\n",
       "      <td>985.000000</td>\n",
       "      <td>0.0</td>\n",
       "      <td>0.0</td>\n",
       "      <td>85.099998</td>\n",
       "      <td>990.900024</td>\n",
       "      <td>NaN</td>\n",
       "      <td>0.0</td>\n",
       "      <td>0.0</td>\n",
       "      <td>-0.0</td>\n",
       "      <td>0.0</td>\n",
       "      <td>5.716000</td>\n",
       "      <td>-3.462</td>\n",
       "      <td>0.2</td>\n",
       "      <td>285.000000</td>\n",
       "      <td>100.000000</td>\n",
       "      <td>39217.601562</td>\n",
       "      <td>1.7</td>\n",
       "      <td>1.6</td>\n",
       "      <td>-0.5</td>\n",
       "      <td>0.0</td>\n",
       "    </tr>\n",
       "  </tbody>\n",
       "</table>\n",
       "<p>2880 rows × 47 columns</p>\n",
       "</div>"
      ],
      "text/plain": [
       "               date_calc       date_forecast  absolute_humidity_2m:gm3  \\\n",
       "0    2023-04-30 07:00:04 2023-05-01 00:00:00                       4.2   \n",
       "1    2023-04-30 07:00:04 2023-05-01 00:15:00                       4.2   \n",
       "2    2023-04-30 07:00:04 2023-05-01 00:30:00                       4.1   \n",
       "3    2023-04-30 07:00:04 2023-05-01 00:45:00                       4.1   \n",
       "4    2023-04-30 07:00:04 2023-05-01 01:00:00                       4.1   \n",
       "...                  ...                 ...                       ...   \n",
       "2875 2023-07-02 07:00:31 2023-07-03 22:45:00                       9.0   \n",
       "2876 2023-07-02 07:00:31 2023-07-03 23:00:00                       9.0   \n",
       "2877 2023-07-02 07:00:31 2023-07-03 23:15:00                       9.0   \n",
       "2878 2023-07-02 07:00:31 2023-07-03 23:30:00                       8.9   \n",
       "2879 2023-07-02 07:00:31 2023-07-03 23:45:00                       8.9   \n",
       "\n",
       "      air_density_2m:kgm3  ceiling_height_agl:m  clear_sky_energy_1h:J  \\\n",
       "0                   1.286                   NaN                    0.0   \n",
       "1                   1.286                   NaN                    0.0   \n",
       "2                   1.286                   NaN                    0.0   \n",
       "3                   1.286                   NaN                    0.0   \n",
       "4                   1.286                   NaN                    0.0   \n",
       "...                   ...                   ...                    ...   \n",
       "2875                1.207           2003.500000                    0.0   \n",
       "2876                1.207           2005.599976                    0.0   \n",
       "2877                1.207           2005.500000                    0.0   \n",
       "2878                1.207           2005.500000                    0.0   \n",
       "2879                1.207           2005.500000                    0.0   \n",
       "\n",
       "      clear_sky_rad:W  cloud_base_agl:m  dew_or_rime:idx  dew_point_2m:K  \\\n",
       "0                 0.0       1178.000000              0.0      271.100006   \n",
       "1                 0.0       1217.000000              0.0      271.100006   \n",
       "2                 0.0       1256.000000              0.0      271.000000   \n",
       "3                 0.0       1295.000000              0.0      270.899994   \n",
       "4                 0.0       1334.099976              0.0      270.899994   \n",
       "...               ...               ...              ...             ...   \n",
       "2875              0.0       1573.000000              0.0      282.600006   \n",
       "2876              0.0       1471.000000              0.0      282.500000   \n",
       "2877              0.0       1346.900024              0.0      282.500000   \n",
       "2878              0.0       1222.800049              0.0      282.500000   \n",
       "2879              0.0       1098.699951              0.0      282.399994   \n",
       "\n",
       "      diffuse_rad:W  diffuse_rad_1h:J  direct_rad:W  direct_rad_1h:J  \\\n",
       "0               0.0               0.0           0.0              0.0   \n",
       "1               0.0               0.0           0.0              0.0   \n",
       "2               0.0               0.0           0.0              0.0   \n",
       "3               0.0               0.0           0.0              0.0   \n",
       "4               0.0               0.0           0.0              0.0   \n",
       "...             ...               ...           ...              ...   \n",
       "2875            0.0               0.0           0.0              0.0   \n",
       "2876            0.0               0.0           0.0              0.0   \n",
       "2877            0.0               0.0           0.0              0.0   \n",
       "2878            0.0               0.0           0.0              0.0   \n",
       "2879            0.0               0.0           0.0              0.0   \n",
       "\n",
       "      effective_cloud_cover:p  elevation:m  fresh_snow_12h:cm  \\\n",
       "0                   73.699997         24.0                0.0   \n",
       "1                   70.800003         24.0                0.0   \n",
       "2                   67.900002         24.0                0.0   \n",
       "3                   64.800003         24.0                0.0   \n",
       "4                   61.599998         24.0                0.0   \n",
       "...                       ...          ...                ...   \n",
       "2875               100.000000         24.0                0.0   \n",
       "2876               100.000000         24.0                0.0   \n",
       "2877               100.000000         24.0                0.0   \n",
       "2878               100.000000         24.0                0.0   \n",
       "2879               100.000000         24.0                0.0   \n",
       "\n",
       "      fresh_snow_1h:cm  fresh_snow_24h:cm  fresh_snow_3h:cm  fresh_snow_6h:cm  \\\n",
       "0                  0.0                0.0               0.0               0.0   \n",
       "1                  0.0                0.0               0.0               0.0   \n",
       "2                  0.0                0.0               0.0               0.0   \n",
       "3                  0.0                0.0               0.0               0.0   \n",
       "4                  0.0                0.0               0.0               0.0   \n",
       "...                ...                ...               ...               ...   \n",
       "2875               0.0                0.0               0.0               0.0   \n",
       "2876               0.0                0.0               0.0               0.0   \n",
       "2877               0.0                0.0               0.0               0.0   \n",
       "2878               0.0                0.0               0.0               0.0   \n",
       "2879               0.0                0.0               0.0               0.0   \n",
       "\n",
       "      is_day:idx  is_in_shadow:idx  msl_pressure:hPa  precip_5min:mm  \\\n",
       "0            0.0               1.0       1014.000000             0.0   \n",
       "1            0.0               1.0       1013.799988             0.0   \n",
       "2            0.0               1.0       1013.700012             0.0   \n",
       "3            0.0               1.0       1013.599976             0.0   \n",
       "4            0.0               1.0       1013.400024             0.0   \n",
       "...          ...               ...               ...             ...   \n",
       "2875         0.0               1.0        993.400024             0.0   \n",
       "2876         0.0               1.0        993.500000             0.0   \n",
       "2877         0.0               1.0        993.500000             0.0   \n",
       "2878         0.0               1.0        993.599976             0.0   \n",
       "2879         0.0               1.0        993.700012             0.0   \n",
       "\n",
       "      precip_type_5min:idx  pressure_100m:hPa  pressure_50m:hPa  prob_rime:p  \\\n",
       "0                      0.0         998.200012       1004.500000          0.0   \n",
       "1                      0.0         998.099976       1004.299988          0.0   \n",
       "2                      0.0         998.000000       1004.200012          0.0   \n",
       "3                      0.0         997.799988       1004.099976          0.0   \n",
       "4                      0.0         997.700012       1004.000000          0.0   \n",
       "...                    ...                ...               ...          ...   \n",
       "2875                   0.0         978.799988        984.700012          0.0   \n",
       "2876                   0.0         978.799988        984.700012          0.0   \n",
       "2877                   0.0         978.900024        984.799988          0.0   \n",
       "2878                   0.0         979.000000        984.900024          0.0   \n",
       "2879                   0.0         979.099976        985.000000          0.0   \n",
       "\n",
       "      rain_water:kgm2  relative_humidity_1000hPa:p  sfc_pressure:hPa  \\\n",
       "0                 0.0                    81.099998       1010.799988   \n",
       "1                 0.0                    81.000000       1010.599976   \n",
       "2                 0.0                    80.900002       1010.500000   \n",
       "3                 0.0                    80.800003       1010.400024   \n",
       "4                 0.0                    80.599998       1010.299988   \n",
       "...               ...                          ...               ...   \n",
       "2875              0.0                    84.000000        990.599976   \n",
       "2876              0.0                    84.099998        990.700012   \n",
       "2877              0.0                    84.400002        990.700012   \n",
       "2878              0.0                    84.800003        990.799988   \n",
       "2879              0.0                    85.099998        990.900024   \n",
       "\n",
       "      snow_density:kgm3  snow_depth:cm  snow_drift:idx  snow_melt_10min:mm  \\\n",
       "0                   NaN            0.0             0.0                 0.0   \n",
       "1                   NaN            0.0             0.0                 0.0   \n",
       "2                   NaN            0.0             0.0                 0.0   \n",
       "3                   NaN            0.0             0.0                 0.0   \n",
       "4                   NaN            0.0             0.0                 0.0   \n",
       "...                 ...            ...             ...                 ...   \n",
       "2875                NaN            0.0             0.0                -0.0   \n",
       "2876                NaN            0.0             0.0                -0.0   \n",
       "2877                NaN            0.0             0.0                -0.0   \n",
       "2878                NaN            0.0             0.0                -0.0   \n",
       "2879                NaN            0.0             0.0                -0.0   \n",
       "\n",
       "      snow_water:kgm2  sun_azimuth:d  sun_elevation:d  \\\n",
       "0                 0.0      10.519000          -11.223   \n",
       "1                 0.0      14.202000          -10.862   \n",
       "2                 0.0      17.868000          -10.397   \n",
       "3                 0.0      21.513000           -9.830   \n",
       "4                 0.0      25.134001           -9.163   \n",
       "...               ...            ...              ...   \n",
       "2875              0.0     351.852997           -3.320   \n",
       "2876              0.0     355.315002           -3.508   \n",
       "2877              0.0     358.782013           -3.594   \n",
       "2878              0.0       2.250000           -3.579   \n",
       "2879              0.0       5.716000           -3.462   \n",
       "\n",
       "      super_cooled_liquid_water:kgm2  t_1000hPa:K  total_cloud_cover:p  \\\n",
       "0                                0.0   273.700012            73.699997   \n",
       "1                                0.0   273.700012            70.800003   \n",
       "2                                0.0   273.700012            67.900002   \n",
       "3                                0.0   273.700012            64.800003   \n",
       "4                                0.0   273.700012            61.599998   \n",
       "...                              ...          ...                  ...   \n",
       "2875                             0.1   285.299988           100.000000   \n",
       "2876                             0.1   285.200012           100.000000   \n",
       "2877                             0.1   285.100006           100.000000   \n",
       "2878                             0.2   285.100006           100.000000   \n",
       "2879                             0.2   285.000000           100.000000   \n",
       "\n",
       "      visibility:m  wind_speed_10m:ms  wind_speed_u_10m:ms  \\\n",
       "0     31411.000000                3.5                  1.5   \n",
       "1     31295.800781                3.4                  1.5   \n",
       "2     31178.599609                3.4                  1.4   \n",
       "3     31082.500000                3.4                  1.4   \n",
       "4     31051.400391                3.4                  1.4   \n",
       "...            ...                ...                  ...   \n",
       "2875  39008.300781                1.8                  1.6   \n",
       "2876  39026.000000                1.7                  1.6   \n",
       "2877  39081.300781                1.7                  1.6   \n",
       "2878  39145.101562                1.7                  1.6   \n",
       "2879  39217.601562                1.7                  1.6   \n",
       "\n",
       "      wind_speed_v_10m:ms  wind_speed_w_1000hPa:ms  \n",
       "0                     3.1                     -0.0  \n",
       "1                     3.1                     -0.0  \n",
       "2                     3.1                     -0.0  \n",
       "3                     3.1                     -0.0  \n",
       "4                     3.1                     -0.0  \n",
       "...                   ...                      ...  \n",
       "2875                 -0.7                      0.0  \n",
       "2876                 -0.7                      0.0  \n",
       "2877                 -0.6                      0.0  \n",
       "2878                 -0.6                      0.0  \n",
       "2879                 -0.5                      0.0  \n",
       "\n",
       "[2880 rows x 47 columns]"
      ]
     },
     "metadata": {},
     "output_type": "display_data"
    },
    {
     "data": {
      "text/plain": [
       "'C'"
      ]
     },
     "metadata": {},
     "output_type": "display_data"
    },
    {
     "data": {
      "text/plain": [
       "'train_est'"
      ]
     },
     "metadata": {},
     "output_type": "display_data"
    },
    {
     "data": {
      "text/html": [
       "<div>\n",
       "<style scoped>\n",
       "    .dataframe tbody tr th:only-of-type {\n",
       "        vertical-align: middle;\n",
       "    }\n",
       "\n",
       "    .dataframe tbody tr th {\n",
       "        vertical-align: top;\n",
       "    }\n",
       "\n",
       "    .dataframe thead th {\n",
       "        text-align: right;\n",
       "    }\n",
       "</style>\n",
       "<table border=\"1\" class=\"dataframe\">\n",
       "  <thead>\n",
       "    <tr style=\"text-align: right;\">\n",
       "      <th></th>\n",
       "      <th>date_calc</th>\n",
       "      <th>date_forecast</th>\n",
       "      <th>absolute_humidity_2m:gm3</th>\n",
       "      <th>air_density_2m:kgm3</th>\n",
       "      <th>ceiling_height_agl:m</th>\n",
       "      <th>clear_sky_energy_1h:J</th>\n",
       "      <th>clear_sky_rad:W</th>\n",
       "      <th>cloud_base_agl:m</th>\n",
       "      <th>dew_or_rime:idx</th>\n",
       "      <th>dew_point_2m:K</th>\n",
       "      <th>diffuse_rad:W</th>\n",
       "      <th>diffuse_rad_1h:J</th>\n",
       "      <th>direct_rad:W</th>\n",
       "      <th>direct_rad_1h:J</th>\n",
       "      <th>effective_cloud_cover:p</th>\n",
       "      <th>elevation:m</th>\n",
       "      <th>fresh_snow_12h:cm</th>\n",
       "      <th>fresh_snow_1h:cm</th>\n",
       "      <th>fresh_snow_24h:cm</th>\n",
       "      <th>fresh_snow_3h:cm</th>\n",
       "      <th>fresh_snow_6h:cm</th>\n",
       "      <th>is_day:idx</th>\n",
       "      <th>is_in_shadow:idx</th>\n",
       "      <th>msl_pressure:hPa</th>\n",
       "      <th>precip_5min:mm</th>\n",
       "      <th>precip_type_5min:idx</th>\n",
       "      <th>pressure_100m:hPa</th>\n",
       "      <th>pressure_50m:hPa</th>\n",
       "      <th>prob_rime:p</th>\n",
       "      <th>rain_water:kgm2</th>\n",
       "      <th>relative_humidity_1000hPa:p</th>\n",
       "      <th>sfc_pressure:hPa</th>\n",
       "      <th>snow_density:kgm3</th>\n",
       "      <th>snow_depth:cm</th>\n",
       "      <th>snow_drift:idx</th>\n",
       "      <th>snow_melt_10min:mm</th>\n",
       "      <th>snow_water:kgm2</th>\n",
       "      <th>sun_azimuth:d</th>\n",
       "      <th>sun_elevation:d</th>\n",
       "      <th>super_cooled_liquid_water:kgm2</th>\n",
       "      <th>t_1000hPa:K</th>\n",
       "      <th>total_cloud_cover:p</th>\n",
       "      <th>visibility:m</th>\n",
       "      <th>wind_speed_10m:ms</th>\n",
       "      <th>wind_speed_u_10m:ms</th>\n",
       "      <th>wind_speed_v_10m:ms</th>\n",
       "      <th>wind_speed_w_1000hPa:ms</th>\n",
       "    </tr>\n",
       "  </thead>\n",
       "  <tbody>\n",
       "    <tr>\n",
       "      <th>0</th>\n",
       "      <td>2022-10-27 07:00:18</td>\n",
       "      <td>2022-10-28 22:00:00</td>\n",
       "      <td>8.3</td>\n",
       "      <td>1.231</td>\n",
       "      <td>1427.400024</td>\n",
       "      <td>0.0</td>\n",
       "      <td>0.0</td>\n",
       "      <td>1215.800049</td>\n",
       "      <td>1.0</td>\n",
       "      <td>281.200012</td>\n",
       "      <td>0.0</td>\n",
       "      <td>0.0</td>\n",
       "      <td>0.0</td>\n",
       "      <td>0.0</td>\n",
       "      <td>100.000000</td>\n",
       "      <td>24.0</td>\n",
       "      <td>0.0</td>\n",
       "      <td>0.0</td>\n",
       "      <td>0.0</td>\n",
       "      <td>0.0</td>\n",
       "      <td>0.0</td>\n",
       "      <td>0.0</td>\n",
       "      <td>1.0</td>\n",
       "      <td>1001.099976</td>\n",
       "      <td>0.0</td>\n",
       "      <td>0.0</td>\n",
       "      <td>986.000000</td>\n",
       "      <td>992.000000</td>\n",
       "      <td>0.0</td>\n",
       "      <td>0.0</td>\n",
       "      <td>93.900002</td>\n",
       "      <td>998.099976</td>\n",
       "      <td>NaN</td>\n",
       "      <td>0.0</td>\n",
       "      <td>0.0</td>\n",
       "      <td>-0.0</td>\n",
       "      <td>0.4</td>\n",
       "      <td>340.785004</td>\n",
       "      <td>-38.502998</td>\n",
       "      <td>0.0</td>\n",
       "      <td>285.200012</td>\n",
       "      <td>100.000000</td>\n",
       "      <td>34387.398438</td>\n",
       "      <td>1.2</td>\n",
       "      <td>-0.3</td>\n",
       "      <td>1.1</td>\n",
       "      <td>-0.0</td>\n",
       "    </tr>\n",
       "    <tr>\n",
       "      <th>1</th>\n",
       "      <td>2022-10-27 07:00:18</td>\n",
       "      <td>2022-10-28 22:15:00</td>\n",
       "      <td>8.3</td>\n",
       "      <td>1.231</td>\n",
       "      <td>2089.000000</td>\n",
       "      <td>0.0</td>\n",
       "      <td>0.0</td>\n",
       "      <td>1425.900024</td>\n",
       "      <td>1.0</td>\n",
       "      <td>281.200012</td>\n",
       "      <td>0.0</td>\n",
       "      <td>0.0</td>\n",
       "      <td>0.0</td>\n",
       "      <td>0.0</td>\n",
       "      <td>100.000000</td>\n",
       "      <td>24.0</td>\n",
       "      <td>0.0</td>\n",
       "      <td>0.0</td>\n",
       "      <td>0.0</td>\n",
       "      <td>0.0</td>\n",
       "      <td>0.0</td>\n",
       "      <td>0.0</td>\n",
       "      <td>1.0</td>\n",
       "      <td>1000.700012</td>\n",
       "      <td>0.0</td>\n",
       "      <td>0.0</td>\n",
       "      <td>985.700012</td>\n",
       "      <td>991.700012</td>\n",
       "      <td>0.0</td>\n",
       "      <td>0.0</td>\n",
       "      <td>93.599998</td>\n",
       "      <td>997.700012</td>\n",
       "      <td>NaN</td>\n",
       "      <td>0.0</td>\n",
       "      <td>0.0</td>\n",
       "      <td>-0.0</td>\n",
       "      <td>0.5</td>\n",
       "      <td>345.440002</td>\n",
       "      <td>-38.992001</td>\n",
       "      <td>0.0</td>\n",
       "      <td>285.100006</td>\n",
       "      <td>100.000000</td>\n",
       "      <td>27418.500000</td>\n",
       "      <td>1.2</td>\n",
       "      <td>-0.2</td>\n",
       "      <td>1.2</td>\n",
       "      <td>-0.0</td>\n",
       "    </tr>\n",
       "    <tr>\n",
       "      <th>2</th>\n",
       "      <td>2022-10-27 07:00:18</td>\n",
       "      <td>2022-10-28 22:30:00</td>\n",
       "      <td>8.3</td>\n",
       "      <td>1.231</td>\n",
       "      <td>2750.500000</td>\n",
       "      <td>0.0</td>\n",
       "      <td>0.0</td>\n",
       "      <td>1636.099976</td>\n",
       "      <td>1.0</td>\n",
       "      <td>281.100006</td>\n",
       "      <td>0.0</td>\n",
       "      <td>0.0</td>\n",
       "      <td>0.0</td>\n",
       "      <td>0.0</td>\n",
       "      <td>100.000000</td>\n",
       "      <td>24.0</td>\n",
       "      <td>0.0</td>\n",
       "      <td>0.0</td>\n",
       "      <td>0.0</td>\n",
       "      <td>0.0</td>\n",
       "      <td>0.0</td>\n",
       "      <td>0.0</td>\n",
       "      <td>1.0</td>\n",
       "      <td>1000.400024</td>\n",
       "      <td>0.0</td>\n",
       "      <td>0.0</td>\n",
       "      <td>985.400024</td>\n",
       "      <td>991.400024</td>\n",
       "      <td>0.0</td>\n",
       "      <td>0.1</td>\n",
       "      <td>93.300003</td>\n",
       "      <td>997.400024</td>\n",
       "      <td>NaN</td>\n",
       "      <td>0.0</td>\n",
       "      <td>0.0</td>\n",
       "      <td>-0.0</td>\n",
       "      <td>0.5</td>\n",
       "      <td>350.144012</td>\n",
       "      <td>-39.348000</td>\n",
       "      <td>0.0</td>\n",
       "      <td>285.100006</td>\n",
       "      <td>100.000000</td>\n",
       "      <td>20508.800781</td>\n",
       "      <td>1.2</td>\n",
       "      <td>-0.1</td>\n",
       "      <td>1.2</td>\n",
       "      <td>-0.0</td>\n",
       "    </tr>\n",
       "    <tr>\n",
       "      <th>3</th>\n",
       "      <td>2022-10-27 07:00:18</td>\n",
       "      <td>2022-10-28 22:45:00</td>\n",
       "      <td>8.2</td>\n",
       "      <td>1.230</td>\n",
       "      <td>3412.100098</td>\n",
       "      <td>0.0</td>\n",
       "      <td>0.0</td>\n",
       "      <td>1846.199951</td>\n",
       "      <td>1.0</td>\n",
       "      <td>281.100006</td>\n",
       "      <td>0.0</td>\n",
       "      <td>0.0</td>\n",
       "      <td>0.0</td>\n",
       "      <td>0.0</td>\n",
       "      <td>100.000000</td>\n",
       "      <td>24.0</td>\n",
       "      <td>0.0</td>\n",
       "      <td>0.0</td>\n",
       "      <td>0.0</td>\n",
       "      <td>0.0</td>\n",
       "      <td>0.0</td>\n",
       "      <td>0.0</td>\n",
       "      <td>1.0</td>\n",
       "      <td>1000.099976</td>\n",
       "      <td>0.0</td>\n",
       "      <td>0.0</td>\n",
       "      <td>985.099976</td>\n",
       "      <td>991.099976</td>\n",
       "      <td>0.0</td>\n",
       "      <td>0.1</td>\n",
       "      <td>93.000000</td>\n",
       "      <td>997.099976</td>\n",
       "      <td>NaN</td>\n",
       "      <td>0.0</td>\n",
       "      <td>0.0</td>\n",
       "      <td>-0.0</td>\n",
       "      <td>0.5</td>\n",
       "      <td>354.880005</td>\n",
       "      <td>-39.567001</td>\n",
       "      <td>0.0</td>\n",
       "      <td>285.000000</td>\n",
       "      <td>100.000000</td>\n",
       "      <td>13657.799805</td>\n",
       "      <td>1.2</td>\n",
       "      <td>-0.0</td>\n",
       "      <td>1.2</td>\n",
       "      <td>-0.0</td>\n",
       "    </tr>\n",
       "    <tr>\n",
       "      <th>4</th>\n",
       "      <td>2022-10-27 07:00:18</td>\n",
       "      <td>2022-10-28 23:00:00</td>\n",
       "      <td>8.2</td>\n",
       "      <td>1.230</td>\n",
       "      <td>4073.699951</td>\n",
       "      <td>0.0</td>\n",
       "      <td>0.0</td>\n",
       "      <td>2056.399902</td>\n",
       "      <td>1.0</td>\n",
       "      <td>281.100006</td>\n",
       "      <td>0.0</td>\n",
       "      <td>0.0</td>\n",
       "      <td>0.0</td>\n",
       "      <td>0.0</td>\n",
       "      <td>100.000000</td>\n",
       "      <td>24.0</td>\n",
       "      <td>0.0</td>\n",
       "      <td>0.0</td>\n",
       "      <td>0.0</td>\n",
       "      <td>0.0</td>\n",
       "      <td>0.0</td>\n",
       "      <td>0.0</td>\n",
       "      <td>1.0</td>\n",
       "      <td>999.700012</td>\n",
       "      <td>0.0</td>\n",
       "      <td>0.0</td>\n",
       "      <td>984.700012</td>\n",
       "      <td>990.700012</td>\n",
       "      <td>0.0</td>\n",
       "      <td>0.1</td>\n",
       "      <td>92.699997</td>\n",
       "      <td>996.799988</td>\n",
       "      <td>NaN</td>\n",
       "      <td>0.0</td>\n",
       "      <td>0.0</td>\n",
       "      <td>-0.0</td>\n",
       "      <td>0.6</td>\n",
       "      <td>359.634003</td>\n",
       "      <td>-39.647999</td>\n",
       "      <td>0.0</td>\n",
       "      <td>285.000000</td>\n",
       "      <td>100.000000</td>\n",
       "      <td>6865.000000</td>\n",
       "      <td>1.2</td>\n",
       "      <td>0.1</td>\n",
       "      <td>1.2</td>\n",
       "      <td>-0.0</td>\n",
       "    </tr>\n",
       "    <tr>\n",
       "      <th>...</th>\n",
       "      <td>...</td>\n",
       "      <td>...</td>\n",
       "      <td>...</td>\n",
       "      <td>...</td>\n",
       "      <td>...</td>\n",
       "      <td>...</td>\n",
       "      <td>...</td>\n",
       "      <td>...</td>\n",
       "      <td>...</td>\n",
       "      <td>...</td>\n",
       "      <td>...</td>\n",
       "      <td>...</td>\n",
       "      <td>...</td>\n",
       "      <td>...</td>\n",
       "      <td>...</td>\n",
       "      <td>...</td>\n",
       "      <td>...</td>\n",
       "      <td>...</td>\n",
       "      <td>...</td>\n",
       "      <td>...</td>\n",
       "      <td>...</td>\n",
       "      <td>...</td>\n",
       "      <td>...</td>\n",
       "      <td>...</td>\n",
       "      <td>...</td>\n",
       "      <td>...</td>\n",
       "      <td>...</td>\n",
       "      <td>...</td>\n",
       "      <td>...</td>\n",
       "      <td>...</td>\n",
       "      <td>...</td>\n",
       "      <td>...</td>\n",
       "      <td>...</td>\n",
       "      <td>...</td>\n",
       "      <td>...</td>\n",
       "      <td>...</td>\n",
       "      <td>...</td>\n",
       "      <td>...</td>\n",
       "      <td>...</td>\n",
       "      <td>...</td>\n",
       "      <td>...</td>\n",
       "      <td>...</td>\n",
       "      <td>...</td>\n",
       "      <td>...</td>\n",
       "      <td>...</td>\n",
       "      <td>...</td>\n",
       "      <td>...</td>\n",
       "    </tr>\n",
       "    <tr>\n",
       "      <th>17571</th>\n",
       "      <td>2023-04-29 07:00:05</td>\n",
       "      <td>2023-04-30 22:45:00</td>\n",
       "      <td>4.4</td>\n",
       "      <td>1.280</td>\n",
       "      <td>1034.599976</td>\n",
       "      <td>0.0</td>\n",
       "      <td>0.0</td>\n",
       "      <td>562.299988</td>\n",
       "      <td>0.0</td>\n",
       "      <td>272.000000</td>\n",
       "      <td>0.0</td>\n",
       "      <td>0.0</td>\n",
       "      <td>0.0</td>\n",
       "      <td>0.0</td>\n",
       "      <td>99.800003</td>\n",
       "      <td>24.0</td>\n",
       "      <td>0.0</td>\n",
       "      <td>0.0</td>\n",
       "      <td>0.4</td>\n",
       "      <td>0.0</td>\n",
       "      <td>0.0</td>\n",
       "      <td>0.0</td>\n",
       "      <td>1.0</td>\n",
       "      <td>1014.400024</td>\n",
       "      <td>0.0</td>\n",
       "      <td>0.0</td>\n",
       "      <td>998.599976</td>\n",
       "      <td>1004.900024</td>\n",
       "      <td>0.0</td>\n",
       "      <td>0.0</td>\n",
       "      <td>80.000000</td>\n",
       "      <td>1011.099976</td>\n",
       "      <td>NaN</td>\n",
       "      <td>0.0</td>\n",
       "      <td>0.0</td>\n",
       "      <td>-0.0</td>\n",
       "      <td>0.1</td>\n",
       "      <td>352.915985</td>\n",
       "      <td>-11.769000</td>\n",
       "      <td>0.2</td>\n",
       "      <td>274.200012</td>\n",
       "      <td>99.900002</td>\n",
       "      <td>10681.200195</td>\n",
       "      <td>3.0</td>\n",
       "      <td>2.1</td>\n",
       "      <td>2.2</td>\n",
       "      <td>-0.0</td>\n",
       "    </tr>\n",
       "    <tr>\n",
       "      <th>17572</th>\n",
       "      <td>2023-04-29 07:00:05</td>\n",
       "      <td>2023-04-30 23:00:00</td>\n",
       "      <td>4.4</td>\n",
       "      <td>1.280</td>\n",
       "      <td>897.200012</td>\n",
       "      <td>0.0</td>\n",
       "      <td>0.0</td>\n",
       "      <td>569.500000</td>\n",
       "      <td>0.0</td>\n",
       "      <td>272.000000</td>\n",
       "      <td>0.0</td>\n",
       "      <td>0.0</td>\n",
       "      <td>0.0</td>\n",
       "      <td>0.0</td>\n",
       "      <td>100.000000</td>\n",
       "      <td>24.0</td>\n",
       "      <td>0.0</td>\n",
       "      <td>0.0</td>\n",
       "      <td>0.0</td>\n",
       "      <td>0.0</td>\n",
       "      <td>0.0</td>\n",
       "      <td>0.0</td>\n",
       "      <td>1.0</td>\n",
       "      <td>1014.400024</td>\n",
       "      <td>0.0</td>\n",
       "      <td>0.0</td>\n",
       "      <td>998.500000</td>\n",
       "      <td>1004.799988</td>\n",
       "      <td>0.0</td>\n",
       "      <td>0.0</td>\n",
       "      <td>80.400002</td>\n",
       "      <td>1011.099976</td>\n",
       "      <td>NaN</td>\n",
       "      <td>0.0</td>\n",
       "      <td>0.0</td>\n",
       "      <td>-0.0</td>\n",
       "      <td>0.1</td>\n",
       "      <td>356.630005</td>\n",
       "      <td>-11.923000</td>\n",
       "      <td>0.2</td>\n",
       "      <td>274.100006</td>\n",
       "      <td>100.000000</td>\n",
       "      <td>9890.900391</td>\n",
       "      <td>2.8</td>\n",
       "      <td>1.9</td>\n",
       "      <td>2.1</td>\n",
       "      <td>-0.0</td>\n",
       "    </tr>\n",
       "    <tr>\n",
       "      <th>17573</th>\n",
       "      <td>2023-04-29 07:00:05</td>\n",
       "      <td>2023-04-30 23:15:00</td>\n",
       "      <td>4.4</td>\n",
       "      <td>1.280</td>\n",
       "      <td>1288.699951</td>\n",
       "      <td>0.0</td>\n",
       "      <td>0.0</td>\n",
       "      <td>562.299988</td>\n",
       "      <td>0.0</td>\n",
       "      <td>272.000000</td>\n",
       "      <td>0.0</td>\n",
       "      <td>0.0</td>\n",
       "      <td>0.0</td>\n",
       "      <td>0.0</td>\n",
       "      <td>99.699997</td>\n",
       "      <td>24.0</td>\n",
       "      <td>0.0</td>\n",
       "      <td>0.0</td>\n",
       "      <td>0.4</td>\n",
       "      <td>0.0</td>\n",
       "      <td>0.0</td>\n",
       "      <td>0.0</td>\n",
       "      <td>1.0</td>\n",
       "      <td>1014.200012</td>\n",
       "      <td>0.0</td>\n",
       "      <td>0.0</td>\n",
       "      <td>998.400024</td>\n",
       "      <td>1004.700012</td>\n",
       "      <td>0.0</td>\n",
       "      <td>0.0</td>\n",
       "      <td>80.099998</td>\n",
       "      <td>1010.900024</td>\n",
       "      <td>NaN</td>\n",
       "      <td>0.0</td>\n",
       "      <td>0.0</td>\n",
       "      <td>-0.0</td>\n",
       "      <td>0.1</td>\n",
       "      <td>0.349000</td>\n",
       "      <td>-11.967000</td>\n",
       "      <td>0.1</td>\n",
       "      <td>274.200012</td>\n",
       "      <td>100.000000</td>\n",
       "      <td>10716.799805</td>\n",
       "      <td>2.9</td>\n",
       "      <td>1.9</td>\n",
       "      <td>2.2</td>\n",
       "      <td>-0.0</td>\n",
       "    </tr>\n",
       "    <tr>\n",
       "      <th>17574</th>\n",
       "      <td>2023-04-29 07:00:05</td>\n",
       "      <td>2023-04-30 23:30:00</td>\n",
       "      <td>4.4</td>\n",
       "      <td>1.280</td>\n",
       "      <td>1680.300049</td>\n",
       "      <td>0.0</td>\n",
       "      <td>0.0</td>\n",
       "      <td>555.099976</td>\n",
       "      <td>0.0</td>\n",
       "      <td>271.899994</td>\n",
       "      <td>0.0</td>\n",
       "      <td>0.0</td>\n",
       "      <td>0.0</td>\n",
       "      <td>0.0</td>\n",
       "      <td>99.000000</td>\n",
       "      <td>24.0</td>\n",
       "      <td>0.0</td>\n",
       "      <td>0.0</td>\n",
       "      <td>0.4</td>\n",
       "      <td>0.0</td>\n",
       "      <td>0.0</td>\n",
       "      <td>0.0</td>\n",
       "      <td>1.0</td>\n",
       "      <td>1014.099976</td>\n",
       "      <td>0.0</td>\n",
       "      <td>0.0</td>\n",
       "      <td>998.299988</td>\n",
       "      <td>1004.500000</td>\n",
       "      <td>0.0</td>\n",
       "      <td>0.0</td>\n",
       "      <td>79.800003</td>\n",
       "      <td>1010.799988</td>\n",
       "      <td>NaN</td>\n",
       "      <td>0.0</td>\n",
       "      <td>0.0</td>\n",
       "      <td>-0.0</td>\n",
       "      <td>0.1</td>\n",
       "      <td>4.067000</td>\n",
       "      <td>-11.902000</td>\n",
       "      <td>0.1</td>\n",
       "      <td>274.200012</td>\n",
       "      <td>99.800003</td>\n",
       "      <td>11538.799805</td>\n",
       "      <td>3.0</td>\n",
       "      <td>1.9</td>\n",
       "      <td>2.3</td>\n",
       "      <td>-0.0</td>\n",
       "    </tr>\n",
       "    <tr>\n",
       "      <th>17575</th>\n",
       "      <td>2023-04-29 07:00:05</td>\n",
       "      <td>2023-04-30 23:45:00</td>\n",
       "      <td>4.4</td>\n",
       "      <td>1.279</td>\n",
       "      <td>2071.800049</td>\n",
       "      <td>0.0</td>\n",
       "      <td>0.0</td>\n",
       "      <td>547.799988</td>\n",
       "      <td>0.0</td>\n",
       "      <td>271.899994</td>\n",
       "      <td>0.0</td>\n",
       "      <td>0.0</td>\n",
       "      <td>0.0</td>\n",
       "      <td>0.0</td>\n",
       "      <td>97.699997</td>\n",
       "      <td>24.0</td>\n",
       "      <td>0.0</td>\n",
       "      <td>0.0</td>\n",
       "      <td>0.4</td>\n",
       "      <td>0.0</td>\n",
       "      <td>0.0</td>\n",
       "      <td>0.0</td>\n",
       "      <td>1.0</td>\n",
       "      <td>1013.900024</td>\n",
       "      <td>0.0</td>\n",
       "      <td>0.0</td>\n",
       "      <td>998.099976</td>\n",
       "      <td>1004.400024</td>\n",
       "      <td>0.0</td>\n",
       "      <td>0.0</td>\n",
       "      <td>79.500000</td>\n",
       "      <td>1010.599976</td>\n",
       "      <td>NaN</td>\n",
       "      <td>0.0</td>\n",
       "      <td>0.0</td>\n",
       "      <td>-0.0</td>\n",
       "      <td>0.0</td>\n",
       "      <td>7.780000</td>\n",
       "      <td>-11.728000</td>\n",
       "      <td>0.1</td>\n",
       "      <td>274.200012</td>\n",
       "      <td>99.699997</td>\n",
       "      <td>12357.099609</td>\n",
       "      <td>3.0</td>\n",
       "      <td>2.0</td>\n",
       "      <td>2.3</td>\n",
       "      <td>-0.0</td>\n",
       "    </tr>\n",
       "  </tbody>\n",
       "</table>\n",
       "<p>17576 rows × 47 columns</p>\n",
       "</div>"
      ],
      "text/plain": [
       "                date_calc       date_forecast  absolute_humidity_2m:gm3  \\\n",
       "0     2022-10-27 07:00:18 2022-10-28 22:00:00                       8.3   \n",
       "1     2022-10-27 07:00:18 2022-10-28 22:15:00                       8.3   \n",
       "2     2022-10-27 07:00:18 2022-10-28 22:30:00                       8.3   \n",
       "3     2022-10-27 07:00:18 2022-10-28 22:45:00                       8.2   \n",
       "4     2022-10-27 07:00:18 2022-10-28 23:00:00                       8.2   \n",
       "...                   ...                 ...                       ...   \n",
       "17571 2023-04-29 07:00:05 2023-04-30 22:45:00                       4.4   \n",
       "17572 2023-04-29 07:00:05 2023-04-30 23:00:00                       4.4   \n",
       "17573 2023-04-29 07:00:05 2023-04-30 23:15:00                       4.4   \n",
       "17574 2023-04-29 07:00:05 2023-04-30 23:30:00                       4.4   \n",
       "17575 2023-04-29 07:00:05 2023-04-30 23:45:00                       4.4   \n",
       "\n",
       "       air_density_2m:kgm3  ceiling_height_agl:m  clear_sky_energy_1h:J  \\\n",
       "0                    1.231           1427.400024                    0.0   \n",
       "1                    1.231           2089.000000                    0.0   \n",
       "2                    1.231           2750.500000                    0.0   \n",
       "3                    1.230           3412.100098                    0.0   \n",
       "4                    1.230           4073.699951                    0.0   \n",
       "...                    ...                   ...                    ...   \n",
       "17571                1.280           1034.599976                    0.0   \n",
       "17572                1.280            897.200012                    0.0   \n",
       "17573                1.280           1288.699951                    0.0   \n",
       "17574                1.280           1680.300049                    0.0   \n",
       "17575                1.279           2071.800049                    0.0   \n",
       "\n",
       "       clear_sky_rad:W  cloud_base_agl:m  dew_or_rime:idx  dew_point_2m:K  \\\n",
       "0                  0.0       1215.800049              1.0      281.200012   \n",
       "1                  0.0       1425.900024              1.0      281.200012   \n",
       "2                  0.0       1636.099976              1.0      281.100006   \n",
       "3                  0.0       1846.199951              1.0      281.100006   \n",
       "4                  0.0       2056.399902              1.0      281.100006   \n",
       "...                ...               ...              ...             ...   \n",
       "17571              0.0        562.299988              0.0      272.000000   \n",
       "17572              0.0        569.500000              0.0      272.000000   \n",
       "17573              0.0        562.299988              0.0      272.000000   \n",
       "17574              0.0        555.099976              0.0      271.899994   \n",
       "17575              0.0        547.799988              0.0      271.899994   \n",
       "\n",
       "       diffuse_rad:W  diffuse_rad_1h:J  direct_rad:W  direct_rad_1h:J  \\\n",
       "0                0.0               0.0           0.0              0.0   \n",
       "1                0.0               0.0           0.0              0.0   \n",
       "2                0.0               0.0           0.0              0.0   \n",
       "3                0.0               0.0           0.0              0.0   \n",
       "4                0.0               0.0           0.0              0.0   \n",
       "...              ...               ...           ...              ...   \n",
       "17571            0.0               0.0           0.0              0.0   \n",
       "17572            0.0               0.0           0.0              0.0   \n",
       "17573            0.0               0.0           0.0              0.0   \n",
       "17574            0.0               0.0           0.0              0.0   \n",
       "17575            0.0               0.0           0.0              0.0   \n",
       "\n",
       "       effective_cloud_cover:p  elevation:m  fresh_snow_12h:cm  \\\n",
       "0                   100.000000         24.0                0.0   \n",
       "1                   100.000000         24.0                0.0   \n",
       "2                   100.000000         24.0                0.0   \n",
       "3                   100.000000         24.0                0.0   \n",
       "4                   100.000000         24.0                0.0   \n",
       "...                        ...          ...                ...   \n",
       "17571                99.800003         24.0                0.0   \n",
       "17572               100.000000         24.0                0.0   \n",
       "17573                99.699997         24.0                0.0   \n",
       "17574                99.000000         24.0                0.0   \n",
       "17575                97.699997         24.0                0.0   \n",
       "\n",
       "       fresh_snow_1h:cm  fresh_snow_24h:cm  fresh_snow_3h:cm  \\\n",
       "0                   0.0                0.0               0.0   \n",
       "1                   0.0                0.0               0.0   \n",
       "2                   0.0                0.0               0.0   \n",
       "3                   0.0                0.0               0.0   \n",
       "4                   0.0                0.0               0.0   \n",
       "...                 ...                ...               ...   \n",
       "17571               0.0                0.4               0.0   \n",
       "17572               0.0                0.0               0.0   \n",
       "17573               0.0                0.4               0.0   \n",
       "17574               0.0                0.4               0.0   \n",
       "17575               0.0                0.4               0.0   \n",
       "\n",
       "       fresh_snow_6h:cm  is_day:idx  is_in_shadow:idx  msl_pressure:hPa  \\\n",
       "0                   0.0         0.0               1.0       1001.099976   \n",
       "1                   0.0         0.0               1.0       1000.700012   \n",
       "2                   0.0         0.0               1.0       1000.400024   \n",
       "3                   0.0         0.0               1.0       1000.099976   \n",
       "4                   0.0         0.0               1.0        999.700012   \n",
       "...                 ...         ...               ...               ...   \n",
       "17571               0.0         0.0               1.0       1014.400024   \n",
       "17572               0.0         0.0               1.0       1014.400024   \n",
       "17573               0.0         0.0               1.0       1014.200012   \n",
       "17574               0.0         0.0               1.0       1014.099976   \n",
       "17575               0.0         0.0               1.0       1013.900024   \n",
       "\n",
       "       precip_5min:mm  precip_type_5min:idx  pressure_100m:hPa  \\\n",
       "0                 0.0                   0.0         986.000000   \n",
       "1                 0.0                   0.0         985.700012   \n",
       "2                 0.0                   0.0         985.400024   \n",
       "3                 0.0                   0.0         985.099976   \n",
       "4                 0.0                   0.0         984.700012   \n",
       "...               ...                   ...                ...   \n",
       "17571             0.0                   0.0         998.599976   \n",
       "17572             0.0                   0.0         998.500000   \n",
       "17573             0.0                   0.0         998.400024   \n",
       "17574             0.0                   0.0         998.299988   \n",
       "17575             0.0                   0.0         998.099976   \n",
       "\n",
       "       pressure_50m:hPa  prob_rime:p  rain_water:kgm2  \\\n",
       "0            992.000000          0.0              0.0   \n",
       "1            991.700012          0.0              0.0   \n",
       "2            991.400024          0.0              0.1   \n",
       "3            991.099976          0.0              0.1   \n",
       "4            990.700012          0.0              0.1   \n",
       "...                 ...          ...              ...   \n",
       "17571       1004.900024          0.0              0.0   \n",
       "17572       1004.799988          0.0              0.0   \n",
       "17573       1004.700012          0.0              0.0   \n",
       "17574       1004.500000          0.0              0.0   \n",
       "17575       1004.400024          0.0              0.0   \n",
       "\n",
       "       relative_humidity_1000hPa:p  sfc_pressure:hPa  snow_density:kgm3  \\\n",
       "0                        93.900002        998.099976                NaN   \n",
       "1                        93.599998        997.700012                NaN   \n",
       "2                        93.300003        997.400024                NaN   \n",
       "3                        93.000000        997.099976                NaN   \n",
       "4                        92.699997        996.799988                NaN   \n",
       "...                            ...               ...                ...   \n",
       "17571                    80.000000       1011.099976                NaN   \n",
       "17572                    80.400002       1011.099976                NaN   \n",
       "17573                    80.099998       1010.900024                NaN   \n",
       "17574                    79.800003       1010.799988                NaN   \n",
       "17575                    79.500000       1010.599976                NaN   \n",
       "\n",
       "       snow_depth:cm  snow_drift:idx  snow_melt_10min:mm  snow_water:kgm2  \\\n",
       "0                0.0             0.0                -0.0              0.4   \n",
       "1                0.0             0.0                -0.0              0.5   \n",
       "2                0.0             0.0                -0.0              0.5   \n",
       "3                0.0             0.0                -0.0              0.5   \n",
       "4                0.0             0.0                -0.0              0.6   \n",
       "...              ...             ...                 ...              ...   \n",
       "17571            0.0             0.0                -0.0              0.1   \n",
       "17572            0.0             0.0                -0.0              0.1   \n",
       "17573            0.0             0.0                -0.0              0.1   \n",
       "17574            0.0             0.0                -0.0              0.1   \n",
       "17575            0.0             0.0                -0.0              0.0   \n",
       "\n",
       "       sun_azimuth:d  sun_elevation:d  super_cooled_liquid_water:kgm2  \\\n",
       "0         340.785004       -38.502998                             0.0   \n",
       "1         345.440002       -38.992001                             0.0   \n",
       "2         350.144012       -39.348000                             0.0   \n",
       "3         354.880005       -39.567001                             0.0   \n",
       "4         359.634003       -39.647999                             0.0   \n",
       "...              ...              ...                             ...   \n",
       "17571     352.915985       -11.769000                             0.2   \n",
       "17572     356.630005       -11.923000                             0.2   \n",
       "17573       0.349000       -11.967000                             0.1   \n",
       "17574       4.067000       -11.902000                             0.1   \n",
       "17575       7.780000       -11.728000                             0.1   \n",
       "\n",
       "       t_1000hPa:K  total_cloud_cover:p  visibility:m  wind_speed_10m:ms  \\\n",
       "0       285.200012           100.000000  34387.398438                1.2   \n",
       "1       285.100006           100.000000  27418.500000                1.2   \n",
       "2       285.100006           100.000000  20508.800781                1.2   \n",
       "3       285.000000           100.000000  13657.799805                1.2   \n",
       "4       285.000000           100.000000   6865.000000                1.2   \n",
       "...            ...                  ...           ...                ...   \n",
       "17571   274.200012            99.900002  10681.200195                3.0   \n",
       "17572   274.100006           100.000000   9890.900391                2.8   \n",
       "17573   274.200012           100.000000  10716.799805                2.9   \n",
       "17574   274.200012            99.800003  11538.799805                3.0   \n",
       "17575   274.200012            99.699997  12357.099609                3.0   \n",
       "\n",
       "       wind_speed_u_10m:ms  wind_speed_v_10m:ms  wind_speed_w_1000hPa:ms  \n",
       "0                     -0.3                  1.1                     -0.0  \n",
       "1                     -0.2                  1.2                     -0.0  \n",
       "2                     -0.1                  1.2                     -0.0  \n",
       "3                     -0.0                  1.2                     -0.0  \n",
       "4                      0.1                  1.2                     -0.0  \n",
       "...                    ...                  ...                      ...  \n",
       "17571                  2.1                  2.2                     -0.0  \n",
       "17572                  1.9                  2.1                     -0.0  \n",
       "17573                  1.9                  2.2                     -0.0  \n",
       "17574                  1.9                  2.3                     -0.0  \n",
       "17575                  2.0                  2.3                     -0.0  \n",
       "\n",
       "[17576 rows x 47 columns]"
      ]
     },
     "metadata": {},
     "output_type": "display_data"
    },
    {
     "data": {
      "text/plain": [
       "'C'"
      ]
     },
     "metadata": {},
     "output_type": "display_data"
    },
    {
     "data": {
      "text/plain": [
       "'train_obs'"
      ]
     },
     "metadata": {},
     "output_type": "display_data"
    },
    {
     "data": {
      "text/html": [
       "<div>\n",
       "<style scoped>\n",
       "    .dataframe tbody tr th:only-of-type {\n",
       "        vertical-align: middle;\n",
       "    }\n",
       "\n",
       "    .dataframe tbody tr th {\n",
       "        vertical-align: top;\n",
       "    }\n",
       "\n",
       "    .dataframe thead th {\n",
       "        text-align: right;\n",
       "    }\n",
       "</style>\n",
       "<table border=\"1\" class=\"dataframe\">\n",
       "  <thead>\n",
       "    <tr style=\"text-align: right;\">\n",
       "      <th></th>\n",
       "      <th>date_forecast</th>\n",
       "      <th>absolute_humidity_2m:gm3</th>\n",
       "      <th>air_density_2m:kgm3</th>\n",
       "      <th>ceiling_height_agl:m</th>\n",
       "      <th>clear_sky_energy_1h:J</th>\n",
       "      <th>clear_sky_rad:W</th>\n",
       "      <th>cloud_base_agl:m</th>\n",
       "      <th>dew_or_rime:idx</th>\n",
       "      <th>dew_point_2m:K</th>\n",
       "      <th>diffuse_rad:W</th>\n",
       "      <th>diffuse_rad_1h:J</th>\n",
       "      <th>direct_rad:W</th>\n",
       "      <th>direct_rad_1h:J</th>\n",
       "      <th>effective_cloud_cover:p</th>\n",
       "      <th>elevation:m</th>\n",
       "      <th>fresh_snow_12h:cm</th>\n",
       "      <th>fresh_snow_1h:cm</th>\n",
       "      <th>fresh_snow_24h:cm</th>\n",
       "      <th>fresh_snow_3h:cm</th>\n",
       "      <th>fresh_snow_6h:cm</th>\n",
       "      <th>is_day:idx</th>\n",
       "      <th>is_in_shadow:idx</th>\n",
       "      <th>msl_pressure:hPa</th>\n",
       "      <th>precip_5min:mm</th>\n",
       "      <th>precip_type_5min:idx</th>\n",
       "      <th>pressure_100m:hPa</th>\n",
       "      <th>pressure_50m:hPa</th>\n",
       "      <th>prob_rime:p</th>\n",
       "      <th>rain_water:kgm2</th>\n",
       "      <th>relative_humidity_1000hPa:p</th>\n",
       "      <th>sfc_pressure:hPa</th>\n",
       "      <th>snow_density:kgm3</th>\n",
       "      <th>snow_depth:cm</th>\n",
       "      <th>snow_drift:idx</th>\n",
       "      <th>snow_melt_10min:mm</th>\n",
       "      <th>snow_water:kgm2</th>\n",
       "      <th>sun_azimuth:d</th>\n",
       "      <th>sun_elevation:d</th>\n",
       "      <th>super_cooled_liquid_water:kgm2</th>\n",
       "      <th>t_1000hPa:K</th>\n",
       "      <th>total_cloud_cover:p</th>\n",
       "      <th>visibility:m</th>\n",
       "      <th>wind_speed_10m:ms</th>\n",
       "      <th>wind_speed_u_10m:ms</th>\n",
       "      <th>wind_speed_v_10m:ms</th>\n",
       "      <th>wind_speed_w_1000hPa:ms</th>\n",
       "    </tr>\n",
       "  </thead>\n",
       "  <tbody>\n",
       "    <tr>\n",
       "      <th>0</th>\n",
       "      <td>2019-01-01 00:00:00</td>\n",
       "      <td>5.6</td>\n",
       "      <td>1.240</td>\n",
       "      <td>1153.599976</td>\n",
       "      <td>0.0</td>\n",
       "      <td>0.0</td>\n",
       "      <td>1153.599976</td>\n",
       "      <td>1.0</td>\n",
       "      <td>275.200012</td>\n",
       "      <td>0.0</td>\n",
       "      <td>0.0</td>\n",
       "      <td>0.0</td>\n",
       "      <td>0.0</td>\n",
       "      <td>63.599998</td>\n",
       "      <td>24.0</td>\n",
       "      <td>0.0</td>\n",
       "      <td>0.0</td>\n",
       "      <td>0.0</td>\n",
       "      <td>0.0</td>\n",
       "      <td>0.0</td>\n",
       "      <td>0.0</td>\n",
       "      <td>1.0</td>\n",
       "      <td>987.299988</td>\n",
       "      <td>0.00</td>\n",
       "      <td>0.0</td>\n",
       "      <td>972.599976</td>\n",
       "      <td>978.599976</td>\n",
       "      <td>0.0</td>\n",
       "      <td>0.0</td>\n",
       "      <td>90.199997</td>\n",
       "      <td>984.700012</td>\n",
       "      <td>NaN</td>\n",
       "      <td>0.0</td>\n",
       "      <td>0.0</td>\n",
       "      <td>-0.0</td>\n",
       "      <td>0.0</td>\n",
       "      <td>12.989000</td>\n",
       "      <td>-49.178001</td>\n",
       "      <td>0.0</td>\n",
       "      <td>278.500000</td>\n",
       "      <td>68.500000</td>\n",
       "      <td>18220.400391</td>\n",
       "      <td>2.5</td>\n",
       "      <td>1.1</td>\n",
       "      <td>2.2</td>\n",
       "      <td>-0.0</td>\n",
       "    </tr>\n",
       "    <tr>\n",
       "      <th>1</th>\n",
       "      <td>2019-01-01 00:15:00</td>\n",
       "      <td>5.5</td>\n",
       "      <td>1.241</td>\n",
       "      <td>1137.900024</td>\n",
       "      <td>0.0</td>\n",
       "      <td>0.0</td>\n",
       "      <td>1137.900024</td>\n",
       "      <td>1.0</td>\n",
       "      <td>275.100006</td>\n",
       "      <td>0.0</td>\n",
       "      <td>0.0</td>\n",
       "      <td>0.0</td>\n",
       "      <td>0.0</td>\n",
       "      <td>74.900002</td>\n",
       "      <td>24.0</td>\n",
       "      <td>0.0</td>\n",
       "      <td>0.0</td>\n",
       "      <td>0.0</td>\n",
       "      <td>0.0</td>\n",
       "      <td>0.0</td>\n",
       "      <td>0.0</td>\n",
       "      <td>1.0</td>\n",
       "      <td>987.099976</td>\n",
       "      <td>0.06</td>\n",
       "      <td>1.0</td>\n",
       "      <td>972.299988</td>\n",
       "      <td>978.299988</td>\n",
       "      <td>0.2</td>\n",
       "      <td>0.0</td>\n",
       "      <td>90.000000</td>\n",
       "      <td>984.400024</td>\n",
       "      <td>NaN</td>\n",
       "      <td>0.0</td>\n",
       "      <td>0.0</td>\n",
       "      <td>-0.0</td>\n",
       "      <td>0.0</td>\n",
       "      <td>18.214001</td>\n",
       "      <td>-48.724998</td>\n",
       "      <td>0.0</td>\n",
       "      <td>278.399994</td>\n",
       "      <td>80.800003</td>\n",
       "      <td>17083.699219</td>\n",
       "      <td>2.8</td>\n",
       "      <td>1.1</td>\n",
       "      <td>2.5</td>\n",
       "      <td>-0.0</td>\n",
       "    </tr>\n",
       "    <tr>\n",
       "      <th>2</th>\n",
       "      <td>2019-01-01 00:30:00</td>\n",
       "      <td>5.4</td>\n",
       "      <td>1.241</td>\n",
       "      <td>1122.199951</td>\n",
       "      <td>0.0</td>\n",
       "      <td>0.0</td>\n",
       "      <td>1122.199951</td>\n",
       "      <td>1.0</td>\n",
       "      <td>274.899994</td>\n",
       "      <td>0.0</td>\n",
       "      <td>0.0</td>\n",
       "      <td>0.0</td>\n",
       "      <td>0.0</td>\n",
       "      <td>84.300003</td>\n",
       "      <td>24.0</td>\n",
       "      <td>0.0</td>\n",
       "      <td>0.0</td>\n",
       "      <td>0.0</td>\n",
       "      <td>0.0</td>\n",
       "      <td>0.0</td>\n",
       "      <td>0.0</td>\n",
       "      <td>1.0</td>\n",
       "      <td>986.799988</td>\n",
       "      <td>0.06</td>\n",
       "      <td>1.0</td>\n",
       "      <td>972.000000</td>\n",
       "      <td>978.000000</td>\n",
       "      <td>0.3</td>\n",
       "      <td>0.0</td>\n",
       "      <td>89.900002</td>\n",
       "      <td>984.099976</td>\n",
       "      <td>NaN</td>\n",
       "      <td>0.0</td>\n",
       "      <td>0.0</td>\n",
       "      <td>-0.0</td>\n",
       "      <td>0.1</td>\n",
       "      <td>23.351000</td>\n",
       "      <td>-48.127998</td>\n",
       "      <td>0.0</td>\n",
       "      <td>278.299988</td>\n",
       "      <td>89.900002</td>\n",
       "      <td>15940.900391</td>\n",
       "      <td>3.0</td>\n",
       "      <td>1.1</td>\n",
       "      <td>2.8</td>\n",
       "      <td>-0.0</td>\n",
       "    </tr>\n",
       "    <tr>\n",
       "      <th>3</th>\n",
       "      <td>2019-01-01 00:45:00</td>\n",
       "      <td>5.4</td>\n",
       "      <td>1.241</td>\n",
       "      <td>1106.400024</td>\n",
       "      <td>0.0</td>\n",
       "      <td>0.0</td>\n",
       "      <td>1106.400024</td>\n",
       "      <td>1.0</td>\n",
       "      <td>274.700012</td>\n",
       "      <td>0.0</td>\n",
       "      <td>0.0</td>\n",
       "      <td>0.0</td>\n",
       "      <td>0.0</td>\n",
       "      <td>92.000000</td>\n",
       "      <td>24.0</td>\n",
       "      <td>0.0</td>\n",
       "      <td>0.0</td>\n",
       "      <td>0.0</td>\n",
       "      <td>0.0</td>\n",
       "      <td>0.0</td>\n",
       "      <td>0.0</td>\n",
       "      <td>1.0</td>\n",
       "      <td>986.599976</td>\n",
       "      <td>0.06</td>\n",
       "      <td>1.0</td>\n",
       "      <td>971.700012</td>\n",
       "      <td>977.799988</td>\n",
       "      <td>0.3</td>\n",
       "      <td>0.0</td>\n",
       "      <td>89.699997</td>\n",
       "      <td>983.799988</td>\n",
       "      <td>NaN</td>\n",
       "      <td>0.0</td>\n",
       "      <td>0.0</td>\n",
       "      <td>-0.0</td>\n",
       "      <td>0.1</td>\n",
       "      <td>28.382000</td>\n",
       "      <td>-47.393002</td>\n",
       "      <td>0.0</td>\n",
       "      <td>278.200012</td>\n",
       "      <td>96.099998</td>\n",
       "      <td>14792.000000</td>\n",
       "      <td>3.3</td>\n",
       "      <td>1.2</td>\n",
       "      <td>3.0</td>\n",
       "      <td>-0.0</td>\n",
       "    </tr>\n",
       "    <tr>\n",
       "      <th>4</th>\n",
       "      <td>2019-01-01 01:00:00</td>\n",
       "      <td>5.3</td>\n",
       "      <td>1.241</td>\n",
       "      <td>1090.599976</td>\n",
       "      <td>0.0</td>\n",
       "      <td>0.0</td>\n",
       "      <td>1090.599976</td>\n",
       "      <td>1.0</td>\n",
       "      <td>274.500000</td>\n",
       "      <td>0.0</td>\n",
       "      <td>0.0</td>\n",
       "      <td>0.0</td>\n",
       "      <td>0.0</td>\n",
       "      <td>98.000000</td>\n",
       "      <td>24.0</td>\n",
       "      <td>0.0</td>\n",
       "      <td>0.0</td>\n",
       "      <td>0.0</td>\n",
       "      <td>0.0</td>\n",
       "      <td>0.0</td>\n",
       "      <td>0.0</td>\n",
       "      <td>1.0</td>\n",
       "      <td>986.400024</td>\n",
       "      <td>0.06</td>\n",
       "      <td>1.0</td>\n",
       "      <td>971.400024</td>\n",
       "      <td>977.500000</td>\n",
       "      <td>0.4</td>\n",
       "      <td>0.0</td>\n",
       "      <td>89.599998</td>\n",
       "      <td>983.599976</td>\n",
       "      <td>NaN</td>\n",
       "      <td>0.0</td>\n",
       "      <td>0.0</td>\n",
       "      <td>-0.0</td>\n",
       "      <td>0.1</td>\n",
       "      <td>33.292999</td>\n",
       "      <td>-46.529999</td>\n",
       "      <td>0.0</td>\n",
       "      <td>278.100006</td>\n",
       "      <td>99.400002</td>\n",
       "      <td>13637.299805</td>\n",
       "      <td>3.5</td>\n",
       "      <td>1.2</td>\n",
       "      <td>3.3</td>\n",
       "      <td>-0.0</td>\n",
       "    </tr>\n",
       "    <tr>\n",
       "      <th>...</th>\n",
       "      <td>...</td>\n",
       "      <td>...</td>\n",
       "      <td>...</td>\n",
       "      <td>...</td>\n",
       "      <td>...</td>\n",
       "      <td>...</td>\n",
       "      <td>...</td>\n",
       "      <td>...</td>\n",
       "      <td>...</td>\n",
       "      <td>...</td>\n",
       "      <td>...</td>\n",
       "      <td>...</td>\n",
       "      <td>...</td>\n",
       "      <td>...</td>\n",
       "      <td>...</td>\n",
       "      <td>...</td>\n",
       "      <td>...</td>\n",
       "      <td>...</td>\n",
       "      <td>...</td>\n",
       "      <td>...</td>\n",
       "      <td>...</td>\n",
       "      <td>...</td>\n",
       "      <td>...</td>\n",
       "      <td>...</td>\n",
       "      <td>...</td>\n",
       "      <td>...</td>\n",
       "      <td>...</td>\n",
       "      <td>...</td>\n",
       "      <td>...</td>\n",
       "      <td>...</td>\n",
       "      <td>...</td>\n",
       "      <td>...</td>\n",
       "      <td>...</td>\n",
       "      <td>...</td>\n",
       "      <td>...</td>\n",
       "      <td>...</td>\n",
       "      <td>...</td>\n",
       "      <td>...</td>\n",
       "      <td>...</td>\n",
       "      <td>...</td>\n",
       "      <td>...</td>\n",
       "      <td>...</td>\n",
       "      <td>...</td>\n",
       "      <td>...</td>\n",
       "      <td>...</td>\n",
       "      <td>...</td>\n",
       "    </tr>\n",
       "    <tr>\n",
       "      <th>116820</th>\n",
       "      <td>2022-05-01 21:00:00</td>\n",
       "      <td>4.9</td>\n",
       "      <td>1.257</td>\n",
       "      <td>2652.000000</td>\n",
       "      <td>0.0</td>\n",
       "      <td>0.0</td>\n",
       "      <td>1536.500000</td>\n",
       "      <td>0.0</td>\n",
       "      <td>273.600006</td>\n",
       "      <td>0.0</td>\n",
       "      <td>0.0</td>\n",
       "      <td>0.0</td>\n",
       "      <td>0.0</td>\n",
       "      <td>95.000000</td>\n",
       "      <td>24.0</td>\n",
       "      <td>0.0</td>\n",
       "      <td>0.0</td>\n",
       "      <td>0.0</td>\n",
       "      <td>0.0</td>\n",
       "      <td>0.0</td>\n",
       "      <td>0.0</td>\n",
       "      <td>1.0</td>\n",
       "      <td>1014.799988</td>\n",
       "      <td>0.00</td>\n",
       "      <td>0.0</td>\n",
       "      <td>999.299988</td>\n",
       "      <td>1005.400024</td>\n",
       "      <td>0.0</td>\n",
       "      <td>0.0</td>\n",
       "      <td>62.599998</td>\n",
       "      <td>1011.599976</td>\n",
       "      <td>NaN</td>\n",
       "      <td>0.0</td>\n",
       "      <td>0.0</td>\n",
       "      <td>-0.0</td>\n",
       "      <td>0.0</td>\n",
       "      <td>327.303009</td>\n",
       "      <td>-7.367000</td>\n",
       "      <td>0.0</td>\n",
       "      <td>279.299988</td>\n",
       "      <td>100.000000</td>\n",
       "      <td>38312.000000</td>\n",
       "      <td>4.7</td>\n",
       "      <td>3.0</td>\n",
       "      <td>3.6</td>\n",
       "      <td>-0.0</td>\n",
       "    </tr>\n",
       "    <tr>\n",
       "      <th>116821</th>\n",
       "      <td>2022-05-01 21:15:00</td>\n",
       "      <td>4.9</td>\n",
       "      <td>1.256</td>\n",
       "      <td>2375.300049</td>\n",
       "      <td>0.0</td>\n",
       "      <td>0.0</td>\n",
       "      <td>1484.500000</td>\n",
       "      <td>0.0</td>\n",
       "      <td>273.600006</td>\n",
       "      <td>0.0</td>\n",
       "      <td>0.0</td>\n",
       "      <td>0.0</td>\n",
       "      <td>0.0</td>\n",
       "      <td>97.000000</td>\n",
       "      <td>24.0</td>\n",
       "      <td>0.0</td>\n",
       "      <td>0.0</td>\n",
       "      <td>0.0</td>\n",
       "      <td>0.0</td>\n",
       "      <td>0.0</td>\n",
       "      <td>0.0</td>\n",
       "      <td>1.0</td>\n",
       "      <td>1014.500000</td>\n",
       "      <td>0.00</td>\n",
       "      <td>0.0</td>\n",
       "      <td>999.000000</td>\n",
       "      <td>1005.099976</td>\n",
       "      <td>0.0</td>\n",
       "      <td>0.0</td>\n",
       "      <td>62.799999</td>\n",
       "      <td>1011.299988</td>\n",
       "      <td>NaN</td>\n",
       "      <td>0.0</td>\n",
       "      <td>0.0</td>\n",
       "      <td>-0.0</td>\n",
       "      <td>0.0</td>\n",
       "      <td>330.863007</td>\n",
       "      <td>-8.232000</td>\n",
       "      <td>0.1</td>\n",
       "      <td>279.299988</td>\n",
       "      <td>100.000000</td>\n",
       "      <td>38344.199219</td>\n",
       "      <td>4.8</td>\n",
       "      <td>3.2</td>\n",
       "      <td>3.6</td>\n",
       "      <td>-0.0</td>\n",
       "    </tr>\n",
       "    <tr>\n",
       "      <th>116822</th>\n",
       "      <td>2022-05-01 21:30:00</td>\n",
       "      <td>4.9</td>\n",
       "      <td>1.256</td>\n",
       "      <td>2098.699951</td>\n",
       "      <td>0.0</td>\n",
       "      <td>0.0</td>\n",
       "      <td>1432.500000</td>\n",
       "      <td>0.0</td>\n",
       "      <td>273.500000</td>\n",
       "      <td>0.0</td>\n",
       "      <td>0.0</td>\n",
       "      <td>0.0</td>\n",
       "      <td>0.0</td>\n",
       "      <td>98.500000</td>\n",
       "      <td>24.0</td>\n",
       "      <td>0.0</td>\n",
       "      <td>0.0</td>\n",
       "      <td>0.0</td>\n",
       "      <td>0.0</td>\n",
       "      <td>0.0</td>\n",
       "      <td>0.0</td>\n",
       "      <td>1.0</td>\n",
       "      <td>1014.200012</td>\n",
       "      <td>0.00</td>\n",
       "      <td>0.0</td>\n",
       "      <td>998.599976</td>\n",
       "      <td>1004.799988</td>\n",
       "      <td>0.0</td>\n",
       "      <td>0.0</td>\n",
       "      <td>63.000000</td>\n",
       "      <td>1010.900024</td>\n",
       "      <td>NaN</td>\n",
       "      <td>0.0</td>\n",
       "      <td>0.0</td>\n",
       "      <td>-0.0</td>\n",
       "      <td>0.0</td>\n",
       "      <td>334.451996</td>\n",
       "      <td>-9.006000</td>\n",
       "      <td>0.1</td>\n",
       "      <td>279.200012</td>\n",
       "      <td>100.000000</td>\n",
       "      <td>38402.601562</td>\n",
       "      <td>4.9</td>\n",
       "      <td>3.3</td>\n",
       "      <td>3.6</td>\n",
       "      <td>-0.0</td>\n",
       "    </tr>\n",
       "    <tr>\n",
       "      <th>116823</th>\n",
       "      <td>2022-05-01 21:45:00</td>\n",
       "      <td>4.8</td>\n",
       "      <td>1.255</td>\n",
       "      <td>1822.000000</td>\n",
       "      <td>0.0</td>\n",
       "      <td>0.0</td>\n",
       "      <td>1380.400024</td>\n",
       "      <td>0.0</td>\n",
       "      <td>273.399994</td>\n",
       "      <td>0.0</td>\n",
       "      <td>0.0</td>\n",
       "      <td>0.0</td>\n",
       "      <td>0.0</td>\n",
       "      <td>99.500000</td>\n",
       "      <td>24.0</td>\n",
       "      <td>0.0</td>\n",
       "      <td>0.0</td>\n",
       "      <td>0.0</td>\n",
       "      <td>0.0</td>\n",
       "      <td>0.0</td>\n",
       "      <td>0.0</td>\n",
       "      <td>1.0</td>\n",
       "      <td>1013.900024</td>\n",
       "      <td>0.00</td>\n",
       "      <td>0.0</td>\n",
       "      <td>998.299988</td>\n",
       "      <td>1004.400024</td>\n",
       "      <td>0.0</td>\n",
       "      <td>0.0</td>\n",
       "      <td>63.200001</td>\n",
       "      <td>1010.599976</td>\n",
       "      <td>NaN</td>\n",
       "      <td>0.0</td>\n",
       "      <td>0.0</td>\n",
       "      <td>-0.0</td>\n",
       "      <td>0.0</td>\n",
       "      <td>338.067993</td>\n",
       "      <td>-9.683000</td>\n",
       "      <td>0.1</td>\n",
       "      <td>279.200012</td>\n",
       "      <td>100.000000</td>\n",
       "      <td>38478.800781</td>\n",
       "      <td>5.0</td>\n",
       "      <td>3.5</td>\n",
       "      <td>3.6</td>\n",
       "      <td>-0.0</td>\n",
       "    </tr>\n",
       "    <tr>\n",
       "      <th>116824</th>\n",
       "      <td>2022-05-01 22:00:00</td>\n",
       "      <td>4.8</td>\n",
       "      <td>1.255</td>\n",
       "      <td>1545.300049</td>\n",
       "      <td>0.0</td>\n",
       "      <td>0.0</td>\n",
       "      <td>1328.400024</td>\n",
       "      <td>0.0</td>\n",
       "      <td>273.399994</td>\n",
       "      <td>0.0</td>\n",
       "      <td>0.0</td>\n",
       "      <td>0.0</td>\n",
       "      <td>0.0</td>\n",
       "      <td>100.000000</td>\n",
       "      <td>24.0</td>\n",
       "      <td>0.0</td>\n",
       "      <td>0.0</td>\n",
       "      <td>0.0</td>\n",
       "      <td>0.0</td>\n",
       "      <td>0.0</td>\n",
       "      <td>0.0</td>\n",
       "      <td>1.0</td>\n",
       "      <td>1013.599976</td>\n",
       "      <td>0.00</td>\n",
       "      <td>0.0</td>\n",
       "      <td>998.000000</td>\n",
       "      <td>1004.099976</td>\n",
       "      <td>0.0</td>\n",
       "      <td>0.0</td>\n",
       "      <td>63.400002</td>\n",
       "      <td>1010.299988</td>\n",
       "      <td>NaN</td>\n",
       "      <td>0.0</td>\n",
       "      <td>0.0</td>\n",
       "      <td>-0.0</td>\n",
       "      <td>0.0</td>\n",
       "      <td>341.709015</td>\n",
       "      <td>-10.262000</td>\n",
       "      <td>0.2</td>\n",
       "      <td>279.100006</td>\n",
       "      <td>100.000000</td>\n",
       "      <td>38570.898438</td>\n",
       "      <td>5.1</td>\n",
       "      <td>3.6</td>\n",
       "      <td>3.6</td>\n",
       "      <td>-0.0</td>\n",
       "    </tr>\n",
       "  </tbody>\n",
       "</table>\n",
       "<p>116825 rows × 46 columns</p>\n",
       "</div>"
      ],
      "text/plain": [
       "             date_forecast  absolute_humidity_2m:gm3  air_density_2m:kgm3  \\\n",
       "0      2019-01-01 00:00:00                       5.6                1.240   \n",
       "1      2019-01-01 00:15:00                       5.5                1.241   \n",
       "2      2019-01-01 00:30:00                       5.4                1.241   \n",
       "3      2019-01-01 00:45:00                       5.4                1.241   \n",
       "4      2019-01-01 01:00:00                       5.3                1.241   \n",
       "...                    ...                       ...                  ...   \n",
       "116820 2022-05-01 21:00:00                       4.9                1.257   \n",
       "116821 2022-05-01 21:15:00                       4.9                1.256   \n",
       "116822 2022-05-01 21:30:00                       4.9                1.256   \n",
       "116823 2022-05-01 21:45:00                       4.8                1.255   \n",
       "116824 2022-05-01 22:00:00                       4.8                1.255   \n",
       "\n",
       "        ceiling_height_agl:m  clear_sky_energy_1h:J  clear_sky_rad:W  \\\n",
       "0                1153.599976                    0.0              0.0   \n",
       "1                1137.900024                    0.0              0.0   \n",
       "2                1122.199951                    0.0              0.0   \n",
       "3                1106.400024                    0.0              0.0   \n",
       "4                1090.599976                    0.0              0.0   \n",
       "...                      ...                    ...              ...   \n",
       "116820           2652.000000                    0.0              0.0   \n",
       "116821           2375.300049                    0.0              0.0   \n",
       "116822           2098.699951                    0.0              0.0   \n",
       "116823           1822.000000                    0.0              0.0   \n",
       "116824           1545.300049                    0.0              0.0   \n",
       "\n",
       "        cloud_base_agl:m  dew_or_rime:idx  dew_point_2m:K  diffuse_rad:W  \\\n",
       "0            1153.599976              1.0      275.200012            0.0   \n",
       "1            1137.900024              1.0      275.100006            0.0   \n",
       "2            1122.199951              1.0      274.899994            0.0   \n",
       "3            1106.400024              1.0      274.700012            0.0   \n",
       "4            1090.599976              1.0      274.500000            0.0   \n",
       "...                  ...              ...             ...            ...   \n",
       "116820       1536.500000              0.0      273.600006            0.0   \n",
       "116821       1484.500000              0.0      273.600006            0.0   \n",
       "116822       1432.500000              0.0      273.500000            0.0   \n",
       "116823       1380.400024              0.0      273.399994            0.0   \n",
       "116824       1328.400024              0.0      273.399994            0.0   \n",
       "\n",
       "        diffuse_rad_1h:J  direct_rad:W  direct_rad_1h:J  \\\n",
       "0                    0.0           0.0              0.0   \n",
       "1                    0.0           0.0              0.0   \n",
       "2                    0.0           0.0              0.0   \n",
       "3                    0.0           0.0              0.0   \n",
       "4                    0.0           0.0              0.0   \n",
       "...                  ...           ...              ...   \n",
       "116820               0.0           0.0              0.0   \n",
       "116821               0.0           0.0              0.0   \n",
       "116822               0.0           0.0              0.0   \n",
       "116823               0.0           0.0              0.0   \n",
       "116824               0.0           0.0              0.0   \n",
       "\n",
       "        effective_cloud_cover:p  elevation:m  fresh_snow_12h:cm  \\\n",
       "0                     63.599998         24.0                0.0   \n",
       "1                     74.900002         24.0                0.0   \n",
       "2                     84.300003         24.0                0.0   \n",
       "3                     92.000000         24.0                0.0   \n",
       "4                     98.000000         24.0                0.0   \n",
       "...                         ...          ...                ...   \n",
       "116820                95.000000         24.0                0.0   \n",
       "116821                97.000000         24.0                0.0   \n",
       "116822                98.500000         24.0                0.0   \n",
       "116823                99.500000         24.0                0.0   \n",
       "116824               100.000000         24.0                0.0   \n",
       "\n",
       "        fresh_snow_1h:cm  fresh_snow_24h:cm  fresh_snow_3h:cm  \\\n",
       "0                    0.0                0.0               0.0   \n",
       "1                    0.0                0.0               0.0   \n",
       "2                    0.0                0.0               0.0   \n",
       "3                    0.0                0.0               0.0   \n",
       "4                    0.0                0.0               0.0   \n",
       "...                  ...                ...               ...   \n",
       "116820               0.0                0.0               0.0   \n",
       "116821               0.0                0.0               0.0   \n",
       "116822               0.0                0.0               0.0   \n",
       "116823               0.0                0.0               0.0   \n",
       "116824               0.0                0.0               0.0   \n",
       "\n",
       "        fresh_snow_6h:cm  is_day:idx  is_in_shadow:idx  msl_pressure:hPa  \\\n",
       "0                    0.0         0.0               1.0        987.299988   \n",
       "1                    0.0         0.0               1.0        987.099976   \n",
       "2                    0.0         0.0               1.0        986.799988   \n",
       "3                    0.0         0.0               1.0        986.599976   \n",
       "4                    0.0         0.0               1.0        986.400024   \n",
       "...                  ...         ...               ...               ...   \n",
       "116820               0.0         0.0               1.0       1014.799988   \n",
       "116821               0.0         0.0               1.0       1014.500000   \n",
       "116822               0.0         0.0               1.0       1014.200012   \n",
       "116823               0.0         0.0               1.0       1013.900024   \n",
       "116824               0.0         0.0               1.0       1013.599976   \n",
       "\n",
       "        precip_5min:mm  precip_type_5min:idx  pressure_100m:hPa  \\\n",
       "0                 0.00                   0.0         972.599976   \n",
       "1                 0.06                   1.0         972.299988   \n",
       "2                 0.06                   1.0         972.000000   \n",
       "3                 0.06                   1.0         971.700012   \n",
       "4                 0.06                   1.0         971.400024   \n",
       "...                ...                   ...                ...   \n",
       "116820            0.00                   0.0         999.299988   \n",
       "116821            0.00                   0.0         999.000000   \n",
       "116822            0.00                   0.0         998.599976   \n",
       "116823            0.00                   0.0         998.299988   \n",
       "116824            0.00                   0.0         998.000000   \n",
       "\n",
       "        pressure_50m:hPa  prob_rime:p  rain_water:kgm2  \\\n",
       "0             978.599976          0.0              0.0   \n",
       "1             978.299988          0.2              0.0   \n",
       "2             978.000000          0.3              0.0   \n",
       "3             977.799988          0.3              0.0   \n",
       "4             977.500000          0.4              0.0   \n",
       "...                  ...          ...              ...   \n",
       "116820       1005.400024          0.0              0.0   \n",
       "116821       1005.099976          0.0              0.0   \n",
       "116822       1004.799988          0.0              0.0   \n",
       "116823       1004.400024          0.0              0.0   \n",
       "116824       1004.099976          0.0              0.0   \n",
       "\n",
       "        relative_humidity_1000hPa:p  sfc_pressure:hPa  snow_density:kgm3  \\\n",
       "0                         90.199997        984.700012                NaN   \n",
       "1                         90.000000        984.400024                NaN   \n",
       "2                         89.900002        984.099976                NaN   \n",
       "3                         89.699997        983.799988                NaN   \n",
       "4                         89.599998        983.599976                NaN   \n",
       "...                             ...               ...                ...   \n",
       "116820                    62.599998       1011.599976                NaN   \n",
       "116821                    62.799999       1011.299988                NaN   \n",
       "116822                    63.000000       1010.900024                NaN   \n",
       "116823                    63.200001       1010.599976                NaN   \n",
       "116824                    63.400002       1010.299988                NaN   \n",
       "\n",
       "        snow_depth:cm  snow_drift:idx  snow_melt_10min:mm  snow_water:kgm2  \\\n",
       "0                 0.0             0.0                -0.0              0.0   \n",
       "1                 0.0             0.0                -0.0              0.0   \n",
       "2                 0.0             0.0                -0.0              0.1   \n",
       "3                 0.0             0.0                -0.0              0.1   \n",
       "4                 0.0             0.0                -0.0              0.1   \n",
       "...               ...             ...                 ...              ...   \n",
       "116820            0.0             0.0                -0.0              0.0   \n",
       "116821            0.0             0.0                -0.0              0.0   \n",
       "116822            0.0             0.0                -0.0              0.0   \n",
       "116823            0.0             0.0                -0.0              0.0   \n",
       "116824            0.0             0.0                -0.0              0.0   \n",
       "\n",
       "        sun_azimuth:d  sun_elevation:d  super_cooled_liquid_water:kgm2  \\\n",
       "0           12.989000       -49.178001                             0.0   \n",
       "1           18.214001       -48.724998                             0.0   \n",
       "2           23.351000       -48.127998                             0.0   \n",
       "3           28.382000       -47.393002                             0.0   \n",
       "4           33.292999       -46.529999                             0.0   \n",
       "...               ...              ...                             ...   \n",
       "116820     327.303009        -7.367000                             0.0   \n",
       "116821     330.863007        -8.232000                             0.1   \n",
       "116822     334.451996        -9.006000                             0.1   \n",
       "116823     338.067993        -9.683000                             0.1   \n",
       "116824     341.709015       -10.262000                             0.2   \n",
       "\n",
       "        t_1000hPa:K  total_cloud_cover:p  visibility:m  wind_speed_10m:ms  \\\n",
       "0        278.500000            68.500000  18220.400391                2.5   \n",
       "1        278.399994            80.800003  17083.699219                2.8   \n",
       "2        278.299988            89.900002  15940.900391                3.0   \n",
       "3        278.200012            96.099998  14792.000000                3.3   \n",
       "4        278.100006            99.400002  13637.299805                3.5   \n",
       "...             ...                  ...           ...                ...   \n",
       "116820   279.299988           100.000000  38312.000000                4.7   \n",
       "116821   279.299988           100.000000  38344.199219                4.8   \n",
       "116822   279.200012           100.000000  38402.601562                4.9   \n",
       "116823   279.200012           100.000000  38478.800781                5.0   \n",
       "116824   279.100006           100.000000  38570.898438                5.1   \n",
       "\n",
       "        wind_speed_u_10m:ms  wind_speed_v_10m:ms  wind_speed_w_1000hPa:ms  \n",
       "0                       1.1                  2.2                     -0.0  \n",
       "1                       1.1                  2.5                     -0.0  \n",
       "2                       1.1                  2.8                     -0.0  \n",
       "3                       1.2                  3.0                     -0.0  \n",
       "4                       1.2                  3.3                     -0.0  \n",
       "...                     ...                  ...                      ...  \n",
       "116820                  3.0                  3.6                     -0.0  \n",
       "116821                  3.2                  3.6                     -0.0  \n",
       "116822                  3.3                  3.6                     -0.0  \n",
       "116823                  3.5                  3.6                     -0.0  \n",
       "116824                  3.6                  3.6                     -0.0  \n",
       "\n",
       "[116825 rows x 46 columns]"
      ]
     },
     "metadata": {},
     "output_type": "display_data"
    },
    {
     "data": {
      "text/plain": [
       "'C'"
      ]
     },
     "metadata": {},
     "output_type": "display_data"
    },
    {
     "data": {
      "text/plain": [
       "'train_tar'"
      ]
     },
     "metadata": {},
     "output_type": "display_data"
    },
    {
     "data": {
      "text/html": [
       "<div>\n",
       "<style scoped>\n",
       "    .dataframe tbody tr th:only-of-type {\n",
       "        vertical-align: middle;\n",
       "    }\n",
       "\n",
       "    .dataframe tbody tr th {\n",
       "        vertical-align: top;\n",
       "    }\n",
       "\n",
       "    .dataframe thead th {\n",
       "        text-align: right;\n",
       "    }\n",
       "</style>\n",
       "<table border=\"1\" class=\"dataframe\">\n",
       "  <thead>\n",
       "    <tr style=\"text-align: right;\">\n",
       "      <th></th>\n",
       "      <th>time</th>\n",
       "      <th>pv_measurement</th>\n",
       "    </tr>\n",
       "  </thead>\n",
       "  <tbody>\n",
       "    <tr>\n",
       "      <th>0</th>\n",
       "      <td>2018-12-31 23:00:00</td>\n",
       "      <td>NaN</td>\n",
       "    </tr>\n",
       "    <tr>\n",
       "      <th>1</th>\n",
       "      <td>2019-01-01 00:00:00</td>\n",
       "      <td>NaN</td>\n",
       "    </tr>\n",
       "    <tr>\n",
       "      <th>2</th>\n",
       "      <td>2019-01-01 01:00:00</td>\n",
       "      <td>NaN</td>\n",
       "    </tr>\n",
       "    <tr>\n",
       "      <th>3</th>\n",
       "      <td>2019-01-01 02:00:00</td>\n",
       "      <td>NaN</td>\n",
       "    </tr>\n",
       "    <tr>\n",
       "      <th>4</th>\n",
       "      <td>2019-01-01 03:00:00</td>\n",
       "      <td>NaN</td>\n",
       "    </tr>\n",
       "    <tr>\n",
       "      <th>...</th>\n",
       "      <td>...</td>\n",
       "      <td>...</td>\n",
       "    </tr>\n",
       "    <tr>\n",
       "      <th>32150</th>\n",
       "      <td>2023-04-30 19:00:00</td>\n",
       "      <td>50.96</td>\n",
       "    </tr>\n",
       "    <tr>\n",
       "      <th>32151</th>\n",
       "      <td>2023-04-30 20:00:00</td>\n",
       "      <td>2.94</td>\n",
       "    </tr>\n",
       "    <tr>\n",
       "      <th>32152</th>\n",
       "      <td>2023-04-30 21:00:00</td>\n",
       "      <td>0.00</td>\n",
       "    </tr>\n",
       "    <tr>\n",
       "      <th>32153</th>\n",
       "      <td>2023-04-30 22:00:00</td>\n",
       "      <td>-0.00</td>\n",
       "    </tr>\n",
       "    <tr>\n",
       "      <th>32154</th>\n",
       "      <td>2023-04-30 23:00:00</td>\n",
       "      <td>-0.00</td>\n",
       "    </tr>\n",
       "  </tbody>\n",
       "</table>\n",
       "<p>32155 rows × 2 columns</p>\n",
       "</div>"
      ],
      "text/plain": [
       "                     time  pv_measurement\n",
       "0     2018-12-31 23:00:00             NaN\n",
       "1     2019-01-01 00:00:00             NaN\n",
       "2     2019-01-01 01:00:00             NaN\n",
       "3     2019-01-01 02:00:00             NaN\n",
       "4     2019-01-01 03:00:00             NaN\n",
       "...                   ...             ...\n",
       "32150 2023-04-30 19:00:00           50.96\n",
       "32151 2023-04-30 20:00:00            2.94\n",
       "32152 2023-04-30 21:00:00            0.00\n",
       "32153 2023-04-30 22:00:00           -0.00\n",
       "32154 2023-04-30 23:00:00           -0.00\n",
       "\n",
       "[32155 rows x 2 columns]"
      ]
     },
     "metadata": {},
     "output_type": "display_data"
    }
   ],
   "source": [
    "for loc in data:\n",
    "    for type in data[loc]:\n",
    "        display(loc, type, data[loc][type])"
   ]
  },
  {
   "cell_type": "markdown",
   "metadata": {},
   "source": [
    "Find the number of unique values for each type"
   ]
  },
  {
   "cell_type": "code",
   "execution_count": 4,
   "metadata": {
    "colab": {
     "base_uri": "https://localhost:8080/",
     "height": 423
    },
    "id": "yeryCavXTMdz",
    "outputId": "f54837e8-b2c0-46a3-dec4-f2e341c057fd",
    "scrolled": true
   },
   "outputs": [
    {
     "data": {
      "text/plain": [
       "date_calc                            214\n",
       "date_forecast                     153805\n",
       "absolute_humidity_2m:gm3             183\n",
       "air_density_2m:kgm3                  301\n",
       "ceiling_height_agl:m               78367\n",
       "clear_sky_energy_1h:J             217030\n",
       "clear_sky_rad:W                     8371\n",
       "cloud_base_agl:m                   61031\n",
       "dew_or_rime:idx                        3\n",
       "dew_point_2m:K                       473\n",
       "diffuse_rad:W                       3204\n",
       "diffuse_rad_1h:J                  215787\n",
       "direct_rad:W                        6590\n",
       "direct_rad_1h:J                   180598\n",
       "effective_cloud_cover:p             1001\n",
       "elevation:m                            3\n",
       "fresh_snow_12h:cm                    184\n",
       "fresh_snow_1h:cm                      58\n",
       "fresh_snow_24h:cm                    205\n",
       "fresh_snow_3h:cm                     104\n",
       "fresh_snow_6h:cm                     145\n",
       "is_day:idx                             2\n",
       "is_in_shadow:idx                       2\n",
       "msl_pressure:hPa                     981\n",
       "precip_5min:mm                        78\n",
       "precip_type_5min:idx                   7\n",
       "pressure_100m:hPa                    991\n",
       "pressure_50m:hPa                     994\n",
       "prob_rime:p                          869\n",
       "rain_water:kgm2                       13\n",
       "relative_humidity_1000hPa:p          807\n",
       "sfc_pressure:hPa                    1002\n",
       "snow_density:kgm3                      1\n",
       "snow_depth:cm                        244\n",
       "snow_drift:idx                         2\n",
       "snow_melt_10min:mm                    19\n",
       "snow_water:kgm2                       50\n",
       "sun_azimuth:d                     225452\n",
       "sun_elevation:d                    93409\n",
       "super_cooled_liquid_water:kgm2        15\n",
       "t_1000hPa:K                          453\n",
       "total_cloud_cover:p                 1001\n",
       "visibility:m                      294277\n",
       "wind_speed_10m:ms                    130\n",
       "wind_speed_u_10m:ms                  192\n",
       "wind_speed_v_10m:ms                  176\n",
       "wind_speed_w_1000hPa:ms                3\n",
       "time                               37756\n",
       "pv_measurement                     12430\n",
       "dtype: int64"
      ]
     },
     "execution_count": 4,
     "metadata": {},
     "output_type": "execute_result"
    }
   ],
   "source": [
    "pd.concat([data[loc][type] for loc in data for type in data[loc]]).nunique()"
   ]
  },
  {
   "cell_type": "markdown",
   "metadata": {},
   "source": [
    "Plot target value"
   ]
  },
  {
   "cell_type": "code",
   "execution_count": 5,
   "metadata": {
    "colab": {
     "base_uri": "https://localhost:8080/",
     "height": 423
    },
    "id": "yeryCavXTMdz",
    "outputId": "f54837e8-b2c0-46a3-dec4-f2e341c057fd"
   },
   "outputs": [],
   "source": [
    "if display_plots:\n",
    "    for loc in data:\n",
    "        obs_start = data[loc][\"train_obs\"][\"date_forecast\"].min()\n",
    "        obs_end = data[loc][\"train_obs\"][\"date_forecast\"].max()\n",
    "        est_start = data[loc][\"train_est\"][\"date_forecast\"].min()\n",
    "        est_end = data[loc][\"train_est\"][\"date_forecast\"].max()\n",
    "        \n",
    "        ax = data[loc][\"train_tar\"].set_index(\"time\").plot(lw=0.1)\n",
    "        ax.axvline(obs_start, linestyle='--')\n",
    "        ax.axvline(obs_end, linestyle='--')\n",
    "        ax.axvline(est_start, linestyle='--')\n",
    "        ax.axvline(est_end, linestyle='--')\n",
    "        ax.set_title(\"pv_measurement\")\n",
    "        plt.show()"
   ]
  },
  {
   "cell_type": "markdown",
   "metadata": {
    "id": "UZBn2U7-cbjK"
   },
   "source": [
    "## Transform data"
   ]
  },
  {
   "cell_type": "markdown",
   "metadata": {
    "id": "UZBn2U7-cbjK"
   },
   "source": [
    "Transform the raw data to be on the X y form"
   ]
  },
  {
   "cell_type": "code",
   "execution_count": 6,
   "metadata": {
    "id": "_J2JkEttN25R"
   },
   "outputs": [],
   "source": [
    "def transform_data(data):\n",
    "    # Create empty list of location train data and location test data\n",
    "    Xs = {\"og\" : {loc : {} for loc in data}}\n",
    "    ys = {\"og\" : {loc : {} for loc in data}}\n",
    "    \n",
    "    for loc in data:\n",
    "        # Copy data\n",
    "        data_obs = data[loc][\"train_obs\"].copy()\n",
    "        data_est = data[loc][\"train_est\"].copy()\n",
    "        data_test = data[loc][\"test_est\"].copy()\n",
    "        data_tar = data[loc][\"train_tar\"].copy()\n",
    "        \n",
    "        # Add a column with the difference between date_forecast and date_calc in seconds and \n",
    "        data_obs[\"forecast_seconds\"] = np.zeros(data_obs.shape[0], dtype=np.float32)\n",
    "        data_est[\"forecast_seconds\"] = (data_est[\"date_forecast\"] - data_est[\"date_calc\"]).apply(lambda x: x.total_seconds()).astype('float32')\n",
    "        data_test[\"forecast_seconds\"] = (data_test[\"date_forecast\"] - data_test[\"date_calc\"]).apply(lambda x: x.total_seconds()).astype('float32')\n",
    "        \n",
    "        # Remove unneeded columns\n",
    "        del data_est[\"date_calc\"]\n",
    "        del data_test[\"date_calc\"]\n",
    "        del data_obs[\"snow_density:kgm3\"]\n",
    "        del data_est[\"snow_density:kgm3\"]\n",
    "        del data_test[\"snow_density:kgm3\"]\n",
    "\n",
    "        # Find start and end date for obvsersed and estimated data\n",
    "        obs_end = data_obs[\"date_forecast\"].max()\n",
    "        est_start = data_est[\"date_forecast\"].min()\n",
    "        treshold_date = obs_end + (est_start - obs_end) / 2\n",
    "        \n",
    "        # Outer join target data with estimated and observed data\n",
    "        Xy_obs = pd.merge(\n",
    "            data_tar[data_tar[\"time\"] <= treshold_date],\n",
    "            data_obs.rename(columns={\"date_forecast\": \"time\"}),\n",
    "            on=\"time\",\n",
    "            how=\"outer\"\n",
    "        ).set_index(\"time\").sort_index()\n",
    "        Xy_est = pd.merge(\n",
    "            data_tar[data_tar[\"time\"] > treshold_date],\n",
    "            data_est.rename(columns={\"date_forecast\": \"time\"}),\n",
    "            on=\"time\",\n",
    "            how=\"outer\"\n",
    "        ).set_index(\"time\").sort_index()\n",
    "\n",
    "        # Assign Xs\n",
    "        Xs[\"og\"][loc][\"obs\"] = Xy_obs.drop(\"pv_measurement\", axis=1)\n",
    "        Xs[\"og\"][loc][\"est\"] = Xy_est.drop(\"pv_measurement\", axis=1)\n",
    "        Xs[\"og\"][loc][\"test\"] = data_test.rename(columns={\"date_forecast\": \"time\"}).set_index(\"time\").sort_index()\n",
    "\n",
    "        # Assign ys\n",
    "        ys[\"og\"][loc][\"obs\"] = Xy_obs[\"pv_measurement\"]\n",
    "        ys[\"og\"][loc][\"est\"] = Xy_est[\"pv_measurement\"]\n",
    "        \n",
    "    return Xs, ys\n",
    "\n",
    "Xs, ys = transform_data(data)"
   ]
  },
  {
   "cell_type": "markdown",
   "metadata": {},
   "source": [
    "Check that they have the same columns"
   ]
  },
  {
   "cell_type": "code",
   "execution_count": 7,
   "metadata": {},
   "outputs": [
    {
     "data": {
      "text/plain": [
       "absolute_humidity_2m:gm3          float32\n",
       "air_density_2m:kgm3               float32\n",
       "ceiling_height_agl:m              float32\n",
       "clear_sky_energy_1h:J             float32\n",
       "clear_sky_rad:W                   float32\n",
       "cloud_base_agl:m                  float32\n",
       "dew_or_rime:idx                   float32\n",
       "dew_point_2m:K                    float32\n",
       "diffuse_rad:W                     float32\n",
       "diffuse_rad_1h:J                  float32\n",
       "direct_rad:W                      float32\n",
       "direct_rad_1h:J                   float32\n",
       "effective_cloud_cover:p           float32\n",
       "elevation:m                       float32\n",
       "fresh_snow_12h:cm                 float32\n",
       "fresh_snow_1h:cm                  float32\n",
       "fresh_snow_24h:cm                 float32\n",
       "fresh_snow_3h:cm                  float32\n",
       "fresh_snow_6h:cm                  float32\n",
       "is_day:idx                        float32\n",
       "is_in_shadow:idx                  float32\n",
       "msl_pressure:hPa                  float32\n",
       "precip_5min:mm                    float32\n",
       "precip_type_5min:idx              float32\n",
       "pressure_100m:hPa                 float32\n",
       "pressure_50m:hPa                  float32\n",
       "prob_rime:p                       float32\n",
       "rain_water:kgm2                   float32\n",
       "relative_humidity_1000hPa:p       float32\n",
       "sfc_pressure:hPa                  float32\n",
       "snow_depth:cm                     float32\n",
       "snow_drift:idx                    float32\n",
       "snow_melt_10min:mm                float32\n",
       "snow_water:kgm2                   float32\n",
       "sun_azimuth:d                     float32\n",
       "sun_elevation:d                   float32\n",
       "super_cooled_liquid_water:kgm2    float32\n",
       "t_1000hPa:K                       float32\n",
       "total_cloud_cover:p               float32\n",
       "visibility:m                      float32\n",
       "wind_speed_10m:ms                 float32\n",
       "wind_speed_u_10m:ms               float32\n",
       "wind_speed_v_10m:ms               float32\n",
       "wind_speed_w_1000hPa:ms           float32\n",
       "forecast_seconds                  float32\n",
       "dtype: object"
      ]
     },
     "metadata": {},
     "output_type": "display_data"
    }
   ],
   "source": [
    "def has_same_columns(df_lst):\n",
    "    return all(set(df.columns) == set(df_lst[0].columns) for df in df_lst)\n",
    "\n",
    "def are_all_equal(lst):\n",
    "    return all(x == lst[0] for x in lst)\n",
    "\n",
    "Xs_cols = Xs[\"og\"][\"A\"][\"obs\"].columns.copy()\n",
    "ys_col = ys[\"og\"][\"A\"][\"obs\"].name\n",
    "display(Xs[\"og\"][\"A\"][\"obs\"].dtypes)\n",
    "\n",
    "assert has_same_columns([Xs[\"og\"][loc][type] for loc in Xs[\"og\"] for type in Xs[\"og\"][loc]]) \n",
    "assert are_all_equal([ys[\"og\"][loc][type].name for loc in ys[\"og\"] for type in ys[\"og\"][loc]])"
   ]
  },
  {
   "cell_type": "markdown",
   "metadata": {},
   "source": [
    "See stats about the data"
   ]
  },
  {
   "cell_type": "code",
   "execution_count": 8,
   "metadata": {},
   "outputs": [
    {
     "data": {
      "text/html": [
       "<div>\n",
       "<style scoped>\n",
       "    .dataframe tbody tr th:only-of-type {\n",
       "        vertical-align: middle;\n",
       "    }\n",
       "\n",
       "    .dataframe tbody tr th {\n",
       "        vertical-align: top;\n",
       "    }\n",
       "\n",
       "    .dataframe thead th {\n",
       "        text-align: right;\n",
       "    }\n",
       "</style>\n",
       "<table border=\"1\" class=\"dataframe\">\n",
       "  <thead>\n",
       "    <tr style=\"text-align: right;\">\n",
       "      <th></th>\n",
       "      <th>absolute_humidity_2m:gm3</th>\n",
       "      <th>air_density_2m:kgm3</th>\n",
       "      <th>ceiling_height_agl:m</th>\n",
       "      <th>clear_sky_energy_1h:J</th>\n",
       "      <th>clear_sky_rad:W</th>\n",
       "      <th>cloud_base_agl:m</th>\n",
       "      <th>dew_or_rime:idx</th>\n",
       "      <th>dew_point_2m:K</th>\n",
       "      <th>diffuse_rad:W</th>\n",
       "      <th>diffuse_rad_1h:J</th>\n",
       "      <th>direct_rad:W</th>\n",
       "      <th>direct_rad_1h:J</th>\n",
       "      <th>effective_cloud_cover:p</th>\n",
       "      <th>elevation:m</th>\n",
       "      <th>fresh_snow_12h:cm</th>\n",
       "      <th>fresh_snow_1h:cm</th>\n",
       "      <th>fresh_snow_24h:cm</th>\n",
       "      <th>fresh_snow_3h:cm</th>\n",
       "      <th>fresh_snow_6h:cm</th>\n",
       "      <th>is_day:idx</th>\n",
       "      <th>is_in_shadow:idx</th>\n",
       "      <th>msl_pressure:hPa</th>\n",
       "      <th>precip_5min:mm</th>\n",
       "      <th>precip_type_5min:idx</th>\n",
       "      <th>pressure_100m:hPa</th>\n",
       "      <th>pressure_50m:hPa</th>\n",
       "      <th>prob_rime:p</th>\n",
       "      <th>rain_water:kgm2</th>\n",
       "      <th>relative_humidity_1000hPa:p</th>\n",
       "      <th>sfc_pressure:hPa</th>\n",
       "      <th>snow_depth:cm</th>\n",
       "      <th>snow_drift:idx</th>\n",
       "      <th>snow_melt_10min:mm</th>\n",
       "      <th>snow_water:kgm2</th>\n",
       "      <th>sun_azimuth:d</th>\n",
       "      <th>sun_elevation:d</th>\n",
       "      <th>super_cooled_liquid_water:kgm2</th>\n",
       "      <th>t_1000hPa:K</th>\n",
       "      <th>total_cloud_cover:p</th>\n",
       "      <th>visibility:m</th>\n",
       "      <th>wind_speed_10m:ms</th>\n",
       "      <th>wind_speed_u_10m:ms</th>\n",
       "      <th>wind_speed_v_10m:ms</th>\n",
       "      <th>wind_speed_w_1000hPa:ms</th>\n",
       "      <th>forecast_seconds</th>\n",
       "    </tr>\n",
       "  </thead>\n",
       "  <tbody>\n",
       "    <tr>\n",
       "      <th>count</th>\n",
       "      <td>413791.000000</td>\n",
       "      <td>413791.000000</td>\n",
       "      <td>338248.000000</td>\n",
       "      <td>4.137910e+05</td>\n",
       "      <td>413791.000000</td>\n",
       "      <td>381929.000000</td>\n",
       "      <td>413791.000000</td>\n",
       "      <td>413791.000000</td>\n",
       "      <td>413791.000000</td>\n",
       "      <td>4.137910e+05</td>\n",
       "      <td>413791.000000</td>\n",
       "      <td>4.137910e+05</td>\n",
       "      <td>413791.000000</td>\n",
       "      <td>413791.000000</td>\n",
       "      <td>413791.000000</td>\n",
       "      <td>413791.000000</td>\n",
       "      <td>413791.000000</td>\n",
       "      <td>413791.000000</td>\n",
       "      <td>413791.000000</td>\n",
       "      <td>413791.000000</td>\n",
       "      <td>413791.000000</td>\n",
       "      <td>413791.000000</td>\n",
       "      <td>413791.000000</td>\n",
       "      <td>413791.000000</td>\n",
       "      <td>413791.000000</td>\n",
       "      <td>413791.000000</td>\n",
       "      <td>413791.000000</td>\n",
       "      <td>413791.000000</td>\n",
       "      <td>413791.000000</td>\n",
       "      <td>413791.000000</td>\n",
       "      <td>413791.000000</td>\n",
       "      <td>413791.000000</td>\n",
       "      <td>413791.000000</td>\n",
       "      <td>413791.000000</td>\n",
       "      <td>413791.000000</td>\n",
       "      <td>413791.000000</td>\n",
       "      <td>413791.000000</td>\n",
       "      <td>413791.000000</td>\n",
       "      <td>413791.000000</td>\n",
       "      <td>413791.000000</td>\n",
       "      <td>413791.000000</td>\n",
       "      <td>413791.000000</td>\n",
       "      <td>413791.000000</td>\n",
       "      <td>413791.000000</td>\n",
       "      <td>413791.000000</td>\n",
       "    </tr>\n",
       "    <tr>\n",
       "      <th>mean</th>\n",
       "      <td>6.022480</td>\n",
       "      <td>1.255468</td>\n",
       "      <td>2796.203857</td>\n",
       "      <td>5.340971e+05</td>\n",
       "      <td>148.360306</td>\n",
       "      <td>1717.518188</td>\n",
       "      <td>0.002364</td>\n",
       "      <td>275.193665</td>\n",
       "      <td>40.693062</td>\n",
       "      <td>1.464950e+05</td>\n",
       "      <td>51.762341</td>\n",
       "      <td>1.863446e+05</td>\n",
       "      <td>67.066154</td>\n",
       "      <td>12.303769</td>\n",
       "      <td>0.139911</td>\n",
       "      <td>0.011645</td>\n",
       "      <td>0.276628</td>\n",
       "      <td>0.035001</td>\n",
       "      <td>0.069955</td>\n",
       "      <td>0.490383</td>\n",
       "      <td>0.559183</td>\n",
       "      <td>1009.625610</td>\n",
       "      <td>0.005670</td>\n",
       "      <td>0.084200</td>\n",
       "      <td>995.809204</td>\n",
       "      <td>1001.939941</td>\n",
       "      <td>0.851963</td>\n",
       "      <td>0.009438</td>\n",
       "      <td>73.572304</td>\n",
       "      <td>1008.098511</td>\n",
       "      <td>0.322603</td>\n",
       "      <td>0.000027</td>\n",
       "      <td>0.000382</td>\n",
       "      <td>0.088049</td>\n",
       "      <td>179.594162</td>\n",
       "      <td>-0.685629</td>\n",
       "      <td>0.056825</td>\n",
       "      <td>279.437927</td>\n",
       "      <td>73.616234</td>\n",
       "      <td>33047.644531</td>\n",
       "      <td>3.017195</td>\n",
       "      <td>0.677667</td>\n",
       "      <td>0.670873</td>\n",
       "      <td>0.000048</td>\n",
       "      <td>15049.955078</td>\n",
       "    </tr>\n",
       "    <tr>\n",
       "      <th>std</th>\n",
       "      <td>2.767936</td>\n",
       "      <td>0.037358</td>\n",
       "      <td>2488.790527</td>\n",
       "      <td>8.383486e+05</td>\n",
       "      <td>233.465897</td>\n",
       "      <td>1775.247437</td>\n",
       "      <td>0.253579</td>\n",
       "      <td>7.009235</td>\n",
       "      <td>61.931904</td>\n",
       "      <td>2.201175e+05</td>\n",
       "      <td>115.628448</td>\n",
       "      <td>4.105117e+05</td>\n",
       "      <td>34.583103</td>\n",
       "      <td>8.251439</td>\n",
       "      <td>0.842233</td>\n",
       "      <td>0.118890</td>\n",
       "      <td>1.340529</td>\n",
       "      <td>0.297705</td>\n",
       "      <td>0.511651</td>\n",
       "      <td>0.499908</td>\n",
       "      <td>0.496486</td>\n",
       "      <td>12.998659</td>\n",
       "      <td>0.032662</td>\n",
       "      <td>0.386233</td>\n",
       "      <td>12.919853</td>\n",
       "      <td>12.974976</td>\n",
       "      <td>5.750685</td>\n",
       "      <td>0.042001</td>\n",
       "      <td>14.360833</td>\n",
       "      <td>13.032352</td>\n",
       "      <td>1.823088</td>\n",
       "      <td>0.005156</td>\n",
       "      <td>0.005010</td>\n",
       "      <td>0.238048</td>\n",
       "      <td>103.120628</td>\n",
       "      <td>24.189608</td>\n",
       "      <td>0.108665</td>\n",
       "      <td>6.691157</td>\n",
       "      <td>34.396370</td>\n",
       "      <td>17905.146484</td>\n",
       "      <td>1.749300</td>\n",
       "      <td>2.778564</td>\n",
       "      <td>1.879975</td>\n",
       "      <td>0.006740</td>\n",
       "      <td>37329.292969</td>\n",
       "    </tr>\n",
       "    <tr>\n",
       "      <th>min</th>\n",
       "      <td>0.500000</td>\n",
       "      <td>1.139000</td>\n",
       "      <td>27.600000</td>\n",
       "      <td>0.000000e+00</td>\n",
       "      <td>0.000000</td>\n",
       "      <td>27.299999</td>\n",
       "      <td>-1.000000</td>\n",
       "      <td>247.300003</td>\n",
       "      <td>0.000000</td>\n",
       "      <td>0.000000e+00</td>\n",
       "      <td>0.000000</td>\n",
       "      <td>0.000000e+00</td>\n",
       "      <td>0.000000</td>\n",
       "      <td>6.000000</td>\n",
       "      <td>0.000000</td>\n",
       "      <td>0.000000</td>\n",
       "      <td>0.000000</td>\n",
       "      <td>0.000000</td>\n",
       "      <td>0.000000</td>\n",
       "      <td>0.000000</td>\n",
       "      <td>0.000000</td>\n",
       "      <td>944.299988</td>\n",
       "      <td>0.000000</td>\n",
       "      <td>0.000000</td>\n",
       "      <td>929.799988</td>\n",
       "      <td>935.599976</td>\n",
       "      <td>0.000000</td>\n",
       "      <td>0.000000</td>\n",
       "      <td>18.700001</td>\n",
       "      <td>941.400024</td>\n",
       "      <td>0.000000</td>\n",
       "      <td>0.000000</td>\n",
       "      <td>-0.000000</td>\n",
       "      <td>0.000000</td>\n",
       "      <td>0.002000</td>\n",
       "      <td>-50.042000</td>\n",
       "      <td>0.000000</td>\n",
       "      <td>257.899994</td>\n",
       "      <td>0.000000</td>\n",
       "      <td>130.600006</td>\n",
       "      <td>0.000000</td>\n",
       "      <td>-7.300000</td>\n",
       "      <td>-9.300000</td>\n",
       "      <td>-0.100000</td>\n",
       "      <td>0.000000</td>\n",
       "    </tr>\n",
       "    <tr>\n",
       "      <th>25%</th>\n",
       "      <td>4.000000</td>\n",
       "      <td>1.230000</td>\n",
       "      <td>1048.199951</td>\n",
       "      <td>0.000000e+00</td>\n",
       "      <td>0.000000</td>\n",
       "      <td>596.700012</td>\n",
       "      <td>0.000000</td>\n",
       "      <td>270.600006</td>\n",
       "      <td>0.000000</td>\n",
       "      <td>0.000000e+00</td>\n",
       "      <td>0.000000</td>\n",
       "      <td>0.000000e+00</td>\n",
       "      <td>41.599998</td>\n",
       "      <td>6.000000</td>\n",
       "      <td>0.000000</td>\n",
       "      <td>0.000000</td>\n",
       "      <td>0.000000</td>\n",
       "      <td>0.000000</td>\n",
       "      <td>0.000000</td>\n",
       "      <td>0.000000</td>\n",
       "      <td>0.000000</td>\n",
       "      <td>1001.500000</td>\n",
       "      <td>0.000000</td>\n",
       "      <td>0.000000</td>\n",
       "      <td>987.799988</td>\n",
       "      <td>993.900024</td>\n",
       "      <td>0.000000</td>\n",
       "      <td>0.000000</td>\n",
       "      <td>64.099998</td>\n",
       "      <td>1000.000000</td>\n",
       "      <td>0.000000</td>\n",
       "      <td>0.000000</td>\n",
       "      <td>0.000000</td>\n",
       "      <td>0.000000</td>\n",
       "      <td>89.743500</td>\n",
       "      <td>-17.895000</td>\n",
       "      <td>0.000000</td>\n",
       "      <td>274.799988</td>\n",
       "      <td>52.400002</td>\n",
       "      <td>16864.900391</td>\n",
       "      <td>1.700000</td>\n",
       "      <td>-1.300000</td>\n",
       "      <td>-0.600000</td>\n",
       "      <td>-0.000000</td>\n",
       "      <td>0.000000</td>\n",
       "    </tr>\n",
       "    <tr>\n",
       "      <th>50%</th>\n",
       "      <td>5.400000</td>\n",
       "      <td>1.255000</td>\n",
       "      <td>1821.800049</td>\n",
       "      <td>9.416100e+03</td>\n",
       "      <td>0.000000</td>\n",
       "      <td>1158.300049</td>\n",
       "      <td>0.000000</td>\n",
       "      <td>275.000000</td>\n",
       "      <td>0.000000</td>\n",
       "      <td>1.198950e+04</td>\n",
       "      <td>0.000000</td>\n",
       "      <td>0.000000e+00</td>\n",
       "      <td>80.400002</td>\n",
       "      <td>7.000000</td>\n",
       "      <td>0.000000</td>\n",
       "      <td>0.000000</td>\n",
       "      <td>0.000000</td>\n",
       "      <td>0.000000</td>\n",
       "      <td>0.000000</td>\n",
       "      <td>0.000000</td>\n",
       "      <td>1.000000</td>\n",
       "      <td>1010.500000</td>\n",
       "      <td>0.000000</td>\n",
       "      <td>0.000000</td>\n",
       "      <td>996.700012</td>\n",
       "      <td>1002.799988</td>\n",
       "      <td>0.000000</td>\n",
       "      <td>0.000000</td>\n",
       "      <td>76.000000</td>\n",
       "      <td>1009.000000</td>\n",
       "      <td>0.000000</td>\n",
       "      <td>0.000000</td>\n",
       "      <td>0.000000</td>\n",
       "      <td>0.000000</td>\n",
       "      <td>179.462997</td>\n",
       "      <td>-0.563000</td>\n",
       "      <td>0.000000</td>\n",
       "      <td>278.700012</td>\n",
       "      <td>93.699997</td>\n",
       "      <td>37022.199219</td>\n",
       "      <td>2.700000</td>\n",
       "      <td>0.300000</td>\n",
       "      <td>0.700000</td>\n",
       "      <td>0.000000</td>\n",
       "      <td>0.000000</td>\n",
       "    </tr>\n",
       "    <tr>\n",
       "      <th>75%</th>\n",
       "      <td>7.900000</td>\n",
       "      <td>1.279000</td>\n",
       "      <td>3795.424805</td>\n",
       "      <td>8.397916e+05</td>\n",
       "      <td>233.699997</td>\n",
       "      <td>2067.500000</td>\n",
       "      <td>0.000000</td>\n",
       "      <td>280.600006</td>\n",
       "      <td>68.300003</td>\n",
       "      <td>2.453228e+05</td>\n",
       "      <td>30.500000</td>\n",
       "      <td>1.181203e+05</td>\n",
       "      <td>98.900002</td>\n",
       "      <td>24.000000</td>\n",
       "      <td>0.000000</td>\n",
       "      <td>0.000000</td>\n",
       "      <td>0.000000</td>\n",
       "      <td>0.000000</td>\n",
       "      <td>0.000000</td>\n",
       "      <td>1.000000</td>\n",
       "      <td>1.000000</td>\n",
       "      <td>1018.599976</td>\n",
       "      <td>0.000000</td>\n",
       "      <td>0.000000</td>\n",
       "      <td>1004.900024</td>\n",
       "      <td>1011.000000</td>\n",
       "      <td>0.000000</td>\n",
       "      <td>0.000000</td>\n",
       "      <td>85.099998</td>\n",
       "      <td>1017.200012</td>\n",
       "      <td>0.000000</td>\n",
       "      <td>0.000000</td>\n",
       "      <td>-0.000000</td>\n",
       "      <td>0.100000</td>\n",
       "      <td>269.585999</td>\n",
       "      <td>16.191500</td>\n",
       "      <td>0.100000</td>\n",
       "      <td>284.100006</td>\n",
       "      <td>100.000000</td>\n",
       "      <td>48253.601562</td>\n",
       "      <td>4.000000</td>\n",
       "      <td>2.500000</td>\n",
       "      <td>1.900000</td>\n",
       "      <td>-0.000000</td>\n",
       "      <td>0.000000</td>\n",
       "    </tr>\n",
       "    <tr>\n",
       "      <th>max</th>\n",
       "      <td>18.900000</td>\n",
       "      <td>1.441000</td>\n",
       "      <td>12431.299805</td>\n",
       "      <td>3.007722e+06</td>\n",
       "      <td>837.000000</td>\n",
       "      <td>11688.900391</td>\n",
       "      <td>1.000000</td>\n",
       "      <td>295.100006</td>\n",
       "      <td>345.700012</td>\n",
       "      <td>1.217465e+06</td>\n",
       "      <td>689.799988</td>\n",
       "      <td>2.451235e+06</td>\n",
       "      <td>100.000000</td>\n",
       "      <td>24.000000</td>\n",
       "      <td>37.599998</td>\n",
       "      <td>7.700000</td>\n",
       "      <td>37.599998</td>\n",
       "      <td>20.799999</td>\n",
       "      <td>34.099998</td>\n",
       "      <td>1.000000</td>\n",
       "      <td>1.000000</td>\n",
       "      <td>1044.099976</td>\n",
       "      <td>2.230000</td>\n",
       "      <td>6.000000</td>\n",
       "      <td>1030.900024</td>\n",
       "      <td>1037.300049</td>\n",
       "      <td>97.199997</td>\n",
       "      <td>1.400000</td>\n",
       "      <td>100.000000</td>\n",
       "      <td>1043.800049</td>\n",
       "      <td>26.000000</td>\n",
       "      <td>1.000000</td>\n",
       "      <td>0.180000</td>\n",
       "      <td>6.900000</td>\n",
       "      <td>359.998993</td>\n",
       "      <td>50.036999</td>\n",
       "      <td>1.400000</td>\n",
       "      <td>303.299988</td>\n",
       "      <td>100.000000</td>\n",
       "      <td>76737.796875</td>\n",
       "      <td>15.200000</td>\n",
       "      <td>12.400000</td>\n",
       "      <td>9.000000</td>\n",
       "      <td>0.100000</td>\n",
       "      <td>146697.000000</td>\n",
       "    </tr>\n",
       "  </tbody>\n",
       "</table>\n",
       "</div>"
      ],
      "text/plain": [
       "       absolute_humidity_2m:gm3  air_density_2m:kgm3  ceiling_height_agl:m  \\\n",
       "count             413791.000000        413791.000000         338248.000000   \n",
       "mean                   6.022480             1.255468           2796.203857   \n",
       "std                    2.767936             0.037358           2488.790527   \n",
       "min                    0.500000             1.139000             27.600000   \n",
       "25%                    4.000000             1.230000           1048.199951   \n",
       "50%                    5.400000             1.255000           1821.800049   \n",
       "75%                    7.900000             1.279000           3795.424805   \n",
       "max                   18.900000             1.441000          12431.299805   \n",
       "\n",
       "       clear_sky_energy_1h:J  clear_sky_rad:W  cloud_base_agl:m  \\\n",
       "count           4.137910e+05    413791.000000     381929.000000   \n",
       "mean            5.340971e+05       148.360306       1717.518188   \n",
       "std             8.383486e+05       233.465897       1775.247437   \n",
       "min             0.000000e+00         0.000000         27.299999   \n",
       "25%             0.000000e+00         0.000000        596.700012   \n",
       "50%             9.416100e+03         0.000000       1158.300049   \n",
       "75%             8.397916e+05       233.699997       2067.500000   \n",
       "max             3.007722e+06       837.000000      11688.900391   \n",
       "\n",
       "       dew_or_rime:idx  dew_point_2m:K  diffuse_rad:W  diffuse_rad_1h:J  \\\n",
       "count    413791.000000   413791.000000  413791.000000      4.137910e+05   \n",
       "mean          0.002364      275.193665      40.693062      1.464950e+05   \n",
       "std           0.253579        7.009235      61.931904      2.201175e+05   \n",
       "min          -1.000000      247.300003       0.000000      0.000000e+00   \n",
       "25%           0.000000      270.600006       0.000000      0.000000e+00   \n",
       "50%           0.000000      275.000000       0.000000      1.198950e+04   \n",
       "75%           0.000000      280.600006      68.300003      2.453228e+05   \n",
       "max           1.000000      295.100006     345.700012      1.217465e+06   \n",
       "\n",
       "        direct_rad:W  direct_rad_1h:J  effective_cloud_cover:p    elevation:m  \\\n",
       "count  413791.000000     4.137910e+05            413791.000000  413791.000000   \n",
       "mean       51.762341     1.863446e+05                67.066154      12.303769   \n",
       "std       115.628448     4.105117e+05                34.583103       8.251439   \n",
       "min         0.000000     0.000000e+00                 0.000000       6.000000   \n",
       "25%         0.000000     0.000000e+00                41.599998       6.000000   \n",
       "50%         0.000000     0.000000e+00                80.400002       7.000000   \n",
       "75%        30.500000     1.181203e+05                98.900002      24.000000   \n",
       "max       689.799988     2.451235e+06               100.000000      24.000000   \n",
       "\n",
       "       fresh_snow_12h:cm  fresh_snow_1h:cm  fresh_snow_24h:cm  \\\n",
       "count      413791.000000     413791.000000      413791.000000   \n",
       "mean            0.139911          0.011645           0.276628   \n",
       "std             0.842233          0.118890           1.340529   \n",
       "min             0.000000          0.000000           0.000000   \n",
       "25%             0.000000          0.000000           0.000000   \n",
       "50%             0.000000          0.000000           0.000000   \n",
       "75%             0.000000          0.000000           0.000000   \n",
       "max            37.599998          7.700000          37.599998   \n",
       "\n",
       "       fresh_snow_3h:cm  fresh_snow_6h:cm     is_day:idx  is_in_shadow:idx  \\\n",
       "count     413791.000000     413791.000000  413791.000000     413791.000000   \n",
       "mean           0.035001          0.069955       0.490383          0.559183   \n",
       "std            0.297705          0.511651       0.499908          0.496486   \n",
       "min            0.000000          0.000000       0.000000          0.000000   \n",
       "25%            0.000000          0.000000       0.000000          0.000000   \n",
       "50%            0.000000          0.000000       0.000000          1.000000   \n",
       "75%            0.000000          0.000000       1.000000          1.000000   \n",
       "max           20.799999         34.099998       1.000000          1.000000   \n",
       "\n",
       "       msl_pressure:hPa  precip_5min:mm  precip_type_5min:idx  \\\n",
       "count     413791.000000   413791.000000         413791.000000   \n",
       "mean        1009.625610        0.005670              0.084200   \n",
       "std           12.998659        0.032662              0.386233   \n",
       "min          944.299988        0.000000              0.000000   \n",
       "25%         1001.500000        0.000000              0.000000   \n",
       "50%         1010.500000        0.000000              0.000000   \n",
       "75%         1018.599976        0.000000              0.000000   \n",
       "max         1044.099976        2.230000              6.000000   \n",
       "\n",
       "       pressure_100m:hPa  pressure_50m:hPa    prob_rime:p  rain_water:kgm2  \\\n",
       "count      413791.000000     413791.000000  413791.000000    413791.000000   \n",
       "mean          995.809204       1001.939941       0.851963         0.009438   \n",
       "std            12.919853         12.974976       5.750685         0.042001   \n",
       "min           929.799988        935.599976       0.000000         0.000000   \n",
       "25%           987.799988        993.900024       0.000000         0.000000   \n",
       "50%           996.700012       1002.799988       0.000000         0.000000   \n",
       "75%          1004.900024       1011.000000       0.000000         0.000000   \n",
       "max          1030.900024       1037.300049      97.199997         1.400000   \n",
       "\n",
       "       relative_humidity_1000hPa:p  sfc_pressure:hPa  snow_depth:cm  \\\n",
       "count                413791.000000     413791.000000  413791.000000   \n",
       "mean                     73.572304       1008.098511       0.322603   \n",
       "std                      14.360833         13.032352       1.823088   \n",
       "min                      18.700001        941.400024       0.000000   \n",
       "25%                      64.099998       1000.000000       0.000000   \n",
       "50%                      76.000000       1009.000000       0.000000   \n",
       "75%                      85.099998       1017.200012       0.000000   \n",
       "max                     100.000000       1043.800049      26.000000   \n",
       "\n",
       "       snow_drift:idx  snow_melt_10min:mm  snow_water:kgm2  sun_azimuth:d  \\\n",
       "count   413791.000000       413791.000000    413791.000000  413791.000000   \n",
       "mean         0.000027            0.000382         0.088049     179.594162   \n",
       "std          0.005156            0.005010         0.238048     103.120628   \n",
       "min          0.000000           -0.000000         0.000000       0.002000   \n",
       "25%          0.000000            0.000000         0.000000      89.743500   \n",
       "50%          0.000000            0.000000         0.000000     179.462997   \n",
       "75%          0.000000           -0.000000         0.100000     269.585999   \n",
       "max          1.000000            0.180000         6.900000     359.998993   \n",
       "\n",
       "       sun_elevation:d  super_cooled_liquid_water:kgm2    t_1000hPa:K  \\\n",
       "count    413791.000000                   413791.000000  413791.000000   \n",
       "mean         -0.685629                        0.056825     279.437927   \n",
       "std          24.189608                        0.108665       6.691157   \n",
       "min         -50.042000                        0.000000     257.899994   \n",
       "25%         -17.895000                        0.000000     274.799988   \n",
       "50%          -0.563000                        0.000000     278.700012   \n",
       "75%          16.191500                        0.100000     284.100006   \n",
       "max          50.036999                        1.400000     303.299988   \n",
       "\n",
       "       total_cloud_cover:p   visibility:m  wind_speed_10m:ms  \\\n",
       "count        413791.000000  413791.000000      413791.000000   \n",
       "mean             73.616234   33047.644531           3.017195   \n",
       "std              34.396370   17905.146484           1.749300   \n",
       "min               0.000000     130.600006           0.000000   \n",
       "25%              52.400002   16864.900391           1.700000   \n",
       "50%              93.699997   37022.199219           2.700000   \n",
       "75%             100.000000   48253.601562           4.000000   \n",
       "max             100.000000   76737.796875          15.200000   \n",
       "\n",
       "       wind_speed_u_10m:ms  wind_speed_v_10m:ms  wind_speed_w_1000hPa:ms  \\\n",
       "count        413791.000000        413791.000000            413791.000000   \n",
       "mean              0.677667             0.670873                 0.000048   \n",
       "std               2.778564             1.879975                 0.006740   \n",
       "min              -7.300000            -9.300000                -0.100000   \n",
       "25%              -1.300000            -0.600000                -0.000000   \n",
       "50%               0.300000             0.700000                 0.000000   \n",
       "75%               2.500000             1.900000                -0.000000   \n",
       "max              12.400000             9.000000                 0.100000   \n",
       "\n",
       "       forecast_seconds  \n",
       "count     413791.000000  \n",
       "mean       15049.955078  \n",
       "std        37329.292969  \n",
       "min            0.000000  \n",
       "25%            0.000000  \n",
       "50%            0.000000  \n",
       "75%            0.000000  \n",
       "max       146697.000000  "
      ]
     },
     "execution_count": 8,
     "metadata": {},
     "output_type": "execute_result"
    }
   ],
   "source": [
    "pd.concat([Xs[\"og\"][loc][type] for loc in Xs[\"og\"] for type in Xs[\"og\"][loc]]).describe()"
   ]
  },
  {
   "cell_type": "markdown",
   "metadata": {},
   "source": [
    "Plot timeperiod of test dates"
   ]
  },
  {
   "cell_type": "code",
   "execution_count": 9,
   "metadata": {},
   "outputs": [],
   "source": [
    "extract_dates = {loc: Xs[\"og\"][loc][\"test\"].index.copy() for loc in Xs[\"og\"]}\n",
    "\n",
    "if display_plots:\n",
    "    for height, loc in zip([3,2,1], extract_dates):\n",
    "        plt.plot(extract_dates[loc], [height] * len(extract_dates[loc]), marker='o', markersize=1, linestyle='')\n",
    "        \n",
    "    display(extract_dates[loc].to_series().diff().value_counts())\n",
    "\n",
    "    plt.gca().axes.get_yaxis().set_visible(False)    \n",
    "    plt.ylim(0, 4)\n",
    "    plt.legend([loc for loc in extract_dates])\n",
    "    plt.xticks(rotation=45)\n",
    "    plt.show()\n",
    "\n",
    "def are_all_equal_series(series_lst):\n",
    "    return all((series == series_lst[0]).all() for series in series_lst)\n",
    "\n",
    "assert are_all_equal_series([extract_dates[loc] for loc in extract_dates])\n",
    "extract_dates = extract_dates[\"A\"]"
   ]
  },
  {
   "cell_type": "markdown",
   "metadata": {},
   "source": [
    "Display ys"
   ]
  },
  {
   "cell_type": "code",
   "execution_count": 10,
   "metadata": {},
   "outputs": [],
   "source": [
    "if display_plots:\n",
    "    for loc in ys[\"og\"]:\n",
    "        for type in ys[\"og\"][loc]:\n",
    "            ax = ys[\"og\"][loc][type].dropna().plot(lw=0.1)\n",
    "    \n",
    "    ax.set_title(ys_col)\n",
    "    legend = ax.legend([loc + \" \" + type for loc in ys[\"og\"] for type in ys[\"og\"][loc]])\n",
    "    for line in legend.get_lines():\n",
    "        line.set_linewidth(1)\n",
    "    plt.show()\n",
    "    \n",
    "    for loc in ys[\"og\"]:\n",
    "        for type in ys[\"og\"][loc]:\n",
    "            ax = ys[\"og\"][loc][type].dropna().plot(lw=0.1)\n",
    "    \n",
    "        ax.set_title(loc)\n",
    "        plt.show()"
   ]
  },
  {
   "cell_type": "markdown",
   "metadata": {},
   "source": [
    "Display Xs only with nan values"
   ]
  },
  {
   "cell_type": "code",
   "execution_count": 11,
   "metadata": {},
   "outputs": [
    {
     "data": {
      "text/plain": [
       "Index(['ceiling_height_agl:m', 'cloud_base_agl:m'], dtype='object')"
      ]
     },
     "metadata": {},
     "output_type": "display_data"
    }
   ],
   "source": [
    "Xs_cols_with_nan = Xs_cols[pd.concat([Xs[\"og\"][loc][type].dropna(how='all') for loc in Xs[\"og\"] for type in Xs[\"og\"][loc]]).isna().any()]\n",
    "display(Xs_cols_with_nan)\n",
    "\n",
    "if display_plots:\n",
    "    for col in Xs_cols_with_nan:\n",
    "        for loc in Xs[\"og\"]:\n",
    "            for type in Xs[\"og\"][loc]:\n",
    "                ax = Xs[\"og\"][loc][type][col].dropna().plot(lw=0.1)\n",
    "    \n",
    "        ax.set_title(col)\n",
    "        legend = ax.legend([loc + \" \" + type for loc in Xs[\"og\"] for type in Xs[\"og\"][loc]])\n",
    "        for line in legend.get_lines():\n",
    "            line.set_linewidth(1)\n",
    "        plt.show()"
   ]
  },
  {
   "cell_type": "markdown",
   "metadata": {},
   "source": [
    "Plot histogram of the data"
   ]
  },
  {
   "cell_type": "code",
   "execution_count": 12,
   "metadata": {
    "colab": {
     "base_uri": "https://localhost:8080/",
     "height": 1000
    },
    "id": "rEJl9ajZdHeD",
    "outputId": "20ed5c60-7a8c-4ecc-d3db-80319ee395ea"
   },
   "outputs": [],
   "source": [
    "if display_plots:\n",
    "    pd.concat([Xs[\"og\"][loc][type] for loc in Xs[\"og\"] for type in Xs[\"og\"][loc]]).hist(figsize=(20,20))\n",
    "    plt.show()"
   ]
  },
  {
   "cell_type": "markdown",
   "metadata": {},
   "source": [
    "Plot correlation matrix of the data"
   ]
  },
  {
   "cell_type": "code",
   "execution_count": 13,
   "metadata": {
    "colab": {
     "base_uri": "https://localhost:8080/",
     "height": 1000
    },
    "id": "e1KPhOeVaFI8",
    "outputId": "f2381b56-f56b-47d1-9e5c-8dee2a0216f5"
   },
   "outputs": [],
   "source": [
    "if display_plots:\n",
    "    display(list(zip(range(len(Xs_cols)), Xs_cols)))\n",
    "    plt.matshow(pd.concat([Xs[\"og\"][loc][type] for loc in Xs[\"og\"] for type in Xs[\"og\"][loc]]).corr(), cmap=\"coolwarm\", vmin=-1, vmax=1)\n",
    "    plt.show()"
   ]
  },
  {
   "cell_type": "markdown",
   "metadata": {
    "id": "UZBn2U7-cbjK"
   },
   "source": [
    "## Gap detection"
   ]
  },
  {
   "cell_type": "markdown",
   "metadata": {},
   "source": [
    "Plot timeperiod of test dates"
   ]
  },
  {
   "cell_type": "code",
   "execution_count": 14,
   "metadata": {},
   "outputs": [],
   "source": [
    "def gap_detection_in_dates(dates, min_gap_time):\n",
    "    diff = dates.to_series().diff()\n",
    "    return list(zip(diff[diff.shift(-1) > min_gap_time].index, diff[diff > min_gap_time].index))\n",
    "\n",
    "def get_non_nan_dates(X):\n",
    "    return X.index[:1].union(X.dropna(how='all').index.union(X.index[-1:]))\n",
    "\n",
    "def date_gaps_detection(X, min_gap_time):\n",
    "    return gap_detection_in_dates(get_non_nan_dates(X), min_gap_time)\n",
    "\n",
    "min_gap_time = pd.Timedelta(days=1)\n",
    "\n",
    "if display_plots:\n",
    "    gaps = gap_detection_in_dates(extract_dates, min_gap_time)\n",
    "    \n",
    "    plt.plot(extract_dates, [1] * len(extract_dates), marker='o', markersize=1, linestyle='')\n",
    "\n",
    "    ax = plt.gca()\n",
    "    for start_date, end_date in gaps:\n",
    "        ax.axvline(start_date, linestyle='--', color=\"green\")\n",
    "        ax.axvline(end_date, linestyle='--', color=\"red\")\n",
    "    ax.axes.get_yaxis().set_visible(False)\n",
    "    plt.xticks(rotation=45)\n",
    "    plt.show()"
   ]
  },
  {
   "cell_type": "code",
   "execution_count": 15,
   "metadata": {},
   "outputs": [],
   "source": [
    "def value_gaps_detection(x, min_gap_time, exclude_vals={}, time_padding=pd.Timedelta(seconds=1)):    \n",
    "    start_date = x.index[0] - time_padding\n",
    "    start_val = x.iloc[0]\n",
    "\n",
    "    gaps_date = []\n",
    "    index = x.dropna().index\n",
    "    \n",
    "    for date in index:\n",
    "        val = x[date]\n",
    "        \n",
    "        if(val != start_val or val in exclude_vals):\n",
    "            if(date - start_date > min_gap_time):\n",
    "                gaps_date.append((start_date, date))\n",
    "    \n",
    "            start_date = date\n",
    "            start_val = val\n",
    "\n",
    "    i = min(x.index.get_loc(index[-1]) + 1, len(x) - 1)\n",
    "    if(x.index[i] - start_date > min_gap_time):\n",
    "        gaps_date.append((start_date, x.index[i]))\n",
    "\n",
    "    if(x.index[-1] - x.index[i-1] > min_gap_time):\n",
    "        gaps_date.append((x.index[i-1], x.index[-1] + time_padding))\n",
    "\n",
    "    return gaps_date\n",
    "\n",
    "if display_plots:\n",
    "    for loc in ys[\"og\"]:\n",
    "        for type in ys[\"og\"][loc]:\n",
    "            ax = ys[\"og\"][loc][type].dropna().plot(lw=0.1)\n",
    "\n",
    "            gaps = value_gaps_detection(ys[\"og\"][loc][type], min_gap_time)\n",
    "            for start_date, end_date in gaps:\n",
    "                ax.axvline(start_date, linestyle='--', color=\"green\")\n",
    "                ax.axvline(end_date, linestyle='--', color=\"red\")\n",
    "            ax.set_title(loc)\n",
    "        plt.show()"
   ]
  },
  {
   "cell_type": "markdown",
   "metadata": {},
   "source": [
    "## Timeseries data preprocessing"
   ]
  },
  {
   "cell_type": "markdown",
   "metadata": {},
   "source": [
    "Set constant gaps to NaN"
   ]
  },
  {
   "cell_type": "code",
   "execution_count": 16,
   "metadata": {},
   "outputs": [],
   "source": [
    "def fill_constant_gaps_with_nan(x, min_gap_time):\n",
    "    gaps = value_gaps_detection(x, min_gap_time)\n",
    "    for (start_date, end_date) in gaps:        \n",
    "        gap_index = x.index[(start_date < x.index) & (x.index < end_date)]\n",
    "        x[gap_index] = np.nan\n",
    "\n",
    "min_gap_time = pd.Timedelta(days=1)\n",
    "\n",
    "for loc in ys[\"og\"]:\n",
    "    for type in ys[\"og\"][loc]:\n",
    "        fill_constant_gaps_with_nan(ys[\"og\"][loc][type], min_gap_time)"
   ]
  },
  {
   "cell_type": "markdown",
   "metadata": {},
   "source": [
    "Reindex to 15 min and 1 hour regular timeseries and combine all the a full timeseries"
   ]
  },
  {
   "cell_type": "code",
   "execution_count": 17,
   "metadata": {},
   "outputs": [],
   "source": [
    "def regular_index(X, freq, start_padding=pd.Timedelta(0), end_padding=pd.Timedelta(0)):    \n",
    "    return X.reindex(pd.date_range(start = X.index[0]-start_padding, end = X.index[-1]+end_padding, freq=freq))\n",
    "\n",
    "gaps = date_gaps_detection(ys[\"og\"][\"C\"][\"obs\"], min_gap_time)\n",
    "Xs[\"og\"][\"C\"][\"obs\"] = Xs[\"og\"][\"C\"][\"obs\"][Xs[\"og\"][\"C\"][\"obs\"].index >= gaps[0][1]]\n",
    "ys[\"og\"][\"C\"][\"obs\"] = ys[\"og\"][\"C\"][\"obs\"][ys[\"og\"][\"C\"][\"obs\"].index >= gaps[0][1]]\n",
    "\n",
    "Xs[\"15min\"] = {loc: {} for loc in Xs[\"og\"]}\n",
    "Xs[\"1hour\"] = {loc: {} for loc in Xs[\"og\"]}\n",
    "\n",
    "ys[\"15min\"] = {loc: {} for loc in ys[\"og\"]}\n",
    "ys[\"1hour\"] = {loc: {} for loc in ys[\"og\"]}\n",
    "\n",
    "end_padding = pd.DateOffset(days=30)\n",
    "\n",
    "for pre, freq in zip([\"15min\", \"1hour\"], [\"15T\", \"H\"]):\n",
    "    for loc in Xs[\"og\"]:\n",
    "        for type in Xs[\"og\"][loc]:\n",
    "            Xs[pre][loc][type] = regular_index(Xs[\"og\"][loc][type], freq)\n",
    "        Xs[pre][loc][\"full\"] = regular_index(pd.concat(Xs[\"og\"][loc].values()), freq, end_padding=end_padding)\n",
    "\n",
    "    for loc in ys[\"og\"]:\n",
    "        for type in ys[\"og\"][loc]:\n",
    "            ys[pre][loc][type] = regular_index(ys[\"og\"][loc][type], freq)\n",
    "        ys[pre][loc][\"full\"] = regular_index(pd.concat(ys[\"og\"][loc].values()), freq)\n",
    "        \n",
    "for loc in Xs[\"og\"]:\n",
    "    Xs[\"og\"][loc][\"full\"] = pd.concat(Xs[\"og\"][loc].values())\n",
    "    ys[\"og\"][loc][\"full\"] = pd.concat(ys[\"og\"][loc].values())"
   ]
  },
  {
   "cell_type": "markdown",
   "metadata": {},
   "source": [
    "Fill gaps with mean of neighbouring data "
   ]
  },
  {
   "cell_type": "code",
   "execution_count": 18,
   "metadata": {},
   "outputs": [],
   "source": [
    "def neighbour_gaps_filling(X, gaps, max_days, intersection_only=True, yearly=False):\n",
    "    X_copy = X.copy()\n",
    "\n",
    "    gaps_index = pd.DatetimeIndex([])\n",
    "    for start_date, end_date in gaps:\n",
    "        gaps_index = gaps_index.union(X.index[(start_date < X.index) & (X.index < end_date)])\n",
    "    no_gaps_index = X.index.difference(gaps_index)\n",
    "    \n",
    "    for start_date, end_date in gaps:\n",
    "        if yearly:\n",
    "            min_days = 1  \n",
    "        else:\n",
    "            min_days = (end_date - start_date).days // 2 + 1\n",
    "\n",
    "        target_index = X.index[(start_date < X.index) & (X.index < end_date)]\n",
    "        accumelated_index = pd.DatetimeIndex([])\n",
    "\n",
    "        for days in range(min_days, max_days+1):\n",
    "            if yearly:\n",
    "                date_offset = pd.DateOffset(years=days)\n",
    "            else :\n",
    "                date_offset = pd.DateOffset(days=days)\n",
    "            \n",
    "            past_target_index = no_gaps_index.intersection(target_index - date_offset) + date_offset\n",
    "            future_target_index = no_gaps_index.intersection(target_index + date_offset) - date_offset\n",
    "            \n",
    "            intersection_target_index = past_target_index.intersection(future_target_index).difference(accumelated_index)\n",
    "            \n",
    "            if len(intersection_target_index) != 0:\n",
    "                X_copy[X.index.isin(intersection_target_index)] = np.nanmean([\n",
    "                    X[X.index.isin(intersection_target_index - date_offset)].values,\n",
    "                    X[X.index.isin(intersection_target_index + date_offset)].values\n",
    "                ], axis=0)\n",
    "                accumelated_index = accumelated_index.union(intersection_target_index)\n",
    "\n",
    "            if not intersection_only:\n",
    "                diff_past_target_index = past_target_index.difference(intersection_target_index)\n",
    "                diff_future_target_index = future_target_index.difference(intersection_target_index)\n",
    "                \n",
    "                if len(diff_past_target_index) != 0:\n",
    "                    X_copy[X.index.isin(diff_past_target_index)] = X[X.index.isin(diff_past_target_index - date_offset)].values\n",
    "                    accumelated_index = accumelated_index.union(diff_past_target_index)\n",
    "                    \n",
    "                if len(diff_future_target_index) != 0:\n",
    "                    X_copy[X.index.isin(diff_future_target_index)] = X[X.index.isin(diff_future_target_index + date_offset)].values\n",
    "                    accumelated_index = accumelated_index.union(diff_future_target_index)\n",
    "\n",
    "            if len(target_index.difference(accumelated_index)) == 0:\n",
    "                break\n",
    "    \n",
    "    return X_copy\n",
    "\n",
    "def while_fill_gaps(min_gap_time, max_days, X1, X2=None, intersection_only=True, yearly=False):\n",
    "    last_gaps = []\n",
    "    while True:\n",
    "        gaps = date_gaps_detection(X1, min_gap_time)\n",
    "        \n",
    "        if gaps == last_gaps:\n",
    "            break\n",
    "        last_gaps = gaps\n",
    "        \n",
    "        if X2 is not None:\n",
    "            X2 = neighbour_gaps_filling(X2, gaps, max_days, intersection_only, yearly)\n",
    "\n",
    "        X1 = neighbour_gaps_filling(X1, gaps, max_days, intersection_only, yearly)\n",
    "\n",
    "    if X2 is None:\n",
    "        return X1\n",
    "    else:\n",
    "        return X1, X2"
   ]
  },
  {
   "cell_type": "code",
   "execution_count": 19,
   "metadata": {},
   "outputs": [
    {
     "name": "stderr",
     "output_type": "stream",
     "text": [
      "/tmp/ipykernel_27060/791354386.py:30: RuntimeWarning: Mean of empty slice\n",
      "  X_copy[X.index.isin(intersection_target_index)] = np.nanmean([\n",
      "/tmp/ipykernel_27060/791354386.py:30: RuntimeWarning: Mean of empty slice\n",
      "  X_copy[X.index.isin(intersection_target_index)] = np.nanmean([\n",
      "/tmp/ipykernel_27060/791354386.py:30: RuntimeWarning: Mean of empty slice\n",
      "  X_copy[X.index.isin(intersection_target_index)] = np.nanmean([\n",
      "/tmp/ipykernel_27060/791354386.py:30: RuntimeWarning: Mean of empty slice\n",
      "  X_copy[X.index.isin(intersection_target_index)] = np.nanmean([\n",
      "/tmp/ipykernel_27060/791354386.py:30: RuntimeWarning: Mean of empty slice\n",
      "  X_copy[X.index.isin(intersection_target_index)] = np.nanmean([\n",
      "/tmp/ipykernel_27060/791354386.py:30: RuntimeWarning: Mean of empty slice\n",
      "  X_copy[X.index.isin(intersection_target_index)] = np.nanmean([\n",
      "/tmp/ipykernel_27060/791354386.py:30: RuntimeWarning: Mean of empty slice\n",
      "  X_copy[X.index.isin(intersection_target_index)] = np.nanmean([\n",
      "/tmp/ipykernel_27060/791354386.py:30: RuntimeWarning: Mean of empty slice\n",
      "  X_copy[X.index.isin(intersection_target_index)] = np.nanmean([\n",
      "/tmp/ipykernel_27060/791354386.py:30: RuntimeWarning: Mean of empty slice\n",
      "  X_copy[X.index.isin(intersection_target_index)] = np.nanmean([\n",
      "/tmp/ipykernel_27060/791354386.py:30: RuntimeWarning: Mean of empty slice\n",
      "  X_copy[X.index.isin(intersection_target_index)] = np.nanmean([\n",
      "/tmp/ipykernel_27060/791354386.py:30: RuntimeWarning: Mean of empty slice\n",
      "  X_copy[X.index.isin(intersection_target_index)] = np.nanmean([\n",
      "/tmp/ipykernel_27060/791354386.py:30: RuntimeWarning: Mean of empty slice\n",
      "  X_copy[X.index.isin(intersection_target_index)] = np.nanmean([\n",
      "/tmp/ipykernel_27060/791354386.py:30: RuntimeWarning: Mean of empty slice\n",
      "  X_copy[X.index.isin(intersection_target_index)] = np.nanmean([\n",
      "/tmp/ipykernel_27060/791354386.py:30: RuntimeWarning: Mean of empty slice\n",
      "  X_copy[X.index.isin(intersection_target_index)] = np.nanmean([\n",
      "/tmp/ipykernel_27060/791354386.py:30: RuntimeWarning: Mean of empty slice\n",
      "  X_copy[X.index.isin(intersection_target_index)] = np.nanmean([\n",
      "/tmp/ipykernel_27060/791354386.py:30: RuntimeWarning: Mean of empty slice\n",
      "  X_copy[X.index.isin(intersection_target_index)] = np.nanmean([\n",
      "/tmp/ipykernel_27060/791354386.py:30: RuntimeWarning: Mean of empty slice\n",
      "  X_copy[X.index.isin(intersection_target_index)] = np.nanmean([\n",
      "/tmp/ipykernel_27060/791354386.py:30: RuntimeWarning: Mean of empty slice\n",
      "  X_copy[X.index.isin(intersection_target_index)] = np.nanmean([\n",
      "/tmp/ipykernel_27060/791354386.py:30: RuntimeWarning: Mean of empty slice\n",
      "  X_copy[X.index.isin(intersection_target_index)] = np.nanmean([\n",
      "/tmp/ipykernel_27060/791354386.py:30: RuntimeWarning: Mean of empty slice\n",
      "  X_copy[X.index.isin(intersection_target_index)] = np.nanmean([\n",
      "/tmp/ipykernel_27060/791354386.py:30: RuntimeWarning: Mean of empty slice\n",
      "  X_copy[X.index.isin(intersection_target_index)] = np.nanmean([\n",
      "/tmp/ipykernel_27060/791354386.py:30: RuntimeWarning: Mean of empty slice\n",
      "  X_copy[X.index.isin(intersection_target_index)] = np.nanmean([\n",
      "/tmp/ipykernel_27060/791354386.py:30: RuntimeWarning: Mean of empty slice\n",
      "  X_copy[X.index.isin(intersection_target_index)] = np.nanmean([\n",
      "/tmp/ipykernel_27060/791354386.py:30: RuntimeWarning: Mean of empty slice\n",
      "  X_copy[X.index.isin(intersection_target_index)] = np.nanmean([\n",
      "/tmp/ipykernel_27060/791354386.py:30: RuntimeWarning: Mean of empty slice\n",
      "  X_copy[X.index.isin(intersection_target_index)] = np.nanmean([\n",
      "/tmp/ipykernel_27060/791354386.py:30: RuntimeWarning: Mean of empty slice\n",
      "  X_copy[X.index.isin(intersection_target_index)] = np.nanmean([\n",
      "/tmp/ipykernel_27060/791354386.py:30: RuntimeWarning: Mean of empty slice\n",
      "  X_copy[X.index.isin(intersection_target_index)] = np.nanmean([\n",
      "/tmp/ipykernel_27060/791354386.py:30: RuntimeWarning: Mean of empty slice\n",
      "  X_copy[X.index.isin(intersection_target_index)] = np.nanmean([\n",
      "/tmp/ipykernel_27060/791354386.py:30: RuntimeWarning: Mean of empty slice\n",
      "  X_copy[X.index.isin(intersection_target_index)] = np.nanmean([\n",
      "/tmp/ipykernel_27060/791354386.py:30: RuntimeWarning: Mean of empty slice\n",
      "  X_copy[X.index.isin(intersection_target_index)] = np.nanmean([\n",
      "/tmp/ipykernel_27060/791354386.py:30: RuntimeWarning: Mean of empty slice\n",
      "  X_copy[X.index.isin(intersection_target_index)] = np.nanmean([\n",
      "/tmp/ipykernel_27060/791354386.py:30: RuntimeWarning: Mean of empty slice\n",
      "  X_copy[X.index.isin(intersection_target_index)] = np.nanmean([\n",
      "/tmp/ipykernel_27060/791354386.py:30: RuntimeWarning: Mean of empty slice\n",
      "  X_copy[X.index.isin(intersection_target_index)] = np.nanmean([\n"
     ]
    }
   ],
   "source": [
    "max_days = 3\n",
    "\n",
    "for pre in [\"15min\", \"1hour\"]:\n",
    "    for loc in Xs[pre]:\n",
    "        for type in ys[pre][loc]:\n",
    "            ys[pre][loc][type], Xs[pre][loc][type] = while_fill_gaps(min_gap_time, max_days, ys[pre][loc][type], Xs[pre][loc][type])\n",
    "        \n",
    "        for type in Xs[pre][loc]:\n",
    "            Xs[pre][loc][type] = while_fill_gaps(min_gap_time, max_days, Xs[pre][loc][type])\n",
    "\n",
    "if display_plots:\n",
    "    for pre in [\"15min\", \"1hour\"]:\n",
    "        for loc in ys[pre]:\n",
    "            ax = ys[pre][loc][\"full\"].dropna().plot(lw=0.1)\n",
    "            \n",
    "            gaps = date_gaps_detection(ys[pre][loc][\"full\"], min_gap_time)\n",
    "            for start_date, end_date in gaps:\n",
    "                ax.axvline(start_date, linestyle='--', color=\"green\")\n",
    "                ax.axvline(end_date, linestyle='--', color=\"red\")\n",
    "            \n",
    "            plt.title(pre + \" \" + loc + \" full\")\n",
    "            plt.show()\n",
    "\n",
    "    legends = []\n",
    "    y = 0\n",
    "    for pre in Xs:\n",
    "        for loc in Xs[pre]:\n",
    "            y = y + 1\n",
    "            legends.append(pre + \" \" + loc + \" \" + type)\n",
    "            dates = Xs[pre][loc][\"test\"].dropna(how='all').index\n",
    "            plt.plot(dates, [y] * len(dates), marker='o', markersize=1, linestyle='')\n",
    "\n",
    "    plt.gca().axes.get_yaxis().set_visible(False)\n",
    "    plt.legend(legends)\n",
    "    plt.xticks(rotation=45)\n",
    "    plt.show()"
   ]
  },
  {
   "cell_type": "code",
   "execution_count": 20,
   "metadata": {},
   "outputs": [
    {
     "name": "stderr",
     "output_type": "stream",
     "text": [
      "/tmp/ipykernel_27060/791354386.py:30: RuntimeWarning: Mean of empty slice\n",
      "  X_copy[X.index.isin(intersection_target_index)] = np.nanmean([\n",
      "/tmp/ipykernel_27060/791354386.py:30: RuntimeWarning: Mean of empty slice\n",
      "  X_copy[X.index.isin(intersection_target_index)] = np.nanmean([\n",
      "/tmp/ipykernel_27060/791354386.py:30: RuntimeWarning: Mean of empty slice\n",
      "  X_copy[X.index.isin(intersection_target_index)] = np.nanmean([\n",
      "/tmp/ipykernel_27060/791354386.py:30: RuntimeWarning: Mean of empty slice\n",
      "  X_copy[X.index.isin(intersection_target_index)] = np.nanmean([\n"
     ]
    }
   ],
   "source": [
    "max_years = 3\n",
    "\n",
    "for pre in [\"15min\", \"1hour\"]:\n",
    "    for loc in Xs[pre]:\n",
    "        for type in ys[pre][loc]:\n",
    "            fill_constant_gaps_with_nan(ys[pre][loc][type], min_gap_time)\n",
    "            ys[pre][loc][type], Xs[pre][loc][type] = while_fill_gaps(\n",
    "                min_gap_time, \n",
    "                max_years,\n",
    "                ys[pre][loc][type], \n",
    "                Xs[pre][loc][type],\n",
    "                intersection_only = False,\n",
    "                yearly = True,\n",
    "            )\n",
    "\n",
    "        for type in Xs[pre][loc]:\n",
    "            Xs[pre][loc][type] = while_fill_gaps(\n",
    "                min_gap_time, \n",
    "                max_years,\n",
    "                Xs[pre][loc][type], \n",
    "                intersection_only = False,\n",
    "                yearly = True,\n",
    "            )\n",
    "\n",
    "if display_plots:\n",
    "    for pre in [\"15min\", \"1hour\"]:\n",
    "        for loc in ys[pre]:\n",
    "            ax = ys[pre][loc][\"full\"].dropna().plot(lw=0.1)\n",
    "\n",
    "            gaps = date_gaps_detection(ys[pre][loc][\"full\"], min_gap_time)\n",
    "            for start_date, end_date in gaps:\n",
    "                ax.axvline(start_date, linestyle='--', color=\"green\")\n",
    "                ax.axvline(end_date, linestyle='--', color=\"red\")\n",
    "            \n",
    "            plt.title(pre + \" \" + loc + \" full\")\n",
    "            plt.show()"
   ]
  },
  {
   "cell_type": "markdown",
   "metadata": {},
   "source": [
    "Time interpolate missing values"
   ]
  },
  {
   "cell_type": "code",
   "execution_count": 21,
   "metadata": {},
   "outputs": [],
   "source": [
    "def time_interpolate(X):\n",
    "    return X.interpolate(method='time', limit_direction=\"both\")\n",
    "\n",
    "for pre in [\"15min\", \"1hour\"]:\n",
    "    for loc in Xs[pre]:\n",
    "        for type in Xs[pre][loc]:\n",
    "            Xs[pre][loc][type] = time_interpolate(Xs[pre][loc][type])\n",
    "\n",
    "for pre in [\"15min\", \"1hour\"]:\n",
    "    for loc in ys[pre]:\n",
    "        for type in ys[pre][loc]:\n",
    "            ys[pre][loc][type] = time_interpolate(ys[pre][loc][type])"
   ]
  },
  {
   "cell_type": "markdown",
   "metadata": {},
   "source": [
    "Check for nan values"
   ]
  },
  {
   "cell_type": "code",
   "execution_count": 22,
   "metadata": {
    "scrolled": true
   },
   "outputs": [
    {
     "data": {
      "text/plain": [
       "absolute_humidity_2m:gm3          0\n",
       "air_density_2m:kgm3               0\n",
       "ceiling_height_agl:m              0\n",
       "clear_sky_energy_1h:J             0\n",
       "clear_sky_rad:W                   0\n",
       "cloud_base_agl:m                  0\n",
       "dew_or_rime:idx                   0\n",
       "dew_point_2m:K                    0\n",
       "diffuse_rad:W                     0\n",
       "diffuse_rad_1h:J                  0\n",
       "direct_rad:W                      0\n",
       "direct_rad_1h:J                   0\n",
       "effective_cloud_cover:p           0\n",
       "elevation:m                       0\n",
       "fresh_snow_12h:cm                 0\n",
       "fresh_snow_1h:cm                  0\n",
       "fresh_snow_24h:cm                 0\n",
       "fresh_snow_3h:cm                  0\n",
       "fresh_snow_6h:cm                  0\n",
       "is_day:idx                        0\n",
       "is_in_shadow:idx                  0\n",
       "msl_pressure:hPa                  0\n",
       "precip_5min:mm                    0\n",
       "precip_type_5min:idx              0\n",
       "pressure_100m:hPa                 0\n",
       "pressure_50m:hPa                  0\n",
       "prob_rime:p                       0\n",
       "rain_water:kgm2                   0\n",
       "relative_humidity_1000hPa:p       0\n",
       "sfc_pressure:hPa                  0\n",
       "snow_depth:cm                     0\n",
       "snow_drift:idx                    0\n",
       "snow_melt_10min:mm                0\n",
       "snow_water:kgm2                   0\n",
       "sun_azimuth:d                     0\n",
       "sun_elevation:d                   0\n",
       "super_cooled_liquid_water:kgm2    0\n",
       "t_1000hPa:K                       0\n",
       "total_cloud_cover:p               0\n",
       "visibility:m                      0\n",
       "wind_speed_10m:ms                 0\n",
       "wind_speed_u_10m:ms               0\n",
       "wind_speed_v_10m:ms               0\n",
       "wind_speed_w_1000hPa:ms           0\n",
       "forecast_seconds                  0\n",
       "dtype: int64"
      ]
     },
     "metadata": {},
     "output_type": "display_data"
    },
    {
     "data": {
      "text/plain": [
       "0"
      ]
     },
     "metadata": {},
     "output_type": "display_data"
    }
   ],
   "source": [
    "def nested_values(d, exclude_keys={}):\n",
    "    values = []\n",
    "    for key, value in d.items():\n",
    "        if key not in exclude_keys:\n",
    "            if isinstance(value, dict):\n",
    "                values.extend(nested_values(value, exclude_keys))\n",
    "            else:\n",
    "                values.append(value)\n",
    "    return values\n",
    "\n",
    "display(pd.concat(nested_values(Xs, exclude_keys={\"og\"})).isna().sum())\n",
    "display(pd.concat(nested_values(ys, exclude_keys={\"og\"})).isna().sum())"
   ]
  },
  {
   "cell_type": "markdown",
   "metadata": {},
   "source": [
    "Check that the period is correct"
   ]
  },
  {
   "cell_type": "code",
   "execution_count": 23,
   "metadata": {
    "scrolled": true
   },
   "outputs": [
    {
     "data": {
      "text/plain": [
       "''"
      ]
     },
     "metadata": {},
     "output_type": "display_data"
    },
    {
     "data": {
      "text/plain": [
       "'Xs 15min A obs'"
      ]
     },
     "metadata": {},
     "output_type": "display_data"
    },
    {
     "data": {
      "text/plain": [
       "Timestamp('2019-06-02 22:00:00')"
      ]
     },
     "metadata": {},
     "output_type": "display_data"
    },
    {
     "data": {
      "text/plain": [
       "Timestamp('2022-10-21 01:00:00')"
      ]
     },
     "metadata": {},
     "output_type": "display_data"
    },
    {
     "data": {
      "text/plain": [
       "0 days 00:15:00    118668\n",
       "Name: count, dtype: int64"
      ]
     },
     "metadata": {},
     "output_type": "display_data"
    },
    {
     "data": {
      "text/plain": [
       "''"
      ]
     },
     "metadata": {},
     "output_type": "display_data"
    },
    {
     "data": {
      "text/plain": [
       "'Xs 15min A est'"
      ]
     },
     "metadata": {},
     "output_type": "display_data"
    },
    {
     "data": {
      "text/plain": [
       "Timestamp('2022-10-28 22:00:00')"
      ]
     },
     "metadata": {},
     "output_type": "display_data"
    },
    {
     "data": {
      "text/plain": [
       "Timestamp('2023-04-30 23:45:00')"
      ]
     },
     "metadata": {},
     "output_type": "display_data"
    },
    {
     "data": {
      "text/plain": [
       "0 days 00:15:00    17671\n",
       "Name: count, dtype: int64"
      ]
     },
     "metadata": {},
     "output_type": "display_data"
    },
    {
     "data": {
      "text/plain": [
       "''"
      ]
     },
     "metadata": {},
     "output_type": "display_data"
    },
    {
     "data": {
      "text/plain": [
       "'Xs 15min A test'"
      ]
     },
     "metadata": {},
     "output_type": "display_data"
    },
    {
     "data": {
      "text/plain": [
       "Timestamp('2023-05-01 00:00:00')"
      ]
     },
     "metadata": {},
     "output_type": "display_data"
    },
    {
     "data": {
      "text/plain": [
       "Timestamp('2023-07-03 23:45:00')"
      ]
     },
     "metadata": {},
     "output_type": "display_data"
    },
    {
     "data": {
      "text/plain": [
       "0 days 00:15:00    6143\n",
       "Name: count, dtype: int64"
      ]
     },
     "metadata": {},
     "output_type": "display_data"
    },
    {
     "data": {
      "text/plain": [
       "''"
      ]
     },
     "metadata": {},
     "output_type": "display_data"
    },
    {
     "data": {
      "text/plain": [
       "'Xs 15min A full'"
      ]
     },
     "metadata": {},
     "output_type": "display_data"
    },
    {
     "data": {
      "text/plain": [
       "Timestamp('2019-06-02 22:00:00')"
      ]
     },
     "metadata": {},
     "output_type": "display_data"
    },
    {
     "data": {
      "text/plain": [
       "Timestamp('2023-08-02 23:45:00')"
      ]
     },
     "metadata": {},
     "output_type": "display_data"
    },
    {
     "data": {
      "text/plain": [
       "0 days 00:15:00    146119\n",
       "Name: count, dtype: int64"
      ]
     },
     "metadata": {},
     "output_type": "display_data"
    },
    {
     "data": {
      "text/plain": [
       "''"
      ]
     },
     "metadata": {},
     "output_type": "display_data"
    },
    {
     "data": {
      "text/plain": [
       "'Xs 15min B obs'"
      ]
     },
     "metadata": {},
     "output_type": "display_data"
    },
    {
     "data": {
      "text/plain": [
       "Timestamp('2018-12-31 23:00:00')"
      ]
     },
     "metadata": {},
     "output_type": "display_data"
    },
    {
     "data": {
      "text/plain": [
       "Timestamp('2022-05-03 00:00:00')"
      ]
     },
     "metadata": {},
     "output_type": "display_data"
    },
    {
     "data": {
      "text/plain": [
       "0 days 00:15:00    116932\n",
       "Name: count, dtype: int64"
      ]
     },
     "metadata": {},
     "output_type": "display_data"
    },
    {
     "data": {
      "text/plain": [
       "''"
      ]
     },
     "metadata": {},
     "output_type": "display_data"
    },
    {
     "data": {
      "text/plain": [
       "'Xs 15min B est'"
      ]
     },
     "metadata": {},
     "output_type": "display_data"
    },
    {
     "data": {
      "text/plain": [
       "Timestamp('2022-10-28 22:00:00')"
      ]
     },
     "metadata": {},
     "output_type": "display_data"
    },
    {
     "data": {
      "text/plain": [
       "Timestamp('2023-04-30 23:45:00')"
      ]
     },
     "metadata": {},
     "output_type": "display_data"
    },
    {
     "data": {
      "text/plain": [
       "0 days 00:15:00    17671\n",
       "Name: count, dtype: int64"
      ]
     },
     "metadata": {},
     "output_type": "display_data"
    },
    {
     "data": {
      "text/plain": [
       "''"
      ]
     },
     "metadata": {},
     "output_type": "display_data"
    },
    {
     "data": {
      "text/plain": [
       "'Xs 15min B test'"
      ]
     },
     "metadata": {},
     "output_type": "display_data"
    },
    {
     "data": {
      "text/plain": [
       "Timestamp('2023-05-01 00:00:00')"
      ]
     },
     "metadata": {},
     "output_type": "display_data"
    },
    {
     "data": {
      "text/plain": [
       "Timestamp('2023-07-03 23:45:00')"
      ]
     },
     "metadata": {},
     "output_type": "display_data"
    },
    {
     "data": {
      "text/plain": [
       "0 days 00:15:00    6143\n",
       "Name: count, dtype: int64"
      ]
     },
     "metadata": {},
     "output_type": "display_data"
    },
    {
     "data": {
      "text/plain": [
       "''"
      ]
     },
     "metadata": {},
     "output_type": "display_data"
    },
    {
     "data": {
      "text/plain": [
       "'Xs 15min B full'"
      ]
     },
     "metadata": {},
     "output_type": "display_data"
    },
    {
     "data": {
      "text/plain": [
       "Timestamp('2018-12-31 23:00:00')"
      ]
     },
     "metadata": {},
     "output_type": "display_data"
    },
    {
     "data": {
      "text/plain": [
       "Timestamp('2023-08-02 23:45:00')"
      ]
     },
     "metadata": {},
     "output_type": "display_data"
    },
    {
     "data": {
      "text/plain": [
       "0 days 00:15:00    160803\n",
       "Name: count, dtype: int64"
      ]
     },
     "metadata": {},
     "output_type": "display_data"
    },
    {
     "data": {
      "text/plain": [
       "''"
      ]
     },
     "metadata": {},
     "output_type": "display_data"
    },
    {
     "data": {
      "text/plain": [
       "'Xs 15min C obs'"
      ]
     },
     "metadata": {},
     "output_type": "display_data"
    },
    {
     "data": {
      "text/plain": [
       "Timestamp('2019-09-04 08:00:00')"
      ]
     },
     "metadata": {},
     "output_type": "display_data"
    },
    {
     "data": {
      "text/plain": [
       "Timestamp('2022-05-01 22:00:00')"
      ]
     },
     "metadata": {},
     "output_type": "display_data"
    },
    {
     "data": {
      "text/plain": [
       "0 days 00:15:00    93176\n",
       "Name: count, dtype: int64"
      ]
     },
     "metadata": {},
     "output_type": "display_data"
    },
    {
     "data": {
      "text/plain": [
       "''"
      ]
     },
     "metadata": {},
     "output_type": "display_data"
    },
    {
     "data": {
      "text/plain": [
       "'Xs 15min C est'"
      ]
     },
     "metadata": {},
     "output_type": "display_data"
    },
    {
     "data": {
      "text/plain": [
       "Timestamp('2022-10-28 22:00:00')"
      ]
     },
     "metadata": {},
     "output_type": "display_data"
    },
    {
     "data": {
      "text/plain": [
       "Timestamp('2023-04-30 23:45:00')"
      ]
     },
     "metadata": {},
     "output_type": "display_data"
    },
    {
     "data": {
      "text/plain": [
       "0 days 00:15:00    17671\n",
       "Name: count, dtype: int64"
      ]
     },
     "metadata": {},
     "output_type": "display_data"
    },
    {
     "data": {
      "text/plain": [
       "''"
      ]
     },
     "metadata": {},
     "output_type": "display_data"
    },
    {
     "data": {
      "text/plain": [
       "'Xs 15min C test'"
      ]
     },
     "metadata": {},
     "output_type": "display_data"
    },
    {
     "data": {
      "text/plain": [
       "Timestamp('2023-05-01 00:00:00')"
      ]
     },
     "metadata": {},
     "output_type": "display_data"
    },
    {
     "data": {
      "text/plain": [
       "Timestamp('2023-07-03 23:45:00')"
      ]
     },
     "metadata": {},
     "output_type": "display_data"
    },
    {
     "data": {
      "text/plain": [
       "0 days 00:15:00    6143\n",
       "Name: count, dtype: int64"
      ]
     },
     "metadata": {},
     "output_type": "display_data"
    },
    {
     "data": {
      "text/plain": [
       "''"
      ]
     },
     "metadata": {},
     "output_type": "display_data"
    },
    {
     "data": {
      "text/plain": [
       "'Xs 15min C full'"
      ]
     },
     "metadata": {},
     "output_type": "display_data"
    },
    {
     "data": {
      "text/plain": [
       "Timestamp('2019-09-04 08:00:00')"
      ]
     },
     "metadata": {},
     "output_type": "display_data"
    },
    {
     "data": {
      "text/plain": [
       "Timestamp('2023-08-02 23:45:00')"
      ]
     },
     "metadata": {},
     "output_type": "display_data"
    },
    {
     "data": {
      "text/plain": [
       "0 days 00:15:00    137151\n",
       "Name: count, dtype: int64"
      ]
     },
     "metadata": {},
     "output_type": "display_data"
    },
    {
     "data": {
      "text/plain": [
       "''"
      ]
     },
     "metadata": {},
     "output_type": "display_data"
    },
    {
     "data": {
      "text/plain": [
       "'ys 15min A obs'"
      ]
     },
     "metadata": {},
     "output_type": "display_data"
    },
    {
     "data": {
      "text/plain": [
       "Timestamp('2019-06-02 22:00:00')"
      ]
     },
     "metadata": {},
     "output_type": "display_data"
    },
    {
     "data": {
      "text/plain": [
       "Timestamp('2022-10-21 01:00:00')"
      ]
     },
     "metadata": {},
     "output_type": "display_data"
    },
    {
     "data": {
      "text/plain": [
       "0 days 00:15:00    118668\n",
       "Name: count, dtype: int64"
      ]
     },
     "metadata": {},
     "output_type": "display_data"
    },
    {
     "data": {
      "text/plain": [
       "''"
      ]
     },
     "metadata": {},
     "output_type": "display_data"
    },
    {
     "data": {
      "text/plain": [
       "'ys 15min A est'"
      ]
     },
     "metadata": {},
     "output_type": "display_data"
    },
    {
     "data": {
      "text/plain": [
       "Timestamp('2022-10-28 22:00:00')"
      ]
     },
     "metadata": {},
     "output_type": "display_data"
    },
    {
     "data": {
      "text/plain": [
       "Timestamp('2023-04-30 23:45:00')"
      ]
     },
     "metadata": {},
     "output_type": "display_data"
    },
    {
     "data": {
      "text/plain": [
       "0 days 00:15:00    17671\n",
       "Name: count, dtype: int64"
      ]
     },
     "metadata": {},
     "output_type": "display_data"
    },
    {
     "data": {
      "text/plain": [
       "''"
      ]
     },
     "metadata": {},
     "output_type": "display_data"
    },
    {
     "data": {
      "text/plain": [
       "'ys 15min A full'"
      ]
     },
     "metadata": {},
     "output_type": "display_data"
    },
    {
     "data": {
      "text/plain": [
       "Timestamp('2019-06-02 22:00:00')"
      ]
     },
     "metadata": {},
     "output_type": "display_data"
    },
    {
     "data": {
      "text/plain": [
       "Timestamp('2023-04-30 23:45:00')"
      ]
     },
     "metadata": {},
     "output_type": "display_data"
    },
    {
     "data": {
      "text/plain": [
       "0 days 00:15:00    137095\n",
       "Name: count, dtype: int64"
      ]
     },
     "metadata": {},
     "output_type": "display_data"
    },
    {
     "data": {
      "text/plain": [
       "''"
      ]
     },
     "metadata": {},
     "output_type": "display_data"
    },
    {
     "data": {
      "text/plain": [
       "'ys 15min B obs'"
      ]
     },
     "metadata": {},
     "output_type": "display_data"
    },
    {
     "data": {
      "text/plain": [
       "Timestamp('2018-12-31 23:00:00')"
      ]
     },
     "metadata": {},
     "output_type": "display_data"
    },
    {
     "data": {
      "text/plain": [
       "Timestamp('2022-05-03 00:00:00')"
      ]
     },
     "metadata": {},
     "output_type": "display_data"
    },
    {
     "data": {
      "text/plain": [
       "0 days 00:15:00    116932\n",
       "Name: count, dtype: int64"
      ]
     },
     "metadata": {},
     "output_type": "display_data"
    },
    {
     "data": {
      "text/plain": [
       "''"
      ]
     },
     "metadata": {},
     "output_type": "display_data"
    },
    {
     "data": {
      "text/plain": [
       "'ys 15min B est'"
      ]
     },
     "metadata": {},
     "output_type": "display_data"
    },
    {
     "data": {
      "text/plain": [
       "Timestamp('2022-10-28 22:00:00')"
      ]
     },
     "metadata": {},
     "output_type": "display_data"
    },
    {
     "data": {
      "text/plain": [
       "Timestamp('2023-04-30 23:45:00')"
      ]
     },
     "metadata": {},
     "output_type": "display_data"
    },
    {
     "data": {
      "text/plain": [
       "0 days 00:15:00    17671\n",
       "Name: count, dtype: int64"
      ]
     },
     "metadata": {},
     "output_type": "display_data"
    },
    {
     "data": {
      "text/plain": [
       "''"
      ]
     },
     "metadata": {},
     "output_type": "display_data"
    },
    {
     "data": {
      "text/plain": [
       "'ys 15min B full'"
      ]
     },
     "metadata": {},
     "output_type": "display_data"
    },
    {
     "data": {
      "text/plain": [
       "Timestamp('2018-12-31 23:00:00')"
      ]
     },
     "metadata": {},
     "output_type": "display_data"
    },
    {
     "data": {
      "text/plain": [
       "Timestamp('2023-04-30 23:45:00')"
      ]
     },
     "metadata": {},
     "output_type": "display_data"
    },
    {
     "data": {
      "text/plain": [
       "0 days 00:15:00    151779\n",
       "Name: count, dtype: int64"
      ]
     },
     "metadata": {},
     "output_type": "display_data"
    },
    {
     "data": {
      "text/plain": [
       "''"
      ]
     },
     "metadata": {},
     "output_type": "display_data"
    },
    {
     "data": {
      "text/plain": [
       "'ys 15min C obs'"
      ]
     },
     "metadata": {},
     "output_type": "display_data"
    },
    {
     "data": {
      "text/plain": [
       "Timestamp('2019-09-04 08:00:00')"
      ]
     },
     "metadata": {},
     "output_type": "display_data"
    },
    {
     "data": {
      "text/plain": [
       "Timestamp('2022-05-01 22:00:00')"
      ]
     },
     "metadata": {},
     "output_type": "display_data"
    },
    {
     "data": {
      "text/plain": [
       "0 days 00:15:00    93176\n",
       "Name: count, dtype: int64"
      ]
     },
     "metadata": {},
     "output_type": "display_data"
    },
    {
     "data": {
      "text/plain": [
       "''"
      ]
     },
     "metadata": {},
     "output_type": "display_data"
    },
    {
     "data": {
      "text/plain": [
       "'ys 15min C est'"
      ]
     },
     "metadata": {},
     "output_type": "display_data"
    },
    {
     "data": {
      "text/plain": [
       "Timestamp('2022-10-28 22:00:00')"
      ]
     },
     "metadata": {},
     "output_type": "display_data"
    },
    {
     "data": {
      "text/plain": [
       "Timestamp('2023-04-30 23:45:00')"
      ]
     },
     "metadata": {},
     "output_type": "display_data"
    },
    {
     "data": {
      "text/plain": [
       "0 days 00:15:00    17671\n",
       "Name: count, dtype: int64"
      ]
     },
     "metadata": {},
     "output_type": "display_data"
    },
    {
     "data": {
      "text/plain": [
       "''"
      ]
     },
     "metadata": {},
     "output_type": "display_data"
    },
    {
     "data": {
      "text/plain": [
       "'ys 15min C full'"
      ]
     },
     "metadata": {},
     "output_type": "display_data"
    },
    {
     "data": {
      "text/plain": [
       "Timestamp('2019-09-04 08:00:00')"
      ]
     },
     "metadata": {},
     "output_type": "display_data"
    },
    {
     "data": {
      "text/plain": [
       "Timestamp('2023-04-30 23:45:00')"
      ]
     },
     "metadata": {},
     "output_type": "display_data"
    },
    {
     "data": {
      "text/plain": [
       "0 days 00:15:00    128127\n",
       "Name: count, dtype: int64"
      ]
     },
     "metadata": {},
     "output_type": "display_data"
    },
    {
     "data": {
      "text/plain": [
       "''"
      ]
     },
     "metadata": {},
     "output_type": "display_data"
    },
    {
     "data": {
      "text/plain": [
       "'Xs 1hour A obs'"
      ]
     },
     "metadata": {},
     "output_type": "display_data"
    },
    {
     "data": {
      "text/plain": [
       "Timestamp('2019-06-02 22:00:00')"
      ]
     },
     "metadata": {},
     "output_type": "display_data"
    },
    {
     "data": {
      "text/plain": [
       "Timestamp('2022-10-21 01:00:00')"
      ]
     },
     "metadata": {},
     "output_type": "display_data"
    },
    {
     "data": {
      "text/plain": [
       "0 days 01:00:00    29667\n",
       "Name: count, dtype: int64"
      ]
     },
     "metadata": {},
     "output_type": "display_data"
    },
    {
     "data": {
      "text/plain": [
       "''"
      ]
     },
     "metadata": {},
     "output_type": "display_data"
    },
    {
     "data": {
      "text/plain": [
       "'Xs 1hour A est'"
      ]
     },
     "metadata": {},
     "output_type": "display_data"
    },
    {
     "data": {
      "text/plain": [
       "Timestamp('2022-10-28 22:00:00')"
      ]
     },
     "metadata": {},
     "output_type": "display_data"
    },
    {
     "data": {
      "text/plain": [
       "Timestamp('2023-04-30 23:00:00')"
      ]
     },
     "metadata": {},
     "output_type": "display_data"
    },
    {
     "data": {
      "text/plain": [
       "0 days 01:00:00    4417\n",
       "Name: count, dtype: int64"
      ]
     },
     "metadata": {},
     "output_type": "display_data"
    },
    {
     "data": {
      "text/plain": [
       "''"
      ]
     },
     "metadata": {},
     "output_type": "display_data"
    },
    {
     "data": {
      "text/plain": [
       "'Xs 1hour A test'"
      ]
     },
     "metadata": {},
     "output_type": "display_data"
    },
    {
     "data": {
      "text/plain": [
       "Timestamp('2023-05-01 00:00:00')"
      ]
     },
     "metadata": {},
     "output_type": "display_data"
    },
    {
     "data": {
      "text/plain": [
       "Timestamp('2023-07-03 23:00:00')"
      ]
     },
     "metadata": {},
     "output_type": "display_data"
    },
    {
     "data": {
      "text/plain": [
       "0 days 01:00:00    1535\n",
       "Name: count, dtype: int64"
      ]
     },
     "metadata": {},
     "output_type": "display_data"
    },
    {
     "data": {
      "text/plain": [
       "''"
      ]
     },
     "metadata": {},
     "output_type": "display_data"
    },
    {
     "data": {
      "text/plain": [
       "'Xs 1hour A full'"
      ]
     },
     "metadata": {},
     "output_type": "display_data"
    },
    {
     "data": {
      "text/plain": [
       "Timestamp('2019-06-02 22:00:00')"
      ]
     },
     "metadata": {},
     "output_type": "display_data"
    },
    {
     "data": {
      "text/plain": [
       "Timestamp('2023-08-02 23:00:00')"
      ]
     },
     "metadata": {},
     "output_type": "display_data"
    },
    {
     "data": {
      "text/plain": [
       "0 days 01:00:00    36529\n",
       "Name: count, dtype: int64"
      ]
     },
     "metadata": {},
     "output_type": "display_data"
    },
    {
     "data": {
      "text/plain": [
       "''"
      ]
     },
     "metadata": {},
     "output_type": "display_data"
    },
    {
     "data": {
      "text/plain": [
       "'Xs 1hour B obs'"
      ]
     },
     "metadata": {},
     "output_type": "display_data"
    },
    {
     "data": {
      "text/plain": [
       "Timestamp('2018-12-31 23:00:00')"
      ]
     },
     "metadata": {},
     "output_type": "display_data"
    },
    {
     "data": {
      "text/plain": [
       "Timestamp('2022-05-03 00:00:00')"
      ]
     },
     "metadata": {},
     "output_type": "display_data"
    },
    {
     "data": {
      "text/plain": [
       "0 days 01:00:00    29233\n",
       "Name: count, dtype: int64"
      ]
     },
     "metadata": {},
     "output_type": "display_data"
    },
    {
     "data": {
      "text/plain": [
       "''"
      ]
     },
     "metadata": {},
     "output_type": "display_data"
    },
    {
     "data": {
      "text/plain": [
       "'Xs 1hour B est'"
      ]
     },
     "metadata": {},
     "output_type": "display_data"
    },
    {
     "data": {
      "text/plain": [
       "Timestamp('2022-10-28 22:00:00')"
      ]
     },
     "metadata": {},
     "output_type": "display_data"
    },
    {
     "data": {
      "text/plain": [
       "Timestamp('2023-04-30 23:00:00')"
      ]
     },
     "metadata": {},
     "output_type": "display_data"
    },
    {
     "data": {
      "text/plain": [
       "0 days 01:00:00    4417\n",
       "Name: count, dtype: int64"
      ]
     },
     "metadata": {},
     "output_type": "display_data"
    },
    {
     "data": {
      "text/plain": [
       "''"
      ]
     },
     "metadata": {},
     "output_type": "display_data"
    },
    {
     "data": {
      "text/plain": [
       "'Xs 1hour B test'"
      ]
     },
     "metadata": {},
     "output_type": "display_data"
    },
    {
     "data": {
      "text/plain": [
       "Timestamp('2023-05-01 00:00:00')"
      ]
     },
     "metadata": {},
     "output_type": "display_data"
    },
    {
     "data": {
      "text/plain": [
       "Timestamp('2023-07-03 23:00:00')"
      ]
     },
     "metadata": {},
     "output_type": "display_data"
    },
    {
     "data": {
      "text/plain": [
       "0 days 01:00:00    1535\n",
       "Name: count, dtype: int64"
      ]
     },
     "metadata": {},
     "output_type": "display_data"
    },
    {
     "data": {
      "text/plain": [
       "''"
      ]
     },
     "metadata": {},
     "output_type": "display_data"
    },
    {
     "data": {
      "text/plain": [
       "'Xs 1hour B full'"
      ]
     },
     "metadata": {},
     "output_type": "display_data"
    },
    {
     "data": {
      "text/plain": [
       "Timestamp('2018-12-31 23:00:00')"
      ]
     },
     "metadata": {},
     "output_type": "display_data"
    },
    {
     "data": {
      "text/plain": [
       "Timestamp('2023-08-02 23:00:00')"
      ]
     },
     "metadata": {},
     "output_type": "display_data"
    },
    {
     "data": {
      "text/plain": [
       "0 days 01:00:00    40200\n",
       "Name: count, dtype: int64"
      ]
     },
     "metadata": {},
     "output_type": "display_data"
    },
    {
     "data": {
      "text/plain": [
       "''"
      ]
     },
     "metadata": {},
     "output_type": "display_data"
    },
    {
     "data": {
      "text/plain": [
       "'Xs 1hour C obs'"
      ]
     },
     "metadata": {},
     "output_type": "display_data"
    },
    {
     "data": {
      "text/plain": [
       "Timestamp('2019-09-04 08:00:00')"
      ]
     },
     "metadata": {},
     "output_type": "display_data"
    },
    {
     "data": {
      "text/plain": [
       "Timestamp('2022-05-01 22:00:00')"
      ]
     },
     "metadata": {},
     "output_type": "display_data"
    },
    {
     "data": {
      "text/plain": [
       "0 days 01:00:00    23294\n",
       "Name: count, dtype: int64"
      ]
     },
     "metadata": {},
     "output_type": "display_data"
    },
    {
     "data": {
      "text/plain": [
       "''"
      ]
     },
     "metadata": {},
     "output_type": "display_data"
    },
    {
     "data": {
      "text/plain": [
       "'Xs 1hour C est'"
      ]
     },
     "metadata": {},
     "output_type": "display_data"
    },
    {
     "data": {
      "text/plain": [
       "Timestamp('2022-10-28 22:00:00')"
      ]
     },
     "metadata": {},
     "output_type": "display_data"
    },
    {
     "data": {
      "text/plain": [
       "Timestamp('2023-04-30 23:00:00')"
      ]
     },
     "metadata": {},
     "output_type": "display_data"
    },
    {
     "data": {
      "text/plain": [
       "0 days 01:00:00    4417\n",
       "Name: count, dtype: int64"
      ]
     },
     "metadata": {},
     "output_type": "display_data"
    },
    {
     "data": {
      "text/plain": [
       "''"
      ]
     },
     "metadata": {},
     "output_type": "display_data"
    },
    {
     "data": {
      "text/plain": [
       "'Xs 1hour C test'"
      ]
     },
     "metadata": {},
     "output_type": "display_data"
    },
    {
     "data": {
      "text/plain": [
       "Timestamp('2023-05-01 00:00:00')"
      ]
     },
     "metadata": {},
     "output_type": "display_data"
    },
    {
     "data": {
      "text/plain": [
       "Timestamp('2023-07-03 23:00:00')"
      ]
     },
     "metadata": {},
     "output_type": "display_data"
    },
    {
     "data": {
      "text/plain": [
       "0 days 01:00:00    1535\n",
       "Name: count, dtype: int64"
      ]
     },
     "metadata": {},
     "output_type": "display_data"
    },
    {
     "data": {
      "text/plain": [
       "''"
      ]
     },
     "metadata": {},
     "output_type": "display_data"
    },
    {
     "data": {
      "text/plain": [
       "'Xs 1hour C full'"
      ]
     },
     "metadata": {},
     "output_type": "display_data"
    },
    {
     "data": {
      "text/plain": [
       "Timestamp('2019-09-04 08:00:00')"
      ]
     },
     "metadata": {},
     "output_type": "display_data"
    },
    {
     "data": {
      "text/plain": [
       "Timestamp('2023-08-02 23:00:00')"
      ]
     },
     "metadata": {},
     "output_type": "display_data"
    },
    {
     "data": {
      "text/plain": [
       "0 days 01:00:00    34287\n",
       "Name: count, dtype: int64"
      ]
     },
     "metadata": {},
     "output_type": "display_data"
    },
    {
     "data": {
      "text/plain": [
       "''"
      ]
     },
     "metadata": {},
     "output_type": "display_data"
    },
    {
     "data": {
      "text/plain": [
       "'ys 1hour A obs'"
      ]
     },
     "metadata": {},
     "output_type": "display_data"
    },
    {
     "data": {
      "text/plain": [
       "Timestamp('2019-06-02 22:00:00')"
      ]
     },
     "metadata": {},
     "output_type": "display_data"
    },
    {
     "data": {
      "text/plain": [
       "Timestamp('2022-10-21 01:00:00')"
      ]
     },
     "metadata": {},
     "output_type": "display_data"
    },
    {
     "data": {
      "text/plain": [
       "0 days 01:00:00    29667\n",
       "Name: count, dtype: int64"
      ]
     },
     "metadata": {},
     "output_type": "display_data"
    },
    {
     "data": {
      "text/plain": [
       "''"
      ]
     },
     "metadata": {},
     "output_type": "display_data"
    },
    {
     "data": {
      "text/plain": [
       "'ys 1hour A est'"
      ]
     },
     "metadata": {},
     "output_type": "display_data"
    },
    {
     "data": {
      "text/plain": [
       "Timestamp('2022-10-28 22:00:00')"
      ]
     },
     "metadata": {},
     "output_type": "display_data"
    },
    {
     "data": {
      "text/plain": [
       "Timestamp('2023-04-30 23:00:00')"
      ]
     },
     "metadata": {},
     "output_type": "display_data"
    },
    {
     "data": {
      "text/plain": [
       "0 days 01:00:00    4417\n",
       "Name: count, dtype: int64"
      ]
     },
     "metadata": {},
     "output_type": "display_data"
    },
    {
     "data": {
      "text/plain": [
       "''"
      ]
     },
     "metadata": {},
     "output_type": "display_data"
    },
    {
     "data": {
      "text/plain": [
       "'ys 1hour A full'"
      ]
     },
     "metadata": {},
     "output_type": "display_data"
    },
    {
     "data": {
      "text/plain": [
       "Timestamp('2019-06-02 22:00:00')"
      ]
     },
     "metadata": {},
     "output_type": "display_data"
    },
    {
     "data": {
      "text/plain": [
       "Timestamp('2023-04-30 23:00:00')"
      ]
     },
     "metadata": {},
     "output_type": "display_data"
    },
    {
     "data": {
      "text/plain": [
       "0 days 01:00:00    34273\n",
       "Name: count, dtype: int64"
      ]
     },
     "metadata": {},
     "output_type": "display_data"
    },
    {
     "data": {
      "text/plain": [
       "''"
      ]
     },
     "metadata": {},
     "output_type": "display_data"
    },
    {
     "data": {
      "text/plain": [
       "'ys 1hour B obs'"
      ]
     },
     "metadata": {},
     "output_type": "display_data"
    },
    {
     "data": {
      "text/plain": [
       "Timestamp('2018-12-31 23:00:00')"
      ]
     },
     "metadata": {},
     "output_type": "display_data"
    },
    {
     "data": {
      "text/plain": [
       "Timestamp('2022-05-03 00:00:00')"
      ]
     },
     "metadata": {},
     "output_type": "display_data"
    },
    {
     "data": {
      "text/plain": [
       "0 days 01:00:00    29233\n",
       "Name: count, dtype: int64"
      ]
     },
     "metadata": {},
     "output_type": "display_data"
    },
    {
     "data": {
      "text/plain": [
       "''"
      ]
     },
     "metadata": {},
     "output_type": "display_data"
    },
    {
     "data": {
      "text/plain": [
       "'ys 1hour B est'"
      ]
     },
     "metadata": {},
     "output_type": "display_data"
    },
    {
     "data": {
      "text/plain": [
       "Timestamp('2022-10-28 22:00:00')"
      ]
     },
     "metadata": {},
     "output_type": "display_data"
    },
    {
     "data": {
      "text/plain": [
       "Timestamp('2023-04-30 23:00:00')"
      ]
     },
     "metadata": {},
     "output_type": "display_data"
    },
    {
     "data": {
      "text/plain": [
       "0 days 01:00:00    4417\n",
       "Name: count, dtype: int64"
      ]
     },
     "metadata": {},
     "output_type": "display_data"
    },
    {
     "data": {
      "text/plain": [
       "''"
      ]
     },
     "metadata": {},
     "output_type": "display_data"
    },
    {
     "data": {
      "text/plain": [
       "'ys 1hour B full'"
      ]
     },
     "metadata": {},
     "output_type": "display_data"
    },
    {
     "data": {
      "text/plain": [
       "Timestamp('2018-12-31 23:00:00')"
      ]
     },
     "metadata": {},
     "output_type": "display_data"
    },
    {
     "data": {
      "text/plain": [
       "Timestamp('2023-04-30 23:00:00')"
      ]
     },
     "metadata": {},
     "output_type": "display_data"
    },
    {
     "data": {
      "text/plain": [
       "0 days 01:00:00    37944\n",
       "Name: count, dtype: int64"
      ]
     },
     "metadata": {},
     "output_type": "display_data"
    },
    {
     "data": {
      "text/plain": [
       "''"
      ]
     },
     "metadata": {},
     "output_type": "display_data"
    },
    {
     "data": {
      "text/plain": [
       "'ys 1hour C obs'"
      ]
     },
     "metadata": {},
     "output_type": "display_data"
    },
    {
     "data": {
      "text/plain": [
       "Timestamp('2019-09-04 08:00:00')"
      ]
     },
     "metadata": {},
     "output_type": "display_data"
    },
    {
     "data": {
      "text/plain": [
       "Timestamp('2022-05-01 22:00:00')"
      ]
     },
     "metadata": {},
     "output_type": "display_data"
    },
    {
     "data": {
      "text/plain": [
       "0 days 01:00:00    23294\n",
       "Name: count, dtype: int64"
      ]
     },
     "metadata": {},
     "output_type": "display_data"
    },
    {
     "data": {
      "text/plain": [
       "''"
      ]
     },
     "metadata": {},
     "output_type": "display_data"
    },
    {
     "data": {
      "text/plain": [
       "'ys 1hour C est'"
      ]
     },
     "metadata": {},
     "output_type": "display_data"
    },
    {
     "data": {
      "text/plain": [
       "Timestamp('2022-10-28 22:00:00')"
      ]
     },
     "metadata": {},
     "output_type": "display_data"
    },
    {
     "data": {
      "text/plain": [
       "Timestamp('2023-04-30 23:00:00')"
      ]
     },
     "metadata": {},
     "output_type": "display_data"
    },
    {
     "data": {
      "text/plain": [
       "0 days 01:00:00    4417\n",
       "Name: count, dtype: int64"
      ]
     },
     "metadata": {},
     "output_type": "display_data"
    },
    {
     "data": {
      "text/plain": [
       "''"
      ]
     },
     "metadata": {},
     "output_type": "display_data"
    },
    {
     "data": {
      "text/plain": [
       "'ys 1hour C full'"
      ]
     },
     "metadata": {},
     "output_type": "display_data"
    },
    {
     "data": {
      "text/plain": [
       "Timestamp('2019-09-04 08:00:00')"
      ]
     },
     "metadata": {},
     "output_type": "display_data"
    },
    {
     "data": {
      "text/plain": [
       "Timestamp('2023-04-30 23:00:00')"
      ]
     },
     "metadata": {},
     "output_type": "display_data"
    },
    {
     "data": {
      "text/plain": [
       "0 days 01:00:00    32031\n",
       "Name: count, dtype: int64"
      ]
     },
     "metadata": {},
     "output_type": "display_data"
    }
   ],
   "source": [
    "for pre in [\"15min\", \"1hour\"]:\n",
    "    for loc in Xs[pre]:\n",
    "        for type in Xs[pre][loc]:\n",
    "            display(\n",
    "                \"\",\n",
    "                \"Xs \" + pre + \" \" + loc + \" \" + type, \n",
    "                Xs[pre][loc][type].index[0], \n",
    "                Xs[pre][loc][type].index[-1], \n",
    "                Xs[pre][loc][type].index.to_series().diff().value_counts()\n",
    "            )\n",
    "\n",
    "    for loc in ys[pre]:\n",
    "        for type in ys[pre][loc]:\n",
    "            display(\n",
    "                \"\",\n",
    "                \"ys \" + pre + \" \" + loc + \" \" + type, \n",
    "                ys[pre][loc][type].index[0], \n",
    "                ys[pre][loc][type].index[-1], \n",
    "                ys[pre][loc][type].index.to_series().diff().value_counts()\n",
    "            )"
   ]
  },
  {
   "cell_type": "markdown",
   "metadata": {},
   "source": [
    "## More data preprocessing"
   ]
  },
  {
   "cell_type": "markdown",
   "metadata": {},
   "source": [
    "One hot encoding of categorial values in X"
   ]
  },
  {
   "cell_type": "code",
   "execution_count": 24,
   "metadata": {},
   "outputs": [],
   "source": [
    "def one_hot_encoding(X):\n",
    "    return pd.get_dummies(X)"
   ]
  },
  {
   "cell_type": "markdown",
   "metadata": {},
   "source": [
    "Z-score normalizing of numeric values in X"
   ]
  },
  {
   "cell_type": "code",
   "execution_count": 25,
   "metadata": {},
   "outputs": [],
   "source": [
    "class StandardScaler:\n",
    "    def __init__(self, X):\n",
    "        self.means = X.mean(numeric_only=True)\n",
    "        self.stds = X.std(numeric_only=True)\n",
    "\n",
    "    def normalize(self, X):\n",
    "        indices = self.indices(X)\n",
    "        X_copy = X.copy()\n",
    "        X_copy[indices] = (X[indices] - self.means[indices]) / self.stds[indices]\n",
    "        return X_copy\n",
    "\n",
    "    def denormalize(self, X):\n",
    "        indices = self.indices(X)\n",
    "        X_copy = X.copy()\n",
    "        X_copy[indices] = X[indices] * self.stds[indices] + self.means[indices]\n",
    "        return X_copy\n",
    "\n",
    "    def indices(self, X):\n",
    "        return self.means.index.intersection(X.columns)"
   ]
  },
  {
   "cell_type": "markdown",
   "metadata": {},
   "source": [
    "Polynomial expansion of numeric values in X to degree n\n",
    "    \n",
    "Example:\n",
    "If [x y] = X then\n",
    "- degree 1: [1 x y]\n",
    "- degree 2: [1 x y xx xy yy]\n",
    "- degree 3: [1 x y xx xy yy xxx xxy xyy yyy]\n",
    "- ...\n",
    "\n",
    "Note: Since multiplication is commutitative then \n",
    "    xy = yx, xxy = xyx = yxx, xyy = yxy = yyx\n",
    "so we skip non-lexicographically sorted multiplications."
   ]
  },
  {
   "cell_type": "code",
   "execution_count": 26,
   "metadata": {},
   "outputs": [],
   "source": [
    "def is_sorted(lst):\n",
    "    return all(lst[i] <= lst[i+1] for i in range(len(lst) - 1))\n",
    "\n",
    "def polynomial_expansion(X, degree=2, with_constant_term=False):\n",
    "    cols = X.select_dtypes(include=[\"number\"]).columns\n",
    "    X_num = X.select_dtypes(include=[\"number\"]).to_numpy()\n",
    "    (m,n) = X_num.shape\n",
    "\n",
    "    xs = [X]\n",
    "    if(with_constant_term):\n",
    "        xs.append(pd.Series(np.ones(m), name='1'))\n",
    "\n",
    "    for d in range(2, degree+1):\n",
    "        for indices in filter(is_sorted, itertools.product(range(n), repeat=d)):\n",
    "            x = np.ones(m)\n",
    "            for j in indices:\n",
    "                x *= X_num[:,j]\n",
    "            xs.append(pd.Series(x, name=\"_x_\".join([cols[i] for i in indices])))\n",
    "\n",
    "    return pd.concat(xs, axis=1)"
   ]
  },
  {
   "cell_type": "markdown",
   "metadata": {},
   "source": [
    "Test functions"
   ]
  },
  {
   "cell_type": "code",
   "execution_count": 27,
   "metadata": {},
   "outputs": [
    {
     "name": "stdout",
     "output_type": "stream",
     "text": [
      "     A    B    C  D\n",
      "0  1.0  4.0  7.0  a\n",
      "1  2.0  5.0  8.0  b\n",
      "2  3.0  6.0  9.0  c\n",
      "     A    B    C  D\n",
      "0 -1.0 -1.0 -1.0  a\n",
      "1  0.0  0.0  0.0  b\n",
      "2  1.0  1.0  1.0  c\n",
      "   A  B  C    D_a    D_b    D_c\n",
      "0  1  4  7   True  False  False\n",
      "1  2  5  8  False   True  False\n",
      "2  3  6  9  False  False   True\n",
      "   A  B  C  D  A_x_A  A_x_B  A_x_C  B_x_B  B_x_C  C_x_C\n",
      "0  1  4  7  a    1.0    4.0    7.0   16.0   28.0   49.0\n",
      "1  2  5  8  b    4.0   10.0   16.0   25.0   40.0   64.0\n",
      "2  3  6  9  c    9.0   18.0   27.0   36.0   54.0   81.0\n"
     ]
    }
   ],
   "source": [
    "X = pd.DataFrame({\n",
    "    'A': [1, 2, 3],\n",
    "    'B': [4, 5, 6],\n",
    "    'C': [7, 8, 9],\n",
    "    'D': ['a', 'b', 'c'],\n",
    "})\n",
    "\n",
    "scaler = StandardScaler(X)\n",
    "X_norm = scaler.normalize(X)\n",
    "\n",
    "print(scaler.denormalize(X_norm))\n",
    "print(X_norm)\n",
    "print(one_hot_encoding(X))\n",
    "print(polynomial_expansion(X))"
   ]
  },
  {
   "cell_type": "markdown",
   "metadata": {},
   "source": [
    "Normalize Xs and ys to standard scalar with sklearn"
   ]
  },
  {
   "cell_type": "code",
   "execution_count": 28,
   "metadata": {
    "scrolled": true
   },
   "outputs": [
    {
     "data": {
      "text/plain": [
       "'Xs og A obs'"
      ]
     },
     "metadata": {},
     "output_type": "display_data"
    },
    {
     "data": {
      "text/plain": [
       "-0.008288124"
      ]
     },
     "metadata": {},
     "output_type": "display_data"
    },
    {
     "data": {
      "text/plain": [
       "0.83411705"
      ]
     },
     "metadata": {},
     "output_type": "display_data"
    },
    {
     "data": {
      "text/plain": [
       "'Xs og A est'"
      ]
     },
     "metadata": {},
     "output_type": "display_data"
    },
    {
     "data": {
      "text/plain": [
       "-0.028572252"
      ]
     },
     "metadata": {},
     "output_type": "display_data"
    },
    {
     "data": {
      "text/plain": [
       "0.8524391"
      ]
     },
     "metadata": {},
     "output_type": "display_data"
    },
    {
     "data": {
      "text/plain": [
       "'Xs og A test'"
      ]
     },
     "metadata": {},
     "output_type": "display_data"
    },
    {
     "data": {
      "text/plain": [
       "0.21519922"
      ]
     },
     "metadata": {},
     "output_type": "display_data"
    },
    {
     "data": {
      "text/plain": [
       "0.7450849"
      ]
     },
     "metadata": {},
     "output_type": "display_data"
    },
    {
     "data": {
      "text/plain": [
       "'Xs og A full'"
      ]
     },
     "metadata": {},
     "output_type": "display_data"
    },
    {
     "data": {
      "text/plain": [
       "-0.0062301755"
      ]
     },
     "metadata": {},
     "output_type": "display_data"
    },
    {
     "data": {
      "text/plain": [
       "0.87306595"
      ]
     },
     "metadata": {},
     "output_type": "display_data"
    },
    {
     "data": {
      "text/plain": [
       "'Xs og B obs'"
      ]
     },
     "metadata": {},
     "output_type": "display_data"
    },
    {
     "data": {
      "text/plain": [
       "-0.023923755"
      ]
     },
     "metadata": {},
     "output_type": "display_data"
    },
    {
     "data": {
      "text/plain": [
       "0.89870673"
      ]
     },
     "metadata": {},
     "output_type": "display_data"
    },
    {
     "data": {
      "text/plain": [
       "'Xs og B est'"
      ]
     },
     "metadata": {},
     "output_type": "display_data"
    },
    {
     "data": {
      "text/plain": [
       "-0.032447986"
      ]
     },
     "metadata": {},
     "output_type": "display_data"
    },
    {
     "data": {
      "text/plain": [
       "0.8235769"
      ]
     },
     "metadata": {},
     "output_type": "display_data"
    },
    {
     "data": {
      "text/plain": [
       "'Xs og B test'"
      ]
     },
     "metadata": {},
     "output_type": "display_data"
    },
    {
     "data": {
      "text/plain": [
       "0.2168467"
      ]
     },
     "metadata": {},
     "output_type": "display_data"
    },
    {
     "data": {
      "text/plain": [
       "0.7377114"
      ]
     },
     "metadata": {},
     "output_type": "display_data"
    },
    {
     "data": {
      "text/plain": [
       "'Xs og B full'"
      ]
     },
     "metadata": {},
     "output_type": "display_data"
    },
    {
     "data": {
      "text/plain": [
       "-0.019998977"
      ]
     },
     "metadata": {},
     "output_type": "display_data"
    },
    {
     "data": {
      "text/plain": [
       "0.922741"
      ]
     },
     "metadata": {},
     "output_type": "display_data"
    },
    {
     "data": {
      "text/plain": [
       "'Xs og C obs'"
      ]
     },
     "metadata": {},
     "output_type": "display_data"
    },
    {
     "data": {
      "text/plain": [
       "0.020069884"
      ]
     },
     "metadata": {},
     "output_type": "display_data"
    },
    {
     "data": {
      "text/plain": [
       "1.0144265"
      ]
     },
     "metadata": {},
     "output_type": "display_data"
    },
    {
     "data": {
      "text/plain": [
       "'Xs og C est'"
      ]
     },
     "metadata": {},
     "output_type": "display_data"
    },
    {
     "data": {
      "text/plain": [
       "0.058882184"
      ]
     },
     "metadata": {},
     "output_type": "display_data"
    },
    {
     "data": {
      "text/plain": [
       "1.0521233"
      ]
     },
     "metadata": {},
     "output_type": "display_data"
    },
    {
     "data": {
      "text/plain": [
       "'Xs og C test'"
      ]
     },
     "metadata": {},
     "output_type": "display_data"
    },
    {
     "data": {
      "text/plain": [
       "0.25088984"
      ]
     },
     "metadata": {},
     "output_type": "display_data"
    },
    {
     "data": {
      "text/plain": [
       "0.7858603"
      ]
     },
     "metadata": {},
     "output_type": "display_data"
    },
    {
     "data": {
      "text/plain": [
       "'Xs og C full'"
      ]
     },
     "metadata": {},
     "output_type": "display_data"
    },
    {
     "data": {
      "text/plain": [
       "0.031876385"
      ]
     },
     "metadata": {},
     "output_type": "display_data"
    },
    {
     "data": {
      "text/plain": [
       "1.0538588"
      ]
     },
     "metadata": {},
     "output_type": "display_data"
    },
    {
     "data": {
      "text/plain": [
       "'ys og A obs'"
      ]
     },
     "metadata": {},
     "output_type": "display_data"
    },
    {
     "data": {
      "text/plain": [
       "0.4315303247508085"
      ]
     },
     "metadata": {},
     "output_type": "display_data"
    },
    {
     "data": {
      "text/plain": [
       "1.4703201066221252"
      ]
     },
     "metadata": {},
     "output_type": "display_data"
    },
    {
     "data": {
      "text/plain": [
       "'ys og A est'"
      ]
     },
     "metadata": {},
     "output_type": "display_data"
    },
    {
     "data": {
      "text/plain": [
       "0.017331815777186167"
      ]
     },
     "metadata": {},
     "output_type": "display_data"
    },
    {
     "data": {
      "text/plain": [
       "1.0935706671388288"
      ]
     },
     "metadata": {},
     "output_type": "display_data"
    },
    {
     "data": {
      "text/plain": [
       "'ys og A full'"
      ]
     },
     "metadata": {},
     "output_type": "display_data"
    },
    {
     "data": {
      "text/plain": [
       "0.3777768655185005"
      ]
     },
     "metadata": {},
     "output_type": "display_data"
    },
    {
     "data": {
      "text/plain": [
       "1.4338133518259328"
      ]
     },
     "metadata": {},
     "output_type": "display_data"
    },
    {
     "data": {
      "text/plain": [
       "'ys og B obs'"
      ]
     },
     "metadata": {},
     "output_type": "display_data"
    },
    {
     "data": {
      "text/plain": [
       "-0.2557283493874295"
      ]
     },
     "metadata": {},
     "output_type": "display_data"
    },
    {
     "data": {
      "text/plain": [
       "0.2711471003910041"
      ]
     },
     "metadata": {},
     "output_type": "display_data"
    },
    {
     "data": {
      "text/plain": [
       "'ys og B est'"
      ]
     },
     "metadata": {},
     "output_type": "display_data"
    },
    {
     "data": {
      "text/plain": [
       "-0.33542088494999744"
      ]
     },
     "metadata": {},
     "output_type": "display_data"
    },
    {
     "data": {
      "text/plain": [
       "0.17154564716690635"
      ]
     },
     "metadata": {},
     "output_type": "display_data"
    },
    {
     "data": {
      "text/plain": [
       "'ys og B full'"
      ]
     },
     "metadata": {},
     "output_type": "display_data"
    },
    {
     "data": {
      "text/plain": [
       "-0.2666974383673065"
      ]
     },
     "metadata": {},
     "output_type": "display_data"
    },
    {
     "data": {
      "text/plain": [
       "0.26115932016770815"
      ]
     },
     "metadata": {},
     "output_type": "display_data"
    },
    {
     "data": {
      "text/plain": [
       "'ys og C obs'"
      ]
     },
     "metadata": {},
     "output_type": "display_data"
    },
    {
     "data": {
      "text/plain": [
       "-0.27044218440987694"
      ]
     },
     "metadata": {},
     "output_type": "display_data"
    },
    {
     "data": {
      "text/plain": [
       "0.22951312501399632"
      ]
     },
     "metadata": {},
     "output_type": "display_data"
    },
    {
     "data": {
      "text/plain": [
       "'ys og C est'"
      ]
     },
     "metadata": {},
     "output_type": "display_data"
    },
    {
     "data": {
      "text/plain": [
       "-0.3461873063788279"
      ]
     },
     "metadata": {},
     "output_type": "display_data"
    },
    {
     "data": {
      "text/plain": [
       "0.13286982770909597"
      ]
     },
     "metadata": {},
     "output_type": "display_data"
    },
    {
     "data": {
      "text/plain": [
       "'ys og C full'"
      ]
     },
     "metadata": {},
     "output_type": "display_data"
    },
    {
     "data": {
      "text/plain": [
       "-0.2806944532453777"
      ]
     },
     "metadata": {},
     "output_type": "display_data"
    },
    {
     "data": {
      "text/plain": [
       "0.22046861368787787"
      ]
     },
     "metadata": {},
     "output_type": "display_data"
    },
    {
     "data": {
      "text/plain": [
       "'Xs 15min A obs'"
      ]
     },
     "metadata": {},
     "output_type": "display_data"
    },
    {
     "data": {
      "text/plain": [
       "-0.009039283"
      ]
     },
     "metadata": {},
     "output_type": "display_data"
    },
    {
     "data": {
      "text/plain": [
       "0.85198087"
      ]
     },
     "metadata": {},
     "output_type": "display_data"
    },
    {
     "data": {
      "text/plain": [
       "'Xs 15min A est'"
      ]
     },
     "metadata": {},
     "output_type": "display_data"
    },
    {
     "data": {
      "text/plain": [
       "-0.028948965"
      ]
     },
     "metadata": {},
     "output_type": "display_data"
    },
    {
     "data": {
      "text/plain": [
       "0.87768257"
      ]
     },
     "metadata": {},
     "output_type": "display_data"
    },
    {
     "data": {
      "text/plain": [
       "'Xs 15min A test'"
      ]
     },
     "metadata": {},
     "output_type": "display_data"
    },
    {
     "data": {
      "text/plain": [
       "0.1761858"
      ]
     },
     "metadata": {},
     "output_type": "display_data"
    },
    {
     "data": {
      "text/plain": [
       "0.7152862"
      ]
     },
     "metadata": {},
     "output_type": "display_data"
    },
    {
     "data": {
      "text/plain": [
       "'Xs 15min A full'"
      ]
     },
     "metadata": {},
     "output_type": "display_data"
    },
    {
     "data": {
      "text/plain": [
       "0.00042915784"
      ]
     },
     "metadata": {},
     "output_type": "display_data"
    },
    {
     "data": {
      "text/plain": [
       "0.8901977"
      ]
     },
     "metadata": {},
     "output_type": "display_data"
    },
    {
     "data": {
      "text/plain": [
       "'Xs 15min B obs'"
      ]
     },
     "metadata": {},
     "output_type": "display_data"
    },
    {
     "data": {
      "text/plain": [
       "-0.03347733"
      ]
     },
     "metadata": {},
     "output_type": "display_data"
    },
    {
     "data": {
      "text/plain": [
       "0.8891248"
      ]
     },
     "metadata": {},
     "output_type": "display_data"
    },
    {
     "data": {
      "text/plain": [
       "'Xs 15min B est'"
      ]
     },
     "metadata": {},
     "output_type": "display_data"
    },
    {
     "data": {
      "text/plain": [
       "-0.02958888"
      ]
     },
     "metadata": {},
     "output_type": "display_data"
    },
    {
     "data": {
      "text/plain": [
       "0.8447472"
      ]
     },
     "metadata": {},
     "output_type": "display_data"
    },
    {
     "data": {
      "text/plain": [
       "'Xs 15min B test'"
      ]
     },
     "metadata": {},
     "output_type": "display_data"
    },
    {
     "data": {
      "text/plain": [
       "0.1775547"
      ]
     },
     "metadata": {},
     "output_type": "display_data"
    },
    {
     "data": {
      "text/plain": [
       "0.7092423"
      ]
     },
     "metadata": {},
     "output_type": "display_data"
    },
    {
     "data": {
      "text/plain": [
       "'Xs 15min B full'"
      ]
     },
     "metadata": {},
     "output_type": "display_data"
    },
    {
     "data": {
      "text/plain": [
       "-0.010973231"
      ]
     },
     "metadata": {},
     "output_type": "display_data"
    },
    {
     "data": {
      "text/plain": [
       "0.9097995"
      ]
     },
     "metadata": {},
     "output_type": "display_data"
    },
    {
     "data": {
      "text/plain": [
       "'Xs 15min C obs'"
      ]
     },
     "metadata": {},
     "output_type": "display_data"
    },
    {
     "data": {
      "text/plain": [
       "0.015041741"
      ]
     },
     "metadata": {},
     "output_type": "display_data"
    },
    {
     "data": {
      "text/plain": [
       "0.9882246"
      ]
     },
     "metadata": {},
     "output_type": "display_data"
    },
    {
     "data": {
      "text/plain": [
       "'Xs 15min C est'"
      ]
     },
     "metadata": {},
     "output_type": "display_data"
    },
    {
     "data": {
      "text/plain": [
       "0.061920807"
      ]
     },
     "metadata": {},
     "output_type": "display_data"
    },
    {
     "data": {
      "text/plain": [
       "1.0767468"
      ]
     },
     "metadata": {},
     "output_type": "display_data"
    },
    {
     "data": {
      "text/plain": [
       "'Xs 15min C test'"
      ]
     },
     "metadata": {},
     "output_type": "display_data"
    },
    {
     "data": {
      "text/plain": [
       "0.22014576"
      ]
     },
     "metadata": {},
     "output_type": "display_data"
    },
    {
     "data": {
      "text/plain": [
       "0.782179"
      ]
     },
     "metadata": {},
     "output_type": "display_data"
    },
    {
     "data": {
      "text/plain": [
       "'Xs 15min C full'"
      ]
     },
     "metadata": {},
     "output_type": "display_data"
    },
    {
     "data": {
      "text/plain": [
       "0.05113249"
      ]
     },
     "metadata": {},
     "output_type": "display_data"
    },
    {
     "data": {
      "text/plain": [
       "0.9916011"
      ]
     },
     "metadata": {},
     "output_type": "display_data"
    },
    {
     "data": {
      "text/plain": [
       "'ys 15min A obs'"
      ]
     },
     "metadata": {},
     "output_type": "display_data"
    },
    {
     "data": {
      "text/plain": [
       "0.5208422298676814"
      ]
     },
     "metadata": {},
     "output_type": "display_data"
    },
    {
     "data": {
      "text/plain": [
       "1.5735980069135351"
      ]
     },
     "metadata": {},
     "output_type": "display_data"
    },
    {
     "data": {
      "text/plain": [
       "'ys 15min A est'"
      ]
     },
     "metadata": {},
     "output_type": "display_data"
    },
    {
     "data": {
      "text/plain": [
       "0.07294256514616816"
      ]
     },
     "metadata": {},
     "output_type": "display_data"
    },
    {
     "data": {
      "text/plain": [
       "1.17291992308684"
      ]
     },
     "metadata": {},
     "output_type": "display_data"
    },
    {
     "data": {
      "text/plain": [
       "'ys 15min A full'"
      ]
     },
     "metadata": {},
     "output_type": "display_data"
    },
    {
     "data": {
      "text/plain": [
       "0.4595207024074875"
      ]
     },
     "metadata": {},
     "output_type": "display_data"
    },
    {
     "data": {
      "text/plain": [
       "1.5318507415134577"
      ]
     },
     "metadata": {},
     "output_type": "display_data"
    },
    {
     "data": {
      "text/plain": [
       "'ys 15min B obs'"
      ]
     },
     "metadata": {},
     "output_type": "display_data"
    },
    {
     "data": {
      "text/plain": [
       "-0.23027729350356083"
      ]
     },
     "metadata": {},
     "output_type": "display_data"
    },
    {
     "data": {
      "text/plain": [
       "0.2826040634880328"
      ]
     },
     "metadata": {},
     "output_type": "display_data"
    },
    {
     "data": {
      "text/plain": [
       "'ys 15min B est'"
      ]
     },
     "metadata": {},
     "output_type": "display_data"
    },
    {
     "data": {
      "text/plain": [
       "-0.320228422458125"
      ]
     },
     "metadata": {},
     "output_type": "display_data"
    },
    {
     "data": {
      "text/plain": [
       "0.16999974086222544"
      ]
     },
     "metadata": {},
     "output_type": "display_data"
    },
    {
     "data": {
      "text/plain": [
       "'ys 15min B full'"
      ]
     },
     "metadata": {},
     "output_type": "display_data"
    },
    {
     "data": {
      "text/plain": [
       "-0.2312012066857395"
      ]
     },
     "metadata": {},
     "output_type": "display_data"
    },
    {
     "data": {
      "text/plain": [
       "0.2803591102092069"
      ]
     },
     "metadata": {},
     "output_type": "display_data"
    },
    {
     "data": {
      "text/plain": [
       "'ys 15min C obs'"
      ]
     },
     "metadata": {},
     "output_type": "display_data"
    },
    {
     "data": {
      "text/plain": [
       "-0.26409109801349323"
      ]
     },
     "metadata": {},
     "output_type": "display_data"
    },
    {
     "data": {
      "text/plain": [
       "0.2261892045520974"
      ]
     },
     "metadata": {},
     "output_type": "display_data"
    },
    {
     "data": {
      "text/plain": [
       "'ys 15min C est'"
      ]
     },
     "metadata": {},
     "output_type": "display_data"
    },
    {
     "data": {
      "text/plain": [
       "-0.3340629190185563"
      ]
     },
     "metadata": {},
     "output_type": "display_data"
    },
    {
     "data": {
      "text/plain": [
       "0.119197744999724"
      ]
     },
     "metadata": {},
     "output_type": "display_data"
    },
    {
     "data": {
      "text/plain": [
       "'ys 15min C full'"
      ]
     },
     "metadata": {},
     "output_type": "display_data"
    },
    {
     "data": {
      "text/plain": [
       "-0.2603793005263443"
      ]
     },
     "metadata": {},
     "output_type": "display_data"
    },
    {
     "data": {
      "text/plain": [
       "0.22912635045943655"
      ]
     },
     "metadata": {},
     "output_type": "display_data"
    },
    {
     "data": {
      "text/plain": [
       "'Xs 1hour A obs'"
      ]
     },
     "metadata": {},
     "output_type": "display_data"
    },
    {
     "data": {
      "text/plain": [
       "-0.009032092"
      ]
     },
     "metadata": {},
     "output_type": "display_data"
    },
    {
     "data": {
      "text/plain": [
       "0.8534427"
      ]
     },
     "metadata": {},
     "output_type": "display_data"
    },
    {
     "data": {
      "text/plain": [
       "'Xs 1hour A est'"
      ]
     },
     "metadata": {},
     "output_type": "display_data"
    },
    {
     "data": {
      "text/plain": [
       "-0.029295985"
      ]
     },
     "metadata": {},
     "output_type": "display_data"
    },
    {
     "data": {
      "text/plain": [
       "0.87656903"
      ]
     },
     "metadata": {},
     "output_type": "display_data"
    },
    {
     "data": {
      "text/plain": [
       "'Xs 1hour A test'"
      ]
     },
     "metadata": {},
     "output_type": "display_data"
    },
    {
     "data": {
      "text/plain": [
       "0.18366908"
      ]
     },
     "metadata": {},
     "output_type": "display_data"
    },
    {
     "data": {
      "text/plain": [
       "0.7123817"
      ]
     },
     "metadata": {},
     "output_type": "display_data"
    },
    {
     "data": {
      "text/plain": [
       "'Xs 1hour A full'"
      ]
     },
     "metadata": {},
     "output_type": "display_data"
    },
    {
     "data": {
      "text/plain": [
       "0.00047464916"
      ]
     },
     "metadata": {},
     "output_type": "display_data"
    },
    {
     "data": {
      "text/plain": [
       "0.89097214"
      ]
     },
     "metadata": {},
     "output_type": "display_data"
    },
    {
     "data": {
      "text/plain": [
       "'Xs 1hour B obs'"
      ]
     },
     "metadata": {},
     "output_type": "display_data"
    },
    {
     "data": {
      "text/plain": [
       "-0.03365225"
      ]
     },
     "metadata": {},
     "output_type": "display_data"
    },
    {
     "data": {
      "text/plain": [
       "0.8914899"
      ]
     },
     "metadata": {},
     "output_type": "display_data"
    },
    {
     "data": {
      "text/plain": [
       "'Xs 1hour B est'"
      ]
     },
     "metadata": {},
     "output_type": "display_data"
    },
    {
     "data": {
      "text/plain": [
       "-0.030085325"
      ]
     },
     "metadata": {},
     "output_type": "display_data"
    },
    {
     "data": {
      "text/plain": [
       "0.8438984"
      ]
     },
     "metadata": {},
     "output_type": "display_data"
    },
    {
     "data": {
      "text/plain": [
       "'Xs 1hour B test'"
      ]
     },
     "metadata": {},
     "output_type": "display_data"
    },
    {
     "data": {
      "text/plain": [
       "0.18497612"
      ]
     },
     "metadata": {},
     "output_type": "display_data"
    },
    {
     "data": {
      "text/plain": [
       "0.7092652"
      ]
     },
     "metadata": {},
     "output_type": "display_data"
    },
    {
     "data": {
      "text/plain": [
       "'Xs 1hour B full'"
      ]
     },
     "metadata": {},
     "output_type": "display_data"
    },
    {
     "data": {
      "text/plain": [
       "-0.011056645"
      ]
     },
     "metadata": {},
     "output_type": "display_data"
    },
    {
     "data": {
      "text/plain": [
       "0.91161186"
      ]
     },
     "metadata": {},
     "output_type": "display_data"
    },
    {
     "data": {
      "text/plain": [
       "'Xs 1hour C obs'"
      ]
     },
     "metadata": {},
     "output_type": "display_data"
    },
    {
     "data": {
      "text/plain": [
       "0.0140522905"
      ]
     },
     "metadata": {},
     "output_type": "display_data"
    },
    {
     "data": {
      "text/plain": [
       "0.9866449"
      ]
     },
     "metadata": {},
     "output_type": "display_data"
    },
    {
     "data": {
      "text/plain": [
       "'Xs 1hour C est'"
      ]
     },
     "metadata": {},
     "output_type": "display_data"
    },
    {
     "data": {
      "text/plain": [
       "0.062221117"
      ]
     },
     "metadata": {},
     "output_type": "display_data"
    },
    {
     "data": {
      "text/plain": [
       "1.0795586"
      ]
     },
     "metadata": {},
     "output_type": "display_data"
    },
    {
     "data": {
      "text/plain": [
       "'Xs 1hour C test'"
      ]
     },
     "metadata": {},
     "output_type": "display_data"
    },
    {
     "data": {
      "text/plain": [
       "0.22501369"
      ]
     },
     "metadata": {},
     "output_type": "display_data"
    },
    {
     "data": {
      "text/plain": [
       "0.7716052"
      ]
     },
     "metadata": {},
     "output_type": "display_data"
    },
    {
     "data": {
      "text/plain": [
       "'Xs 1hour C full'"
      ]
     },
     "metadata": {},
     "output_type": "display_data"
    },
    {
     "data": {
      "text/plain": [
       "0.05052713"
      ]
     },
     "metadata": {},
     "output_type": "display_data"
    },
    {
     "data": {
      "text/plain": [
       "0.9912007"
      ]
     },
     "metadata": {},
     "output_type": "display_data"
    },
    {
     "data": {
      "text/plain": [
       "'ys 1hour A obs'"
      ]
     },
     "metadata": {},
     "output_type": "display_data"
    },
    {
     "data": {
      "text/plain": [
       "0.5152136925558286"
      ]
     },
     "metadata": {},
     "output_type": "display_data"
    },
    {
     "data": {
      "text/plain": [
       "1.5764917400968237"
      ]
     },
     "metadata": {},
     "output_type": "display_data"
    },
    {
     "data": {
      "text/plain": [
       "'ys 1hour A est'"
      ]
     },
     "metadata": {},
     "output_type": "display_data"
    },
    {
     "data": {
      "text/plain": [
       "0.07216441593958321"
      ]
     },
     "metadata": {},
     "output_type": "display_data"
    },
    {
     "data": {
      "text/plain": [
       "1.173121405968174"
      ]
     },
     "metadata": {},
     "output_type": "display_data"
    },
    {
     "data": {
      "text/plain": [
       "'ys 1hour A full'"
      ]
     },
     "metadata": {},
     "output_type": "display_data"
    },
    {
     "data": {
      "text/plain": [
       "0.45457562366330495"
      ]
     },
     "metadata": {},
     "output_type": "display_data"
    },
    {
     "data": {
      "text/plain": [
       "1.5343067036193938"
      ]
     },
     "metadata": {},
     "output_type": "display_data"
    },
    {
     "data": {
      "text/plain": [
       "'ys 1hour B obs'"
      ]
     },
     "metadata": {},
     "output_type": "display_data"
    },
    {
     "data": {
      "text/plain": [
       "-0.22779077742445727"
      ]
     },
     "metadata": {},
     "output_type": "display_data"
    },
    {
     "data": {
      "text/plain": [
       "0.2822966091900894"
      ]
     },
     "metadata": {},
     "output_type": "display_data"
    },
    {
     "data": {
      "text/plain": [
       "'ys 1hour B est'"
      ]
     },
     "metadata": {},
     "output_type": "display_data"
    },
    {
     "data": {
      "text/plain": [
       "-0.31676857772852596"
      ]
     },
     "metadata": {},
     "output_type": "display_data"
    },
    {
     "data": {
      "text/plain": [
       "0.16980794947812436"
      ]
     },
     "metadata": {},
     "output_type": "display_data"
    },
    {
     "data": {
      "text/plain": [
       "'ys 1hour B full'"
      ]
     },
     "metadata": {},
     "output_type": "display_data"
    },
    {
     "data": {
      "text/plain": [
       "-0.2287009871891661"
      ]
     },
     "metadata": {},
     "output_type": "display_data"
    },
    {
     "data": {
      "text/plain": [
       "0.2800468615060174"
      ]
     },
     "metadata": {},
     "output_type": "display_data"
    },
    {
     "data": {
      "text/plain": [
       "'ys 1hour C obs'"
      ]
     },
     "metadata": {},
     "output_type": "display_data"
    },
    {
     "data": {
      "text/plain": [
       "-0.2612370678812417"
      ]
     },
     "metadata": {},
     "output_type": "display_data"
    },
    {
     "data": {
      "text/plain": [
       "0.2260222361463965"
      ]
     },
     "metadata": {},
     "output_type": "display_data"
    },
    {
     "data": {
      "text/plain": [
       "'ys 1hour C est'"
      ]
     },
     "metadata": {},
     "output_type": "display_data"
    },
    {
     "data": {
      "text/plain": [
       "-0.33045395211468254"
      ]
     },
     "metadata": {},
     "output_type": "display_data"
    },
    {
     "data": {
      "text/plain": [
       "0.11890062254689324"
      ]
     },
     "metadata": {},
     "output_type": "display_data"
    },
    {
     "data": {
      "text/plain": [
       "'ys 1hour C full'"
      ]
     },
     "metadata": {},
     "output_type": "display_data"
    },
    {
     "data": {
      "text/plain": [
       "-0.25756245200862443"
      ]
     },
     "metadata": {},
     "output_type": "display_data"
    },
    {
     "data": {
      "text/plain": [
       "0.22893375158877705"
      ]
     },
     "metadata": {},
     "output_type": "display_data"
    }
   ],
   "source": [
    "from sklearn.preprocessing import StandardScaler\n",
    "\n",
    "pers = [\"og\", \"15min\", \"1hour\"]\n",
    "\n",
    "scaler_Xs = {}\n",
    "scaler_ys = {}\n",
    "\n",
    "for per in pers:\n",
    "    per_norm = per + \" norm\"\n",
    "    \n",
    "    Xs[per_norm] = {}\n",
    "    scaler_Xs[per_norm] = StandardScaler().fit(pd.concat(nested_values(Xs[per], exclude_keys={\"full\", \"BC\"})).to_numpy())\n",
    "    for loc in Xs[per]:\n",
    "        Xs[per_norm][loc] = {}\n",
    "        for type in Xs[per][loc]:\n",
    "            Xs[per_norm][loc][type] = pd.DataFrame(\n",
    "                scaler_Xs[per_norm].transform(Xs[per][loc][type].to_numpy()), \n",
    "                columns = Xs[per][loc][type].columns, \n",
    "                index = Xs[per][loc][type].index,\n",
    "            )\n",
    "            display(\"Xs \" + per + \" \" + loc + \" \" + type, Xs[per_norm][loc][type].mean().mean(), Xs[per_norm][loc][type].std().mean())\n",
    "\n",
    "    ys[per_norm] = {}\n",
    "    scaler_ys[per_norm] = StandardScaler().fit(pd.concat(nested_values(ys[per], exclude_keys={\"full\", \"BC\"})).to_numpy().reshape(-1, 1))\n",
    "    for loc in ys[per]:\n",
    "        ys[per_norm][loc] = {}\n",
    "        for type in ys[per][loc]:\n",
    "            ys[per_norm][loc][type] = pd.Series(\n",
    "                scaler_ys[per_norm].transform(ys[per][loc][type].to_numpy().reshape(-1, 1)).flatten(), \n",
    "                name = ys[per][loc][type].name, \n",
    "                index = ys[per][loc][type].index,\n",
    "            )\n",
    "            display(\"ys \" + per + \" \" + loc + \" \" + type, ys[per_norm][loc][type].mean().mean(), ys[per_norm][loc][type].std().mean())"
   ]
  },
  {
   "cell_type": "markdown",
   "metadata": {},
   "source": [
    "Do PCA of Xs with sklearn"
   ]
  },
  {
   "cell_type": "code",
   "execution_count": 29,
   "metadata": {},
   "outputs": [
    {
     "data": {
      "text/plain": [
       "'15min: 32'"
      ]
     },
     "metadata": {},
     "output_type": "display_data"
    },
    {
     "data": {
      "text/plain": [
       "'1hour: 32'"
      ]
     },
     "metadata": {},
     "output_type": "display_data"
    }
   ],
   "source": [
    "from sklearn.decomposition import PCA\n",
    "\n",
    "variance_threshold = 0.99\n",
    "pca_Xs = {}\n",
    "\n",
    "for per in [\"15min\", \"1hour\"]:\n",
    "    per_pca = per + \" pca\"\n",
    "    per_norm = per + \" norm\"\n",
    "    \n",
    "    Xs[per_pca] = {}\n",
    "    pca_Xs[per_pca] = PCA().fit(pd.concat(nested_values(Xs[per_norm], exclude_keys={\"full\", \"BC\"})).to_numpy())\n",
    "\n",
    "    explained_variance = pca_Xs[per_pca].explained_variance_ratio_\n",
    "    cumulative_variance = explained_variance.cumsum()\n",
    "    n_components = (cumulative_variance < variance_threshold).sum() + 1\n",
    "    display(per + \": \" + str(n_components))\n",
    "    \n",
    "    if display_plots:\n",
    "        plt.plot(cumulative_variance, color=\"black\")\n",
    "        plt.title(per)\n",
    "        plt.xlabel(\"Number of Components\")\n",
    "        plt.ylabel(\"Cumulative Explained Variance\")\n",
    "        plt.axhline(0.99, linestyle='--', label='99% variance', color=(0.5, 0.0, 0.0))\n",
    "        plt.axhline(0.95, linestyle='--', label='95% variance', color=(0.0, 0.5, 0.0))\n",
    "        plt.axhline(0.90, linestyle='--', label='90% variance', color=(0.0, 0.0, 0.5))\n",
    "        plt.legend()\n",
    "        plt.show()\n",
    "    \n",
    "    for loc in Xs[per]:\n",
    "        Xs[per_pca][loc] = {}\n",
    "        for type in Xs[per][loc]:\n",
    "            Xs[per_pca][loc][type] = pd.DataFrame(\n",
    "                pca_Xs[per_pca].transform(Xs[per_norm][loc][type].to_numpy())[:,:n_components], \n",
    "                columns = [f'PC{i}' for i in range(n_components)], \n",
    "                index = Xs[per][loc][type].index,\n",
    "            )"
   ]
  },
  {
   "cell_type": "markdown",
   "metadata": {},
   "source": [
    "Plot histogram of the data"
   ]
  },
  {
   "cell_type": "code",
   "execution_count": 30,
   "metadata": {
    "colab": {
     "base_uri": "https://localhost:8080/",
     "height": 1000
    },
    "id": "rEJl9ajZdHeD",
    "outputId": "20ed5c60-7a8c-4ecc-d3db-80319ee395ea"
   },
   "outputs": [],
   "source": [
    "if display_plots:\n",
    "    for per in [\"15min pca\", \"1hour pca\"]:\n",
    "        pd.concat(nested_values(Xs[per], exclude_keys={\"full\", \"BC\"})).hist(figsize=(20,20))\n",
    "        plt.show()"
   ]
  },
  {
   "cell_type": "markdown",
   "metadata": {},
   "source": [
    "Plot correlation matrix of the data"
   ]
  },
  {
   "cell_type": "code",
   "execution_count": 31,
   "metadata": {
    "colab": {
     "base_uri": "https://localhost:8080/",
     "height": 1000
    },
    "id": "e1KPhOeVaFI8",
    "outputId": "f2381b56-f56b-47d1-9e5c-8dee2a0216f5"
   },
   "outputs": [],
   "source": [
    "if display_plots:\n",
    "    for per in [\"15min pca\", \"1hour pca\"]:\n",
    "        plt.matshow(pd.concat(nested_values(Xs[per], exclude_keys={\"full\", \"BC\"})).corr(), cmap=\"coolwarm\", vmin=-1, vmax=1)\n",
    "        plt.show()"
   ]
  },
  {
   "cell_type": "markdown",
   "metadata": {},
   "source": [
    "## TSfresh timeseries feature extraction"
   ]
  },
  {
   "cell_type": "code",
   "execution_count": 32,
   "metadata": {},
   "outputs": [],
   "source": [
    "from tsfresh import extract_features, select_features\n",
    "from tsfresh.utilities.dataframe_functions import impute\n",
    "\n",
    "def tsfresh_format_og(Xs, pre, full):\n",
    "    Xys_loc_train = []\n",
    "    Xs_loc_test = []\n",
    "\n",
    "    y_name = \"pv_measurement\"\n",
    "    loc_name = \"location\"\n",
    "    time_name = \"time\"\n",
    "    \n",
    "    for loc in [\"A\", \"B\", \"C\"]:\n",
    "        if full:\n",
    "            X_loc_full = time_interpolate(Xs[pre][loc][\"full\"])\n",
    "            y_loc_train = ys[pre][loc][\"full\"].copy()\n",
    "            X_loc_train = X_loc_full[X_loc_full.index <= y_loc_train.index[-1]].copy()\n",
    "            X_loc_test = X_loc_full[X_loc_full.index > y_loc_train.index[-1]].copy()\n",
    "        else:\n",
    "            X_loc_train = time_interpolate(pd.concat([Xs[pre][loc][\"obs\"], Xs[pre][loc][\"est\"]]))\n",
    "            y_loc_train = pd.concat([ys[pre][loc][\"obs\"], ys[pre][loc][\"est\"]])\n",
    "            X_loc_test = time_interpolate(Xs[pre][loc][\"test\"].copy())\n",
    "        \n",
    "        Xy_loc_train = X_loc_train.join(y_loc_train, how='outer')\n",
    "        Xy_loc_train = Xy_loc_train.reset_index().rename(columns={'index': time_name})\n",
    "        Xy_loc_train[loc_name] = loc\n",
    "        \n",
    "        X_loc_test = X_loc_test.reset_index().rename(columns={'index': time_name})\n",
    "        X_loc_test[loc_name] = loc\n",
    "\n",
    "        Xys_loc_train.append(Xy_loc_train)\n",
    "        Xs_loc_test.append(X_loc_test)\n",
    "\n",
    "    Xy_train = pd.concat(Xys_loc_train).dropna(subset=[y_name])\n",
    "    X_test = pd.concat(Xs_loc_test)\n",
    "\n",
    "    X = pd.concat([Xy_train.drop(columns=[y_name]), X_test]).reset_index(drop=True).reset_index().rename(columns={'index': \"id\"})\n",
    "    y = Xy_train[y_name].reset_index(drop=True)\n",
    "    l = X[loc_name]\n",
    "        \n",
    "    return X.drop(columns=[loc_name]), y, l\n",
    "\n",
    "do_tsfresh = False\n",
    "if do_tsfresh:\n",
    "    X, y, l = tsfresh_format_og(Xs, \"og\", full=False)\n",
    "    \n",
    "    display(X)\n",
    "    display(y)\n",
    "    display(l)\n",
    "    \n",
    "    extracted_features = extract_features(X, column_id=\"id\", column_sort=\"time\")\n",
    "    \n",
    "    impute(extracted_features)\n",
    "    features_filtered = select_features(extracted_features.head(len(y)), y)\n",
    "    \n",
    "    X_tsfresh = extracted_features[features_filtered.columns]\n",
    "    X_tsfresh[\"location\"] = l\n",
    "    \n",
    "    Xs[\"og tsfresh\"] = X_tsfresh\n",
    "    ys[\"og tsfresh\"] = y"
   ]
  },
  {
   "cell_type": "markdown",
   "metadata": {},
   "source": [
    "## Darts setup"
   ]
  },
  {
   "cell_type": "markdown",
   "metadata": {},
   "source": [
    "Convert to darts timeseries"
   ]
  },
  {
   "cell_type": "code",
   "execution_count": 33,
   "metadata": {},
   "outputs": [],
   "source": [
    "from darts import TimeSeries\n",
    "\n",
    "display_plots = True\n",
    "\n",
    "loc_dummies = {\n",
    "    \"A\": pd.DataFrame({'location_A': [1], 'location_B': [0], 'location_C': [0]}),\n",
    "    \"B\": pd.DataFrame({'location_A': [0], 'location_B': [1], 'location_C': [0]}),\n",
    "    \"C\": pd.DataFrame({'location_A': [0], 'location_B': [0], 'location_C': [1]}),\n",
    "}\n",
    "\n",
    "covs = {}\n",
    "for pre in [\"15min\", \"1hour\", \"15min norm\", \"1hour norm\", \"15min pca\", \"1hour pca\"]:\n",
    "    covs[pre] = {loc: {type: TimeSeries.from_dataframe(Xs[pre][loc][type], static_covariates=loc_dummies[loc]) for type in Xs[pre][loc] } for loc in Xs[pre]}\n",
    "\n",
    "tars = {}\n",
    "for pre in [\"15min\", \"1hour\", \"15min norm\", \"1hour norm\"]:\n",
    "    tars[pre] = {loc: {type: TimeSeries.from_series(ys[pre][loc][type], static_covariates=loc_dummies[loc]) for type in ys[pre][loc] } for loc in ys[pre]}\n",
    "\n",
    "locs = [\"A\", \"B\", \"C\"]\n",
    "\n",
    "assert are_all_equal([ys[\"15min\"][loc][type].index[-1] for loc in locs for type in [\"est\", \"full\"]])\n",
    "assert are_all_equal([ys[\"1hour\"][loc][type].index[-1] for loc in locs for type in [\"est\", \"full\"]])\n",
    "\n",
    "n_15min = len(pd.date_range(start=ys[\"15min\"][\"A\"][\"est\"].index[-1], end=extract_dates[-1], freq='15T'))\n",
    "n_1hour = len(pd.date_range(start=ys[\"1hour\"][\"A\"][\"est\"].index[-1], end=extract_dates[-1], freq='H'))"
   ]
  },
  {
   "cell_type": "markdown",
   "metadata": {},
   "source": [
    "Darts filter"
   ]
  },
  {
   "cell_type": "code",
   "execution_count": 34,
   "metadata": {},
   "outputs": [],
   "source": [
    "from darts.models import GaussianProcessFilter\n",
    "from sklearn.gaussian_process.kernels import ExpSineSquared\n",
    "\n",
    "do_gaussian_filter = False\n",
    "if do_gaussian_filter:\n",
    "    gaussian_filter = GaussianProcessFilter(kernel=ExpSineSquared())\n",
    "    \n",
    "    tars[\"1hour gaussian\"] = {loc: gaussian_filter.filter(TimeSeries.from_series(regular_index(ys[\"og\"][loc][\"full\"], \"H\"))) for loc in ys[\"og\"]}\n",
    "    \n",
    "    if display_plots:\n",
    "        for loc in tars[\"1hour gaussian\"]:\n",
    "            tars[\"1hour gaussian\"][loc][\"full\"].plot()\n",
    "            plt.show()"
   ]
  },
  {
   "cell_type": "markdown",
   "metadata": {},
   "source": [
    "Save predictions to csv file"
   ]
  },
  {
   "cell_type": "code",
   "execution_count": 35,
   "metadata": {},
   "outputs": [],
   "source": [
    "def extract_and_save(ys, file_name, tars_per, path=\"predictions\", extract_dates=extract_dates, scaler_ys=scaler_ys):\n",
    "    y = pd.concat([ys[loc].pd_series()[extract_dates[extract_dates.minute == 0]] for loc in ys])\n",
    "\n",
    "    if tars_per in scaler_ys:\n",
    "        y = pd.Series(\n",
    "            scaler_ys[tars_per].inverse_transform(y.to_numpy().reshape(-1, 1)).flatten(),\n",
    "            name = y.name, \n",
    "            index = y.index,\n",
    "        )\n",
    "    \n",
    "    y[y < 0] = 0\n",
    "    y.name = \"prediction\"\n",
    "    y = y.reset_index(drop=True).reset_index().rename(columns={'index': 'id'})\n",
    "    y.to_csv(os.path.join(path, file_name), index=False)\n",
    "    \n",
    "    return y"
   ]
  },
  {
   "cell_type": "code",
   "execution_count": 36,
   "metadata": {},
   "outputs": [
    {
     "data": {
      "text/plain": [
       "10"
      ]
     },
     "metadata": {},
     "output_type": "display_data"
    }
   ],
   "source": [
    "def fjkld():\n",
    "    return 10, 5\n",
    "\n",
    "x = fjkld()[0]\n",
    "display(x)"
   ]
  },
  {
   "cell_type": "markdown",
   "metadata": {},
   "source": [
    "## CatBoost"
   ]
  },
  {
   "cell_type": "markdown",
   "metadata": {},
   "source": [
    "Train and make predicitons"
   ]
  },
  {
   "cell_type": "code",
   "execution_count": 37,
   "metadata": {},
   "outputs": [
    {
     "ename": "CatBoostError",
     "evalue": "Bad value for num_feature[non_default_doc_idx=0,feature_idx=2280]=\"A\": Cannot convert 'b'A'' to float",
     "output_type": "error",
     "traceback": [
      "\u001b[0;31m---------------------------------------------------------------------------\u001b[0m",
      "\u001b[0;31mTypeError\u001b[0m                                 Traceback (most recent call last)",
      "File \u001b[0;32m_catboost.pyx:2309\u001b[0m, in \u001b[0;36m_catboost.get_float_feature\u001b[0;34m()\u001b[0m\n",
      "File \u001b[0;32m_catboost.pyx:1142\u001b[0m, in \u001b[0;36m_catboost._FloatOrNan\u001b[0;34m()\u001b[0m\n",
      "File \u001b[0;32m_catboost.pyx:952\u001b[0m, in \u001b[0;36m_catboost._FloatOrNanFromString\u001b[0;34m()\u001b[0m\n",
      "\u001b[0;31mTypeError\u001b[0m: Cannot convert 'b'A'' to float",
      "\nDuring handling of the above exception, another exception occurred:\n",
      "\u001b[0;31mCatBoostError\u001b[0m                             Traceback (most recent call last)",
      "Cell \u001b[0;32mIn[37], line 12\u001b[0m\n\u001b[1;32m     10\u001b[0m \u001b[38;5;28;01mif\u001b[39;00m do_cat:\n\u001b[1;32m     11\u001b[0m     cat \u001b[38;5;241m=\u001b[39m CatBoostModel(lags\u001b[38;5;241m=\u001b[39m\u001b[38;5;241m5\u001b[39m\u001b[38;5;241m*\u001b[39m\u001b[38;5;241m24\u001b[39m, lags_future_covariates\u001b[38;5;241m=\u001b[39m(\u001b[38;5;241m24\u001b[39m,\u001b[38;5;241m24\u001b[39m))\n\u001b[0;32m---> 12\u001b[0m     \u001b[43mcat\u001b[49m\u001b[38;5;241;43m.\u001b[39;49m\u001b[43mfit\u001b[49m\u001b[43m(\u001b[49m\u001b[43m[\u001b[49m\u001b[43mtars\u001b[49m\u001b[43m[\u001b[49m\u001b[43mtars_per\u001b[49m\u001b[43m]\u001b[49m\u001b[43m[\u001b[49m\u001b[43mloc\u001b[49m\u001b[43m]\u001b[49m\u001b[43m[\u001b[49m\u001b[38;5;28;43mtype\u001b[39;49m\u001b[43m]\u001b[49m\u001b[43m \u001b[49m\u001b[38;5;28;43;01mfor\u001b[39;49;00m\u001b[43m \u001b[49m\u001b[43mloc\u001b[49m\u001b[43m \u001b[49m\u001b[38;5;129;43;01min\u001b[39;49;00m\u001b[43m \u001b[49m\u001b[43mlocs\u001b[49m\u001b[43m]\u001b[49m\u001b[43m,\u001b[49m\u001b[43m \u001b[49m\u001b[43mfuture_covariates\u001b[49m\u001b[38;5;241;43m=\u001b[39;49m\u001b[43m[\u001b[49m\u001b[43mcovs\u001b[49m\u001b[43m[\u001b[49m\u001b[43mcovs_per\u001b[49m\u001b[43m]\u001b[49m\u001b[43m[\u001b[49m\u001b[43mloc\u001b[49m\u001b[43m]\u001b[49m\u001b[43m[\u001b[49m\u001b[38;5;28;43mtype\u001b[39;49m\u001b[43m]\u001b[49m\u001b[43m \u001b[49m\u001b[38;5;28;43;01mfor\u001b[39;49;00m\u001b[43m \u001b[49m\u001b[43mloc\u001b[49m\u001b[43m \u001b[49m\u001b[38;5;129;43;01min\u001b[39;49;00m\u001b[43m \u001b[49m\u001b[43mlocs\u001b[49m\u001b[43m]\u001b[49m\u001b[43m)\u001b[49m\n\u001b[1;32m     13\u001b[0m     \u001b[38;5;28;01mfor\u001b[39;00m loc \u001b[38;5;129;01min\u001b[39;00m locs:\n\u001b[1;32m     14\u001b[0m         ys_cat[loc] \u001b[38;5;241m=\u001b[39m cat\u001b[38;5;241m.\u001b[39mpredict(n_1hour, tars[tars_per][loc][\u001b[38;5;28mtype\u001b[39m], future_covariates\u001b[38;5;241m=\u001b[39mcovs[covs_per][loc][\u001b[38;5;28mtype\u001b[39m])\n",
      "File \u001b[0;32m~/.cache/pypoetry/virtualenvs/machine_learning_exam-dnZALQ3X-py3.11/lib/python3.11/site-packages/darts/models/forecasting/catboost_model.py:247\u001b[0m, in \u001b[0;36mCatBoostModel.fit\u001b[0;34m(self, series, past_covariates, future_covariates, val_series, val_past_covariates, val_future_covariates, max_samples_per_ts, verbose, **kwargs)\u001b[0m\n\u001b[1;32m    243\u001b[0m         \u001b[38;5;28mself\u001b[39m\u001b[38;5;241m.\u001b[39m_model_container[quantile] \u001b[38;5;241m=\u001b[39m \u001b[38;5;28mself\u001b[39m\u001b[38;5;241m.\u001b[39mmodel\n\u001b[1;32m    245\u001b[0m     \u001b[38;5;28;01mreturn\u001b[39;00m \u001b[38;5;28mself\u001b[39m\n\u001b[0;32m--> 247\u001b[0m \u001b[38;5;28;43msuper\u001b[39;49m\u001b[43m(\u001b[49m\u001b[43m)\u001b[49m\u001b[38;5;241;43m.\u001b[39;49m\u001b[43mfit\u001b[49m\u001b[43m(\u001b[49m\n\u001b[1;32m    248\u001b[0m \u001b[43m    \u001b[49m\u001b[43mseries\u001b[49m\u001b[38;5;241;43m=\u001b[39;49m\u001b[43mseries\u001b[49m\u001b[43m,\u001b[49m\n\u001b[1;32m    249\u001b[0m \u001b[43m    \u001b[49m\u001b[43mpast_covariates\u001b[49m\u001b[38;5;241;43m=\u001b[39;49m\u001b[43mpast_covariates\u001b[49m\u001b[43m,\u001b[49m\n\u001b[1;32m    250\u001b[0m \u001b[43m    \u001b[49m\u001b[43mfuture_covariates\u001b[49m\u001b[38;5;241;43m=\u001b[39;49m\u001b[43mfuture_covariates\u001b[49m\u001b[43m,\u001b[49m\n\u001b[1;32m    251\u001b[0m \u001b[43m    \u001b[49m\u001b[43mmax_samples_per_ts\u001b[49m\u001b[38;5;241;43m=\u001b[39;49m\u001b[43mmax_samples_per_ts\u001b[49m\u001b[43m,\u001b[49m\n\u001b[1;32m    252\u001b[0m \u001b[43m    \u001b[49m\u001b[43mverbose\u001b[49m\u001b[38;5;241;43m=\u001b[39;49m\u001b[43mverbose\u001b[49m\u001b[43m,\u001b[49m\n\u001b[1;32m    253\u001b[0m \u001b[43m    \u001b[49m\u001b[38;5;241;43m*\u001b[39;49m\u001b[38;5;241;43m*\u001b[39;49m\u001b[43mkwargs\u001b[49m\u001b[43m,\u001b[49m\n\u001b[1;32m    254\u001b[0m \u001b[43m\u001b[49m\u001b[43m)\u001b[49m\n\u001b[1;32m    256\u001b[0m \u001b[38;5;28;01mreturn\u001b[39;00m \u001b[38;5;28mself\u001b[39m\n",
      "File \u001b[0;32m~/.cache/pypoetry/virtualenvs/machine_learning_exam-dnZALQ3X-py3.11/lib/python3.11/site-packages/darts/models/forecasting/regression_model.py:722\u001b[0m, in \u001b[0;36mRegressionModel.fit\u001b[0;34m(self, series, past_covariates, future_covariates, max_samples_per_ts, n_jobs_multioutput_wrapper, **kwargs)\u001b[0m\n\u001b[1;32m    719\u001b[0m \u001b[38;5;28;01mif\u001b[39;00m \u001b[38;5;28mlen\u001b[39m(component_lags_error_msg) \u001b[38;5;241m>\u001b[39m \u001b[38;5;241m0\u001b[39m:\n\u001b[1;32m    720\u001b[0m     raise_log(\u001b[38;5;167;01mValueError\u001b[39;00m(\u001b[38;5;124m\"\u001b[39m\u001b[38;5;130;01m\\n\u001b[39;00m\u001b[38;5;124m\"\u001b[39m\u001b[38;5;241m.\u001b[39mjoin(component_lags_error_msg)), logger)\n\u001b[0;32m--> 722\u001b[0m \u001b[38;5;28;43mself\u001b[39;49m\u001b[38;5;241;43m.\u001b[39;49m\u001b[43m_fit_model\u001b[49m\u001b[43m(\u001b[49m\n\u001b[1;32m    723\u001b[0m \u001b[43m    \u001b[49m\u001b[43mseries\u001b[49m\u001b[43m,\u001b[49m\u001b[43m \u001b[49m\u001b[43mpast_covariates\u001b[49m\u001b[43m,\u001b[49m\u001b[43m \u001b[49m\u001b[43mfuture_covariates\u001b[49m\u001b[43m,\u001b[49m\u001b[43m \u001b[49m\u001b[43mmax_samples_per_ts\u001b[49m\u001b[43m,\u001b[49m\u001b[43m \u001b[49m\u001b[38;5;241;43m*\u001b[39;49m\u001b[38;5;241;43m*\u001b[39;49m\u001b[43mkwargs\u001b[49m\n\u001b[1;32m    724\u001b[0m \u001b[43m\u001b[49m\u001b[43m)\u001b[49m\n\u001b[1;32m    726\u001b[0m \u001b[38;5;28;01mreturn\u001b[39;00m \u001b[38;5;28mself\u001b[39m\n",
      "File \u001b[0;32m~/.cache/pypoetry/virtualenvs/machine_learning_exam-dnZALQ3X-py3.11/lib/python3.11/site-packages/darts/models/forecasting/regression_model.py:544\u001b[0m, in \u001b[0;36mRegressionModel._fit_model\u001b[0;34m(self, target_series, past_covariates, future_covariates, max_samples_per_ts, **kwargs)\u001b[0m\n\u001b[1;32m    542\u001b[0m \u001b[38;5;28;01mif\u001b[39;00m \u001b[38;5;28mlen\u001b[39m(training_labels\u001b[38;5;241m.\u001b[39mshape) \u001b[38;5;241m==\u001b[39m \u001b[38;5;241m2\u001b[39m \u001b[38;5;129;01mand\u001b[39;00m training_labels\u001b[38;5;241m.\u001b[39mshape[\u001b[38;5;241m1\u001b[39m] \u001b[38;5;241m==\u001b[39m \u001b[38;5;241m1\u001b[39m:\n\u001b[1;32m    543\u001b[0m     training_labels \u001b[38;5;241m=\u001b[39m training_labels\u001b[38;5;241m.\u001b[39mravel()\n\u001b[0;32m--> 544\u001b[0m \u001b[38;5;28;43mself\u001b[39;49m\u001b[38;5;241;43m.\u001b[39;49m\u001b[43mmodel\u001b[49m\u001b[38;5;241;43m.\u001b[39;49m\u001b[43mfit\u001b[49m\u001b[43m(\u001b[49m\u001b[43mtraining_samples\u001b[49m\u001b[43m,\u001b[49m\u001b[43m \u001b[49m\u001b[43mtraining_labels\u001b[49m\u001b[43m,\u001b[49m\u001b[43m \u001b[49m\u001b[38;5;241;43m*\u001b[39;49m\u001b[38;5;241;43m*\u001b[39;49m\u001b[43mkwargs\u001b[49m\u001b[43m)\u001b[49m\n\u001b[1;32m    546\u001b[0m \u001b[38;5;66;03m# generate and store the lagged components names (for feature importance analysis)\u001b[39;00m\n\u001b[1;32m    547\u001b[0m \u001b[38;5;28mself\u001b[39m\u001b[38;5;241m.\u001b[39m_lagged_feature_names, _ \u001b[38;5;241m=\u001b[39m create_lagged_component_names(\n\u001b[1;32m    548\u001b[0m     target_series\u001b[38;5;241m=\u001b[39mtarget_series,\n\u001b[1;32m    549\u001b[0m     past_covariates\u001b[38;5;241m=\u001b[39mpast_covariates,\n\u001b[0;32m   (...)\u001b[0m\n\u001b[1;32m    556\u001b[0m     use_static_covariates\u001b[38;5;241m=\u001b[39m\u001b[38;5;28mself\u001b[39m\u001b[38;5;241m.\u001b[39muses_static_covariates,\n\u001b[1;32m    557\u001b[0m )\n",
      "File \u001b[0;32m~/.cache/pypoetry/virtualenvs/machine_learning_exam-dnZALQ3X-py3.11/lib/python3.11/site-packages/catboost/core.py:5703\u001b[0m, in \u001b[0;36mCatBoostRegressor.fit\u001b[0;34m(self, X, y, cat_features, text_features, embedding_features, sample_weight, baseline, use_best_model, eval_set, verbose, logging_level, plot, plot_file, column_description, verbose_eval, metric_period, silent, early_stopping_rounds, save_snapshot, snapshot_file, snapshot_interval, init_model, callbacks, log_cout, log_cerr)\u001b[0m\n\u001b[1;32m   5700\u001b[0m \u001b[38;5;28;01mif\u001b[39;00m \u001b[38;5;124m'\u001b[39m\u001b[38;5;124mloss_function\u001b[39m\u001b[38;5;124m'\u001b[39m \u001b[38;5;129;01min\u001b[39;00m params:\n\u001b[1;32m   5701\u001b[0m     CatBoostRegressor\u001b[38;5;241m.\u001b[39m_check_is_compatible_loss(params[\u001b[38;5;124m'\u001b[39m\u001b[38;5;124mloss_function\u001b[39m\u001b[38;5;124m'\u001b[39m])\n\u001b[0;32m-> 5703\u001b[0m \u001b[38;5;28;01mreturn\u001b[39;00m \u001b[38;5;28;43mself\u001b[39;49m\u001b[38;5;241;43m.\u001b[39;49m\u001b[43m_fit\u001b[49m\u001b[43m(\u001b[49m\u001b[43mX\u001b[49m\u001b[43m,\u001b[49m\u001b[43m \u001b[49m\u001b[43my\u001b[49m\u001b[43m,\u001b[49m\u001b[43m \u001b[49m\u001b[43mcat_features\u001b[49m\u001b[43m,\u001b[49m\u001b[43m \u001b[49m\u001b[43mtext_features\u001b[49m\u001b[43m,\u001b[49m\u001b[43m \u001b[49m\u001b[43membedding_features\u001b[49m\u001b[43m,\u001b[49m\u001b[43m \u001b[49m\u001b[38;5;28;43;01mNone\u001b[39;49;00m\u001b[43m,\u001b[49m\u001b[43m \u001b[49m\u001b[43msample_weight\u001b[49m\u001b[43m,\u001b[49m\u001b[43m \u001b[49m\u001b[38;5;28;43;01mNone\u001b[39;49;00m\u001b[43m,\u001b[49m\u001b[43m \u001b[49m\u001b[38;5;28;43;01mNone\u001b[39;49;00m\u001b[43m,\u001b[49m\u001b[43m \u001b[49m\u001b[38;5;28;43;01mNone\u001b[39;49;00m\u001b[43m,\u001b[49m\u001b[43m \u001b[49m\u001b[38;5;28;43;01mNone\u001b[39;49;00m\u001b[43m,\u001b[49m\u001b[43m \u001b[49m\u001b[43mbaseline\u001b[49m\u001b[43m,\u001b[49m\n\u001b[1;32m   5704\u001b[0m \u001b[43m                 \u001b[49m\u001b[43muse_best_model\u001b[49m\u001b[43m,\u001b[49m\u001b[43m \u001b[49m\u001b[43meval_set\u001b[49m\u001b[43m,\u001b[49m\u001b[43m \u001b[49m\u001b[43mverbose\u001b[49m\u001b[43m,\u001b[49m\u001b[43m \u001b[49m\u001b[43mlogging_level\u001b[49m\u001b[43m,\u001b[49m\u001b[43m \u001b[49m\u001b[43mplot\u001b[49m\u001b[43m,\u001b[49m\u001b[43m \u001b[49m\u001b[43mplot_file\u001b[49m\u001b[43m,\u001b[49m\u001b[43m \u001b[49m\u001b[43mcolumn_description\u001b[49m\u001b[43m,\u001b[49m\n\u001b[1;32m   5705\u001b[0m \u001b[43m                 \u001b[49m\u001b[43mverbose_eval\u001b[49m\u001b[43m,\u001b[49m\u001b[43m \u001b[49m\u001b[43mmetric_period\u001b[49m\u001b[43m,\u001b[49m\u001b[43m \u001b[49m\u001b[43msilent\u001b[49m\u001b[43m,\u001b[49m\u001b[43m \u001b[49m\u001b[43mearly_stopping_rounds\u001b[49m\u001b[43m,\u001b[49m\n\u001b[1;32m   5706\u001b[0m \u001b[43m                 \u001b[49m\u001b[43msave_snapshot\u001b[49m\u001b[43m,\u001b[49m\u001b[43m \u001b[49m\u001b[43msnapshot_file\u001b[49m\u001b[43m,\u001b[49m\u001b[43m \u001b[49m\u001b[43msnapshot_interval\u001b[49m\u001b[43m,\u001b[49m\u001b[43m \u001b[49m\u001b[43minit_model\u001b[49m\u001b[43m,\u001b[49m\u001b[43m \u001b[49m\u001b[43mcallbacks\u001b[49m\u001b[43m,\u001b[49m\u001b[43m \u001b[49m\u001b[43mlog_cout\u001b[49m\u001b[43m,\u001b[49m\u001b[43m \u001b[49m\u001b[43mlog_cerr\u001b[49m\u001b[43m)\u001b[49m\n",
      "File \u001b[0;32m~/.cache/pypoetry/virtualenvs/machine_learning_exam-dnZALQ3X-py3.11/lib/python3.11/site-packages/catboost/core.py:2303\u001b[0m, in \u001b[0;36mCatBoost._fit\u001b[0;34m(self, X, y, cat_features, text_features, embedding_features, pairs, sample_weight, group_id, group_weight, subgroup_id, pairs_weight, baseline, use_best_model, eval_set, verbose, logging_level, plot, plot_file, column_description, verbose_eval, metric_period, silent, early_stopping_rounds, save_snapshot, snapshot_file, snapshot_interval, init_model, callbacks, log_cout, log_cerr)\u001b[0m\n\u001b[1;32m   2300\u001b[0m \u001b[38;5;28;01mif\u001b[39;00m y \u001b[38;5;129;01mis\u001b[39;00m \u001b[38;5;28;01mNone\u001b[39;00m \u001b[38;5;129;01mand\u001b[39;00m \u001b[38;5;129;01mnot\u001b[39;00m \u001b[38;5;28misinstance\u001b[39m(X, PATH_TYPES \u001b[38;5;241m+\u001b[39m (Pool,)):\n\u001b[1;32m   2301\u001b[0m     \u001b[38;5;28;01mraise\u001b[39;00m CatBoostError(\u001b[38;5;124m\"\u001b[39m\u001b[38;5;124my may be None only when X is an instance of catboost.Pool or string\u001b[39m\u001b[38;5;124m\"\u001b[39m)\n\u001b[0;32m-> 2303\u001b[0m train_params \u001b[38;5;241m=\u001b[39m \u001b[38;5;28;43mself\u001b[39;49m\u001b[38;5;241;43m.\u001b[39;49m\u001b[43m_prepare_train_params\u001b[49m\u001b[43m(\u001b[49m\n\u001b[1;32m   2304\u001b[0m \u001b[43m    \u001b[49m\u001b[43mX\u001b[49m\u001b[38;5;241;43m=\u001b[39;49m\u001b[43mX\u001b[49m\u001b[43m,\u001b[49m\u001b[43m \u001b[49m\u001b[43my\u001b[49m\u001b[38;5;241;43m=\u001b[39;49m\u001b[43my\u001b[49m\u001b[43m,\u001b[49m\u001b[43m \u001b[49m\u001b[43mcat_features\u001b[49m\u001b[38;5;241;43m=\u001b[39;49m\u001b[43mcat_features\u001b[49m\u001b[43m,\u001b[49m\u001b[43m \u001b[49m\u001b[43mtext_features\u001b[49m\u001b[38;5;241;43m=\u001b[39;49m\u001b[43mtext_features\u001b[49m\u001b[43m,\u001b[49m\u001b[43m \u001b[49m\u001b[43membedding_features\u001b[49m\u001b[38;5;241;43m=\u001b[39;49m\u001b[43membedding_features\u001b[49m\u001b[43m,\u001b[49m\n\u001b[1;32m   2305\u001b[0m \u001b[43m    \u001b[49m\u001b[43mpairs\u001b[49m\u001b[38;5;241;43m=\u001b[39;49m\u001b[43mpairs\u001b[49m\u001b[43m,\u001b[49m\u001b[43m \u001b[49m\u001b[43msample_weight\u001b[49m\u001b[38;5;241;43m=\u001b[39;49m\u001b[43msample_weight\u001b[49m\u001b[43m,\u001b[49m\u001b[43m \u001b[49m\u001b[43mgroup_id\u001b[49m\u001b[38;5;241;43m=\u001b[39;49m\u001b[43mgroup_id\u001b[49m\u001b[43m,\u001b[49m\u001b[43m \u001b[49m\u001b[43mgroup_weight\u001b[49m\u001b[38;5;241;43m=\u001b[39;49m\u001b[43mgroup_weight\u001b[49m\u001b[43m,\u001b[49m\n\u001b[1;32m   2306\u001b[0m \u001b[43m    \u001b[49m\u001b[43msubgroup_id\u001b[49m\u001b[38;5;241;43m=\u001b[39;49m\u001b[43msubgroup_id\u001b[49m\u001b[43m,\u001b[49m\u001b[43m \u001b[49m\u001b[43mpairs_weight\u001b[49m\u001b[38;5;241;43m=\u001b[39;49m\u001b[43mpairs_weight\u001b[49m\u001b[43m,\u001b[49m\u001b[43m \u001b[49m\u001b[43mbaseline\u001b[49m\u001b[38;5;241;43m=\u001b[39;49m\u001b[43mbaseline\u001b[49m\u001b[43m,\u001b[49m\u001b[43m \u001b[49m\u001b[43muse_best_model\u001b[49m\u001b[38;5;241;43m=\u001b[39;49m\u001b[43muse_best_model\u001b[49m\u001b[43m,\u001b[49m\n\u001b[1;32m   2307\u001b[0m \u001b[43m    \u001b[49m\u001b[43meval_set\u001b[49m\u001b[38;5;241;43m=\u001b[39;49m\u001b[43meval_set\u001b[49m\u001b[43m,\u001b[49m\u001b[43m \u001b[49m\u001b[43mverbose\u001b[49m\u001b[38;5;241;43m=\u001b[39;49m\u001b[43mverbose\u001b[49m\u001b[43m,\u001b[49m\u001b[43m \u001b[49m\u001b[43mlogging_level\u001b[49m\u001b[38;5;241;43m=\u001b[39;49m\u001b[43mlogging_level\u001b[49m\u001b[43m,\u001b[49m\u001b[43m \u001b[49m\u001b[43mplot\u001b[49m\u001b[38;5;241;43m=\u001b[39;49m\u001b[43mplot\u001b[49m\u001b[43m,\u001b[49m\u001b[43m \u001b[49m\u001b[43mplot_file\u001b[49m\u001b[38;5;241;43m=\u001b[39;49m\u001b[43mplot_file\u001b[49m\u001b[43m,\u001b[49m\n\u001b[1;32m   2308\u001b[0m \u001b[43m    \u001b[49m\u001b[43mcolumn_description\u001b[49m\u001b[38;5;241;43m=\u001b[39;49m\u001b[43mcolumn_description\u001b[49m\u001b[43m,\u001b[49m\u001b[43m \u001b[49m\u001b[43mverbose_eval\u001b[49m\u001b[38;5;241;43m=\u001b[39;49m\u001b[43mverbose_eval\u001b[49m\u001b[43m,\u001b[49m\u001b[43m \u001b[49m\u001b[43mmetric_period\u001b[49m\u001b[38;5;241;43m=\u001b[39;49m\u001b[43mmetric_period\u001b[49m\u001b[43m,\u001b[49m\n\u001b[1;32m   2309\u001b[0m \u001b[43m    \u001b[49m\u001b[43msilent\u001b[49m\u001b[38;5;241;43m=\u001b[39;49m\u001b[43msilent\u001b[49m\u001b[43m,\u001b[49m\u001b[43m \u001b[49m\u001b[43mearly_stopping_rounds\u001b[49m\u001b[38;5;241;43m=\u001b[39;49m\u001b[43mearly_stopping_rounds\u001b[49m\u001b[43m,\u001b[49m\u001b[43m \u001b[49m\u001b[43msave_snapshot\u001b[49m\u001b[38;5;241;43m=\u001b[39;49m\u001b[43msave_snapshot\u001b[49m\u001b[43m,\u001b[49m\n\u001b[1;32m   2310\u001b[0m \u001b[43m    \u001b[49m\u001b[43msnapshot_file\u001b[49m\u001b[38;5;241;43m=\u001b[39;49m\u001b[43msnapshot_file\u001b[49m\u001b[43m,\u001b[49m\u001b[43m \u001b[49m\u001b[43msnapshot_interval\u001b[49m\u001b[38;5;241;43m=\u001b[39;49m\u001b[43msnapshot_interval\u001b[49m\u001b[43m,\u001b[49m\u001b[43m \u001b[49m\u001b[43minit_model\u001b[49m\u001b[38;5;241;43m=\u001b[39;49m\u001b[43minit_model\u001b[49m\u001b[43m,\u001b[49m\n\u001b[1;32m   2311\u001b[0m \u001b[43m    \u001b[49m\u001b[43mcallbacks\u001b[49m\u001b[38;5;241;43m=\u001b[39;49m\u001b[43mcallbacks\u001b[49m\n\u001b[1;32m   2312\u001b[0m \u001b[43m\u001b[49m\u001b[43m)\u001b[49m\n\u001b[1;32m   2313\u001b[0m params \u001b[38;5;241m=\u001b[39m train_params[\u001b[38;5;124m\"\u001b[39m\u001b[38;5;124mparams\u001b[39m\u001b[38;5;124m\"\u001b[39m]\n\u001b[1;32m   2314\u001b[0m train_pool \u001b[38;5;241m=\u001b[39m train_params[\u001b[38;5;124m\"\u001b[39m\u001b[38;5;124mtrain_pool\u001b[39m\u001b[38;5;124m\"\u001b[39m]\n",
      "File \u001b[0;32m~/.cache/pypoetry/virtualenvs/machine_learning_exam-dnZALQ3X-py3.11/lib/python3.11/site-packages/catboost/core.py:2184\u001b[0m, in \u001b[0;36mCatBoost._prepare_train_params\u001b[0;34m(self, X, y, cat_features, text_features, embedding_features, pairs, sample_weight, group_id, group_weight, subgroup_id, pairs_weight, baseline, use_best_model, eval_set, verbose, logging_level, plot, plot_file, column_description, verbose_eval, metric_period, silent, early_stopping_rounds, save_snapshot, snapshot_file, snapshot_interval, init_model, callbacks)\u001b[0m\n\u001b[1;32m   2181\u001b[0m text_features \u001b[38;5;241m=\u001b[39m _process_feature_indices(text_features, X, params, \u001b[38;5;124m'\u001b[39m\u001b[38;5;124mtext_features\u001b[39m\u001b[38;5;124m'\u001b[39m)\n\u001b[1;32m   2182\u001b[0m embedding_features \u001b[38;5;241m=\u001b[39m _process_feature_indices(embedding_features, X, params, \u001b[38;5;124m'\u001b[39m\u001b[38;5;124membedding_features\u001b[39m\u001b[38;5;124m'\u001b[39m)\n\u001b[0;32m-> 2184\u001b[0m train_pool \u001b[38;5;241m=\u001b[39m \u001b[43m_build_train_pool\u001b[49m\u001b[43m(\u001b[49m\u001b[43mX\u001b[49m\u001b[43m,\u001b[49m\u001b[43m \u001b[49m\u001b[43my\u001b[49m\u001b[43m,\u001b[49m\u001b[43m \u001b[49m\u001b[43mcat_features\u001b[49m\u001b[43m,\u001b[49m\u001b[43m \u001b[49m\u001b[43mtext_features\u001b[49m\u001b[43m,\u001b[49m\u001b[43m \u001b[49m\u001b[43membedding_features\u001b[49m\u001b[43m,\u001b[49m\u001b[43m \u001b[49m\u001b[43mpairs\u001b[49m\u001b[43m,\u001b[49m\n\u001b[1;32m   2185\u001b[0m \u001b[43m                               \u001b[49m\u001b[43msample_weight\u001b[49m\u001b[43m,\u001b[49m\u001b[43m \u001b[49m\u001b[43mgroup_id\u001b[49m\u001b[43m,\u001b[49m\u001b[43m \u001b[49m\u001b[43mgroup_weight\u001b[49m\u001b[43m,\u001b[49m\u001b[43m \u001b[49m\u001b[43msubgroup_id\u001b[49m\u001b[43m,\u001b[49m\u001b[43m \u001b[49m\u001b[43mpairs_weight\u001b[49m\u001b[43m,\u001b[49m\n\u001b[1;32m   2186\u001b[0m \u001b[43m                               \u001b[49m\u001b[43mbaseline\u001b[49m\u001b[43m,\u001b[49m\u001b[43m \u001b[49m\u001b[43mcolumn_description\u001b[49m\u001b[43m)\u001b[49m\n\u001b[1;32m   2187\u001b[0m \u001b[38;5;28;01mif\u001b[39;00m train_pool\u001b[38;5;241m.\u001b[39mis_empty_:\n\u001b[1;32m   2188\u001b[0m     \u001b[38;5;28;01mraise\u001b[39;00m CatBoostError(\u001b[38;5;124m\"\u001b[39m\u001b[38;5;124mX is empty.\u001b[39m\u001b[38;5;124m\"\u001b[39m)\n",
      "File \u001b[0;32m~/.cache/pypoetry/virtualenvs/machine_learning_exam-dnZALQ3X-py3.11/lib/python3.11/site-packages/catboost/core.py:1444\u001b[0m, in \u001b[0;36m_build_train_pool\u001b[0;34m(X, y, cat_features, text_features, embedding_features, pairs, sample_weight, group_id, group_weight, subgroup_id, pairs_weight, baseline, column_description)\u001b[0m\n\u001b[1;32m   1442\u001b[0m     \u001b[38;5;28;01mif\u001b[39;00m y \u001b[38;5;129;01mis\u001b[39;00m \u001b[38;5;28;01mNone\u001b[39;00m:\n\u001b[1;32m   1443\u001b[0m         \u001b[38;5;28;01mraise\u001b[39;00m CatBoostError(\u001b[38;5;124m\"\u001b[39m\u001b[38;5;124my has not initialized in fit(): X is not catboost.Pool object, y must be not None in fit().\u001b[39m\u001b[38;5;124m\"\u001b[39m)\n\u001b[0;32m-> 1444\u001b[0m     train_pool \u001b[38;5;241m=\u001b[39m \u001b[43mPool\u001b[49m\u001b[43m(\u001b[49m\u001b[43mX\u001b[49m\u001b[43m,\u001b[49m\u001b[43m \u001b[49m\u001b[43my\u001b[49m\u001b[43m,\u001b[49m\u001b[43m \u001b[49m\u001b[43mcat_features\u001b[49m\u001b[38;5;241;43m=\u001b[39;49m\u001b[43mcat_features\u001b[49m\u001b[43m,\u001b[49m\u001b[43m \u001b[49m\u001b[43mtext_features\u001b[49m\u001b[38;5;241;43m=\u001b[39;49m\u001b[43mtext_features\u001b[49m\u001b[43m,\u001b[49m\u001b[43m \u001b[49m\u001b[43membedding_features\u001b[49m\u001b[38;5;241;43m=\u001b[39;49m\u001b[43membedding_features\u001b[49m\u001b[43m,\u001b[49m\u001b[43m \u001b[49m\u001b[43mpairs\u001b[49m\u001b[38;5;241;43m=\u001b[39;49m\u001b[43mpairs\u001b[49m\u001b[43m,\u001b[49m\u001b[43m \u001b[49m\u001b[43mweight\u001b[49m\u001b[38;5;241;43m=\u001b[39;49m\u001b[43msample_weight\u001b[49m\u001b[43m,\u001b[49m\u001b[43m \u001b[49m\u001b[43mgroup_id\u001b[49m\u001b[38;5;241;43m=\u001b[39;49m\u001b[43mgroup_id\u001b[49m\u001b[43m,\u001b[49m\n\u001b[1;32m   1445\u001b[0m \u001b[43m                      \u001b[49m\u001b[43mgroup_weight\u001b[49m\u001b[38;5;241;43m=\u001b[39;49m\u001b[43mgroup_weight\u001b[49m\u001b[43m,\u001b[49m\u001b[43m \u001b[49m\u001b[43msubgroup_id\u001b[49m\u001b[38;5;241;43m=\u001b[39;49m\u001b[43msubgroup_id\u001b[49m\u001b[43m,\u001b[49m\u001b[43m \u001b[49m\u001b[43mpairs_weight\u001b[49m\u001b[38;5;241;43m=\u001b[39;49m\u001b[43mpairs_weight\u001b[49m\u001b[43m,\u001b[49m\u001b[43m \u001b[49m\u001b[43mbaseline\u001b[49m\u001b[38;5;241;43m=\u001b[39;49m\u001b[43mbaseline\u001b[49m\u001b[43m)\u001b[49m\n\u001b[1;32m   1446\u001b[0m \u001b[38;5;28;01mreturn\u001b[39;00m train_pool\n",
      "File \u001b[0;32m~/.cache/pypoetry/virtualenvs/machine_learning_exam-dnZALQ3X-py3.11/lib/python3.11/site-packages/catboost/core.py:793\u001b[0m, in \u001b[0;36mPool.__init__\u001b[0;34m(self, data, label, cat_features, text_features, embedding_features, embedding_features_data, column_description, pairs, delimiter, has_header, ignore_csv_quoting, weight, group_id, group_weight, subgroup_id, pairs_weight, baseline, timestamp, feature_names, feature_tags, thread_count, log_cout, log_cerr)\u001b[0m\n\u001b[1;32m    787\u001b[0m         \u001b[38;5;28;01mif\u001b[39;00m \u001b[38;5;28misinstance\u001b[39m(feature_names, PATH_TYPES):\n\u001b[1;32m    788\u001b[0m             \u001b[38;5;28;01mraise\u001b[39;00m CatBoostError(\n\u001b[1;32m    789\u001b[0m                 \u001b[38;5;124m\"\u001b[39m\u001b[38;5;124mfeature_names must be None or have non-string type when the pool is created from \u001b[39m\u001b[38;5;124m\"\u001b[39m\n\u001b[1;32m    790\u001b[0m                 \u001b[38;5;124m\"\u001b[39m\u001b[38;5;124mpython objects.\u001b[39m\u001b[38;5;124m\"\u001b[39m\n\u001b[1;32m    791\u001b[0m             )\n\u001b[0;32m--> 793\u001b[0m         \u001b[38;5;28;43mself\u001b[39;49m\u001b[38;5;241;43m.\u001b[39;49m\u001b[43m_init\u001b[49m\u001b[43m(\u001b[49m\u001b[43mdata\u001b[49m\u001b[43m,\u001b[49m\u001b[43m \u001b[49m\u001b[43mlabel\u001b[49m\u001b[43m,\u001b[49m\u001b[43m \u001b[49m\u001b[43mcat_features\u001b[49m\u001b[43m,\u001b[49m\u001b[43m \u001b[49m\u001b[43mtext_features\u001b[49m\u001b[43m,\u001b[49m\u001b[43m \u001b[49m\u001b[43membedding_features\u001b[49m\u001b[43m,\u001b[49m\u001b[43m \u001b[49m\u001b[43membedding_features_data\u001b[49m\u001b[43m,\u001b[49m\u001b[43m \u001b[49m\u001b[43mpairs\u001b[49m\u001b[43m,\u001b[49m\u001b[43m \u001b[49m\u001b[43mweight\u001b[49m\u001b[43m,\u001b[49m\n\u001b[1;32m    794\u001b[0m \u001b[43m                   \u001b[49m\u001b[43mgroup_id\u001b[49m\u001b[43m,\u001b[49m\u001b[43m \u001b[49m\u001b[43mgroup_weight\u001b[49m\u001b[43m,\u001b[49m\u001b[43m \u001b[49m\u001b[43msubgroup_id\u001b[49m\u001b[43m,\u001b[49m\u001b[43m \u001b[49m\u001b[43mpairs_weight\u001b[49m\u001b[43m,\u001b[49m\u001b[43m \u001b[49m\u001b[43mbaseline\u001b[49m\u001b[43m,\u001b[49m\u001b[43m \u001b[49m\u001b[43mtimestamp\u001b[49m\u001b[43m,\u001b[49m\u001b[43m \u001b[49m\u001b[43mfeature_names\u001b[49m\u001b[43m,\u001b[49m\u001b[43m \u001b[49m\u001b[43mfeature_tags\u001b[49m\u001b[43m,\u001b[49m\u001b[43m \u001b[49m\u001b[43mthread_count\u001b[49m\u001b[43m)\u001b[49m\n\u001b[1;32m    795\u001b[0m \u001b[38;5;28msuper\u001b[39m(Pool, \u001b[38;5;28mself\u001b[39m)\u001b[38;5;241m.\u001b[39m\u001b[38;5;21m__init__\u001b[39m()\n",
      "File \u001b[0;32m~/.cache/pypoetry/virtualenvs/machine_learning_exam-dnZALQ3X-py3.11/lib/python3.11/site-packages/catboost/core.py:1425\u001b[0m, in \u001b[0;36mPool._init\u001b[0;34m(self, data, label, cat_features, text_features, embedding_features, embedding_features_data, pairs, weight, group_id, group_weight, subgroup_id, pairs_weight, baseline, timestamp, feature_names, feature_tags, thread_count)\u001b[0m\n\u001b[1;32m   1423\u001b[0m \u001b[38;5;28;01mif\u001b[39;00m feature_tags \u001b[38;5;129;01mis\u001b[39;00m \u001b[38;5;129;01mnot\u001b[39;00m \u001b[38;5;28;01mNone\u001b[39;00m:\n\u001b[1;32m   1424\u001b[0m     feature_tags \u001b[38;5;241m=\u001b[39m \u001b[38;5;28mself\u001b[39m\u001b[38;5;241m.\u001b[39m_check_transform_tags(feature_tags, feature_names)\n\u001b[0;32m-> 1425\u001b[0m \u001b[38;5;28;43mself\u001b[39;49m\u001b[38;5;241;43m.\u001b[39;49m\u001b[43m_init_pool\u001b[49m\u001b[43m(\u001b[49m\u001b[43mdata\u001b[49m\u001b[43m,\u001b[49m\u001b[43m \u001b[49m\u001b[43mlabel\u001b[49m\u001b[43m,\u001b[49m\u001b[43m \u001b[49m\u001b[43mcat_features\u001b[49m\u001b[43m,\u001b[49m\u001b[43m \u001b[49m\u001b[43mtext_features\u001b[49m\u001b[43m,\u001b[49m\u001b[43m \u001b[49m\u001b[43membedding_features\u001b[49m\u001b[43m,\u001b[49m\u001b[43m \u001b[49m\u001b[43membedding_features_data\u001b[49m\u001b[43m,\u001b[49m\u001b[43m \u001b[49m\u001b[43mpairs\u001b[49m\u001b[43m,\u001b[49m\u001b[43m \u001b[49m\u001b[43mweight\u001b[49m\u001b[43m,\u001b[49m\n\u001b[1;32m   1426\u001b[0m \u001b[43m                \u001b[49m\u001b[43mgroup_id\u001b[49m\u001b[43m,\u001b[49m\u001b[43m \u001b[49m\u001b[43mgroup_weight\u001b[49m\u001b[43m,\u001b[49m\u001b[43m \u001b[49m\u001b[43msubgroup_id\u001b[49m\u001b[43m,\u001b[49m\u001b[43m \u001b[49m\u001b[43mpairs_weight\u001b[49m\u001b[43m,\u001b[49m\u001b[43m \u001b[49m\u001b[43mbaseline\u001b[49m\u001b[43m,\u001b[49m\u001b[43m \u001b[49m\u001b[43mtimestamp\u001b[49m\u001b[43m,\u001b[49m\u001b[43m \u001b[49m\u001b[43mfeature_names\u001b[49m\u001b[43m,\u001b[49m\u001b[43m \u001b[49m\u001b[43mfeature_tags\u001b[49m\u001b[43m,\u001b[49m\u001b[43m \u001b[49m\u001b[43mthread_count\u001b[49m\u001b[43m)\u001b[49m\n",
      "File \u001b[0;32m_catboost.pyx:3976\u001b[0m, in \u001b[0;36m_catboost._PoolBase._init_pool\u001b[0;34m()\u001b[0m\n",
      "File \u001b[0;32m_catboost.pyx:4043\u001b[0m, in \u001b[0;36m_catboost._PoolBase._init_pool\u001b[0;34m()\u001b[0m\n",
      "File \u001b[0;32m_catboost.pyx:3949\u001b[0m, in \u001b[0;36m_catboost._PoolBase._init_objects_order_layout_pool\u001b[0;34m()\u001b[0m\n",
      "File \u001b[0;32m_catboost.pyx:3455\u001b[0m, in \u001b[0;36m_catboost._set_data\u001b[0;34m()\u001b[0m\n",
      "File \u001b[0;32m_catboost.pyx:3438\u001b[0m, in \u001b[0;36m_catboost._set_data_from_generic_matrix\u001b[0;34m()\u001b[0m\n",
      "File \u001b[0;32m_catboost.pyx:2311\u001b[0m, in \u001b[0;36m_catboost.get_float_feature\u001b[0;34m()\u001b[0m\n",
      "\u001b[0;31mCatBoostError\u001b[0m: Bad value for num_feature[non_default_doc_idx=0,feature_idx=2280]=\"A\": Cannot convert 'b'A'' to float"
     ]
    }
   ],
   "source": [
    "from darts.models import CatBoostModel\n",
    "\n",
    "tars_per = \"1hour\"\n",
    "covs_per = \"1hour\"\n",
    "type = \"full\"\n",
    "\n",
    "ys_cat = {}\n",
    "\n",
    "do_cat = True\n",
    "if do_cat:\n",
    "    cat = CatBoostModel(lags=5*24, lags_future_covariates=(24,24))\n",
    "    cat.fit([tars[tars_per][loc][type] for loc in locs], future_covariates=[covs[covs_per][loc][type] for loc in locs])\n",
    "    for loc in locs:\n",
    "        ys_cat[loc] = cat.predict(n_1hour, tars[tars_per][loc][type], future_covariates=covs[covs_per][loc][type])"
   ]
  },
  {
   "cell_type": "code",
   "execution_count": null,
   "metadata": {},
   "outputs": [],
   "source": [
    "if do_cat:\n",
    "    y = extract_and_save(ys_cat, \"cat_1hour.csv\", tars_per)\n",
    "    if display_plots:\n",
    "        y[\"prediction\"].plot(lw=0.5)\n",
    "        plt.show()"
   ]
  },
  {
   "cell_type": "markdown",
   "metadata": {},
   "source": [
    "## XGBoost"
   ]
  },
  {
   "cell_type": "markdown",
   "metadata": {},
   "source": [
    "Train and make predicitons"
   ]
  },
  {
   "cell_type": "code",
   "execution_count": null,
   "metadata": {},
   "outputs": [],
   "source": [
    "from darts.models import XGBModel\n",
    "\n",
    "tars_per = \"1hour\"\n",
    "covs_per = \"1hour\"\n",
    "type = \"full\"\n",
    "\n",
    "ys_xgboost = {}\n",
    "\n",
    "do_xgboost = True\n",
    "if do_xgboost:\n",
    "    xgb = XGBModel(lags=5*24, lags_future_covariates=(24,24))\n",
    "    xgb.fit([tars[tars_per][loc][type] for loc in locs], future_covariates=[covs[covs_per][loc][type] for loc in locs])\n",
    "    for loc in locs:\n",
    "        ys_xgboost[loc] = xgb.predict(n_1hour, tars[tars_per][loc][type], future_covariates=covs[covs_per][loc][type])"
   ]
  },
  {
   "cell_type": "code",
   "execution_count": null,
   "metadata": {},
   "outputs": [],
   "source": [
    "if do_xgboost:\n",
    "    y = extract_and_save(ys_xgboost, \"xbg_1hour.csv\", tars_per)\n",
    "    if display_plots:\n",
    "        y[\"prediction\"].plot(lw=0.5)\n",
    "        plt.show()"
   ]
  },
  {
   "cell_type": "markdown",
   "metadata": {},
   "source": [
    "## LightGBM"
   ]
  },
  {
   "cell_type": "markdown",
   "metadata": {},
   "source": [
    "Train and make predicitons"
   ]
  },
  {
   "cell_type": "code",
   "execution_count": null,
   "metadata": {},
   "outputs": [],
   "source": [
    "from darts.models import LightGBMModel\n",
    "\n",
    "tars_per = \"1hour\"\n",
    "covs_per = \"1hour\"\n",
    "type = \"full\"\n",
    "\n",
    "ys_light = {}\n",
    "\n",
    "do_light = True\n",
    "if do_light:\n",
    "    light = LightGBMModel(lags=5*24, lags_future_covariates=(24,24))\n",
    "    light.fit([tars[tars_per][loc][type] for loc in locs], future_covariates=[covs[covs_per][loc][type] for loc in locs])\n",
    "    for loc in locs:\n",
    "        ys_light[loc] = light.predict(n_1hour, tars[tars_per][loc][type], future_covariates=covs[covs_per][loc][type])"
   ]
  },
  {
   "cell_type": "code",
   "execution_count": null,
   "metadata": {},
   "outputs": [],
   "source": [
    "if do_light:\n",
    "    y = extract_and_save(ys_light, \"light_gbm_1hour.csv\", tars_per)\n",
    "    if display_plots:\n",
    "        y[\"prediction\"].plot(lw=0.5)\n",
    "        plt.show()"
   ]
  },
  {
   "cell_type": "markdown",
   "metadata": {},
   "source": [
    "## RandomForest"
   ]
  },
  {
   "cell_type": "markdown",
   "metadata": {},
   "source": [
    "Train and make predicitons"
   ]
  },
  {
   "cell_type": "code",
   "execution_count": null,
   "metadata": {},
   "outputs": [],
   "source": [
    "from darts.models import RandomForest\n",
    "\n",
    "tars_per = \"1hour\"\n",
    "covs_per = \"1hour\"\n",
    "type = \"full\"\n",
    "\n",
    "ys_forest = {}\n",
    "\n",
    "do_forest = True\n",
    "if do_forest:\n",
    "    for loc in tars[tars_per]:\n",
    "        forest_model = RandomForest(lags=3*24, lags_future_covariates=(24,24))\n",
    "        forest_model.fit(tars[tars_per][loc][type], future_covariates=covs[covs_per][loc][type])\n",
    "        ys_forest[loc] = forest_model.predict(n_1hour, future_covariates=covs[covs_per][loc][type])"
   ]
  },
  {
   "cell_type": "code",
   "execution_count": null,
   "metadata": {},
   "outputs": [],
   "source": [
    "if do_forest:\n",
    "    y = extract_and_save(ys_forest, \"random_forest_1hour.csv\", tars_per)\n",
    "    if display_plots:\n",
    "        y[\"prediction\"].plot(lw=0.5)\n",
    "        plt.show()"
   ]
  },
  {
   "cell_type": "markdown",
   "metadata": {},
   "source": [
    "## Prophet"
   ]
  },
  {
   "cell_type": "markdown",
   "metadata": {},
   "source": [
    "Train and make predicitons"
   ]
  },
  {
   "cell_type": "code",
   "execution_count": null,
   "metadata": {},
   "outputs": [],
   "source": [
    "from darts.models import Prophet\n",
    "\n",
    "tars_per = \"1hour\"\n",
    "covs_per = \"1hour\"\n",
    "type = \"full\"\n",
    "\n",
    "ys_prophet = {}\n",
    "\n",
    "do_prophet = True\n",
    "if do_prophet:\n",
    "    for loc in tars[tars_per]:\n",
    "        prophet = Prophet()\n",
    "        prophet.fit(tars[tars_per][loc][type], future_covariates=covs[covs_per][loc][type])\n",
    "        ys_prophet[loc] = prophet.predict(n_1hour, future_covariates=covs[covs_per][loc][type])"
   ]
  },
  {
   "cell_type": "code",
   "execution_count": null,
   "metadata": {},
   "outputs": [],
   "source": [
    "if do_prophet:\n",
    "    y = extract_and_save(ys_prophet, \"prophet_15min.csv\", tars_per)\n",
    "    if True:\n",
    "        y[\"prediction\"].plot(lw=0.5)\n",
    "        plt.show()"
   ]
  },
  {
   "cell_type": "markdown",
   "metadata": {},
   "source": [
    "## AutoARIMA"
   ]
  },
  {
   "cell_type": "markdown",
   "metadata": {},
   "source": [
    "Train and make predicitons"
   ]
  },
  {
   "cell_type": "code",
   "execution_count": null,
   "metadata": {},
   "outputs": [],
   "source": [
    "from darts.models import AutoARIMA\n",
    "\n",
    "tars_per = \"1hour\"\n",
    "covs_per = \"1hour\"\n",
    "type = \"full\"\n",
    "\n",
    "ys_autoarima = {}\n",
    "\n",
    "do_autoarima = True\n",
    "if do_autoarima:\n",
    "    for loc in tars[tars_per]:\n",
    "        ari = AutoARIMA()\n",
    "        ari.fit(tars[tars_per][loc][type], future_covariates=covs[covs_per][loc][type])\n",
    "        ys_autoarima[loc] = ari.predict(n_1hour, future_covariates=covs[covs_per][loc][type])"
   ]
  },
  {
   "cell_type": "code",
   "execution_count": null,
   "metadata": {},
   "outputs": [],
   "source": [
    "if do_autoarima:\n",
    "    y = extract_and_save(ys_autoarima, \"ari_15min.csv\", tars_per)\n",
    "    if display_plots:\n",
    "        y[\"prediction\"].plot(lw=0.5)\n",
    "        plt.show()"
   ]
  },
  {
   "cell_type": "markdown",
   "metadata": {},
   "source": [
    "## RNN model"
   ]
  },
  {
   "cell_type": "markdown",
   "metadata": {},
   "source": [
    "Train and make predicitons"
   ]
  },
  {
   "cell_type": "code",
   "execution_count": null,
   "metadata": {},
   "outputs": [],
   "source": [
    "from darts.models import RNNModel\n",
    "\n",
    "tars_per = \"1hour norm\"\n",
    "covs_per = \"1hour pca\"\n",
    "type = \"full\"\n",
    "\n",
    "ys_rnn = {}\n",
    "\n",
    "do_rnn = False\n",
    "if do_rnn:    \n",
    "    rnn_model = RNNModel(\n",
    "        model = 'LSTM',\n",
    "        input_chunk_length = 3 * 24,\n",
    "        training_length = 5 * 24,\n",
    "        n_rnn_layers = 3,\n",
    "        hidden_dim = 50,\n",
    "        n_epochs = 100,\n",
    "        dropout = 0.1,\n",
    "    )\n",
    "    \n",
    "    rnn_model.fit([tars[tars_per][loc][type] for loc in locs], future_covariates=[covs[covs_per][loc][type] for loc in locs], verbose=True)\n",
    "    for loc in locs:\n",
    "        ys_rnn[loc] = rnn_model.predict(n_1hour, tars[tars_per][loc][type], future_covariates=covs[covs_per][loc][type])"
   ]
  },
  {
   "cell_type": "code",
   "execution_count": null,
   "metadata": {},
   "outputs": [],
   "source": [
    "if do_rnn:\n",
    "    y = extract_and_save(ys_rnn, \"rnn_pca_1hour.csv\", tars_per)\n",
    "    if display_plots:\n",
    "        y[\"prediction\"].plot(lw=0.5)\n",
    "        plt.show()"
   ]
  },
  {
   "cell_type": "markdown",
   "metadata": {},
   "source": [
    "## CatBoost with optuna for hyperparamater optimization"
   ]
  },
  {
   "cell_type": "markdown",
   "metadata": {},
   "source": [
    "Train and make predicitons"
   ]
  },
  {
   "cell_type": "code",
   "execution_count": null,
   "metadata": {},
   "outputs": [],
   "source": [
    "import optuna\n",
    "from darts.models import CatBoostModel\n",
    "from darts.metrics import mae\n",
    "\n",
    "tars_per = \"1hour\"\n",
    "covs_per = \"1hour\"\n",
    "type = \"full\"\n",
    "\n",
    "ys_cat_optuna = {}\n",
    "\n",
    "# Create a TimeSeries object\n",
    "train_series, val_series = tars[tars_per][\"A\"][type].split_after(7*24)\n",
    "future_covariates = covs[covs_per][\"A\"][type]\n",
    "\n",
    "def objective(trial):\n",
    "    trial_number = trial.number\n",
    "    print(f\"\\nStarting Trial #{trial_number + 1}\")\n",
    "    \n",
    "    # Define the search space for common CatBoost hyperparameters\n",
    "    params = {\n",
    "        'iterations': trial.suggest_int('iterations', 50, 300),\n",
    "        'learning_rate': trial.suggest_loguniform('learning_rate', 0.01, 0.3),\n",
    "        'depth': trial.suggest_int('depth', 1, 10),\n",
    "        'l2_leaf_reg': trial.suggest_loguniform('l2_leaf_reg', 1e-3, 10),\n",
    "        'bagging_temperature': trial.suggest_uniform('bagging_temperature', 0.0, 1.0),\n",
    "        # Add other hyperparameters as needed\n",
    "    }\n",
    "\n",
    "    # Create a CatBoost model with the suggested hyperparameters\n",
    "    model = CatBoostModel(lags=5*24, lags_future_covariates=(24, 24), **params)\n",
    "\n",
    "    # Train the model\n",
    "    model.fit(train_series, future_covariates=future_covariates)\n",
    "\n",
    "    # Make predictions on the validation set\n",
    "    val_predictions = model.predict(len(val_series), future_covariates=future_covariates)\n",
    "\n",
    "    # Evaluate the model using Mean Absolute Error (MAE)\n",
    "    val_mae = mae(val_series, val_predictions)\n",
    "\n",
    "    return val_mae\n",
    "\n",
    "do_cat_optuna = False\n",
    "if do_cat_optuna:\n",
    "\n",
    "    # Create a study object and optimize the objective function\n",
    "    study = optuna.create_study(direction='minimize')\n",
    "    study.optimize(objective, n_trials=50)\n",
    "    \n",
    "    # Get the best parameters and their corresponding mean absolute error (MAE)\n",
    "    best_params = study.best_params\n",
    "    best_mae = study.best_value\n",
    "    \n",
    "    print(\"Best Parameters:\", best_params)\n",
    "    print(\"Best Validation MAE:\", best_mae)\n",
    "\n",
    "    for loc in locs:\n",
    "        cat = CatBoostModel(lags=5*24, lags_future_covariates=(24, 24), **best_params)\n",
    "        cat.fit(tars[tars_per][loc][type], future_covariates=covs[covs_per][loc][type])\n",
    "        ys_cat_optuna[loc] = cat.predict(n_1hour, future_covariates=covs[covs_per][loc][type])"
   ]
  },
  {
   "cell_type": "code",
   "execution_count": null,
   "metadata": {},
   "outputs": [],
   "source": [
    "if do_cat_optuna:\n",
    "    y = extract_and_save(ys_cat_optuna, \"cat_optuna_1hour.csv\", tars_per)\n",
    "    if display_plots:\n",
    "        y[\"prediction\"].plot(lw=0.5)\n",
    "        plt.show()"
   ]
  }
 ],
 "metadata": {
  "colab": {
   "provenance": []
  },
  "kernelspec": {
   "display_name": "Python 3 (ipykernel)",
   "language": "python",
   "name": "python3"
  },
  "language_info": {
   "codemirror_mode": {
    "name": "ipython",
    "version": 3
   },
   "file_extension": ".py",
   "mimetype": "text/x-python",
   "name": "python",
   "nbconvert_exporter": "python",
   "pygments_lexer": "ipython3",
   "version": "3.11.5"
  }
 },
 "nbformat": 4,
 "nbformat_minor": 4
}
